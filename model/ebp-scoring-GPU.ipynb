{
  "cells": [
    {
      "cell_type": "code",
      "execution_count": 1,
      "id": "2ca1d351",
      "metadata": {
        "colab": {
          "base_uri": "https://localhost:8080/"
        },
        "id": "2ca1d351",
        "outputId": "a5c5bd02-33cc-4385-e446-40075cff859d"
      },
      "outputs": [
        {
          "output_type": "stream",
          "name": "stdout",
          "text": [
            "Tue Apr 29 16:06:28 2025       \n",
            "+-----------------------------------------------------------------------------------------+\n",
            "| NVIDIA-SMI 550.54.15              Driver Version: 550.54.15      CUDA Version: 12.4     |\n",
            "|-----------------------------------------+------------------------+----------------------+\n",
            "| GPU  Name                 Persistence-M | Bus-Id          Disp.A | Volatile Uncorr. ECC |\n",
            "| Fan  Temp   Perf          Pwr:Usage/Cap |           Memory-Usage | GPU-Util  Compute M. |\n",
            "|                                         |                        |               MIG M. |\n",
            "|=========================================+========================+======================|\n",
            "|   0  Tesla T4                       Off |   00000000:00:04.0 Off |                    0 |\n",
            "| N/A   39C    P8              9W /   70W |       0MiB /  15360MiB |      0%      Default |\n",
            "|                                         |                        |                  N/A |\n",
            "+-----------------------------------------+------------------------+----------------------+\n",
            "                                                                                         \n",
            "+-----------------------------------------------------------------------------------------+\n",
            "| Processes:                                                                              |\n",
            "|  GPU   GI   CI        PID   Type   Process name                              GPU Memory |\n",
            "|        ID   ID                                                               Usage      |\n",
            "|=========================================================================================|\n",
            "|  No running processes found                                                             |\n",
            "+-----------------------------------------------------------------------------------------+\n"
          ]
        }
      ],
      "source": [
        "!nvidia-smi  # Confirm GPU is active"
      ]
    },
    {
      "cell_type": "code",
      "source": [
        "!pip install --upgrade torch torchvision torchaudio transformers sentence-transformers --quiet"
      ],
      "metadata": {
        "id": "TsTYyOIuSfNR",
        "outputId": "62b37c7c-452e-4292-f9c9-5126d13e7881",
        "colab": {
          "base_uri": "https://localhost:8080/"
        }
      },
      "id": "TsTYyOIuSfNR",
      "execution_count": 8,
      "outputs": [
        {
          "output_type": "stream",
          "name": "stdout",
          "text": [
            "\u001b[2K   \u001b[90m━━━━━━━━━━━━━━━━━━━━━━━━━━━━━━━━━━━━━━━\u001b[0m \u001b[32m865.2/865.2 MB\u001b[0m \u001b[31m972.1 kB/s\u001b[0m eta \u001b[36m0:00:00\u001b[0m\n",
            "\u001b[2K   \u001b[90m━━━━━━━━━━━━━━━━━━━━━━━━━━━━━━━━━━━━━━━━\u001b[0m \u001b[32m393.1/393.1 MB\u001b[0m \u001b[31m1.9 MB/s\u001b[0m eta \u001b[36m0:00:00\u001b[0m\n",
            "\u001b[2K   \u001b[90m━━━━━━━━━━━━━━━━━━━━━━━━━━━━━━━━━━━━━━━━\u001b[0m \u001b[32m8.9/8.9 MB\u001b[0m \u001b[31m57.5 MB/s\u001b[0m eta \u001b[36m0:00:00\u001b[0m\n",
            "\u001b[2K   \u001b[90m━━━━━━━━━━━━━━━━━━━━━━━━━━━━━━━━━━━━━━━━\u001b[0m \u001b[32m23.7/23.7 MB\u001b[0m \u001b[31m63.0 MB/s\u001b[0m eta \u001b[36m0:00:00\u001b[0m\n",
            "\u001b[2K   \u001b[90m━━━━━━━━━━━━━━━━━━━━━━━━━━━━━━━━━━━━━━━━\u001b[0m \u001b[32m897.7/897.7 kB\u001b[0m \u001b[31m45.6 MB/s\u001b[0m eta \u001b[36m0:00:00\u001b[0m\n",
            "\u001b[2K   \u001b[90m━━━━━━━━━━━━━━━━━━━━━━━━━━━━━━━━━━━━━━━━\u001b[0m \u001b[32m571.0/571.0 MB\u001b[0m \u001b[31m1.5 MB/s\u001b[0m eta \u001b[36m0:00:00\u001b[0m\n",
            "\u001b[2K   \u001b[90m━━━━━━━━━━━━━━━━━━━━━━━━━━━━━━━━━━━━━━━━\u001b[0m \u001b[32m200.2/200.2 MB\u001b[0m \u001b[31m6.0 MB/s\u001b[0m eta \u001b[36m0:00:00\u001b[0m\n",
            "\u001b[2K   \u001b[90m━━━━━━━━━━━━━━━━━━━━━━━━━━━━━━━━━━━━━━━━\u001b[0m \u001b[32m56.3/56.3 MB\u001b[0m \u001b[31m17.8 MB/s\u001b[0m eta \u001b[36m0:00:00\u001b[0m\n",
            "\u001b[2K   \u001b[90m━━━━━━━━━━━━━━━━━━━━━━━━━━━━━━━━━━━━━━━━\u001b[0m \u001b[32m158.2/158.2 MB\u001b[0m \u001b[31m6.6 MB/s\u001b[0m eta \u001b[36m0:00:00\u001b[0m\n",
            "\u001b[2K   \u001b[90m━━━━━━━━━━━━━━━━━━━━━━━━━━━━━━━━━━━━━━━━\u001b[0m \u001b[32m216.6/216.6 MB\u001b[0m \u001b[31m5.8 MB/s\u001b[0m eta \u001b[36m0:00:00\u001b[0m\n",
            "\u001b[2K   \u001b[90m━━━━━━━━━━━━━━━━━━━━━━━━━━━━━━━━━━━━━━━━\u001b[0m \u001b[32m201.3/201.3 MB\u001b[0m \u001b[31m3.8 MB/s\u001b[0m eta \u001b[36m0:00:00\u001b[0m\n",
            "\u001b[2K   \u001b[90m━━━━━━━━━━━━━━━━━━━━━━━━━━━━━━━━━━━━━━━━\u001b[0m \u001b[32m89.3/89.3 kB\u001b[0m \u001b[31m6.6 MB/s\u001b[0m eta \u001b[36m0:00:00\u001b[0m\n",
            "\u001b[2K   \u001b[90m━━━━━━━━━━━━━━━━━━━━━━━━━━━━━━━━━━━━━━━━\u001b[0m \u001b[32m156.5/156.5 MB\u001b[0m \u001b[31m6.9 MB/s\u001b[0m eta \u001b[36m0:00:00\u001b[0m\n",
            "\u001b[2K   \u001b[90m━━━━━━━━━━━━━━━━━━━━━━━━━━━━━━━━━━━━━━━━\u001b[0m \u001b[32m10.4/10.4 MB\u001b[0m \u001b[31m95.8 MB/s\u001b[0m eta \u001b[36m0:00:00\u001b[0m\n",
            "\u001b[2K   \u001b[90m━━━━━━━━━━━━━━━━━━━━━━━━━━━━━━━━━━━━━━━━\u001b[0m \u001b[32m345.7/345.7 kB\u001b[0m \u001b[31m26.2 MB/s\u001b[0m eta \u001b[36m0:00:00\u001b[0m\n",
            "\u001b[2K   \u001b[90m━━━━━━━━━━━━━━━━━━━━━━━━━━━━━━━━━━━━━━━━\u001b[0m \u001b[32m3.0/3.0 MB\u001b[0m \u001b[31m73.9 MB/s\u001b[0m eta \u001b[36m0:00:00\u001b[0m\n",
            "\u001b[?25h\u001b[31mERROR: pip's dependency resolver does not currently take into account all the packages that are installed. This behaviour is the source of the following dependency conflicts.\n",
            "fastai 2.7.19 requires torch<2.7,>=1.10, but you have torch 2.7.0 which is incompatible.\u001b[0m\u001b[31m\n",
            "\u001b[0m"
          ]
        }
      ]
    },
    {
      "cell_type": "markdown",
      "id": "4aabfad6",
      "metadata": {
        "id": "4aabfad6"
      },
      "source": [
        "# Evidence-Based Policy Scoring with Open LLMs (Zero-Shot)\n",
        "\n",
        "This notebook lets you score policy documents using an open-source LLM and a rubric-based prompt. It uses Mistral-7B via Hugging Face. Steps include:\n",
        "* Load Mistral-7B-Instruct via Hugging Face\n",
        "* Accept .txt policy files in a folder\n",
        "* Prompt the model using the evidence-based policy (EBP) rubric\n",
        "* Parse the response and output a .csv with scores and justifications for them\n",
        "\n",
        "> Go to Runtime > Change runtime type > GPU in Colab if not doing it locally.\n"
      ]
    },
    {
      "cell_type": "code",
      "execution_count": 9,
      "id": "8fa4d9b4",
      "metadata": {
        "colab": {
          "base_uri": "https://localhost:8080/",
          "height": 1000
        },
        "id": "8fa4d9b4",
        "outputId": "449b7e92-0d98-4693-82de-83348ea933ac"
      },
      "outputs": [
        {
          "output_type": "stream",
          "name": "stdout",
          "text": [
            "\u001b[2K   \u001b[90m━━━━━━━━━━━━━━━━━━━━━━━━━━━━━━━━━━━━━━━━\u001b[0m \u001b[32m76.1/76.1 MB\u001b[0m \u001b[31m13.3 MB/s\u001b[0m eta \u001b[36m0:00:00\u001b[0m\n",
            "\u001b[2K   \u001b[90m━━━━━━━━━━━━━━━━━━━━━━━━━━━━━━━━━━━━━━━━\u001b[0m \u001b[32m363.4/363.4 MB\u001b[0m \u001b[31m4.0 MB/s\u001b[0m eta \u001b[36m0:00:00\u001b[0m\n",
            "\u001b[2K   \u001b[90m━━━━━━━━━━━━━━━━━━━━━━━━━━━━━━━━━━━━━━━━\u001b[0m \u001b[32m13.8/13.8 MB\u001b[0m \u001b[31m47.2 MB/s\u001b[0m eta \u001b[36m0:00:00\u001b[0m\n",
            "\u001b[2K   \u001b[90m━━━━━━━━━━━━━━━━━━━━━━━━━━━━━━━━━━━━━━━━\u001b[0m \u001b[32m24.6/24.6 MB\u001b[0m \u001b[31m31.6 MB/s\u001b[0m eta \u001b[36m0:00:00\u001b[0m\n",
            "\u001b[2K   \u001b[90m━━━━━━━━━━━━━━━━━━━━━━━━━━━━━━━━━━━━━━━━\u001b[0m \u001b[32m883.7/883.7 kB\u001b[0m \u001b[31m18.0 MB/s\u001b[0m eta \u001b[36m0:00:00\u001b[0m\n",
            "\u001b[2K   \u001b[90m━━━━━━━━━━━━━━━━━━━━━━━━━━━━━━━━━━━━━━━━\u001b[0m \u001b[32m664.8/664.8 MB\u001b[0m \u001b[31m2.6 MB/s\u001b[0m eta \u001b[36m0:00:00\u001b[0m\n",
            "\u001b[2K   \u001b[90m━━━━━━━━━━━━━━━━━━━━━━━━━━━━━━━━━━━━━━━━\u001b[0m \u001b[32m211.5/211.5 MB\u001b[0m \u001b[31m6.5 MB/s\u001b[0m eta \u001b[36m0:00:00\u001b[0m\n",
            "\u001b[2K   \u001b[90m━━━━━━━━━━━━━━━━━━━━━━━━━━━━━━━━━━━━━━━━\u001b[0m \u001b[32m56.3/56.3 MB\u001b[0m \u001b[31m12.3 MB/s\u001b[0m eta \u001b[36m0:00:00\u001b[0m\n",
            "\u001b[2K   \u001b[90m━━━━━━━━━━━━━━━━━━━━━━━━━━━━━━━━━━━━━━━━\u001b[0m \u001b[32m127.9/127.9 MB\u001b[0m \u001b[31m8.1 MB/s\u001b[0m eta \u001b[36m0:00:00\u001b[0m\n",
            "\u001b[2K   \u001b[90m━━━━━━━━━━━━━━━━━━━━━━━━━━━━━━━━━━━━━━━━\u001b[0m \u001b[32m207.5/207.5 MB\u001b[0m \u001b[31m6.4 MB/s\u001b[0m eta \u001b[36m0:00:00\u001b[0m\n",
            "\u001b[2K   \u001b[90m━━━━━━━━━━━━━━━━━━━━━━━━━━━━━━━━━━━━━━━━\u001b[0m \u001b[32m21.1/21.1 MB\u001b[0m \u001b[31m41.2 MB/s\u001b[0m eta \u001b[36m0:00:00\u001b[0m\n",
            "\u001b[2K     \u001b[90m━━━━━━━━━━━━━━━━━━━━━━━━━━━━━━━━━━━━━━\u001b[0m \u001b[32m981.5/981.5 kB\u001b[0m \u001b[31m56.3 MB/s\u001b[0m eta \u001b[36m0:00:00\u001b[0m\n",
            "\u001b[?25h  Preparing metadata (setup.py) ... \u001b[?25l\u001b[?25hdone\n",
            "\u001b[2K   \u001b[90m━━━━━━━━━━━━━━━━━━━━━━━━━━━━━━━━━━━━━━━━\u001b[0m \u001b[32m1.8/1.8 MB\u001b[0m \u001b[31m54.3 MB/s\u001b[0m eta \u001b[36m0:00:00\u001b[0m\n",
            "\u001b[2K   \u001b[90m━━━━━━━━━━━━━━━━━━━━━━━━━━━━━━━━━━━━━━━━\u001b[0m \u001b[32m590.6/590.6 kB\u001b[0m \u001b[31m37.0 MB/s\u001b[0m eta \u001b[36m0:00:00\u001b[0m\n",
            "\u001b[2K   \u001b[90m━━━━━━━━━━━━━━━━━━━━━━━━━━━━━━━━━━━━━━━━\u001b[0m \u001b[32m167.6/167.6 kB\u001b[0m \u001b[31m13.7 MB/s\u001b[0m eta \u001b[36m0:00:00\u001b[0m\n",
            "\u001b[2K   \u001b[90m━━━━━━━━━━━━━━━━━━━━━━━━━━━━━━━━━━━━━━━━\u001b[0m \u001b[32m3.1/3.1 MB\u001b[0m \u001b[31m73.1 MB/s\u001b[0m eta \u001b[36m0:00:00\u001b[0m\n",
            "\u001b[2K   \u001b[90m━━━━━━━━━━━━━━━━━━━━━━━━━━━━━━━━━━━━━━━━\u001b[0m \u001b[32m189.4/189.4 kB\u001b[0m \u001b[31m16.5 MB/s\u001b[0m eta \u001b[36m0:00:00\u001b[0m\n",
            "\u001b[2K   \u001b[90m━━━━━━━━━━━━━━━━━━━━━━━━━━━━━━━━━━━━━━━━\u001b[0m \u001b[32m50.9/50.9 kB\u001b[0m \u001b[31m4.1 MB/s\u001b[0m eta \u001b[36m0:00:00\u001b[0m\n",
            "\u001b[2K   \u001b[90m━━━━━━━━━━━━━━━━━━━━━━━━━━━━━━━━━━━━━━━━\u001b[0m \u001b[32m302.3/302.3 kB\u001b[0m \u001b[31m24.2 MB/s\u001b[0m eta \u001b[36m0:00:00\u001b[0m\n",
            "\u001b[2K   \u001b[90m━━━━━━━━━━━━━━━━━━━━━━━━━━━━━━━━━━━━━━━━\u001b[0m \u001b[32m114.6/114.6 kB\u001b[0m \u001b[31m9.3 MB/s\u001b[0m eta \u001b[36m0:00:00\u001b[0m\n",
            "\u001b[?25h  Building wheel for langdetect (setup.py) ... \u001b[?25l\u001b[?25hdone\n",
            "Collecting bitsandbytes\n",
            "  Downloading bitsandbytes-0.45.5-py3-none-manylinux_2_24_x86_64.whl.metadata (5.0 kB)\n",
            "Collecting torch<3,>=2.0 (from bitsandbytes)\n",
            "  Downloading torch-2.7.0-cp311-cp311-manylinux_2_28_x86_64.whl.metadata (29 kB)\n",
            "Collecting numpy>=1.17 (from bitsandbytes)\n",
            "  Downloading numpy-2.2.5-cp311-cp311-manylinux_2_17_x86_64.manylinux2014_x86_64.whl.metadata (62 kB)\n",
            "\u001b[2K     \u001b[90m━━━━━━━━━━━━━━━━━━━━━━━━━━━━━━━━━━━━━━━\u001b[0m \u001b[32m62.0/62.0 kB\u001b[0m \u001b[31m136.7 MB/s\u001b[0m eta \u001b[36m0:00:00\u001b[0m\n",
            "\u001b[?25hCollecting filelock (from torch<3,>=2.0->bitsandbytes)\n",
            "  Downloading filelock-3.18.0-py3-none-any.whl.metadata (2.9 kB)\n",
            "Collecting typing-extensions>=4.10.0 (from torch<3,>=2.0->bitsandbytes)\n",
            "  Downloading typing_extensions-4.13.2-py3-none-any.whl.metadata (3.0 kB)\n",
            "Collecting sympy>=1.13.3 (from torch<3,>=2.0->bitsandbytes)\n",
            "  Downloading sympy-1.14.0-py3-none-any.whl.metadata (12 kB)\n",
            "Collecting networkx (from torch<3,>=2.0->bitsandbytes)\n",
            "  Downloading networkx-3.4.2-py3-none-any.whl.metadata (6.3 kB)\n",
            "Collecting jinja2 (from torch<3,>=2.0->bitsandbytes)\n",
            "  Downloading jinja2-3.1.6-py3-none-any.whl.metadata (2.9 kB)\n",
            "Collecting fsspec (from torch<3,>=2.0->bitsandbytes)\n",
            "  Downloading fsspec-2025.3.2-py3-none-any.whl.metadata (11 kB)\n",
            "Collecting nvidia-cuda-nvrtc-cu12==12.6.77 (from torch<3,>=2.0->bitsandbytes)\n",
            "  Downloading nvidia_cuda_nvrtc_cu12-12.6.77-py3-none-manylinux2014_x86_64.whl.metadata (1.5 kB)\n",
            "Collecting nvidia-cuda-runtime-cu12==12.6.77 (from torch<3,>=2.0->bitsandbytes)\n",
            "  Downloading nvidia_cuda_runtime_cu12-12.6.77-py3-none-manylinux2014_x86_64.manylinux_2_17_x86_64.whl.metadata (1.5 kB)\n",
            "Collecting nvidia-cuda-cupti-cu12==12.6.80 (from torch<3,>=2.0->bitsandbytes)\n",
            "  Downloading nvidia_cuda_cupti_cu12-12.6.80-py3-none-manylinux2014_x86_64.manylinux_2_17_x86_64.whl.metadata (1.6 kB)\n",
            "Collecting nvidia-cudnn-cu12==9.5.1.17 (from torch<3,>=2.0->bitsandbytes)\n",
            "  Downloading nvidia_cudnn_cu12-9.5.1.17-py3-none-manylinux_2_28_x86_64.whl.metadata (1.6 kB)\n",
            "Collecting nvidia-cublas-cu12==12.6.4.1 (from torch<3,>=2.0->bitsandbytes)\n",
            "  Downloading nvidia_cublas_cu12-12.6.4.1-py3-none-manylinux2014_x86_64.manylinux_2_17_x86_64.whl.metadata (1.5 kB)\n",
            "Collecting nvidia-cufft-cu12==11.3.0.4 (from torch<3,>=2.0->bitsandbytes)\n",
            "  Downloading nvidia_cufft_cu12-11.3.0.4-py3-none-manylinux2014_x86_64.manylinux_2_17_x86_64.whl.metadata (1.5 kB)\n",
            "Collecting nvidia-curand-cu12==10.3.7.77 (from torch<3,>=2.0->bitsandbytes)\n",
            "  Downloading nvidia_curand_cu12-10.3.7.77-py3-none-manylinux2014_x86_64.manylinux_2_17_x86_64.whl.metadata (1.5 kB)\n",
            "Collecting nvidia-cusolver-cu12==11.7.1.2 (from torch<3,>=2.0->bitsandbytes)\n",
            "  Downloading nvidia_cusolver_cu12-11.7.1.2-py3-none-manylinux2014_x86_64.manylinux_2_17_x86_64.whl.metadata (1.6 kB)\n",
            "Collecting nvidia-cusparse-cu12==12.5.4.2 (from torch<3,>=2.0->bitsandbytes)\n",
            "  Downloading nvidia_cusparse_cu12-12.5.4.2-py3-none-manylinux2014_x86_64.manylinux_2_17_x86_64.whl.metadata (1.6 kB)\n",
            "Collecting nvidia-cusparselt-cu12==0.6.3 (from torch<3,>=2.0->bitsandbytes)\n",
            "  Downloading nvidia_cusparselt_cu12-0.6.3-py3-none-manylinux2014_x86_64.whl.metadata (6.8 kB)\n",
            "Collecting nvidia-nccl-cu12==2.26.2 (from torch<3,>=2.0->bitsandbytes)\n",
            "  Downloading nvidia_nccl_cu12-2.26.2-py3-none-manylinux2014_x86_64.manylinux_2_17_x86_64.whl.metadata (2.0 kB)\n",
            "Collecting nvidia-nvtx-cu12==12.6.77 (from torch<3,>=2.0->bitsandbytes)\n",
            "  Downloading nvidia_nvtx_cu12-12.6.77-py3-none-manylinux2014_x86_64.manylinux_2_17_x86_64.whl.metadata (1.6 kB)\n",
            "Collecting nvidia-nvjitlink-cu12==12.6.85 (from torch<3,>=2.0->bitsandbytes)\n",
            "  Downloading nvidia_nvjitlink_cu12-12.6.85-py3-none-manylinux2010_x86_64.manylinux_2_12_x86_64.whl.metadata (1.5 kB)\n",
            "Collecting nvidia-cufile-cu12==1.11.1.6 (from torch<3,>=2.0->bitsandbytes)\n",
            "  Downloading nvidia_cufile_cu12-1.11.1.6-py3-none-manylinux2014_x86_64.manylinux_2_17_x86_64.whl.metadata (1.5 kB)\n",
            "Collecting triton==3.3.0 (from torch<3,>=2.0->bitsandbytes)\n",
            "  Downloading triton-3.3.0-cp311-cp311-manylinux_2_27_x86_64.manylinux_2_28_x86_64.whl.metadata (1.5 kB)\n",
            "Collecting setuptools>=40.8.0 (from triton==3.3.0->torch<3,>=2.0->bitsandbytes)\n",
            "  Downloading setuptools-80.0.0-py3-none-any.whl.metadata (6.5 kB)\n",
            "Collecting mpmath<1.4,>=1.1.0 (from sympy>=1.13.3->torch<3,>=2.0->bitsandbytes)\n",
            "  Downloading mpmath-1.3.0-py3-none-any.whl.metadata (8.6 kB)\n",
            "Collecting MarkupSafe>=2.0 (from jinja2->torch<3,>=2.0->bitsandbytes)\n",
            "  Downloading MarkupSafe-3.0.2-cp311-cp311-manylinux_2_17_x86_64.manylinux2014_x86_64.whl.metadata (4.0 kB)\n",
            "Downloading bitsandbytes-0.45.5-py3-none-manylinux_2_24_x86_64.whl (76.1 MB)\n",
            "\u001b[2K   \u001b[90m━━━━━━━━━━━━━━━━━━━━━━━━━━━━━━━━━━━━━━━━\u001b[0m \u001b[32m76.1/76.1 MB\u001b[0m \u001b[31m107.9 MB/s\u001b[0m eta \u001b[36m0:00:00\u001b[0m\n",
            "\u001b[?25hDownloading numpy-2.2.5-cp311-cp311-manylinux_2_17_x86_64.manylinux2014_x86_64.whl (16.4 MB)\n",
            "\u001b[2K   \u001b[90m━━━━━━━━━━━━━━━━━━━━━━━━━━━━━━━━━━━━━━━━\u001b[0m \u001b[32m16.4/16.4 MB\u001b[0m \u001b[31m186.8 MB/s\u001b[0m eta \u001b[36m0:00:00\u001b[0m\n",
            "\u001b[?25hDownloading torch-2.7.0-cp311-cp311-manylinux_2_28_x86_64.whl (865.2 MB)\n",
            "\u001b[2K   \u001b[90m━━━━━━━━━━━━━━━━━━━━━━━━━━━━━━━━━━━━━━━\u001b[0m \u001b[32m865.2/865.2 MB\u001b[0m \u001b[31m263.7 MB/s\u001b[0m eta \u001b[36m0:00:00\u001b[0m\n",
            "\u001b[?25hDownloading nvidia_cublas_cu12-12.6.4.1-py3-none-manylinux2014_x86_64.manylinux_2_17_x86_64.whl (393.1 MB)\n",
            "\u001b[2K   \u001b[90m━━━━━━━━━━━━━━━━━━━━━━━━━━━━━━━━━━━━━━━\u001b[0m \u001b[32m393.1/393.1 MB\u001b[0m \u001b[31m270.7 MB/s\u001b[0m eta \u001b[36m0:00:00\u001b[0m\n",
            "\u001b[?25hDownloading nvidia_cuda_cupti_cu12-12.6.80-py3-none-manylinux2014_x86_64.manylinux_2_17_x86_64.whl (8.9 MB)\n",
            "\u001b[2K   \u001b[90m━━━━━━━━━━━━━━━━━━━━━━━━━━━━━━━━━━━━━━━━\u001b[0m \u001b[32m8.9/8.9 MB\u001b[0m \u001b[31m235.6 MB/s\u001b[0m eta \u001b[36m0:00:00\u001b[0m\n",
            "\u001b[?25hDownloading nvidia_cuda_nvrtc_cu12-12.6.77-py3-none-manylinux2014_x86_64.whl (23.7 MB)\n",
            "\u001b[2K   \u001b[90m━━━━━━━━━━━━━━━━━━━━━━━━━━━━━━━━━━━━━━━━\u001b[0m \u001b[32m23.7/23.7 MB\u001b[0m \u001b[31m177.2 MB/s\u001b[0m eta \u001b[36m0:00:00\u001b[0m\n",
            "\u001b[?25hDownloading nvidia_cuda_runtime_cu12-12.6.77-py3-none-manylinux2014_x86_64.manylinux_2_17_x86_64.whl (897 kB)\n",
            "\u001b[2K   \u001b[90m━━━━━━━━━━━━━━━━━━━━━━━━━━━━━━━━━━━━━━━\u001b[0m \u001b[32m897.7/897.7 kB\u001b[0m \u001b[31m360.8 MB/s\u001b[0m eta \u001b[36m0:00:00\u001b[0m\n",
            "\u001b[?25hDownloading nvidia_cudnn_cu12-9.5.1.17-py3-none-manylinux_2_28_x86_64.whl (571.0 MB)\n",
            "\u001b[2K   \u001b[90m━━━━━━━━━━━━━━━━━━━━━━━━━━━━━━━━━━━━━━━\u001b[0m \u001b[32m571.0/571.0 MB\u001b[0m \u001b[31m243.9 MB/s\u001b[0m eta \u001b[36m0:00:00\u001b[0m\n",
            "\u001b[?25hDownloading nvidia_cufft_cu12-11.3.0.4-py3-none-manylinux2014_x86_64.manylinux_2_17_x86_64.whl (200.2 MB)\n",
            "\u001b[2K   \u001b[90m━━━━━━━━━━━━━━━━━━━━━━━━━━━━━━━━━━━━━━━\u001b[0m \u001b[32m200.2/200.2 MB\u001b[0m \u001b[31m222.2 MB/s\u001b[0m eta \u001b[36m0:00:00\u001b[0m\n",
            "\u001b[?25hDownloading nvidia_cufile_cu12-1.11.1.6-py3-none-manylinux2014_x86_64.manylinux_2_17_x86_64.whl (1.1 MB)\n",
            "\u001b[2K   \u001b[90m━━━━━━━━━━━━━━━━━━━━━━━━━━━━━━━━━━━━━━━━\u001b[0m \u001b[32m1.1/1.1 MB\u001b[0m \u001b[31m113.4 MB/s\u001b[0m eta \u001b[36m0:00:00\u001b[0m\n",
            "\u001b[?25hDownloading nvidia_curand_cu12-10.3.7.77-py3-none-manylinux2014_x86_64.manylinux_2_17_x86_64.whl (56.3 MB)\n",
            "\u001b[2K   \u001b[90m━━━━━━━━━━━━━━━━━━━━━━━━━━━━━━━━━━━━━━━━\u001b[0m \u001b[32m56.3/56.3 MB\u001b[0m \u001b[31m222.7 MB/s\u001b[0m eta \u001b[36m0:00:00\u001b[0m\n",
            "\u001b[?25hDownloading nvidia_cusolver_cu12-11.7.1.2-py3-none-manylinux2014_x86_64.manylinux_2_17_x86_64.whl (158.2 MB)\n",
            "\u001b[2K   \u001b[90m━━━━━━━━━━━━━━━━━━━━━━━━━━━━━━━━━━━━━━━\u001b[0m \u001b[32m158.2/158.2 MB\u001b[0m \u001b[31m275.0 MB/s\u001b[0m eta \u001b[36m0:00:00\u001b[0m\n",
            "\u001b[?25hDownloading nvidia_cusparse_cu12-12.5.4.2-py3-none-manylinux2014_x86_64.manylinux_2_17_x86_64.whl (216.6 MB)\n",
            "\u001b[2K   \u001b[90m━━━━━━━━━━━━━━━━━━━━━━━━━━━━━━━━━━━━━━━\u001b[0m \u001b[32m216.6/216.6 MB\u001b[0m \u001b[31m257.7 MB/s\u001b[0m eta \u001b[36m0:00:00\u001b[0m\n",
            "\u001b[?25hDownloading nvidia_cusparselt_cu12-0.6.3-py3-none-manylinux2014_x86_64.whl (156.8 MB)\n",
            "\u001b[2K   \u001b[90m━━━━━━━━━━━━━━━━━━━━━━━━━━━━━━━━━━━━━━━\u001b[0m \u001b[32m156.8/156.8 MB\u001b[0m \u001b[31m193.4 MB/s\u001b[0m eta \u001b[36m0:00:00\u001b[0m\n",
            "\u001b[?25hDownloading nvidia_nccl_cu12-2.26.2-py3-none-manylinux2014_x86_64.manylinux_2_17_x86_64.whl (201.3 MB)\n",
            "\u001b[2K   \u001b[90m━━━━━━━━━━━━━━━━━━━━━━━━━━━━━━━━━━━━━━━\u001b[0m \u001b[32m201.3/201.3 MB\u001b[0m \u001b[31m135.0 MB/s\u001b[0m eta \u001b[36m0:00:00\u001b[0m\n",
            "\u001b[?25hDownloading nvidia_nvjitlink_cu12-12.6.85-py3-none-manylinux2010_x86_64.manylinux_2_12_x86_64.whl (19.7 MB)\n",
            "\u001b[2K   \u001b[90m━━━━━━━━━━━━━━━━━━━━━━━━━━━━━━━━━━━━━━━━\u001b[0m \u001b[32m19.7/19.7 MB\u001b[0m \u001b[31m166.2 MB/s\u001b[0m eta \u001b[36m0:00:00\u001b[0m\n",
            "\u001b[?25hDownloading nvidia_nvtx_cu12-12.6.77-py3-none-manylinux2014_x86_64.manylinux_2_17_x86_64.whl (89 kB)\n",
            "\u001b[2K   \u001b[90m━━━━━━━━━━━━━━━━━━━━━━━━━━━━━━━━━━━━━━━━\u001b[0m \u001b[32m89.3/89.3 kB\u001b[0m \u001b[31m233.0 MB/s\u001b[0m eta \u001b[36m0:00:00\u001b[0m\n",
            "\u001b[?25hDownloading triton-3.3.0-cp311-cp311-manylinux_2_27_x86_64.manylinux_2_28_x86_64.whl (156.5 MB)\n",
            "\u001b[2K   \u001b[90m━━━━━━━━━━━━━━━━━━━━━━━━━━━━━━━━━━━━━━━\u001b[0m \u001b[32m156.5/156.5 MB\u001b[0m \u001b[31m181.5 MB/s\u001b[0m eta \u001b[36m0:00:00\u001b[0m\n",
            "\u001b[?25hDownloading sympy-1.14.0-py3-none-any.whl (6.3 MB)\n",
            "\u001b[2K   \u001b[90m━━━━━━━━━━━━━━━━━━━━━━━━━━━━━━━━━━━━━━━━\u001b[0m \u001b[32m6.3/6.3 MB\u001b[0m \u001b[31m167.6 MB/s\u001b[0m eta \u001b[36m0:00:00\u001b[0m\n",
            "\u001b[?25hDownloading typing_extensions-4.13.2-py3-none-any.whl (45 kB)\n",
            "\u001b[2K   \u001b[90m━━━━━━━━━━━━━━━━━━━━━━━━━━━━━━━━━━━━━━━━\u001b[0m \u001b[32m45.8/45.8 kB\u001b[0m \u001b[31m200.0 MB/s\u001b[0m eta \u001b[36m0:00:00\u001b[0m\n",
            "\u001b[?25hDownloading filelock-3.18.0-py3-none-any.whl (16 kB)\n",
            "Downloading fsspec-2025.3.2-py3-none-any.whl (194 kB)\n",
            "\u001b[2K   \u001b[90m━━━━━━━━━━━━━━━━━━━━━━━━━━━━━━━━━━━━━━━\u001b[0m \u001b[32m194.4/194.4 kB\u001b[0m \u001b[31m173.8 MB/s\u001b[0m eta \u001b[36m0:00:00\u001b[0m\n",
            "\u001b[?25hDownloading jinja2-3.1.6-py3-none-any.whl (134 kB)\n",
            "\u001b[2K   \u001b[90m━━━━━━━━━━━━━━━━━━━━━━━━━━━━━━━━━━━━━━━\u001b[0m \u001b[32m134.9/134.9 kB\u001b[0m \u001b[31m254.6 MB/s\u001b[0m eta \u001b[36m0:00:00\u001b[0m\n",
            "\u001b[?25hDownloading networkx-3.4.2-py3-none-any.whl (1.7 MB)\n",
            "\u001b[2K   \u001b[90m━━━━━━━━━━━━━━━━━━━━━━━━━━━━━━━━━━━━━━━━\u001b[0m \u001b[32m1.7/1.7 MB\u001b[0m \u001b[31m74.7 MB/s\u001b[0m eta \u001b[36m0:00:00\u001b[0m\n",
            "\u001b[?25hDownloading MarkupSafe-3.0.2-cp311-cp311-manylinux_2_17_x86_64.manylinux2014_x86_64.whl (23 kB)\n",
            "Downloading mpmath-1.3.0-py3-none-any.whl (536 kB)\n",
            "\u001b[2K   \u001b[90m━━━━━━━━━━━━━━━━━━━━━━━━━━━━━━━━━━━━━━━\u001b[0m \u001b[32m536.2/536.2 kB\u001b[0m \u001b[31m210.4 MB/s\u001b[0m eta \u001b[36m0:00:00\u001b[0m\n",
            "\u001b[?25hDownloading setuptools-80.0.0-py3-none-any.whl (1.2 MB)\n",
            "\u001b[2K   \u001b[90m━━━━━━━━━━━━━━━━━━━━━━━━━━━━━━━━━━━━━━━━\u001b[0m \u001b[32m1.2/1.2 MB\u001b[0m \u001b[31m205.4 MB/s\u001b[0m eta \u001b[36m0:00:00\u001b[0m\n",
            "\u001b[?25hInstalling collected packages: nvidia-cusparselt-cu12, mpmath, typing-extensions, sympy, setuptools, nvidia-nvtx-cu12, nvidia-nvjitlink-cu12, nvidia-nccl-cu12, nvidia-curand-cu12, nvidia-cufile-cu12, nvidia-cuda-runtime-cu12, nvidia-cuda-nvrtc-cu12, nvidia-cuda-cupti-cu12, nvidia-cublas-cu12, numpy, networkx, MarkupSafe, fsspec, filelock, triton, nvidia-cusparse-cu12, nvidia-cufft-cu12, nvidia-cudnn-cu12, jinja2, nvidia-cusolver-cu12, torch, bitsandbytes\n",
            "  Attempting uninstall: nvidia-cusparselt-cu12\n",
            "    Found existing installation: nvidia-cusparselt-cu12 0.6.2\n",
            "    Uninstalling nvidia-cusparselt-cu12-0.6.2:\n",
            "      Successfully uninstalled nvidia-cusparselt-cu12-0.6.2\n",
            "  Attempting uninstall: mpmath\n",
            "    Found existing installation: mpmath 1.3.0\n",
            "    Uninstalling mpmath-1.3.0:\n",
            "      Successfully uninstalled mpmath-1.3.0\n",
            "  Attempting uninstall: typing-extensions\n",
            "    Found existing installation: typing_extensions 4.13.2\n",
            "    Uninstalling typing_extensions-4.13.2:\n",
            "      Successfully uninstalled typing_extensions-4.13.2\n",
            "  Attempting uninstall: sympy\n",
            "    Found existing installation: sympy 1.13.1\n",
            "    Uninstalling sympy-1.13.1:\n",
            "      Successfully uninstalled sympy-1.13.1\n",
            "  Attempting uninstall: setuptools\n",
            "    Found existing installation: setuptools 75.2.0\n",
            "    Uninstalling setuptools-75.2.0:\n",
            "      Successfully uninstalled setuptools-75.2.0\n",
            "  Attempting uninstall: nvidia-nvtx-cu12\n",
            "    Found existing installation: nvidia-nvtx-cu12 12.4.127\n",
            "    Uninstalling nvidia-nvtx-cu12-12.4.127:\n",
            "      Successfully uninstalled nvidia-nvtx-cu12-12.4.127\n",
            "  Attempting uninstall: nvidia-nvjitlink-cu12\n",
            "    Found existing installation: nvidia-nvjitlink-cu12 12.4.127\n",
            "    Uninstalling nvidia-nvjitlink-cu12-12.4.127:\n",
            "      Successfully uninstalled nvidia-nvjitlink-cu12-12.4.127\n",
            "  Attempting uninstall: nvidia-nccl-cu12\n",
            "    Found existing installation: nvidia-nccl-cu12 2.21.5\n",
            "    Uninstalling nvidia-nccl-cu12-2.21.5:\n",
            "      Successfully uninstalled nvidia-nccl-cu12-2.21.5\n",
            "  Attempting uninstall: nvidia-curand-cu12\n",
            "    Found existing installation: nvidia-curand-cu12 10.3.5.147\n",
            "    Uninstalling nvidia-curand-cu12-10.3.5.147:\n",
            "      Successfully uninstalled nvidia-curand-cu12-10.3.5.147\n",
            "  Attempting uninstall: nvidia-cuda-runtime-cu12\n",
            "    Found existing installation: nvidia-cuda-runtime-cu12 12.4.127\n",
            "    Uninstalling nvidia-cuda-runtime-cu12-12.4.127:\n",
            "      Successfully uninstalled nvidia-cuda-runtime-cu12-12.4.127\n",
            "  Attempting uninstall: nvidia-cuda-nvrtc-cu12\n",
            "    Found existing installation: nvidia-cuda-nvrtc-cu12 12.4.127\n",
            "    Uninstalling nvidia-cuda-nvrtc-cu12-12.4.127:\n",
            "      Successfully uninstalled nvidia-cuda-nvrtc-cu12-12.4.127\n",
            "  Attempting uninstall: nvidia-cuda-cupti-cu12\n",
            "    Found existing installation: nvidia-cuda-cupti-cu12 12.4.127\n",
            "    Uninstalling nvidia-cuda-cupti-cu12-12.4.127:\n",
            "      Successfully uninstalled nvidia-cuda-cupti-cu12-12.4.127\n",
            "  Attempting uninstall: nvidia-cublas-cu12\n",
            "    Found existing installation: nvidia-cublas-cu12 12.4.5.8\n",
            "    Uninstalling nvidia-cublas-cu12-12.4.5.8:\n",
            "      Successfully uninstalled nvidia-cublas-cu12-12.4.5.8\n",
            "  Attempting uninstall: numpy\n",
            "    Found existing installation: numpy 2.0.2\n",
            "    Uninstalling numpy-2.0.2:\n",
            "      Successfully uninstalled numpy-2.0.2\n",
            "  Attempting uninstall: networkx\n",
            "    Found existing installation: networkx 3.4.2\n",
            "    Uninstalling networkx-3.4.2:\n",
            "      Successfully uninstalled networkx-3.4.2\n",
            "  Attempting uninstall: MarkupSafe\n",
            "    Found existing installation: MarkupSafe 3.0.2\n",
            "    Uninstalling MarkupSafe-3.0.2:\n",
            "      Successfully uninstalled MarkupSafe-3.0.2\n",
            "  Attempting uninstall: fsspec\n",
            "    Found existing installation: fsspec 2025.3.2\n",
            "    Uninstalling fsspec-2025.3.2:\n",
            "      Successfully uninstalled fsspec-2025.3.2\n",
            "  Attempting uninstall: filelock\n",
            "    Found existing installation: filelock 3.18.0\n",
            "    Uninstalling filelock-3.18.0:\n",
            "      Successfully uninstalled filelock-3.18.0\n",
            "  Attempting uninstall: triton\n",
            "    Found existing installation: triton 3.2.0\n",
            "    Uninstalling triton-3.2.0:\n",
            "      Successfully uninstalled triton-3.2.0\n",
            "  Attempting uninstall: nvidia-cusparse-cu12\n",
            "    Found existing installation: nvidia-cusparse-cu12 12.3.1.170\n",
            "    Uninstalling nvidia-cusparse-cu12-12.3.1.170:\n",
            "      Successfully uninstalled nvidia-cusparse-cu12-12.3.1.170\n",
            "  Attempting uninstall: nvidia-cufft-cu12\n",
            "    Found existing installation: nvidia-cufft-cu12 11.2.1.3\n",
            "    Uninstalling nvidia-cufft-cu12-11.2.1.3:\n",
            "      Successfully uninstalled nvidia-cufft-cu12-11.2.1.3\n",
            "  Attempting uninstall: nvidia-cudnn-cu12\n",
            "    Found existing installation: nvidia-cudnn-cu12 9.1.0.70\n",
            "    Uninstalling nvidia-cudnn-cu12-9.1.0.70:\n",
            "      Successfully uninstalled nvidia-cudnn-cu12-9.1.0.70\n",
            "  Attempting uninstall: jinja2\n",
            "    Found existing installation: Jinja2 3.1.6\n",
            "    Uninstalling Jinja2-3.1.6:\n",
            "      Successfully uninstalled Jinja2-3.1.6\n",
            "  Attempting uninstall: nvidia-cusolver-cu12\n",
            "    Found existing installation: nvidia-cusolver-cu12 11.6.1.9\n",
            "    Uninstalling nvidia-cusolver-cu12-11.6.1.9:\n",
            "      Successfully uninstalled nvidia-cusolver-cu12-11.6.1.9\n",
            "  Attempting uninstall: torch\n",
            "    Found existing installation: torch 2.6.0+cu124\n",
            "    Uninstalling torch-2.6.0+cu124:\n",
            "      Successfully uninstalled torch-2.6.0+cu124\n",
            "  Attempting uninstall: bitsandbytes\n",
            "    Found existing installation: bitsandbytes 0.45.5\n",
            "    Uninstalling bitsandbytes-0.45.5:\n",
            "      Successfully uninstalled bitsandbytes-0.45.5\n",
            "\u001b[31mERROR: pip's dependency resolver does not currently take into account all the packages that are installed. This behaviour is the source of the following dependency conflicts.\n",
            "ipython 7.34.0 requires jedi>=0.16, which is not installed.\n",
            "fastai 2.7.19 requires torch<2.7,>=1.10, but you have torch 2.7.0 which is incompatible.\n",
            "numba 0.60.0 requires numpy<2.1,>=1.22, but you have numpy 2.2.5 which is incompatible.\n",
            "torchaudio 2.6.0+cu124 requires torch==2.6.0, but you have torch 2.7.0 which is incompatible.\n",
            "torchvision 0.21.0+cu124 requires torch==2.6.0, but you have torch 2.7.0 which is incompatible.\n",
            "tensorflow 2.18.0 requires numpy<2.1.0,>=1.26.0, but you have numpy 2.2.5 which is incompatible.\u001b[0m\u001b[31m\n",
            "\u001b[0mSuccessfully installed MarkupSafe-3.0.2 bitsandbytes-0.45.5 filelock-3.18.0 fsspec-2025.3.2 jinja2-3.1.6 mpmath-1.3.0 networkx-3.4.2 numpy-2.2.5 nvidia-cublas-cu12-12.6.4.1 nvidia-cuda-cupti-cu12-12.6.80 nvidia-cuda-nvrtc-cu12-12.6.77 nvidia-cuda-runtime-cu12-12.6.77 nvidia-cudnn-cu12-9.5.1.17 nvidia-cufft-cu12-11.3.0.4 nvidia-cufile-cu12-1.11.1.6 nvidia-curand-cu12-10.3.7.77 nvidia-cusolver-cu12-11.7.1.2 nvidia-cusparse-cu12-12.5.4.2 nvidia-cusparselt-cu12-0.6.3 nvidia-nccl-cu12-2.26.2 nvidia-nvjitlink-cu12-12.6.85 nvidia-nvtx-cu12-12.6.77 setuptools-80.0.0 sympy-1.14.0 torch-2.7.0 triton-3.3.0 typing-extensions-4.13.2\n"
          ]
        },
        {
          "output_type": "display_data",
          "data": {
            "application/vnd.colab-display-data+json": {
              "pip_warning": {
                "packages": [
                  "_distutils_hack",
                  "markupsafe",
                  "mpmath",
                  "nvidia",
                  "setuptools",
                  "sympy",
                  "torch",
                  "torchgen",
                  "triton"
                ]
              },
              "id": "0f4254ad19984559beadb3d020772a9c"
            }
          },
          "metadata": {}
        }
      ],
      "source": [
        "!pip install -q transformers accelerate bitsandbytes sentencepiece\n",
        "!pip install -q unstructured\n",
        "!pip install bitsandbytes --prefer-binary --no-cache-dir --force-reinstall"
      ]
    },
    {
      "cell_type": "code",
      "source": [
        "# mount drive\n",
        "from google.colab import drive\n",
        "drive.mount('/content/drive')"
      ],
      "metadata": {
        "colab": {
          "base_uri": "https://localhost:8080/"
        },
        "id": "BGRwa-EOLMRI",
        "outputId": "ea5c2e21-3c32-4b6c-98e5-7c3296a95c79"
      },
      "id": "BGRwa-EOLMRI",
      "execution_count": 2,
      "outputs": [
        {
          "output_type": "stream",
          "name": "stdout",
          "text": [
            "Drive already mounted at /content/drive; to attempt to forcibly remount, call drive.mount(\"/content/drive\", force_remount=True).\n"
          ]
        }
      ]
    },
    {
      "cell_type": "code",
      "execution_count": 3,
      "id": "uV7hvIXm3NeQ",
      "metadata": {
        "id": "uV7hvIXm3NeQ"
      },
      "outputs": [],
      "source": [
        "import json\n",
        "import re\n",
        "\n",
        "# Handler for bad model text/need to only parse valid json blocks\n",
        "def extract_first_json(text):\n",
        "    matches = re.findall(r\"\\{(?:[^{}]|(?:\\{.*?\\}))*\\}\", text, re.DOTALL)\n",
        "    for match in matches:\n",
        "        try:\n",
        "            return json.loads(match)\n",
        "        except json.JSONDecodeError:\n",
        "            continue\n",
        "    print(\"No valid JSON block found.\")\n",
        "    return None"
      ]
    },
    {
      "cell_type": "markdown",
      "id": "b3853b88",
      "metadata": {
        "id": "b3853b88"
      },
      "source": [
        "### Loading in models\n",
        "Note:  Mistral is a huge model and will take a long time to cache initially. It will also take a long time to process docs through it. A smaller model, like Llama-3b, is easier to use locally via CPU. Use a GPU (e.g., Colab) to run Mistral."
      ]
    },
    {
      "cell_type": "code",
      "execution_count": 4,
      "id": "zlOszVGIy-Zg",
      "metadata": {
        "colab": {
          "base_uri": "https://localhost:8080/",
          "height": 17,
          "referenced_widgets": [
            "4ad9be0044074fc8a98fc00afa6ba81c",
            "cdb7fc3969cd471f938e360772c5775b",
            "d11201fce6a44d8da40677961745f4d8",
            "d4de84c120de49e791cd0c9fd0c7efd1",
            "4114e881f94a4655855717e0c682b138",
            "0d8beea558c0473687590ea6eb878745",
            "82a09d3548474b31962aa3f464163c5f",
            "9d646e2be6e14740aed0bd31a4217e4a",
            "2a2b14b281b248358b9a12b3a59a16b4",
            "8baa24eb3b1747ddbe23da2d3fbcdeb6",
            "51d9da4a54f14696b3239bed8ecddbd1",
            "ed9768d1b2a44bc2a42f844077d5d333",
            "34291d54266c49f78b17ce17f6865d84",
            "b3dfb388e3c24dc7a9a34e4b9a5d2251",
            "870a674131534cc3afa12ddf33a2c57e",
            "684de1922f91479aa7d3405f2caffa4f",
            "a3f18c5c63eb4fa8a2381671b9c53269",
            "b8fec1ce4b4d42bf8803a08289ba5381",
            "0a5001df4860492391be27907b0f31dd",
            "8308929f65d84ddc8df03161fb245f2c"
          ]
        },
        "id": "zlOszVGIy-Zg",
        "outputId": "3347976e-dd8c-4408-efd1-2e44222720db"
      },
      "outputs": [
        {
          "output_type": "display_data",
          "data": {
            "text/plain": [
              "VBox(children=(HTML(value='<center> <img\\nsrc=https://huggingface.co/front/assets/huggingface_logo-noborder.sv…"
            ],
            "application/vnd.jupyter.widget-view+json": {
              "version_major": 2,
              "version_minor": 0,
              "model_id": "4ad9be0044074fc8a98fc00afa6ba81c"
            }
          },
          "metadata": {}
        }
      ],
      "source": [
        "from huggingface_hub import login\n",
        "login()"
      ]
    },
    {
      "cell_type": "code",
      "execution_count": 5,
      "id": "afc0d07d",
      "metadata": {
        "colab": {
          "base_uri": "https://localhost:8080/",
          "height": 380,
          "referenced_widgets": [
            "40559c8358884581b48e90de0253e362",
            "d316bc505d1049659a0f5b24bc2eb7f9",
            "2f79718baf9648a6a404a151c4bab280",
            "574561d7a11e4c9f9964ee30ac22b47a",
            "d02ad51fd53d4accab3f5645fc9603a3",
            "1b57d2bea865409c8503b57c75c07376",
            "1d77038159eb4432b1d99fcf578dc711",
            "8973fb8d843440b295c393954e7eace6",
            "f319b30e4b42492c82d60a406ae0c280",
            "e78e0f85fa7749ecaac51ca0ad917600",
            "c749a6c16e3e47b3a4d758f7236b97c6",
            "81ffada794b24e75b9ed64cfe66bc389",
            "07f73ce55d8441fb8276fbae8e0095cd",
            "a1615baed4e04d9dae8fc77ccbe87848",
            "096884445ba746b1a61d92f586538add",
            "e741fb2ce80c4f45b67173ef5f7c8cc1",
            "454f42423e3140ad9812e33a3e5c5d84",
            "84fbbec876be4c25bf6378e0ee1bc250",
            "06e1b8dcc80e40d898b17b853907f955",
            "d876f0722a544795a16c44f1aba41108",
            "b7d0ee8d1c5a4cc285d31def26e0e3cf",
            "fe139dd50af246fea50ad7f478a699e7",
            "ea40e6ef56614ec28de17a428c72fbe6",
            "66724f29252f4e78bc000d3d9f902bee",
            "6231b3458af84033a0f6978844f3860b",
            "ad132ab7d9944d919ff498cdbafa14bd",
            "66122b0a9e324723ab75d58c52993030",
            "edebf768b4334631bbd9910b1bd7ea8a",
            "3238c201e6df478e94eaec8b51da0660",
            "cdb44eb0a6f541c6a5e41eedda18432e",
            "f0b1d59f1af240e3bf8f9da3cb7f1e88",
            "38e57885f0c8449ca549063153f067ac",
            "e62d011177d74a7c94bac690a6677087",
            "6cf559d9f32f478abe2338d8431cfb87",
            "2920c83587134ffa9a9091dcd96c9e79",
            "c59e2dcb2b94408da3e13bf171232f2b",
            "e22f06047d864dabb9e0412441f36739",
            "1c43ef3d0d184471bab24739eb2bcc33",
            "dd54947c19c94ec78b79254fcc53e86f",
            "7d03829d61544ab69988e15667b9e1b8",
            "bba00ff4180f4691a1f464805228eb9a",
            "632b98958f194219aac5226db5574fec",
            "3db7f33535f5473d8e4befb45305620a",
            "1bfb4db91dd2418da7425511b252363b",
            "60623ed96c2241eca13b895bdd1eada2",
            "4df17c36c4334104a3175f8b542bc2fd",
            "f85a334a30ef4ac59f9f6ecd33a533cf",
            "795ae6caac2f4fbc93e65b4baf0bcd40",
            "a6b64fb3366f43bcbec30b37f59be266",
            "bfffe07af525412dbc6e556ed2fbcd7a",
            "57960c1b0ab94d2e9b02060dbeb3ef1d",
            "80419e8519384583a9d08873c58136e8",
            "5f2f6db25b964585922d6c0dc5afc59e",
            "f6a4c933be074abea2be04aa3182bace",
            "c507d3ca13854d4483f5dbc93ed1f063",
            "88327de1d5c447a882180b0d8c2eedf6",
            "272fd6b7653c4bb381b246ecbaef9b70",
            "94201d46eee949ecb1bdbc1d0c28dafb",
            "dc3536dcedb54baa9475bf4f2210c5d9",
            "6d1ea08925b4437392b16601b4e9699c",
            "b5f020f314634a1fbff6c8c3ffaddfb2",
            "3e002da744eb49109be0b6b5a2d86445",
            "e8b2a1858ca74d0591c2dd925a666eb2",
            "5ac57a20230145dcacd1617c7e62bf33",
            "0381d82fc0c94a49bb69c8de4c5182d7",
            "262c5cf52f98456eb8cb8c279311d12e",
            "94db698b7f2047e3bd7d1e04aa2e2ecd",
            "cf7c5a1163204a8ea3afeb5067cd5fd1",
            "e77f7b06915b4a659ed4ce61a861d03c",
            "08605dc23bab48659e02db3644085165",
            "628203e2484940e89869a7e0b905d0ea",
            "32b279ff0d88473682e917f88871ec77",
            "dd6f794cfb584c50954cdd9ea694b7da",
            "0bfb0f07b6c14199a20a8716c33021cf",
            "3411dc88823a491185255b2f824384e5",
            "708fe3d874a04c1794ee91941945c973",
            "66c8d4fe2f7c41e5a2506f0877763183"
          ]
        },
        "id": "afc0d07d",
        "outputId": "5a83fffb-0e95-4f05-998b-5da7c1faef61"
      },
      "outputs": [
        {
          "output_type": "stream",
          "name": "stderr",
          "text": [
            "/usr/local/lib/python3.11/dist-packages/huggingface_hub/utils/_auth.py:94: UserWarning: \n",
            "The secret `HF_TOKEN` does not exist in your Colab secrets.\n",
            "To authenticate with the Hugging Face Hub, create a token in your settings tab (https://huggingface.co/settings/tokens), set it as secret in your Google Colab and restart your session.\n",
            "You will be able to reuse this secret in all of your notebooks.\n",
            "Please note that authentication is recommended but still optional to access public models or datasets.\n",
            "  warnings.warn(\n",
            "The `load_in_4bit` and `load_in_8bit` arguments are deprecated and will be removed in the future versions. Please, pass a `BitsAndBytesConfig` object in `quantization_config` argument instead.\n"
          ]
        },
        {
          "output_type": "display_data",
          "data": {
            "text/plain": [
              "model.safetensors.index.json:   0%|          | 0.00/25.1k [00:00<?, ?B/s]"
            ],
            "application/vnd.jupyter.widget-view+json": {
              "version_major": 2,
              "version_minor": 0,
              "model_id": "40559c8358884581b48e90de0253e362"
            }
          },
          "metadata": {}
        },
        {
          "output_type": "display_data",
          "data": {
            "text/plain": [
              "Fetching 3 files:   0%|          | 0/3 [00:00<?, ?it/s]"
            ],
            "application/vnd.jupyter.widget-view+json": {
              "version_major": 2,
              "version_minor": 0,
              "model_id": "81ffada794b24e75b9ed64cfe66bc389"
            }
          },
          "metadata": {}
        },
        {
          "output_type": "display_data",
          "data": {
            "text/plain": [
              "model-00003-of-00003.safetensors:   0%|          | 0.00/4.54G [00:00<?, ?B/s]"
            ],
            "application/vnd.jupyter.widget-view+json": {
              "version_major": 2,
              "version_minor": 0,
              "model_id": "ea40e6ef56614ec28de17a428c72fbe6"
            }
          },
          "metadata": {}
        },
        {
          "output_type": "display_data",
          "data": {
            "text/plain": [
              "model-00002-of-00003.safetensors:   0%|          | 0.00/5.00G [00:00<?, ?B/s]"
            ],
            "application/vnd.jupyter.widget-view+json": {
              "version_major": 2,
              "version_minor": 0,
              "model_id": "6cf559d9f32f478abe2338d8431cfb87"
            }
          },
          "metadata": {}
        },
        {
          "output_type": "display_data",
          "data": {
            "text/plain": [
              "model-00001-of-00003.safetensors:   0%|          | 0.00/4.94G [00:00<?, ?B/s]"
            ],
            "application/vnd.jupyter.widget-view+json": {
              "version_major": 2,
              "version_minor": 0,
              "model_id": "60623ed96c2241eca13b895bdd1eada2"
            }
          },
          "metadata": {}
        },
        {
          "output_type": "display_data",
          "data": {
            "text/plain": [
              "Loading checkpoint shards:   0%|          | 0/3 [00:00<?, ?it/s]"
            ],
            "application/vnd.jupyter.widget-view+json": {
              "version_major": 2,
              "version_minor": 0,
              "model_id": "88327de1d5c447a882180b0d8c2eedf6"
            }
          },
          "metadata": {}
        },
        {
          "output_type": "display_data",
          "data": {
            "text/plain": [
              "generation_config.json:   0%|          | 0.00/111 [00:00<?, ?B/s]"
            ],
            "application/vnd.jupyter.widget-view+json": {
              "version_major": 2,
              "version_minor": 0,
              "model_id": "94db698b7f2047e3bd7d1e04aa2e2ecd"
            }
          },
          "metadata": {}
        },
        {
          "output_type": "stream",
          "name": "stderr",
          "text": [
            "Device set to use cuda:0\n"
          ]
        }
      ],
      "source": [
        "from transformers import pipeline, AutoModelForCausalLM, AutoTokenizer\n",
        "\n",
        "model_id = \"mistralai/Mistral-7B-Instruct-v0.2\"\n",
        "\n",
        "tokenizer = AutoTokenizer.from_pretrained(model_id, token=True)\n",
        "model = AutoModelForCausalLM.from_pretrained(\n",
        "    model_id,\n",
        "    device_map=\"auto\",\n",
        "    load_in_4bit=True\n",
        ")\n",
        "\n",
        "llm = pipeline(\"text-generation\", model=model, tokenizer=tokenizer, max_new_tokens=2048)\n"
      ]
    },
    {
      "cell_type": "code",
      "execution_count": 6,
      "id": "73dff720",
      "metadata": {
        "id": "73dff720"
      },
      "outputs": [],
      "source": [
        "rubric_prompt = \"\"\"\n",
        "Use the rubric below to score the policy document on five dimensions of evidence-based policymaking.\n",
        "Each dimension should receive a score from 0 to 3, where:\n",
        "\n",
        "0 = No evidence of the dimension\n",
        "1 = Minimal or implicit evidence\n",
        "2 = Moderate or partial evidence\n",
        "3 = Clear, strong, and explicit evidence\n",
        "\n",
        "### Dimensions:\n",
        "\n",
        "1. Use of Empirical Research\n",
        "- 0: No references to empirical evidence or data\n",
        "- 1: Vague or anecdotal references (e.g., “studies show”)\n",
        "- 2: Clear empirical support, but limited sourcing\n",
        "- 3: Multiple, clearly cited, high-quality sources (e.g., peer-reviewed, systematic reviews)\n",
        "\n",
        "2. Formal Evidence-Gathering Process\n",
        "- 0: No structured data gathering\n",
        "- 1: Informal or anecdotal input\n",
        "- 2: Basic assessments (e.g., internal reports, cost estimates)\n",
        "- 3: Formal tools (e.g., RCTs, modeling, pilot programs)\n",
        "\n",
        "3. Transparency and Accessibility\n",
        "- 0: No documentation or rationale\n",
        "- 1: Minimal or internal-only documentation\n",
        "- 2: Public access with basic explanation\n",
        "- 3: Fully open access, replicable, with detailed methods\n",
        "\n",
        "4. Expert and Stakeholder Input\n",
        "- 0: No input from external parties\n",
        "- 1: Informal or minimal consultation\n",
        "- 2: Some formal consultation or review by stakeholders\n",
        "- 3: Broad engagement with named experts or stakeholders\n",
        "\n",
        "5. Evaluation and Iteration\n",
        "- 0: No plan or evidence of evaluation\n",
        "- 1: A vague or one-time evaluation mention\n",
        "- 2: Evaluation included with some details\n",
        "- 3: Robust plan or evidence of ongoing evaluation and iteration\n",
        "\n",
        "### Note:\n",
        "You will be asked to return a JSON object based on a policy document. Each dimension must include:\n",
        "- A `score` (0–3)\n",
        "- A `justification` with a full sentence explaining the score\n",
        "\n",
        "Do not reuse this rubric text or copy examples into your answer.\n",
        "\"\"\""
      ]
    },
    {
      "cell_type": "code",
      "execution_count": 7,
      "id": "5eb096ff",
      "metadata": {
        "colab": {
          "base_uri": "https://localhost:8080/"
        },
        "id": "5eb096ff",
        "outputId": "fd64e60a-2f09-4e31-9e0c-e4aa05bdbee1"
      },
      "outputs": [
        {
          "output_type": "stream",
          "name": "stdout",
          "text": [
            "Found 2000 text files\n",
            "['7-5700.txt', '94-803.txt', '94-834.txt', '95-1013.txt', '94-166.txt']\n"
          ]
        }
      ],
      "source": [
        "import os\n",
        "\n",
        "batch_folder = \"/content/drive/MyDrive/batch_01\"\n",
        "\n",
        "# List .txt files to make sure paths are talking to each other\n",
        "txt_files = [f for f in os.listdir(batch_folder) if f.endswith('.txt')]\n",
        "\n",
        "print(f\"Found {len(txt_files)} text files\")\n",
        "print(txt_files[:5])"
      ]
    },
    {
      "cell_type": "code",
      "execution_count": 8,
      "id": "h4SYeTZ715v0",
      "metadata": {
        "colab": {
          "base_uri": "https://localhost:8080/",
          "height": 35
        },
        "id": "h4SYeTZ715v0",
        "outputId": "f993b45c-26f7-4b71-f43f-3a74c463a00f"
      },
      "outputs": [
        {
          "output_type": "execute_result",
          "data": {
            "text/plain": [
              "'/content'"
            ],
            "application/vnd.google.colaboratory.intrinsic+json": {
              "type": "string"
            }
          },
          "metadata": {},
          "execution_count": 8
        }
      ],
      "source": [
        "os.getcwd()"
      ]
    },
    {
      "cell_type": "code",
      "execution_count": 9,
      "id": "nH4WvVF12UT_",
      "metadata": {
        "colab": {
          "base_uri": "https://localhost:8080/",
          "height": 1000
        },
        "id": "nH4WvVF12UT_",
        "outputId": "6b8257f7-d49e-421c-b059-766d74e6f08b"
      },
      "outputs": [
        {
          "metadata": {
            "tags": null
          },
          "name": "stdout",
          "output_type": "stream",
          "text": [
            "Processing 7-5700.txt\n"
          ]
        },
        {
          "metadata": {
            "tags": null
          },
          "name": "stderr",
          "output_type": "stream",
          "text": [
            "Setting `pad_token_id` to `eos_token_id`:2 for open-end generation.\n",
            "/usr/local/lib/python3.11/dist-packages/bitsandbytes/nn/modules.py:451: UserWarning: Input type into Linear4bit is torch.float16, but bnb_4bit_compute_dtype=torch.float32 (default). This will lead to slow inference or training speed.\n",
            "  warnings.warn(\n"
          ]
        },
        {
          "metadata": {
            "tags": null
          },
          "name": "stdout",
          "output_type": "stream",
          "text": [
            "Raw model output for 7-5700.txt (first 1000 chars):\n",
            " You are a policy analyst evaluating how evidence-based a policy document is.\n",
            "Below is a policy document. Read it carefully and then apply the rubric that follows.\n",
            "\n",
            "\n",
            " \n",
            "Introducing a Public Advocate into the Foreign Intelligence Surveillance Act’s Courts: Select Legal Issues \n",
            "Andrew Nolan Legislative Attorney \n",
            "Richard M. Thompson II Legislative Attorney \n",
            "Vivian S. Chu Legislative Attorney \n",
            "October 25, 2013 \n",
            "Congressional Research Service \n",
            "7-5700 \n",
            "www.crs.gov \n",
            "\n",
            "CRS Report for CongressP\n",
            "repared for Members and Committees of Congress  \n",
            "\n",
            "Introducing a Public Advocate into the FISA's Courts: Relevant Legal Issues \n",
            " \n",
            "Summary \n",
            "Recent revelations about the size and scope of government foreign surveillance efforts have prompted some to criticize the level of scrutiny that the courts – established under the Foreign Intelligence Surveillance Act of 1978 (FISA) – currently provide with respect to the government’s applications to engage in such surveillance.  In response to concerns that the ex parte\n",
            "Processing 94-803.txt\n"
          ]
        },
        {
          "metadata": {
            "tags": null
          },
          "name": "stderr",
          "output_type": "stream",
          "text": [
            "Setting `pad_token_id` to `eos_token_id`:2 for open-end generation.\n"
          ]
        },
        {
          "metadata": {
            "tags": null
          },
          "name": "stdout",
          "output_type": "stream",
          "text": [
            "Raw model output for 94-803.txt (first 1000 chars):\n",
            " You are a policy analyst evaluating how evidence-based a policy document is.\n",
            "Below is a policy document. Read it carefully and then apply the rubric that follows.\n",
            "\n",
            "\n",
            "\n",
            "\n",
            " \n",
            " \n",
            " \n",
            "Social Security: Cost-of-Living Adjustments \n",
            "Updated January 15, 2025 \n",
            "Congressional Research Service \n",
            "https://crsreports.congress.gov \n",
            "94-803 \n",
            "\n",
            "\n",
            "Social Security: Cost-of-Living Adjustments \n",
            " \n",
            "Congressional Research Service \n",
            "Summary \n",
            "To compensate for the effects of inflation, Social Security recipients usually receive an annual cost-of-living adjustment (COLA). According to parameters outlined in the Social Security Act (42 U.S.C. §415(i)), a 2.5% COLA is payable starting in January 2025. For a retired worker, the 2024 COLA will raise the estimated average monthly benefit amount received in January 2025 by $49 from $1,927 to $1,976 (after final rounding down to the nearest dollar). \n",
            "Social Security COLAs are based on changes in the Consumer Price Index for Urban Wage Earners and Clerical Workers (CPI-W), updated mo\n",
            "Processing 94-834.txt\n"
          ]
        },
        {
          "metadata": {
            "tags": null
          },
          "name": "stderr",
          "output_type": "stream",
          "text": [
            "Setting `pad_token_id` to `eos_token_id`:2 for open-end generation.\n"
          ]
        },
        {
          "metadata": {
            "tags": null
          },
          "name": "stdout",
          "output_type": "stream",
          "text": [
            "Raw model output for 94-834.txt (first 1000 chars):\n",
            " You are a policy analyst evaluating how evidence-based a policy document is.\n",
            "Below is a policy document. Read it carefully and then apply the rubric that follows.\n",
            "\n",
            "\n",
            "\n",
            "\n",
            " \n",
            " \n",
            " \n",
            "Cost-of-Living Adjustments for Federal Civil Service Annuities \n",
            "Updated October 10, 2024 \n",
            "Congressional Research Service \n",
            "https://crsreports.congress.gov \n",
            "94-834 \n",
            "\n",
            "\n",
            "Cost-of-Living Adjustments for Federal Civil Service Annuities \n",
            " \n",
            "Congressional Research Service \n",
            "Summary \n",
            "Cost-of-living adjustments (COLAs) for the Civil Service Retirement System (CSRS) and the Federal Employees Retirement System (FERS) are based on the rate of inflation as measured by the Consumer Price Index for Urban Wage Earners and Clerical Workers (CPI-W). COLAs for both CSRS and FERS are determined by the change in the average monthly CPI-W during the third quarter (July to September) of the current calendar year and the third quarter of the base year, which is the last previous year in which a COLA was applied. The “effective date” for COLAs i\n",
            "Processing 95-1013.txt\n"
          ]
        },
        {
          "metadata": {
            "tags": null
          },
          "name": "stderr",
          "output_type": "stream",
          "text": [
            "Setting `pad_token_id` to `eos_token_id`:2 for open-end generation.\n"
          ]
        },
        {
          "metadata": {
            "tags": null
          },
          "name": "stdout",
          "output_type": "stream",
          "text": [
            "Raw model output for 95-1013.txt (first 1000 chars):\n",
            " You are a policy analyst evaluating how evidence-based a policy document is.\n",
            "Below is a policy document. Read it carefully and then apply the rubric that follows.\n",
            "\n",
            "\n",
            "\n",
            "\n",
            " \n",
            "Bahrain: Issues for U.S. Policy \n",
            "Updated March 12, 2024 \n",
            "Congressional Research Service \n",
            "https://crsreports.congress.gov \n",
            "95-1013 \n",
            "\n",
            "\n",
            "\n",
            "\n",
            "Bahrain: Issues for U.S. Policy \n",
            " \n",
            "Summary The Kingdom of Bahrain is an island nation connected by a causeway to Saudi Arabia (15.5 miles away) and once claimed by Iran (124 miles away). Though small geographically and wedged between these two larger regional powers, Bahrain has outsized importance for U.S. policy in the Persian Gulf. U.S.-Bahraini ties have deepened over the past four decades as the Gulf region has faced increasing threats from the government of the Islamic Republic of Iran. Bahrain has hosted a U.S. naval command headquarters since 1948; the United States and Bahrain have had a formal Defense Cooperation Agreement (DCA) since 1991; and Bahrain is the only Arab member o\n",
            "Processing 94-166.txt\n"
          ]
        },
        {
          "metadata": {
            "tags": null
          },
          "name": "stderr",
          "output_type": "stream",
          "text": [
            "Setting `pad_token_id` to `eos_token_id`:2 for open-end generation.\n"
          ]
        },
        {
          "metadata": {
            "tags": null
          },
          "name": "stdout",
          "output_type": "stream",
          "text": [
            "Raw model output for 94-166.txt (first 1000 chars):\n",
            " You are a policy analyst evaluating how evidence-based a policy document is.\n",
            "Below is a policy document. Read it carefully and then apply the rubric that follows.\n",
            "\n",
            "\n",
            "\n",
            "\n",
            " \n",
            "Extraterritorial Application of American Criminal Law \n",
            "Updated March 21, 2023 \n",
            "Congressional Research Service \n",
            "https://crsreports.congress.gov \n",
            "94-166 \n",
            "\n",
            "\n",
            "\n",
            "\n",
            "Extraterritorial Application of American Criminal Law \n",
            " \n",
            "Summary Criminal law is usually territorial. It is a matter of the law of the place where it occurs. Nevertheless, a number of American criminal laws apply extraterritorially outside of the United States. Application is generally a question of legislative intent, express or implied. There are two exceptions. First, the statute must come within Congress’s constitutional authority to enact. Second, neither the statute nor its application may violate due process or any other constitutional prohibition. \n",
            "Claims of implied extraterritoriality must overcome additional obstacles. Federal laws are presumed to apply onl\n",
            "Processing 95-118.txt\n"
          ]
        },
        {
          "metadata": {
            "tags": null
          },
          "name": "stderr",
          "output_type": "stream",
          "text": [
            "Setting `pad_token_id` to `eos_token_id`:2 for open-end generation.\n"
          ]
        },
        {
          "metadata": {
            "tags": null
          },
          "name": "stdout",
          "output_type": "stream",
          "text": [
            "Raw model output for 95-118.txt (first 1000 chars):\n",
            " You are a policy analyst evaluating how evidence-based a policy document is.\n",
            "Below is a policy document. Read it carefully and then apply the rubric that follows.\n",
            "\n",
            "\n",
            "\n",
            "\n",
            " \n",
            "Pension Benefit Guaranty Corporation (PBGC): A Primer \n",
            "Updated February 7, 2023 \n",
            "Congressional Research Service \n",
            "https://crsreports.congress.gov \n",
            "95-118 \n",
            "\n",
            "\n",
            "\n",
            "\n",
            "Pension Benefit Guaranty Corporation (PBGC): A Primer \n",
            " \n",
            "Summary The Pension Benefit Guaranty Corporation (PBGC) is a government corporation established by the Employee Retirement Income Security Act of 1974 (ERISA; P.L. 93-406). It was created to protect the pensions of participants and their beneficiaries covered by private sector defined benefit (DB) plans. These pension plans provide a specified monthly benefit at retirement, usually either a percentage of salary or a flat dollar amount multiplied by years of service. Defined contribution (DC) plans, such as 401(k) plans, are not insured. PBGC is chaired by the Secretary of Labor, with the Secretaries of the Tr\n",
            "Processing 94-953.txt\n"
          ]
        },
        {
          "metadata": {
            "tags": null
          },
          "name": "stderr",
          "output_type": "stream",
          "text": [
            "Setting `pad_token_id` to `eos_token_id`:2 for open-end generation.\n"
          ]
        },
        {
          "metadata": {
            "tags": null
          },
          "name": "stdout",
          "output_type": "stream",
          "text": [
            "Raw model output for 94-953.txt (first 1000 chars):\n",
            " You are a policy analyst evaluating how evidence-based a policy document is.\n",
            "Below is a policy document. Read it carefully and then apply the rubric that follows.\n",
            "\n",
            "\n",
            "Social Services Block Grant: Background and Funding \n",
            "Updated November 1, 2016\n",
            "            (94-953)\n",
            "          Jump to Main Text of Report\n",
            "\n",
            "\n",
            "\n",
            "Contents\n",
            "\n",
            "Introduction\n",
            "Use of Funds\n",
            "Goals\n",
            "Services\n",
            "Prohibited Uses\n",
            "Eligibility\n",
            "Transfer of TANF Funds to SSBG\n",
            "FY2017 Funding\n",
            "Continuing Resolution\n",
            "Preliminary Congressional Action\n",
            "Obama Administration Request\n",
            "FY2016 Funding\n",
            "Zika Supplemental\n",
            "Final Appropriations\n",
            "Preliminary Congressional Action\n",
            "Budget Resolution\n",
            "Obama Administration Request\n",
            "Additional Appropriations History\n",
            "Allocation of Funds\n",
            "State Reporting Requirements\n",
            "Recent Expenditures\n",
            "Recent Legislative Action\n",
            "Proposal to Repeal the SSBG in the 112th Congress\n",
            "How Did Health Reform Affect the SSBG?\n",
            "New Subtitle on Elder Justice\n",
            "New Programs Authorized within the SSBG Subtitle of Title XX\n",
            "\n",
            "\n",
            "Figures\n",
            "\n",
            "Figure B-1. HHS Allocation Metho\n",
            "Processing 95-1135.txt\n"
          ]
        },
        {
          "metadata": {
            "tags": null
          },
          "name": "stderr",
          "output_type": "stream",
          "text": [
            "Setting `pad_token_id` to `eos_token_id`:2 for open-end generation.\n"
          ]
        },
        {
          "metadata": {
            "tags": null
          },
          "name": "stdout",
          "output_type": "stream",
          "text": [
            "Raw model output for 95-1135.txt (first 1000 chars):\n",
            " You are a policy analyst evaluating how evidence-based a policy document is.\n",
            "Below is a policy document. Read it carefully and then apply the rubric that follows.\n",
            "\n",
            "\n",
            "The Federal Grand Jury\n",
            "May 7, 2015\n",
            "            (95-1135)\n",
            "          \n",
            "\n",
            "\n",
            "Contents\n",
            "\n",
            "Introduction\n",
            "Background\n",
            "Organizational Matters\n",
            "Jurisdiction\n",
            "Selection\n",
            "Tenure\n",
            "Proceedings Before the Grand Jury\n",
            "Grand Jury and the Prosecutor\n",
            "Subpoenas\n",
            "Common Law Privileges\n",
            "Constitutional Privileges\n",
            "Statutory and Other Limitations of Grand Jury Subpoena Authority\n",
            "Secrecy\n",
            "Those Who Need Not Keep the Grand Jury's Secrets\n",
            "Matters\n",
            "Disclosure\n",
            "Enforcement of Grand Jury Secrecy\n",
            "Final Grand Jury Action\n",
            "Indictment\n",
            "Refusal to Indict\n",
            "Reports\n",
            "Discharge\n",
            "Indictments Dismissed\n",
            "\n",
            "\n",
            "Summary\n",
            "The federal grand jury exists to investigate crimes against the United States and to secure the constitutional right of grand jury indictment. Its responsibilities require broad powers.\n",
            "As an arm of the U.S. District Court which summons it, upon whose process it relies, and whi\n",
            "Processing 7-6678.txt\n"
          ]
        },
        {
          "metadata": {
            "tags": null
          },
          "name": "stderr",
          "output_type": "stream",
          "text": [
            "Setting `pad_token_id` to `eos_token_id`:2 for open-end generation.\n"
          ]
        },
        {
          "metadata": {
            "tags": null
          },
          "name": "stdout",
          "output_type": "stream",
          "text": [
            "Raw model output for 7-6678.txt (first 1000 chars):\n",
            " You are a policy analyst evaluating how evidence-based a policy document is.\n",
            "Below is a policy document. Read it carefully and then apply the rubric that follows.\n",
            "\n",
            "\n",
            "Direct Overt U.S. Aid Appropriations for and Military Reimbursements to Pakistan, \n",
            "FY2002-FY2015 \n",
            "Prepared by the Congressional Research Service for distribution to multiple congressional offices, March 6, 2014 \n",
            "Note: Final obligation and disbursement totals typically are lower than program account appropriations \n",
            "(rounded to the nearest millions of dollars) \n",
            " \n",
            " \n",
            " \n",
            "Program \n",
            " \n",
            " \n",
            "FY \n",
            " \n",
            " \n",
            " \n",
            " \n",
            " \n",
            "or \n",
            "FY \n",
            "FY \n",
            "\n",
            "2002-\n",
            "FY \n",
            "FY \n",
            "FY \n",
            "FY \n",
            "FY \n",
            "Account  2014  2015 \n",
            "Program or Account  FY2008  2009 \n",
            "2010 \n",
            "2011 \n",
            "2012 \n",
            "2013 \n",
            "Total \n",
            "(req.)  (req.) \n",
            " \n",
            "\n",
            "\n",
            "\n",
            "\n",
            " \n",
            "\n",
            " \n",
            " \n",
            " \n",
            "1206 \n",
            "173c \n",
            "139c \n",
            "C \n",
            "C \n",
            "C \n",
            "C \n",
            "312 \n",
            "C \n",
            "C \n",
            "\n",
            "\n",
            "\n",
            "\n",
            "\n",
            " \n",
            "\n",
            " \n",
            " \n",
            "CN \n",
            "135 \n",
            "47 \n",
            "43 \n",
            "39 \n",
            "1 \n",
            "8 \n",
            "273 \n",
            "f \n",
            "f \n",
            "\n",
            "\n",
            "\n",
            "\n",
            "\n",
            "\n",
            " \n",
            "\n",
            " \n",
            " \n",
            "FMF \n",
            "1,566 \n",
            "300 \n",
            "294 \n",
            "295 \n",
            "296 \n",
            "280 \n",
            "3,031 \n",
            "300 \n",
            "280 \n",
            "\n",
            "\n",
            "\n",
            "\n",
            "\n",
            "\n",
            " \n",
            "\n",
            " \n",
            " \n",
            "IMET \n",
            "11 \n",
            "2 \n",
            "5 \n",
            "4 \n",
            "5 \n",
            "5 \n",
            "32 \n",
            "5 \n",
            "5 \n",
            "\n",
            "\n",
            "\n",
            "\n",
            "\n",
            "\n",
            " \n",
            "\n",
            " \n",
            " \n",
            "INCLE \n",
            "270 \n",
            "88 \n",
            "170 \n",
            "114 \n",
            "75 \n",
            "57 \n",
            "774 \n",
            "74 \n",
            "41 \n",
            "\n",
            "\n",
            "\n",
            "\n",
            "\n",
            " \n",
            "\n",
            "NADR \n",
            "53 \n",
            "\n",
            "Processing 94-486.txt\n"
          ]
        },
        {
          "metadata": {
            "tags": null
          },
          "name": "stderr",
          "output_type": "stream",
          "text": [
            "Setting `pad_token_id` to `eos_token_id`:2 for open-end generation.\n"
          ]
        },
        {
          "metadata": {
            "tags": null
          },
          "name": "stdout",
          "output_type": "stream",
          "text": [
            "Raw model output for 94-486.txt (first 1000 chars):\n",
            " You are a policy analyst evaluating how evidence-based a policy document is.\n",
            "Below is a policy document. Read it carefully and then apply the rubric that follows.\n",
            "\n",
            "\n",
            "Supplemental Security Income (SSI)\n",
            "January 23, 2014\n",
            "            (94-486)\n",
            "          \n",
            "\n",
            "\n",
            "Contents\n",
            "\n",
            "Background and Eligibility\n",
            "SSI Benefits\n",
            "Income and Asset Limits\n",
            "Funding\n",
            "\n",
            "\n",
            "Summary\n",
            "The Supplemental Security Income (SSI) program, enacted in 1974, is a needs-based program that provides cash benefits designed to ensure a minimum income to aged, blind, or disabled persons with limited income and assets. The SSI program is a means-tested program that does not have work or contribution requirements, but restricts benefits to those who meet asset and resource limitations. In December 2013, the SSI program had more than 8.3 million participants, who received over $4.6 billion in benefits. The costs for benefit payments and administrative expenses for the SSI program were over $53 billion in FY2013. Funding for the SSI program is provi\n",
            "Processing 7-5415.txt\n"
          ]
        },
        {
          "metadata": {
            "tags": null
          },
          "name": "stderr",
          "output_type": "stream",
          "text": [
            "You seem to be using the pipelines sequentially on GPU. In order to maximize efficiency please use a dataset\n",
            "Setting `pad_token_id` to `eos_token_id`:2 for open-end generation.\n"
          ]
        },
        {
          "metadata": {
            "tags": null
          },
          "name": "stdout",
          "output_type": "stream",
          "text": [
            "Raw model output for 7-5415.txt (first 1000 chars):\n",
            " You are a policy analyst evaluating how evidence-based a policy document is.\n",
            "Below is a policy document. Read it carefully and then apply the rubric that follows.\n",
            "\n",
            "\n",
            "Major U.S. Arms Sales and Grants to Pakistan Since 2001\n",
            "Prepared by the Congressional Research Service for distribution to multiple congressional offices, March 7, 2013\n",
            "Major U.S. arms sales and grants to Pakistan since 2001 have included items useful for counterterrorism andcounterinsurgency operations, along with a number of Abig ticket@ platforms more suited to conventional warfare.In dollar value terms, the bulk of purchases have been made with Pakistani national funds, although U.S. grantshave eclipsed these in recent years. The Pentagon reports total Foreign Military Sales agreements with Pakistanworth about $5.2 billion for FY2002-FY2011 (in-process sales of F-16 combat aircraft and related equipmentaccount for about half of this). The U.S. Congress has appropriated more than $3 billion in Foreign MilitaryFinancing (\n",
            "Processing 91-406.txt\n"
          ]
        },
        {
          "metadata": {
            "tags": null
          },
          "name": "stderr",
          "output_type": "stream",
          "text": [
            "Setting `pad_token_id` to `eos_token_id`:2 for open-end generation.\n"
          ]
        },
        {
          "metadata": {
            "tags": null
          },
          "name": "stdout",
          "output_type": "stream",
          "text": [
            "Raw model output for 91-406.txt (first 1000 chars):\n",
            " You are a policy analyst evaluating how evidence-based a policy document is.\n",
            "Below is a policy document. Read it carefully and then apply the rubric that follows.\n",
            "\n",
            "\n",
            "91-406 Derivatives: OTC Central Counterparty Clearing \n",
            "\n",
            "\n",
            "\n",
            "Canadian Securities Administrators \n",
            "CSA Consultation Paper 91-406  \n",
            "Derivatives: OTC Central Counterparty Clearing \n",
            " \n",
            "\n",
            "\n",
            "\n",
            "\n",
            "\n",
            "\n",
            "\n",
            "\n",
            "\n",
            "\n",
            "\n",
            "Canadian Securities Administrators Derivatives Committee \n",
            "June 20, 2012 \n",
            " \n",
            " \n",
            "\n",
            " link to page 5  link to page 12  link to page 12  link to page 14  link to page 14  link to page 18  link to page 21  link to page 23  link to page 24  link to page 24  link to page 24  link to page 25  link to page 25  link to page 26  link to page 26  link to page 26  link to page 26  link to page 27  link to page 27  link to page 28  link to page 28  link to page 29  link to page 30  link to page 30 91-406 Derivatives: OTC Central Counterparty Clearing \n",
            "Table of Contents \n",
            "Executive Summary .......................................................................\n",
            "Processing 93-792.txt\n"
          ]
        },
        {
          "metadata": {
            "tags": null
          },
          "name": "stderr",
          "output_type": "stream",
          "text": [
            "Setting `pad_token_id` to `eos_token_id`:2 for open-end generation.\n"
          ]
        },
        {
          "metadata": {
            "tags": null
          },
          "name": "stdout",
          "output_type": "stream",
          "text": [
            "Raw model output for 93-792.txt (first 1000 chars):\n",
            " You are a policy analyst evaluating how evidence-based a policy document is.\n",
            "Below is a policy document. Read it carefully and then apply the rubric that follows.\n",
            "\n",
            "\n",
            "Social Security Benefits Are Not Paid for the Month of Death\n",
            "July 5, 2011\n",
            "            (93-792)\n",
            "          \n",
            "\n",
            "\n",
            "Contents\n",
            "\n",
            "Background\n",
            "Arguments For and Against Paying Benefits for the Month of Death\n",
            "Arguments for Changing the Current Policy\n",
            "Arguments for Retaining the Current Policy\n",
            "\n",
            "\n",
            "Summary\n",
            "Social Security benefits are not paid for the month in which a beneficiary dies. In most cases, the check that an individual receives in a given month represents payment for the preceding month. In other words, by design, the check (or direct bank deposit) arrives after the month for which it applies. In cases where a beneficiary dies late in the month, the Social Security Administration often is not notified of the death in time to stop the payment. When family members are informed that the check must be returned, they often complain that \n",
            "Processing 94-971.txt\n"
          ]
        },
        {
          "metadata": {
            "tags": null
          },
          "name": "stderr",
          "output_type": "stream",
          "text": [
            "Setting `pad_token_id` to `eos_token_id`:2 for open-end generation.\n"
          ]
        },
        {
          "metadata": {
            "tags": null
          },
          "name": "stdout",
          "output_type": "stream",
          "text": [
            "Raw model output for 94-971.txt (first 1000 chars):\n",
            " You are a policy analyst evaluating how evidence-based a policy document is.\n",
            "Below is a policy document. Read it carefully and then apply the rubric that follows.\n",
            "\n",
            "\n",
            " \n",
            "Federal Employees: Pension COLAs and Pay Adjustments Since 1969 \n",
            "Katelin P. Isaacs Analyst in Income Security \n",
            "December 7, 2010 \n",
            "Congressional Research Service\n",
            "7-5700 \n",
            "www.crs.gov \n",
            "94-971 \n",
            "CRS Report for CongressP\n",
            "repared for Members and Committees of Congress  \n",
            "\n",
            "Federal Employees: Pension COLAs and Pay Adjustments Since 1969 \n",
            " \n",
            "Summary \n",
            "Cost-of-living adjustments (COLAs) for retired federal employees and pay adjustments for current federal employees often differ because they are based on changes in different economic variables. \n",
            "Federal retirement and disability benefits are indexed to price increases as measured by the Consumer Price Index for Urban Wage Earners and Clerical Workers (CPI-W), whereas pay adjustments for civilian federal workers are indexed to wage and salary increases in the private sector, as measured b\n",
            "Processing 92-939.txt\n"
          ]
        },
        {
          "metadata": {
            "tags": null
          },
          "name": "stderr",
          "output_type": "stream",
          "text": [
            "Setting `pad_token_id` to `eos_token_id`:2 for open-end generation.\n"
          ]
        },
        {
          "metadata": {
            "tags": null
          },
          "name": "stdout",
          "output_type": "stream",
          "text": [
            "Raw model output for 92-939.txt (first 1000 chars):\n",
            " You are a policy analyst evaluating how evidence-based a policy document is.\n",
            "Below is a policy document. Read it carefully and then apply the rubric that follows.\n",
            "\n",
            "\n",
            "Countercyclical Job Creation Programs\n",
            "September 7, 2010\n",
            "              (92-939)\n",
            "            \n",
            "\n",
            "\n",
            "\n",
            "Contents\n",
            "\n",
            "Introduction\n",
            "The Pros and Cons of Job Creation Approaches in Brief\n",
            "Countercyclical Public Works Employment\n",
            "Countercyclical Public Service Employment\n",
            "Countercyclical Revenue-Sharing\n",
            "Countercyclical Employment Subsidies\n",
            "\n",
            "\n",
            "Introduction\n",
            "During or after all but one recession of the postwar period, Congress has acted to mitigate their effect on workers by enacting legislation to spur job creation through increased spending on public works (infrastructure) and public service programs, revenue sharing with state governments, and employment tax credits. Although Congress passed the American Recovery and Reinvestment Act (P.L. 111-5) early in 2009 and the Hiring Incentives to Restore Employment Act (P.L. 111-147) early in 2010 , c\n",
            "Processing 94-511.txt\n"
          ]
        },
        {
          "metadata": {
            "tags": null
          },
          "name": "stderr",
          "output_type": "stream",
          "text": [
            "Setting `pad_token_id` to `eos_token_id`:2 for open-end generation.\n"
          ]
        },
        {
          "metadata": {
            "tags": null
          },
          "name": "stdout",
          "output_type": "stream",
          "text": [
            "Raw model output for 94-511.txt (first 1000 chars):\n",
            " You are a policy analyst evaluating how evidence-based a policy document is.\n",
            "Below is a policy document. Read it carefully and then apply the rubric that follows.\n",
            "\n",
            "\n",
            "Hedge Funds: Should They Be Regulated?\n",
            "April 9, 2010\n",
            "              (94-511)\n",
            "            \n",
            "\n",
            "\n",
            "Contents\n",
            "\n",
            "Introduction\n",
            "Performance: Can Hedge Funds Beat The Market?\n",
            "The Long-Term Capital Management Case\n",
            "Policy Concerns\n",
            "Policy Responses and Proposals\n",
            "Legislative Proposals\n",
            "\n",
            "\n",
            "Summary\n",
            "In an echo of the Robber Baron Era, the late 20th century saw the rise of a new elite class, who made their fortunes not in steel, oil, or railroads, but in financial speculation. These gilded few are the managers of a group of private, unregulated investment partnerships, called hedge funds. Deploying their own capital and that of well-to-do investors, successful hedge fund managers frequently (but not consistently) outperform public mutual funds. Hedge funds use many different investment strategies, but the largest and best-known funds engage in high\n",
            "Processing 94-731.txt\n"
          ]
        },
        {
          "metadata": {
            "tags": null
          },
          "name": "stderr",
          "output_type": "stream",
          "text": [
            "Setting `pad_token_id` to `eos_token_id`:2 for open-end generation.\n"
          ]
        },
        {
          "metadata": {
            "tags": null
          },
          "name": "stdout",
          "output_type": "stream",
          "text": [
            "Raw model output for 94-731.txt (first 1000 chars):\n",
            " You are a policy analyst evaluating how evidence-based a policy document is.\n",
            "Below is a policy document. Read it carefully and then apply the rubric that follows.\n",
            "\n",
            "\n",
            "Brief Summaries of Federal Animal Protection Statutes\n",
            "February 1, 2010\n",
            "              (94-731)\n",
            "            \n",
            "\n",
            "\n",
            "Contents\n",
            "\n",
            "Adoption of Military Animals, 10 U.S.C. § 2583\n",
            "African Elephant Conservation Act, 16 U.S.C. §§ 4201-4245\n",
            "Agriculture Appropriations Act, 2006, P.L. 109-97 (2005), and subsequent appropriations acts\n",
            "Airborne Hunting Act, 16 U.S.C. § 742j-1\n",
            "Alaska National Interest Lands Conservation Act\n",
            "Americans with Disabilities Act, 42 U.S.C. §§ 12101-12213\n",
            "Anadromous Fish Conservation Act, 16 U.S.C. §§ 757a-757f\n",
            "Animal Damage Control Act, 7 U.S.C. §§ 426-426c\n",
            "Animal Disease Risk Assessment, Prevention, and Control Act of 2001, P.L. 107-9 (2001)\n",
            "Animal Enterprise Terrorism Act, 18 U.S.C. § 43\n",
            "Animal Health Protection Act, 7 U.S.C. §§ 8301-8321\n",
            "Animal Welfare Act, 7 U.S.C. §§ 2131-2159\n",
            "Animal Fighting, 7 U.S.C. § 2156, 18 \n",
            "Processing 94-970.txt\n"
          ]
        },
        {
          "metadata": {
            "tags": null
          },
          "name": "stderr",
          "output_type": "stream",
          "text": [
            "Setting `pad_token_id` to `eos_token_id`:2 for open-end generation.\n"
          ]
        },
        {
          "metadata": {
            "tags": null
          },
          "name": "stdout",
          "output_type": "stream",
          "text": [
            "Raw model output for 94-970.txt (first 1000 chars):\n",
            " You are a policy analyst evaluating how evidence-based a policy document is.\n",
            "Below is a policy document. Read it carefully and then apply the rubric that follows.\n",
            "\n",
            "\n",
            "Awards of Attorneys' Fees by Federal Courts and Federal Agencies\n",
            "October 22, 2009\n",
            "              (94-970)\n",
            "            \n",
            "\n",
            "\n",
            "Contents\n",
            "\n",
            "I. Introduction: The American Rule and Its Exceptions\n",
            "II. Common Law Exceptions to the American Rule\n",
            "Common Benefit Doctrine\n",
            "Bad Faith Exception\n",
            "Private Attorney General Doctrine\n",
            "III. The Equal Access to Justice Act\n",
            "IV. The Dual Standard: Prevailing Plaintiffs and Prevailing Defendants\n",
            "V. The Concept of Prevailing Party\n",
            "VI. Awards of Attorneys' Fees Incurred in Administrative Proceedings\n",
            "Awards of Attorneys' Fees by Administrative Agencies\n",
            "VII. Awards of Attorneys' Fees in Civil Rights Cases\n",
            "Civil Rights Act of 1964, Title II: Public Accommodations\n",
            "Civil Rights Act of 1964, Title III: Public Facilities\n",
            "Civil Rights Act of 1964, Title VII: Equal Employment Opportunities\n",
            "Fair Housing Act\n",
            "Fair Labor\n",
            "Processing 93-875.txt\n"
          ]
        },
        {
          "metadata": {
            "tags": null
          },
          "name": "stderr",
          "output_type": "stream",
          "text": [
            "Setting `pad_token_id` to `eos_token_id`:2 for open-end generation.\n"
          ]
        },
        {
          "metadata": {
            "tags": null
          },
          "name": "stdout",
          "output_type": "stream",
          "text": [
            "Raw model output for 93-875.txt (first 1000 chars):\n",
            " You are a policy analyst evaluating how evidence-based a policy document is.\n",
            "Below is a policy document. Read it carefully and then apply the rubric that follows.\n",
            "\n",
            "\n",
            "Expulsion and Censure Actions Taken by the Full Senate Against Members\n",
            "November 12, 2008\n",
            "              (93-875)\n",
            "            \n",
            "\n",
            "\n",
            "Contents\n",
            "\n",
            "Expulsion\n",
            "Distinguished from Exclusion\n",
            "Authority As to Grounds and Timing\n",
            "Practices and Precedents\n",
            "Censure\n",
            "Condemn\n",
            "Denounce\n",
            "Grounds For Censure\n",
            "Reprimand\n",
            "Senate Precedents\n",
            "Expulsion\n",
            "Censure\n",
            "Conclusion\n",
            "\n",
            "\n",
            "Summary\n",
            "The authority of the United States Senate (as well as of the House) to establish the rules for its own proceedings, to \"punish\" its Members for misconduct, and to expel a Member by a vote of two-thirds of Members present and voting, is provided in the Constitution at Article I, Section 5, clause 2. This express grant of authority for the Senate to expel a Senator is, on its face, unlimited—save for the requirement of a two-thirds majority. In the context of what the Supreme Court ha\n",
            "Processing 94-408.txt\n"
          ]
        },
        {
          "metadata": {
            "tags": null
          },
          "name": "stderr",
          "output_type": "stream",
          "text": [
            "Setting `pad_token_id` to `eos_token_id`:2 for open-end generation.\n"
          ]
        },
        {
          "metadata": {
            "tags": null
          },
          "name": "stdout",
          "output_type": "stream",
          "text": [
            "Raw model output for 94-408.txt (first 1000 chars):\n",
            " You are a policy analyst evaluating how evidence-based a policy document is.\n",
            "Below is a policy document. Read it carefully and then apply the rubric that follows.\n",
            "\n",
            "\n",
            "The Davis-Bacon Act: Institutional Evolution and Public Policy\n",
            "November 30, 2007\n",
            "              (94-408)\n",
            "            \n",
            "\n",
            "\n",
            "Contents\n",
            "\n",
            "Controversy Concerning the Davis-Bacon Act\n",
            "On the One Hand\n",
            "On the Other Hand\n",
            "The Davis-Bacon Literature\n",
            "Origins of the Davis-Bacon Act\n",
            "Preliminary Initiatives, 1927-1930\n",
            "An Enactment Emerges, 1931\n",
            "Modifying the Davis-Bacon Act, 1931-1961\n",
            "The Executive Order of 1932\n",
            "President Hoover Acts Administratively\n",
            "Reaction to the Order\n",
            "Congressional Action, 1934-1935\n",
            "The Copeland \"Anti-Kickback\" Act (1934)\n",
            "The Davis-Bacon Amendments (1935)\n",
            "A Period of Relative Quiet, 1935-1952\n",
            "Changing Realities, New Perspectives\n",
            "World War II and the Truman Era\n",
            "The Eisenhower Era: A Pivotal Period?\n",
            "Some Issues of Policy\n",
            "A Changing Perspective on the Davis-Bacon Act?\n",
            "Davis-Bacon During the 1960s\n",
            "Industry Classification and La\n",
            "Processing 94-908.txt\n"
          ]
        },
        {
          "metadata": {
            "tags": null
          },
          "name": "stderr",
          "output_type": "stream",
          "text": [
            "Setting `pad_token_id` to `eos_token_id`:2 for open-end generation.\n"
          ]
        },
        {
          "metadata": {
            "tags": null
          },
          "name": "stdout",
          "output_type": "stream",
          "text": [
            "Raw model output for 94-908.txt (first 1000 chars):\n",
            " You are a policy analyst evaluating how evidence-based a policy document is.\n",
            "Below is a policy document. Read it carefully and then apply the rubric that follows.\n",
            "\n",
            "\n",
            "Davis-Bacon: The Act and the Literature\n",
            "November 13, 2007\n",
            "              (94-908)\n",
            "            \n",
            "\n",
            "\n",
            "Contents\n",
            "\n",
            "The Davis-Bacon Act of 1931 (As Amended)\n",
            "Origins of the Act\n",
            "A Gradual Process of Evolution\n",
            "Early Modification\n",
            "A Period of Growing Contentiousness\n",
            "Getting to Know the Davis-Bacon Act, Pro and Con\n",
            "Arguments Generally Critical of Davis-Bacon\n",
            "Arguments Generally Supportive of Davis-Bacon\n",
            "How Good is the Information We Have Concerning the Effects of the Davis-Bacon Act?\n",
            "The General Nature of Davis-Bacon Research\n",
            "Significant Gaps\n",
            "Some Agency Studies\n",
            "Views from the Private Sector\n",
            "Bibliography\n",
            "\n",
            "\n",
            "Summary\n",
            "The Davis-Bacon Act of 1931, as amended, requires that contractors engaging in certain federal contract construction pay workers on such projects not less than the locally prevailing wage for comparable work. In addition, such c\n",
            "Processing 94-261.txt\n"
          ]
        },
        {
          "metadata": {
            "tags": null
          },
          "name": "stderr",
          "output_type": "stream",
          "text": [
            "Setting `pad_token_id` to `eos_token_id`:2 for open-end generation.\n"
          ]
        },
        {
          "metadata": {
            "tags": null
          },
          "name": "stdout",
          "output_type": "stream",
          "text": [
            "Raw model output for 94-261.txt (first 1000 chars):\n",
            " You are a policy analyst evaluating how evidence-based a policy document is.\n",
            "Below is a policy document. Read it carefully and then apply the rubric that follows.\n",
            "\n",
            "\n",
            "Intelligence Spending: Public Disclosure Issues\n",
            "February 15, 2007\n",
            "              (94-261)\n",
            "            \n",
            "\n",
            "\n",
            "Contents\n",
            "\n",
            "Introduction\n",
            "What Constitutes the Intelligence Budget?\n",
            "Past Budgetary Practice\n",
            "Authorization\n",
            "Appropriations\n",
            "The Question of Disclosure\n",
            "Policy Arguments, Pro and Con\n",
            "Constitutional Questions Related to Disclosure of Aggregate Intelligence Budget Figure\n",
            "History of the Constitutional Language\n",
            "Judicial Interpretation\n",
            "Conclusions Regarding Statement and Account Clause\n",
            "Post-Cold War Developments\n",
            "Recommendations by the 9/11 Commission and Subsequent Legislation\n",
            "Conclusion\n",
            "\n",
            "\n",
            "Summary\n",
            "Although the United States Intelligence Community encompasses large Federal agencies—the Central Intelligence Agency (CIA), the Defense Intelligence Agency (DIA), the National Reconnaissance Office, the National Geospatial-Intelligence Agenc\n",
            "Processing 94-319.txt\n"
          ]
        },
        {
          "metadata": {
            "tags": null
          },
          "name": "stderr",
          "output_type": "stream",
          "text": [
            "Setting `pad_token_id` to `eos_token_id`:2 for open-end generation.\n"
          ]
        },
        {
          "metadata": {
            "tags": null
          },
          "name": "stdout",
          "output_type": "stream",
          "text": [
            "Raw model output for 94-319.txt (first 1000 chars):\n",
            " You are a policy analyst evaluating how evidence-based a policy document is.\n",
            "Below is a policy document. Read it carefully and then apply the rubric that follows.\n",
            "\n",
            "\n",
            "Order Code 94-319\n",
            "Updated August 29, 2006\n",
            "CRS Report for Congress\n",
            "Received through the CRS Web\n",
            "The Child Support Enforcement Program:\n",
            "A Fact Sheet\n",
            "Carmen Solomon-Fears\n",
            "Domestic Social Policy Division\n",
            "The Child Support Enforcement (CSE) program, Part D of Title IV of the Social\n",
            "Security Act, was enacted in January 1975 (P.L. 93-647).  Its main goals are to reducespending for actual and potential recipients of public welfare by obtaining support fromnoncustodial parents on an ongoing basis; and to establish paternity for children bornoutside of marriage so that child support can be obtained.  All 50 states, the District ofColumbia, Guam, Puerto Rico, and the Virgin Islands operate CSE programs and areentitled to federal matching funds.  To qualify for federal matching funds, each state’sCSE plan must be approved by the Office\n",
            "Processing 94-27.txt\n"
          ]
        },
        {
          "metadata": {
            "tags": null
          },
          "name": "stderr",
          "output_type": "stream",
          "text": [
            "Setting `pad_token_id` to `eos_token_id`:2 for open-end generation.\n"
          ]
        },
        {
          "metadata": {
            "tags": null
          },
          "name": "stdout",
          "output_type": "stream",
          "text": [
            "Raw model output for 94-27.txt (first 1000 chars):\n",
            " You are a policy analyst evaluating how evidence-based a policy document is.\n",
            "Below is a policy document. Read it carefully and then apply the rubric that follows.\n",
            "\n",
            "\n",
            "Order Code 94-27\n",
            "CRS Report for Congress\n",
            "Received through the CRS Web\n",
            "Social Security:  Brief Facts and Statistics\n",
            "27\n",
            "Updated January 26, 2006\n",
            "iki/CRS-94-\n",
            "g/w\n",
            "s.orakle\n",
            "://wiki\n",
            "Gary Sidor\n",
            "ttph\n",
            "Research Information Specialist\n",
            "Knowledge Services Group\n",
            "Congressional Research Service ˜ The Library of Congress\n",
            "\n",
            " \n",
            "Social Security:  Brief Facts and Statistics\n",
            "Summary\n",
            "This document provides brief facts and statistics about Social Security that are\n",
            "frequently requested by Members of Congress and their staffs.  It includesinformation about Social Security taxes and benefits, the program’s impact onrecipients’ incomes, federal tax receipts, federal spending and the economy, andadministrative information.\n",
            "27\n",
            "iki/CRS-94-\n",
            "g/w\n",
            "s.orakle\n",
            "://wiki\n",
            "ttph\n",
            "\n",
            " \n",
            "27\n",
            "iki/CRS-94-\n",
            "g/w\n",
            "s.orakle\n",
            "://wiki\n",
            "ttph\n",
            "\n",
            "Contents\n",
            "Recipient  Statistics . . . . . . . . \n",
            "Processing 95-129.txt\n"
          ]
        },
        {
          "metadata": {
            "tags": null
          },
          "name": "stderr",
          "output_type": "stream",
          "text": [
            "Setting `pad_token_id` to `eos_token_id`:2 for open-end generation.\n"
          ]
        },
        {
          "metadata": {
            "tags": null
          },
          "name": "stdout",
          "output_type": "stream",
          "text": [
            "Raw model output for 95-129.txt (first 1000 chars):\n",
            " You are a policy analyst evaluating how evidence-based a policy document is.\n",
            "Below is a policy document. Read it carefully and then apply the rubric that follows.\n",
            "\n",
            "\n",
            "95-129 -- Tobacco Price Support:\n",
            "An Overview of the Program\n",
            "\n",
            "Updated December 31, 2005\n",
            " \n",
            "SummaryAbout 94% of U.S. tobacco production is flue-cured and\n",
            "burley (both being cigarette tobacco types).  These crops are particularly important to the agriculture\n",
            "of North Carolina (where flue-cured is grown) and Kentucky (where burley is grown).  Together,\n",
            "these two states produce 66% of the total U.S. tobacco crop.  The federal tobacco price support\n",
            "program was designed to support and stabilize prices for farmers.  It operated through a combination\n",
            "of mandatory marketing quotas and nonrecourse loans.  Marketing quotas limit the amount of\n",
            "tobacco each farmer could sell, which indirectly raised market prices.  The loan program established\n",
            "guaranteed minimum prices.  The law required that the loan program operate at no net cost to the\n",
            "Processing 95-1024.txt\n"
          ]
        },
        {
          "metadata": {
            "tags": null
          },
          "name": "stderr",
          "output_type": "stream",
          "text": [
            "Setting `pad_token_id` to `eos_token_id`:2 for open-end generation.\n"
          ]
        },
        {
          "metadata": {
            "tags": null
          },
          "name": "stdout",
          "output_type": "stream",
          "text": [
            "Raw model output for 95-1024.txt (first 1000 chars):\n",
            " You are a policy analyst evaluating how evidence-based a policy document is.\n",
            "Below is a policy document. Read it carefully and then apply the rubric that follows.\n",
            "\n",
            "\n",
            "Order Code 95-1024 EPW\n",
            "Updated September 6, 2005\n",
            "CRS Report for Congress\n",
            "Received through the CRS Web\n",
            "Trends in Poverty in the United States\n",
            "Thomas Gabe\n",
            "Domestic Social Policy Division\n",
            "Summary\n",
            "In 2004, 37 million people were found poor under the official poverty definition\n",
            " — a 1.1 million increase from 2003.  The poverty rate, or percent of the populationconsidered poor, increased for the fourth straight year, to 12.7% in 2004 — up from12.5% in 2003, and 11.3% in 2000, its most recent low.  The poverty rate in 2004 is stillwell below its most recent peak of 15.1%, in 1993.  The highest rate recorded was22.4% in 1959, the first year in the Census Bureau series.  Persons are considered poorunder the Census Bureau measure if their family’s pre-tax cash income is below apoverty income threshold for a family of similar size and\n",
            "Processing 95-1081.txt\n"
          ]
        },
        {
          "metadata": {
            "tags": null
          },
          "name": "stderr",
          "output_type": "stream",
          "text": [
            "Setting `pad_token_id` to `eos_token_id`:2 for open-end generation.\n"
          ]
        },
        {
          "metadata": {
            "tags": null
          },
          "name": "stdout",
          "output_type": "stream",
          "text": [
            "Raw model output for 95-1081.txt (first 1000 chars):\n",
            " You are a policy analyst evaluating how evidence-based a policy document is.\n",
            "Below is a policy document. Read it carefully and then apply the rubric that follows.\n",
            "\n",
            "\n",
            "Order Code 95-1081 E\n",
            "Updated November 17, 2004\n",
            "CRS Report for Congress\n",
            "Received through the CRS Web\n",
            "Education Matters:  Earnings by Educational\n",
            "Attainment Over Three Decades\n",
            "Linda Levine\n",
            "Specialist in Labor Economics\n",
            "Domestic Social Policy Division\n",
            "The amount of education that individuals accumulate has an important influence on\n",
            "their experience in the labor market.  Workers with more years of education typicallyencounter less unemployment.  Conversely, as educational attainment increases, earningstypically rise.  These relationships have held up over time, and in some periods, haveintensified.  College graduates’ earnings grew so much more rapidly than those of lesseducated workers during the 1980s, for example, that it prompted ongoing interest in theextent of wage inequality among U.S. workers.1\n",
            "Workers with a bachelor’s\n",
            "Processing 95-1180.txt\n"
          ]
        },
        {
          "metadata": {
            "tags": null
          },
          "name": "stderr",
          "output_type": "stream",
          "text": [
            "Setting `pad_token_id` to `eos_token_id`:2 for open-end generation.\n"
          ]
        },
        {
          "metadata": {
            "tags": null
          },
          "name": "stdout",
          "output_type": "stream",
          "text": [
            "Raw model output for 95-1180.txt (first 1000 chars):\n",
            " You are a policy analyst evaluating how evidence-based a policy document is.\n",
            "Below is a policy document. Read it carefully and then apply the rubric that follows.\n",
            "\n",
            "\n",
            "Order Code 95-1180 EPW\n",
            "Updated January 15, 2004\n",
            "CRS Report for Congress\n",
            "Received through the CRS Web\n",
            "Unemployment Benefits Reduced by\n",
            "Pensions and Social Security: A Fact Sheet\n",
            "Celinda Franco\n",
            "Specialist in Social Legislation\n",
            "Domestic Social Policy Division\n",
            "Background\n",
            "Unemployment compensation (UC) may be reduced by a claimant's retirement\n",
            "income. Specific offset rules vary by state. This offset, which became federal policy in1980, is intended to resolve the tension between the central premise of UC eligibility andthe condition of retirement. That is, to be eligible for UC, a worker must have lost a jobinvoluntarily for economic reasons, be able and willing to work, and be actively engagedin job search. However, a worker who retires leaves a job voluntarily, perhaps leavingthe work force altogether. Caught between these conc\n",
            "Processing 94-740.txt\n"
          ]
        },
        {
          "metadata": {
            "tags": null
          },
          "name": "stderr",
          "output_type": "stream",
          "text": [
            "Setting `pad_token_id` to `eos_token_id`:2 for open-end generation.\n"
          ]
        },
        {
          "metadata": {
            "tags": null
          },
          "name": "stdout",
          "output_type": "stream",
          "text": [
            "Raw model output for 94-740.txt (first 1000 chars):\n",
            " You are a policy analyst evaluating how evidence-based a policy document is.\n",
            "Below is a policy document. Read it carefully and then apply the rubric that follows.\n",
            "\n",
            "\n",
            "Order Code 94-740\n",
            "Updated January 13, 2004\n",
            "CRS Report for Congress\n",
            "Received through the CRS Web\n",
            "Brief Facts About Congressional Pensions\n",
            "Patrick J. Purcell\n",
            "Specialist in Social Legislation\n",
            "Domestic Social Policy Division\n",
            "Summary\n",
            "This report lists the number of retired Members of Congress and the average\n",
            "amount of congressional pension they receive in retirement. It is updated annually.\n",
            "740\n",
            "Brief Facts About Congressional Pensions\n",
            "iki/CRS-94-\n",
            "(as of October 1, 2002)\n",
            "g/w\n",
            "s.or\n",
            "Average\n",
            "Average years\n",
            "akle\n",
            "Number of\n",
            "annual\n",
            "of creditable\n",
            "Average\n",
            "Average\n",
            "membersa\n",
            "pensionb\n",
            "servicec\n",
            "aged\n",
            "contributionse\n",
            "://wiki\n",
            "Members/former Members with\n",
            "ttp\n",
            "annuity beginning in FY2002\n",
            "h\n",
            "Under CSRSf . . . . . . . . . . . 2\n",
            "$35,544\n",
            "13.7\n",
            "63.9\n",
            "$36,547\n",
            "Under FERSg . . . . . . . . . . . 3\n",
            "$17,592\n",
            "12.9\n",
            "58.7\n",
            "$26,116\n",
            "Members/former Members withannuity beginn\n",
            "Processing 94-114.txt\n"
          ]
        },
        {
          "metadata": {
            "tags": null
          },
          "name": "stderr",
          "output_type": "stream",
          "text": [
            "Setting `pad_token_id` to `eos_token_id`:2 for open-end generation.\n"
          ]
        },
        {
          "metadata": {
            "tags": null
          },
          "name": "stdout",
          "output_type": "stream",
          "text": [
            "Raw model output for 94-114.txt (first 1000 chars):\n",
            " You are a policy analyst evaluating how evidence-based a policy document is.\n",
            "Below is a policy document. Read it carefully and then apply the rubric that follows.\n",
            "\n",
            "\n",
            "Order Code 94-114 EPW\n",
            "Updated January 8, 2004\n",
            "CRS Report for Congress\n",
            "Received through the CRS Web\n",
            "Social Security: Coverage of\n",
            "Household Workers - A Fact Sheet\n",
            "Laura Haltzel1\n",
            "Domestic Social Policy Division\n",
            "On October 22, 1994, President Clinton signed legislation (P.L. 103-387) that\n",
            "changed Social Security coverage of household workers. Before 1994, household servicewas considered covered for Social Security tax and benefit purposes if the worker waspaid $50 or more in cash in a calendar quarter. The new law changed the threshold to ayearly amount and raised it (to $1,000 in 1994, indexed thereafter to average wage growth— it became $1,100 in 1998, $1,200 in 2000, $1,300 in 2001, and $1,400 in 2003, whereit remains for 2004). In addition, the new law exempted most domestic workers underage 18, and provided that Social Sec\n",
            "Processing 94-593EPW.txt\n"
          ]
        },
        {
          "metadata": {
            "tags": null
          },
          "name": "stderr",
          "output_type": "stream",
          "text": [
            "Setting `pad_token_id` to `eos_token_id`:2 for open-end generation.\n"
          ]
        },
        {
          "metadata": {
            "tags": null
          },
          "name": "stdout",
          "output_type": "stream",
          "text": [
            "Raw model output for 94-593EPW.txt (first 1000 chars):\n",
            " You are a policy analyst evaluating how evidence-based a policy document is.\n",
            "Below is a policy document. Read it carefully and then apply the rubric that follows.\n",
            "\n",
            "\n",
            "Order Code 94-593 EPW\n",
            "Updated September 8, 2003\n",
            "CRS Report for Congress\n",
            "Received through the CRS Web\n",
            "Social Security: Where Do Surplus Taxes Go\n",
            "and How Are They Used?\n",
            "Geoffrey Kollmann\n",
            "Domestic Social Policy Division\n",
            "Summary\n",
            "Most of the costs of the Social Security program are financed by the payroll taxes\n",
            "workers pay on their wages and self-employment income. A smaller amount is financedby part of the income tax some recipients pay on their Social Security benefits. Thesetaxes are paid to the federal government and, along with other forms of revenue,become part of the government’s operating cash pool, commonly referred to as the U.S.treasury. Once received, they become indistinguishable from other monies received bythe government. The trust funds receive credit for these monies in the form of federalsecurities issued to th\n",
            "Processing 95-188.txt\n"
          ]
        },
        {
          "metadata": {
            "tags": null
          },
          "name": "stderr",
          "output_type": "stream",
          "text": [
            "Setting `pad_token_id` to `eos_token_id`:2 for open-end generation.\n"
          ]
        },
        {
          "metadata": {
            "tags": null
          },
          "name": "stdout",
          "output_type": "stream",
          "text": [
            "Raw model output for 95-188.txt (first 1000 chars):\n",
            " You are a policy analyst evaluating how evidence-based a policy document is.\n",
            "Below is a policy document. Read it carefully and then apply the rubric that follows.\n",
            "\n",
            "\n",
            "Order Code 95-188 EPW\n",
            "Updated August 5, 2003\n",
            "CRS Report for Congress\n",
            "Received through the CRS Web\n",
            "Social Security Notch Issue: A Summary\n",
            "Geoffrey Kollmann\n",
            "Domestic Social Policy Division\n",
            "Summary\n",
            "The Social Security Amendments of 1977 (P.L. 95-216) substantially altered the\n",
            "way Social Security benefits are computed.  The changes were effective beginning withpeople who became eligible in 1979.  For retirees, this meant people born after 1916.Many of those born in the 5- to 15-year period after 1916 – so-called “notch babies” –have complained that the changes in the rules caused their benefits to be lower thanthose of retirees who were born before and after them.  A number of legislative attemptshave been made over the years to modify the rules, but none have been successful.  Acongressionally mandated commission recently stud\n",
            "Processing 95-178EPW.txt\n"
          ]
        },
        {
          "metadata": {
            "tags": null
          },
          "name": "stderr",
          "output_type": "stream",
          "text": [
            "Setting `pad_token_id` to `eos_token_id`:2 for open-end generation.\n"
          ]
        },
        {
          "metadata": {
            "tags": null
          },
          "name": "stdout",
          "output_type": "stream",
          "text": [
            "Raw model output for 95-178EPW.txt (first 1000 chars):\n",
            " You are a policy analyst evaluating how evidence-based a policy document is.\n",
            "Below is a policy document. Read it carefully and then apply the rubric that follows.\n",
            "\n",
            "\n",
            "Order Code 95-178 EPW\n",
            "Updated July 24, 2003\n",
            "CRS Report for Congress\n",
            "Received through the CRS Web\n",
            "Legal Services Corporation:\n",
            "Basic Facts and Current Status\n",
            "Carmen Solomon-Fears\n",
            "Specialist in Social Legislation\n",
            "Domestic Social Policy Division\n",
            "Summary\n",
            "The Legal Services Corporation (LSC) is a private nonprofit, federally funded\n",
            "corporation that helps provide legal assistance to low-income people in civil matters.Although the authorization of appropriations for the Corporation expired at the end ofFY1980, the LSC has operated for the past 23 years under annual appropriations laws.P.L. 108-7, consolidated appropriations for FY2003, increased LSC funding to $338.8million for FY2003. Current funding still remains below the Corporation’s highest levelof $400 million in FY1994 and FY1995. For FY2004, the Bush Administration againre\n",
            "Processing 94-211.txt\n"
          ]
        },
        {
          "metadata": {
            "tags": null
          },
          "name": "stderr",
          "output_type": "stream",
          "text": [
            "Setting `pad_token_id` to `eos_token_id`:2 for open-end generation.\n"
          ]
        },
        {
          "metadata": {
            "tags": null
          },
          "name": "stdout",
          "output_type": "stream",
          "text": [
            "Raw model output for 94-211.txt (first 1000 chars):\n",
            " You are a policy analyst evaluating how evidence-based a policy document is.\n",
            "Below is a policy document. Read it carefully and then apply the rubric that follows.\n",
            "\n",
            "\n",
            "Order Code 94-211 EPW\n",
            "Updated January 27, 2003\n",
            "CRS Report for Congress\n",
            "Received through the CRS Web\n",
            "The Low-Income Home Energy \n",
            "Assistance Program (LIHEAP)\n",
            "Emilie Stoltzfus\n",
            "Analyst in Social Legislation\n",
            "Domestic Social Policy Division\n",
            "Summary\n",
            "The Low-Income Home Energy Assistance program (LIHEAP), established in 1981\n",
            "by Title XXVI of P.L. 97-35 and currently authorized through FY2004, is a block grantprogram under which the federal government gives states and other jurisdictions annualgrants to operate home energy assistance programs for low-income households. Themost current Department of Health and Human Services (HHS) data show an estimated3.9 million households received winter heating/crisis assistance in FY2000.  Accordingto a survey done by the National Energy Assistance Directors Association (whichrepresents state LI\n",
            "Processing 94-28EPW.txt\n"
          ]
        },
        {
          "metadata": {
            "tags": null
          },
          "name": "stderr",
          "output_type": "stream",
          "text": [
            "Setting `pad_token_id` to `eos_token_id`:2 for open-end generation.\n"
          ]
        },
        {
          "metadata": {
            "tags": null
          },
          "name": "stdout",
          "output_type": "stream",
          "text": [
            "Raw model output for 94-28EPW.txt (first 1000 chars):\n",
            " You are a policy analyst evaluating how evidence-based a policy document is.\n",
            "Below is a policy document. Read it carefully and then apply the rubric that follows.\n",
            "\n",
            "\n",
            "Order Code 94-28 EPW\n",
            "Updated January 2, 2003\n",
            "CRS Report for Congress\n",
            "Received through the CRS Web\n",
            "Social Security and Medicare Taxes and\n",
            "Premiums: Fact Sheet\n",
            "Geoffrey Kollmann\n",
            "Domestic Social Policy Division\n",
            "Taxes:  Financing for Social Security—Old Age, Survivors, and Disability Insurance\n",
            "(OASDI)—and the Hospital Insurance (HI) part of Medicare is provided primarily bytaxes levied on wages and net self-employment income.  They are referred to as FICAtaxes (for Federal Insurance Contributions Act) and SECA taxes (for Self-EmploymentContributions Act).  The FICA tax is paid by employees and employers; the SECA tax ispaid by the self-employed (about 96% of the work force is required to pay them).  Bothhave three components:  OASI, DI, and HI.  The FICA tax was first levied in 1937 at arate of 1% (for both employee and employe\n",
            "Processing 94-622.txt\n"
          ]
        },
        {
          "metadata": {
            "tags": null
          },
          "name": "stderr",
          "output_type": "stream",
          "text": [
            "Setting `pad_token_id` to `eos_token_id`:2 for open-end generation.\n"
          ]
        },
        {
          "metadata": {
            "tags": null
          },
          "name": "stdout",
          "output_type": "stream",
          "text": [
            "Raw model output for 94-622.txt (first 1000 chars):\n",
            " You are a policy analyst evaluating how evidence-based a policy document is.\n",
            "Below is a policy document. Read it carefully and then apply the rubric that follows.\n",
            "\n",
            "\n",
            "Order Code 94-622\n",
            "Updated June 24, 2002\n",
            "CRS Report for Congress\n",
            "Received through the CRS Web\n",
            "Social Security:  Raising the Retirement Age\n",
            "Background and Issues\n",
            "Geoffrey Kollmann\n",
            "Domestic Social Policy Division\n",
            "Summary\n",
            "The Social Security “full retirement age” — the age at which retired workers, aged\n",
            "622\n",
            "spouses, or surviving aged spouses receive benefits that are not reduced for “early”retirement — will gradually rise from 65 to 67 beginning with people who attain age 62in 2000 (i.e., those born in 1938).  Early retirement benefits will still be available\n",
            "iki/CRS-94-\n",
            "beginning at age 62 (age 60 for aged widows and widowers), but at lower levels.\n",
            "g/w\n",
            "To help solve Social Security’s long-range financing problems, it has been\n",
            "s.or\n",
            "proposed that these ages be raised further.  Bills introduced in the last five Congresses\n",
            "akle\n",
            "wo\n",
            "Processing 92-56.txt\n"
          ]
        },
        {
          "metadata": {
            "tags": null
          },
          "name": "stderr",
          "output_type": "stream",
          "text": [
            "Setting `pad_token_id` to `eos_token_id`:2 for open-end generation.\n"
          ]
        },
        {
          "metadata": {
            "tags": null
          },
          "name": "stdout",
          "output_type": "stream",
          "text": [
            "Raw model output for 92-56.txt (first 1000 chars):\n",
            " You are a policy analyst evaluating how evidence-based a policy document is.\n",
            "Below is a policy document. Read it carefully and then apply the rubric that follows.\n",
            "\n",
            "\n",
            "Order Code 92-56 A\n",
            "CRS Report for Congress\n",
            "Received through the CRS Web\n",
            "The “Son of Sam” Case: \n",
            "First Amendment Analysis\n",
            " and Legislative Implications\n",
            "Updated February 27, 2002\n",
            "-name redacted-\n",
            "Legislative Attorney\n",
            "American Law Division\n",
            "Congressional Research Service ˜ The Library of Congress\n",
            "\n",
            "The “Son of Sam” Case: First Amendment Analysis\n",
            "and Legislative Implications\n",
            "Summary\n",
            "In Simon & Schuster, Inc. v. Members of the New York State Crime Victims\n",
            "Board, the United States Supreme Court held that New York State’s “Son of Sam”law was inconsistent with the First Amendment’s guarantee of freedom of speech andpress.  The Son of Sam law, in the Court’s words, “requires that an accused orconvicted criminal’s income from works describing his crime be deposited in anescrow account.  These funds are then made available to the victims\n",
            "Processing 95-1050.txt\n"
          ]
        },
        {
          "metadata": {
            "tags": null
          },
          "name": "stderr",
          "output_type": "stream",
          "text": [
            "Setting `pad_token_id` to `eos_token_id`:2 for open-end generation.\n"
          ]
        },
        {
          "metadata": {
            "tags": null
          },
          "name": "stdout",
          "output_type": "stream",
          "text": [
            "Raw model output for 95-1050.txt (first 1000 chars):\n",
            " You are a policy analyst evaluating how evidence-based a policy document is.\n",
            "Below is a policy document. Read it carefully and then apply the rubric that follows.\n",
            "\n",
            "\n",
            "Order Code 95-1050\n",
            "CRS Report for Congress\n",
            "Received through the CRS Web\n",
            "Terrorism at Home and Abroad: \n",
            "  Applicable Federal and State\n",
            " Criminal Laws\n",
            "Updated September 24, 2001\n",
            "-name redacted-\n",
            "Senior Specialist\n",
            "American Law Division\n",
            "Congressional Research Service ˜ The Library of Congress\n",
            "\n",
            "Terrorism at Home and Abroad:  Applicable Federal\n",
            "and State Criminal Laws\n",
            "Summary\n",
            "Terrorists’ attacks on the World Trade Center, the Pentagon, the Murrah\n",
            "building in Oklahoma City and the American Embassies in Kenya and Tanzania havestimulated demands that the terrorists responsible and those like them be brought tojustice.  American criminal law already proscribes many of these acts of terrorism andthere have been proposals to expand that coverage.  This is a brief overview of thestate and federal laws which now prohibit terrorism in this\n",
            "Processing 94-83.txt\n"
          ]
        },
        {
          "metadata": {
            "tags": null
          },
          "name": "stderr",
          "output_type": "stream",
          "text": [
            "Setting `pad_token_id` to `eos_token_id`:2 for open-end generation.\n"
          ]
        },
        {
          "metadata": {
            "tags": null
          },
          "name": "stdout",
          "output_type": "stream",
          "text": [
            "Raw model output for 94-83.txt (first 1000 chars):\n",
            " You are a policy analyst evaluating how evidence-based a policy document is.\n",
            "Below is a policy document. Read it carefully and then apply the rubric that follows.\n",
            "\n",
            "\n",
            "Order Code 94-83 EPW\n",
            "Updated February 22, 2001\n",
            "CRS Report for Congress\n",
            "Received through the CRS Web\n",
            "Individual Retirement Accounts: A Fact Sheet\n",
            "Paul J. Graney\n",
            "Analyst in Social Legislation\n",
            "Domestic Social Policy Division\n",
            "Background\n",
            "Individual retirement accounts (IRAs), established by the Employee Retirement\n",
            "Income Security Act of 1974 (P.L. 93-406) to promote retirement saving, were limited atfirst to workers (and spouses) who lacked employer pension coverage.  Income tax wasdeferred on both contributions and investment earnings.  Annual contributions were limitedto the smaller of $1,500 or 15% of earnings.  Eligibility was expanded to all workers andtheir spouses by the Economic Recovery Tax Act of 1981 (P.L. 97-34).  Annualcontributions were limited to the smaller of $2,000 or 100% of earnings.  The Tax ReformAct of 198\n",
            "Processing 95-206EPW.txt\n"
          ]
        },
        {
          "metadata": {
            "tags": null
          },
          "name": "stderr",
          "output_type": "stream",
          "text": [
            "Setting `pad_token_id` to `eos_token_id`:2 for open-end generation.\n"
          ]
        },
        {
          "metadata": {
            "tags": null
          },
          "name": "stdout",
          "output_type": "stream",
          "text": [
            "Raw model output for 95-206EPW.txt (first 1000 chars):\n",
            " You are a policy analyst evaluating how evidence-based a policy document is.\n",
            "Below is a policy document. Read it carefully and then apply the rubric that follows.\n",
            "\n",
            "\n",
            "Order Code 95-206 EPW\n",
            "Updated March 20, 2002\n",
            "CRS Report for Congress\n",
            "Received through the CRS Web\n",
            "Social Security’s Treatment Under the\n",
            "Federal Budget: A Summary\n",
            "Updated by Dawn Nuschler1\n",
            "Domestic Social Policy Division\n",
            "Summary\n",
            "Social Security’s treatment in the federal budget is often confusing.  Legislation\n",
            "enacted in 1983, 1985 and 1990 excluded the program from official budget calculationsand largely exempted it from procedures for controlling budget revenues and outlays.However, because Social Security represents more than a fifth of the government’srevenues and outlays, it is often included in summaries of the government’s financialflows, or what is referred to as the “unified” budget.  It is also confusing because peoplemistakenly perceive that the program’s removal from the budget changed how its fundsare handled.  \n",
            "Processing 97-1058.txt\n"
          ]
        },
        {
          "metadata": {
            "tags": null
          },
          "name": "stderr",
          "output_type": "stream",
          "text": [
            "Setting `pad_token_id` to `eos_token_id`:2 for open-end generation.\n"
          ]
        },
        {
          "metadata": {
            "tags": null
          },
          "name": "stdout",
          "output_type": "stream",
          "text": [
            "Raw model output for 97-1058.txt (first 1000 chars):\n",
            " You are a policy analyst evaluating how evidence-based a policy document is.\n",
            "Below is a policy document. Read it carefully and then apply the rubric that follows.\n",
            "\n",
            "\n",
            "Kazakhstan: Recent Developments and U.S. Interests\n",
            "July 22, 2013\n",
            "            (97-1058)\n",
            "          \n",
            "\n",
            "\n",
            "Contents\n",
            "\n",
            "Political Background\n",
            "The April 2011 Presidential Election\n",
            "The January 2012 Legislative Election\n",
            "Post-Election Developments\n",
            "Terrorism and Unrest in Kazakhstan\n",
            "Human Rights\n",
            "Kazakhstan's Presidency of the OSCE\n",
            "Economic Developments\n",
            "Energy\n",
            "Foreign Policy and Defense\n",
            "Armed Forces\n",
            "Nuclear Non-Proliferation\n",
            "U.S. Policy\n",
            "Counter-Terrorism Support\n",
            "\n",
            "\n",
            "Figures\n",
            "\n",
            "Figure 1. Map of Kazakhstan with Gas and Oil Pipelines\n",
            "\n",
            "\n",
            "\n",
            "Summary\n",
            "Kazakhstan is an important power in Central Asia by virtue of its geographic location, large territory, ample natural resources, and economic growth, but it faces ethnic, political, and other challenges to stability. Kazakhstan gained independence at the end of 1991 after the break-up of the former Soviet U\n",
            "Processing 97-1057.txt\n"
          ]
        },
        {
          "metadata": {
            "tags": null
          },
          "name": "stderr",
          "output_type": "stream",
          "text": [
            "Setting `pad_token_id` to `eos_token_id`:2 for open-end generation.\n"
          ]
        },
        {
          "metadata": {
            "tags": null
          },
          "name": "stdout",
          "output_type": "stream",
          "text": [
            "Raw model output for 97-1057.txt (first 1000 chars):\n",
            " You are a policy analyst evaluating how evidence-based a policy document is.\n",
            "Below is a policy document. Read it carefully and then apply the rubric that follows.\n",
            "\n",
            "\n",
            "1057A Bankruptcy Primer: Liquidation and Reorganization Under the U.S. Bankruptcy Code\n",
            "January 28, 2005\n",
            "              (97-1057)\n",
            "            \n",
            "\n",
            "\n",
            "Contents\n",
            "\n",
            "Introduction: Capsule History of the U.S. Bankruptcy Laws\n",
            "Structure of the U.S. Bankruptcy Code\n",
            "Overview of the U.S. Bankruptcy Code Provisions Governing Liquidation and Reorganization\n",
            "I. Case Administration\n",
            "A. Who May Be a Debtor?\n",
            "B. Commencement of a Case\n",
            "1. Voluntary Cases\n",
            "2. Involuntary Cases\n",
            "C. Abstention\n",
            "D. Debtor's Transactions with Attorneys\n",
            "E. Meeting of Creditors And Equity Security Holders\n",
            "F. Examination of the Debtor and Self-Incrimination\n",
            "G. Conversion from One Chapter to Another\n",
            "1. Effect of Conversion\n",
            "2. Conversion from Chapter 7\n",
            "3. Conversion from Chapter 11\n",
            "4. Conversion from Chapter 13\n",
            "H. Dismissal\n",
            "1. Effect of Dismissal\n",
            "2. Dismissal of a Chapter 7 Case\n",
            "3.\n",
            "Processing 96-727C.txt\n"
          ]
        },
        {
          "metadata": {
            "tags": null
          },
          "name": "stderr",
          "output_type": "stream",
          "text": [
            "Setting `pad_token_id` to `eos_token_id`:2 for open-end generation.\n"
          ]
        },
        {
          "metadata": {
            "tags": null
          },
          "name": "stdout",
          "output_type": "stream",
          "text": [
            "Raw model output for 96-727C.txt (first 1000 chars):\n",
            " You are a policy analyst evaluating how evidence-based a policy document is.\n",
            "Below is a policy document. Read it carefully and then apply the rubric that follows.\n",
            "\n",
            "\n",
            "\n",
            "\n",
            "\n",
            "\n",
            "\n",
            "\n",
            "\n",
            "\n",
            "Now use this rubric to evaluate:\n",
            "\n",
            "Use the rubric below to score the policy document on five dimensions of evidence-based policymaking.\n",
            "Each dimension should receive a score from 0 to 3, where:\n",
            "\n",
            "0 = No evidence of the dimension\n",
            "1 = Minimal or implicit evidence\n",
            "2 = Moderate or partial evidence\n",
            "3 = Clear, strong, and explicit evidence\n",
            "\n",
            "### Dimensions:\n",
            "\n",
            "1. Use of Empirical Research\n",
            "- 0: No references to empirical evidence or data\n",
            "- 1: Vague or anecdotal references (e.g., “studies show”)\n",
            "- 2: Clear empirical support, but limited sourcing\n",
            "- 3: Multiple, clearly cited, high-quality sources (e.g., peer-reviewed, systematic reviews)\n",
            "\n",
            "2. Formal Evidence-Gathering Process\n",
            "- 0: No structured data gathering\n",
            "- 1: Informal or anecdotal input\n",
            "- 2: Basic assessments (e.g., internal reports, cost estimates)\n",
            "- 3: Formal tools (e.g., R\n",
            "Processing 96-584.txt\n"
          ]
        },
        {
          "metadata": {
            "tags": null
          },
          "name": "stderr",
          "output_type": "stream",
          "text": [
            "Setting `pad_token_id` to `eos_token_id`:2 for open-end generation.\n"
          ]
        },
        {
          "metadata": {
            "tags": null
          },
          "name": "stdout",
          "output_type": "stream",
          "text": [
            "Raw model output for 96-584.txt (first 1000 chars):\n",
            " You are a policy analyst evaluating how evidence-based a policy document is.\n",
            "Below is a policy document. Read it carefully and then apply the rubric that follows.\n",
            "\n",
            "\n",
            "Order Code 96-584 F\n",
            "CRS Report for Congress\n",
            "Received through the CRS Web\n",
            "The Baltic States: \n",
            " U.S. Policy Concerns\n",
            "Updated August 13, 2004\n",
            "-na-e redacted-\n",
            "Specialist in European Affairs\n",
            "Foreign Affairs and National Defense Division\n",
            "Congressional Research Service ˜ The Library of Congress\n",
            "\n",
            "The Baltic States: U.S. Policy Concerns\n",
            "Summary\n",
            "This report provides background and analysis on the political and economic\n",
            "situations on Lithuania, Latvia, and Estonia (commonly collectively referred to as theBaltic states), their foreign policies, and U.S. policy toward them.  The Baltic statesachieved their long-held dream of full independence from the Soviet Union in theaftermath of the failed August 1991 coup by Soviet hard-liners.  Since 1991, thethese three countries have made great strides in building democracies and free marketecon\n",
            "Processing 96-708.txt\n"
          ]
        },
        {
          "metadata": {
            "tags": null
          },
          "name": "stderr",
          "output_type": "stream",
          "text": [
            "Setting `pad_token_id` to `eos_token_id`:2 for open-end generation.\n"
          ]
        },
        {
          "metadata": {
            "tags": null
          },
          "name": "stdout",
          "output_type": "stream",
          "text": [
            "Raw model output for 96-708.txt (first 1000 chars):\n",
            " You are a policy analyst evaluating how evidence-based a policy document is.\n",
            "Below is a policy document. Read it carefully and then apply the rubric that follows.\n",
            "\n",
            "Conference Committee and Related \n",
            "May 21, 2021 \n",
            "Procedures: An Introduction \n",
            "Elizabeth Rybicki \n",
            "The House and Senate must pass the same bill or joint resolution in precisely the same form \n",
            "Specialist on Congress and \n",
            "before it can be presented to the President. Once both houses have passed the same measure, they \n",
            "the Legislative Process \n",
            "can resolve their differences over the text of that measure either through an exchange of \n",
            "\n",
            "amendments between the houses or through the creation of a conference committee. \n",
            "\n",
            "The House and Senate each have an opportunity to amend the other chamber’s amendments to a bill; thus, there can be House amendments to Senate amendments to House amendments to a Senate bill. If either chamber accepts the other’s amendments, the legislative process is complete. Alternatively, each house may reach the st\n",
            "Processing 96-647.txt\n"
          ]
        },
        {
          "metadata": {
            "tags": null
          },
          "name": "stderr",
          "output_type": "stream",
          "text": [
            "Setting `pad_token_id` to `eos_token_id`:2 for open-end generation.\n"
          ]
        },
        {
          "metadata": {
            "tags": null
          },
          "name": "stdout",
          "output_type": "stream",
          "text": [
            "Raw model output for 96-647.txt (first 1000 chars):\n",
            " You are a policy analyst evaluating how evidence-based a policy document is.\n",
            "Below is a policy document. Read it carefully and then apply the rubric that follows.\n",
            "\n",
            "\n",
            "Water Infrastructure Financing: History of EPA Appropriations\n",
            "Updated April 10, 2019\n",
            "            (96-647)\n",
            "          Jump to Main Text of Report\n",
            "\n",
            "\n",
            "\n",
            "Contents\n",
            "\n",
            "Introduction\n",
            "Summary of Water Infrastructure Appropriations\n",
            "Historical Funding Developments\n",
            "Special Purpose Project Grants\n",
            "Local Cost Share on Special Purpose Grants\n",
            "Additional Subsidization\n",
            "Noninfrastructure Grants\n",
            "Appropriations Chronology\n",
            "FY1986, FY1987\n",
            "FY1988\n",
            "FY1989\n",
            "FY1990\n",
            "FY1991\n",
            "FY1992\n",
            "FY1993\n",
            "FY1994\n",
            "FY1995\n",
            "FY1996\n",
            "FY1997\n",
            "FY1998\n",
            "FY1999\n",
            "FY2000\n",
            "FY2001\n",
            "FY2002\n",
            "FY2003\n",
            "FY2004\n",
            "FY2005\n",
            "FY2006\n",
            "FY2007\n",
            "FY2008\n",
            "FY2009\n",
            "FY2009 Supplemental Appropriations, the American Recovery and Reinvestment Act\n",
            "FY2010\n",
            "FY2011\n",
            "FY2012\n",
            "FY2013\n",
            "FY2014\n",
            "FY2015\n",
            "FY2016\n",
            "FY2017\n",
            "FY2018\n",
            "FY2019\n",
            "FY2020\n",
            "\n",
            "\n",
            "Figures\n",
            "\n",
            "Figure 1. EPA Water Infrastructure Annual Appropriations: FY1986-FY2019\n",
            "\n",
            "\n",
            "\n",
            "Tables\n",
            "\n",
            "Table 1. EPA Wate\n",
            "Processing 96-649.txt\n"
          ]
        },
        {
          "metadata": {
            "tags": null
          },
          "name": "stderr",
          "output_type": "stream",
          "text": [
            "Setting `pad_token_id` to `eos_token_id`:2 for open-end generation.\n"
          ]
        },
        {
          "metadata": {
            "tags": null
          },
          "name": "stdout",
          "output_type": "stream",
          "text": [
            "Raw model output for 96-649.txt (first 1000 chars):\n",
            " You are a policy analyst evaluating how evidence-based a policy document is.\n",
            "Below is a policy document. Read it carefully and then apply the rubric that follows.\n",
            "\n",
            "\n",
            "Order Code 96-649 E\n",
            "Updated December 19, 2001\n",
            "CRS Report for Congress\n",
            "Received through the CRS Web\n",
            "Small Business Administration: \n",
            "Overview and Issues\n",
            "Bruce K. Mulock\n",
            "Specialist in Government and Business\n",
            "Government and Finance Division\n",
            "Summary\n",
            "Legislation creating the Small Business Administration (SBA) was signed into law\n",
            "(P.L. 83-163) in 1953, early in President Eisenhower’s first term in office.  Successor toseveral agencies created during the “Great Depression” and World War II, the SBA wascreated on a “temporary basis” to address several perceived problems facing smallbusiness—problems that were accentuated by large-scale mobilization of Americanindustry for national security.  The enabling law declared it to be the policy of Congressthat the federal government should aid, counsel, assist, and protect insofar as is po\n",
            "Processing 96-727.txt\n"
          ]
        },
        {
          "metadata": {
            "tags": null
          },
          "name": "stderr",
          "output_type": "stream",
          "text": [
            "Setting `pad_token_id` to `eos_token_id`:2 for open-end generation.\n"
          ]
        },
        {
          "metadata": {
            "tags": null
          },
          "name": "stdout",
          "output_type": "stream",
          "text": [
            "Raw model output for 96-727.txt (first 1000 chars):\n",
            " You are a policy analyst evaluating how evidence-based a policy document is.\n",
            "Below is a policy document. Read it carefully and then apply the rubric that follows.\n",
            "\n",
            "\n",
            "Order Code 96-727 C\n",
            "Updated January 13, 2005\n",
            "CRS Report for Congress\n",
            "Received through the CRS Web\n",
            "Congressional Statistics: Bills Introduced and\n",
            "Laws Enacted, 1947-2004\n",
            "Jennifer E. Manning\n",
            "Information Research Specialist\n",
            "Information Research Division\n",
            "Summary\n",
            "The Congressional Research Service receives many requests for statistics on the\n",
            "numbers of bills introduced and the numbers of laws enacted in each Congress.Although this information is available in several sources, it is nowhere set out in asimple table.  It is generally included in tables with many other indicators ofcongressional activity.  This report is designed to fill the need for a simple tabulation oflegislative workload.  It provides  the numbers of bills and joint resolutions introduced,and the numbers of public and private laws enacted, from the 80th Congres\n",
            "Processing 97-1007F.txt\n"
          ]
        },
        {
          "metadata": {
            "tags": null
          },
          "name": "stderr",
          "output_type": "stream",
          "text": [
            "Setting `pad_token_id` to `eos_token_id`:2 for open-end generation.\n"
          ]
        },
        {
          "metadata": {
            "tags": null
          },
          "name": "stdout",
          "output_type": "stream",
          "text": [
            "Raw model output for 97-1007F.txt (first 1000 chars):\n",
            " You are a policy analyst evaluating how evidence-based a policy document is.\n",
            "Below is a policy document. Read it carefully and then apply the rubric that follows.\n",
            "\n",
            "\n",
            "Order Code 97-1007 F\n",
            "Updated August 31, 2005\n",
            "CRS Report for Congress\n",
            "Received through the CRS Web\n",
            "Nuclear Testing and Comprehensive Test\n",
            "Ban: Chronology Starting September 1992\n",
            "Jonathan Medalia\n",
            "Specialist in National Defense\n",
            "Foreign Affairs, Defense, and Trade  Division\n",
            "Summary\n",
            "The Comprehensive Test Ban Treaty (CTBT) bans “any nuclear weapon test explo-\n",
            "sion or any other nuclear explosion.”  It was opened for signature in September 1996.In September 1997, President Clinton submitted it to the Senate, which rejected it inOctober 1999.  The Bush Administration has not requested Senate consideration of thetreaty.  This report details actions on nuclear testing and the treaty starting with the mostrecent U.S. test in September 1992.  It complements CRS Issue Brief IB92099, NuclearWeapons:  Comprehensive Test Ban Treaty and Nuc\n",
            "Processing 96-892.txt\n"
          ]
        },
        {
          "metadata": {
            "tags": null
          },
          "name": "stderr",
          "output_type": "stream",
          "text": [
            "Setting `pad_token_id` to `eos_token_id`:2 for open-end generation.\n"
          ]
        },
        {
          "metadata": {
            "tags": null
          },
          "name": "stdout",
          "output_type": "stream",
          "text": [
            "Raw model output for 96-892.txt (first 1000 chars):\n",
            " You are a policy analyst evaluating how evidence-based a policy document is.\n",
            "Below is a policy document. Read it carefully and then apply the rubric that follows.\n",
            "\n",
            "\n",
            "Order Code 96-892 GOV\n",
            "Updated July 17, 2003\n",
            "CRS Report for Congress\n",
            "Received through the CRS Web\n",
            "Federal Prison Industries: UNICOR\n",
            "JoAnne O’Bryant\n",
            "Domestic Social Policy Division\n",
            "Summary\n",
            "UNICOR, the trade name for Federal Prison Industries, Inc. (FPI), is the\n",
            "government corporation that employs offenders incarcerated in federal prisons.1Established in 1934, UNICOR provides job training opportunities to federal inmates byproducing goods and services for federal agencies. By statute, UNICOR products andservices must be purchased by federal agencies (a requirement often referred to as“superpreference,” “mandatory source,” or “sole source”) and are not available for salein interstate commerce or to non-federal entities. Federal agencies can obtain productsfrom the private sector through a waiver issued by UNICOR if the corporat\n",
            "Processing 96-938.txt\n"
          ]
        },
        {
          "metadata": {
            "tags": null
          },
          "name": "stderr",
          "output_type": "stream",
          "text": [
            "Setting `pad_token_id` to `eos_token_id`:2 for open-end generation.\n"
          ]
        },
        {
          "metadata": {
            "tags": null
          },
          "name": "stdout",
          "output_type": "stream",
          "text": [
            "Raw model output for 96-938.txt (first 1000 chars):\n",
            " You are a policy analyst evaluating how evidence-based a policy document is.\n",
            "Below is a policy document. Read it carefully and then apply the rubric that follows.\n",
            "\n",
            "\n",
            "Order Code 96-938 GOV\n",
            "CRS Report for Congress\n",
            "Received through the CRS Web\n",
            "Special Rules in the House of Representatives\n",
            "Updated February 27, 2003\n",
            "-name redacted-, -name redacted-, and -name redacted-\n",
            "Senior Specialist in the Legislative Process\n",
            "Government and Finance Division\n",
            "Congressional Research Service ˜ The Library of Congress\n",
            "\n",
            "Special Rules in the House of Representatives\n",
            "Summary\n",
            "The House Rules Committee enables the House to debate and vote on major\n",
            "legislation that is not privileged for floor consideration and that cannot pass byunanimous consent or under suspension of the rules. The Committee reportsresolutions, known as rules or special rules, to make individual bills in order for flooraction and to affect the procedures for debating, amending, and voting on the bills,usually in Committee of the Whole. \n",
            "Open rule\n",
            "Processing 96-950.txt\n"
          ]
        },
        {
          "metadata": {
            "tags": null
          },
          "name": "stderr",
          "output_type": "stream",
          "text": [
            "Setting `pad_token_id` to `eos_token_id`:2 for open-end generation.\n"
          ]
        },
        {
          "metadata": {
            "tags": null
          },
          "name": "stdout",
          "output_type": "stream",
          "text": [
            "Raw model output for 96-950.txt (first 1000 chars):\n",
            " You are a policy analyst evaluating how evidence-based a policy document is.\n",
            "Below is a policy document. Read it carefully and then apply the rubric that follows.\n",
            "\n",
            "\n",
            "\n",
            "\n",
            " \n",
            "RICO: A Brief Sketch \n",
            "Updated August 3, 2021 \n",
            "Congressional Research Service \n",
            "https://crsreports.congress.gov \n",
            "96-950 \n",
            "\n",
            "\n",
            "\n",
            "\n",
            "RICO: A Brief Sketch \n",
            " \n",
            "Summary Congress enacted the federal Racketeer Influenced and Corrupt Organization (RICO) provisions as part of the Organized Crime Control Act of 1970. Despite its name and origin, RICO is not limited to “mobsters” or members of “organized crime” as those terms are popularly understood. Rather, it covers those activities that Congress felt characterized the conduct of organized crime, no matter who actually engages in them. \n",
            "RICO proscribes no conduct that is not otherwise criminal. Instead, under certain circumstances, it enlarges the civil and criminal consequences of a list of state and federal crimes. \n",
            "In simple terms, RICO condemns \n",
            "(1) any person \n",
            "(2) who \n",
            "(a) uses for\n",
            "Processing 96-900ENR.txt\n"
          ]
        },
        {
          "metadata": {
            "tags": null
          },
          "name": "stderr",
          "output_type": "stream",
          "text": [
            "Setting `pad_token_id` to `eos_token_id`:2 for open-end generation.\n"
          ]
        },
        {
          "metadata": {
            "tags": null
          },
          "name": "stdout",
          "output_type": "stream",
          "text": [
            "Raw model output for 96-900ENR.txt (first 1000 chars):\n",
            " You are a policy analyst evaluating how evidence-based a policy document is.\n",
            "Below is a policy document. Read it carefully and then apply the rubric that follows.\n",
            "\n",
            "\n",
            "Order Code 96-900 ENR\n",
            "Updated May 31, 2002\n",
            "CRS Report for Congress\n",
            "Received through the CRS Web\n",
            "Farm Commodity Legislation: \n",
            " Chronology, 1933-2002\n",
            "Edited by Geoffrey S. Becker\n",
            "Specialist in Agricultural Policy\n",
            "Resources, Science, and Industry Division\n",
            "Summary\n",
            "Since 1933, Congress has required the U.S. Department of Agriculture (USDA) to\n",
            "administer various price and income support programs for U.S. farmers.  Some standingauthority for these programs is provided by three permanent laws, from 1938, 1948, and1949.  However, Congress frequently alters the basic provisions of these laws.  Theomnibus law now guiding farm support (through 2007) is the Farm Security and RuralInvestment Act of 2002.  This report will be updated if events warrant.\n",
            "Historical Notes\n",
            "Farm commodity programs were a product of the Great Depression.  After\n",
            "Processing 97-1055.txt\n"
          ]
        },
        {
          "metadata": {
            "tags": null
          },
          "name": "stderr",
          "output_type": "stream",
          "text": [
            "Setting `pad_token_id` to `eos_token_id`:2 for open-end generation.\n"
          ]
        },
        {
          "metadata": {
            "tags": null
          },
          "name": "stdout",
          "output_type": "stream",
          "text": [
            "Raw model output for 97-1055.txt (first 1000 chars):\n",
            " You are a policy analyst evaluating how evidence-based a policy document is.\n",
            "Below is a policy document. Read it carefully and then apply the rubric that follows.\n",
            "\n",
            "\n",
            "Turkmenistan: Recent Developments and U.S. Interests\n",
            "December 12, 2013\n",
            "            (97-1055)\n",
            "          \n",
            "\n",
            "\n",
            "Contents\n",
            "\n",
            "Political Background\n",
            "Human Rights\n",
            "Economic Conditions\n",
            "Energy\n",
            "Foreign Policy and Defense\n",
            "U.S. Policy\n",
            "Contributions to Counter-Terrorism and Counter-Narcotics\n",
            "\n",
            "\n",
            "Figures\n",
            "\n",
            "Figure 1. Map of Turkmenistan\n",
            "\n",
            "\n",
            "\n",
            "Tables\n",
            "\n",
            "Table 1. U.S. Budgeted Assistance to Turkmenistan by Objective and Year, FY1992-FY2001\n",
            "Table 2. US Budgeted Assistance to Turkmenistan by Objective and Year, FY2002-FY2010 (and Totals, FY1992-FY2010)\n",
            "\n",
            "\n",
            "\n",
            "Summary\n",
            "When Turkmenistan gained independence with the dissolution of the Soviet Union at the end of 1991, the former republic's president and head of the Turkmen Communist Party, Saparamurad Niyazov, retained power. He was reelected president in another uncontested race in 1992, and a referendum in 1994 e\n",
            "Processing 97-104.txt\n"
          ]
        },
        {
          "metadata": {
            "tags": null
          },
          "name": "stderr",
          "output_type": "stream",
          "text": [
            "Setting `pad_token_id` to `eos_token_id`:2 for open-end generation.\n"
          ]
        },
        {
          "metadata": {
            "tags": null
          },
          "name": "stdout",
          "output_type": "stream",
          "text": [
            "Raw model output for 97-104.txt (first 1000 chars):\n",
            " You are a policy analyst evaluating how evidence-based a policy document is.\n",
            "Below is a policy document. Read it carefully and then apply the rubric that follows.\n",
            "\n",
            "\n",
            "\n",
            "\n",
            " \n",
            "Manufacturing Extension Partnership Program: An Overview \n",
            "Wendy H. Schacht Specialist in Science and Technology Policy \n",
            "November 20, 2013 \n",
            "Congressional Research Service \n",
            "7-5700 \n",
            "www.crs.gov \n",
            "97-104 \n",
            "\n",
            "\n",
            "Manufacturing Extension Partnership Program: An Overview \n",
            " \n",
            "Summary \n",
            "The Hollings Manufacturing Partnership (MEP) is a program of regional centers that assist smaller, U.S.-based manufacturing companies in identifying and adopting new technologies. Operating under the auspices of the National Institute of Standards and Technology (NIST), centers in all 50 states and Puerto Rico provide technical and managerial assistance to firms. Federal funding is matched by nonfederal sources. Existing resources in government, business, and academia are leveraged while the program endeavors to build on current state and local activitie\n",
            "Processing 97-1045.txt\n"
          ]
        },
        {
          "metadata": {
            "tags": null
          },
          "name": "stderr",
          "output_type": "stream",
          "text": [
            "Setting `pad_token_id` to `eos_token_id`:2 for open-end generation.\n"
          ]
        },
        {
          "metadata": {
            "tags": null
          },
          "name": "stdout",
          "output_type": "stream",
          "text": [
            "Raw model output for 97-1045.txt (first 1000 chars):\n",
            " You are a policy analyst evaluating how evidence-based a policy document is.\n",
            "Below is a policy document. Read it carefully and then apply the rubric that follows.\n",
            "\n",
            "\n",
            "House Rules and Precedents Affecting Committee Markup Procedures\n",
            "August 26, 2015\n",
            "            (97-1045)\n",
            "          Jump to Main Text of Report\n",
            "\n",
            "\n",
            "Background\n",
            "The rules of the House of Representatives are ambiguous in many respects to the procedures that its standing committees are to follow when they mark up legislation. Clause 1(a)(1) of Rule XI generally provides that \"[t]he Rules of the House are the rules of its committees and subcommittees so far as applicable.\" At the same time, clause 2(a) of the same rule directs each standing committee to adopt written rules governing its own actions that \"may not be inconsistent with the Rules of the House or with those provisions of law having the force and effect of Rules of the House.\"\n",
            "Two problems arise from this ambiguity. First, the House rules do not clearly define which House \n",
            "Processing 97-1038.txt\n"
          ]
        },
        {
          "metadata": {
            "tags": null
          },
          "name": "stderr",
          "output_type": "stream",
          "text": [
            "Setting `pad_token_id` to `eos_token_id`:2 for open-end generation.\n"
          ]
        },
        {
          "metadata": {
            "tags": null
          },
          "name": "stdout",
          "output_type": "stream",
          "text": [
            "Raw model output for 97-1038.txt (first 1000 chars):\n",
            " You are a policy analyst evaluating how evidence-based a policy document is.\n",
            "Below is a policy document. Read it carefully and then apply the rubric that follows.\n",
            "\n",
            "\n",
            "Order Code 97-1038 EPW\n",
            "Updated June 28, 2004\n",
            "CRS Report for Congress\n",
            "Received through the CRS Web\n",
            "Welfare Recipients and Workforce Laws\n",
            "-name redacted-\n",
            "Domestic Social Policy Division\n",
            "Summary\n",
            "Work requirements of the 1996 welfare law (P.L. 104-193) and discussions about\n",
            "reauthorization of the program of Temporary Assistance for Needy Families (TANF)have raised questions about the application of basic labor and employment tax laws toTANF recipients.  The most controversial issue has been the status of persons assignedto “workfare” programs, in which recipients work in exchange for their TANF benefits.The U.S. District Court for the Northern District of New York held on March 1, 2004,that participants in the Work Experience Program (WEP) are “employees”entitled towage and hour protections of the Fair Labor Standards Act (FLSA\n",
            "Processing 96-816C.txt\n"
          ]
        },
        {
          "metadata": {
            "tags": null
          },
          "name": "stderr",
          "output_type": "stream",
          "text": [
            "Setting `pad_token_id` to `eos_token_id`:2 for open-end generation.\n"
          ]
        },
        {
          "metadata": {
            "tags": null
          },
          "name": "stdout",
          "output_type": "stream",
          "text": [
            "Raw model output for 96-816C.txt (first 1000 chars):\n",
            " You are a policy analyst evaluating how evidence-based a policy document is.\n",
            "Below is a policy document. Read it carefully and then apply the rubric that follows.\n",
            "\n",
            "\n",
            "Order Code 96-816 C \n",
            "CRS Report for Congress\n",
            "Received through the CRS Web\n",
            "Countries of the World and International\n",
            "Organizations:  Sources of Information\n",
            "Updated June 11, 2003\n",
            "Barbara A. Salazar\n",
            "Information Research Specialist\n",
            "Information Research Division\n",
            "Congressional Research Service ˜ The Library of Congress\n",
            "\n",
            "Countries of the World and\n",
            "International Organizations:\n",
            "Sources of Information\n",
            "Summary\n",
            "This report provides a selection of materials for locating information on foreign\n",
            "countries and international organizations.  In the general information section, itpresents sources giving an overview of politics, economics, and recent history.  Aspecialized information section cites sources on human rights, immigration,international organizations, military strengths, terrorism, and other topics.  Includedare titles of some of the\n",
            "Processing 96-769.txt\n"
          ]
        },
        {
          "metadata": {
            "tags": null
          },
          "name": "stderr",
          "output_type": "stream",
          "text": [
            "Setting `pad_token_id` to `eos_token_id`:2 for open-end generation.\n"
          ]
        },
        {
          "metadata": {
            "tags": null
          },
          "name": "stdout",
          "output_type": "stream",
          "text": [
            "Raw model output for 96-769.txt (first 1000 chars):\n",
            " You are a policy analyst evaluating how evidence-based a policy document is.\n",
            "Below is a policy document. Read it carefully and then apply the rubric that follows.\n",
            "\n",
            "\n",
            "Capital Gains Taxes: An Overview\n",
            "Updated March 16, 2018\n",
            "            (96-769)\n",
            "          Jump to Main Text of Report\n",
            "\n",
            "\n",
            "\n",
            "Contents\n",
            "\n",
            "What Are Capital Gains and How Are They Taxed?\n",
            "A Brief History\n",
            "Revenue Effects\n",
            "Impact on Effective Tax Burdens\n",
            "Issues: Efficiency, Growth, Distribution, and Complexity\n",
            "\n",
            "\n",
            "Summary\n",
            "Taxes on long-term capital gains (on assets held for at least a year) are imposed at rates that correspond to pre-2018 brackets: a 0% rate for those whose income placed them in the regular 15% bracket or less (now in regular bracket of 12%), and 15% for taxpayers in higher brackets, except for those in the 39.6% bracket. The tax revision adopted in December 2018 (P.L. 115-97) maintained the links to the income level corresponding to the rate brackets in prior law. Therefore, the tax rates on capital gains are affected only \n",
            "Processing 97-1027F.txt\n"
          ]
        },
        {
          "metadata": {
            "tags": null
          },
          "name": "stderr",
          "output_type": "stream",
          "text": [
            "Setting `pad_token_id` to `eos_token_id`:2 for open-end generation.\n"
          ]
        },
        {
          "metadata": {
            "tags": null
          },
          "name": "stdout",
          "output_type": "stream",
          "text": [
            "Raw model output for 97-1027F.txt (first 1000 chars):\n",
            " You are a policy analyst evaluating how evidence-based a policy document is.\n",
            "Below is a policy document. Read it carefully and then apply the rubric that follows.\n",
            "\n",
            "\n",
            "Order Code 97-1027 F\n",
            "CRS Report for Congress\n",
            "Received through the CRS Web\n",
            "Nunn-Lugar Cooperative Threat Reduction\n",
            "Programs: Issues for Congress\n",
            "Updated March 6, 2002\n",
            "Amy F. Woolf\n",
            "Specialist in National Defense \n",
            "Foreign Affairs, Defense, and Trade Division\n",
            "Congressional Research Service ˜ The Library of Congress\n",
            "\n",
            "ABSTRACT\n",
            "Congress established the Nunn-Lugar Cooperative Threat Reduction Program (CTR) in 1991so that the United States could assist the former Soviet republics with the safe and securetransportation, storage, and elimination of nuclear weapons.  The CTR program seeks toreduce the threat these weapons pose to the United States and to reduce the proliferation risksfrom nuclear weapons and materials in the former Soviet Union. Congress has authorized andappropriated around $300-$400 million each year for CTR.  Most i\n",
            "Processing 97-1040.txt\n"
          ]
        },
        {
          "metadata": {
            "tags": null
          },
          "name": "stderr",
          "output_type": "stream",
          "text": [
            "Setting `pad_token_id` to `eos_token_id`:2 for open-end generation.\n"
          ]
        },
        {
          "metadata": {
            "tags": null
          },
          "name": "stdout",
          "output_type": "stream",
          "text": [
            "Raw model output for 97-1040.txt (first 1000 chars):\n",
            " You are a policy analyst evaluating how evidence-based a policy document is.\n",
            "Below is a policy document. Read it carefully and then apply the rubric that follows.\n",
            "\n",
            "\n",
            "\n",
            "\n",
            "Order Code 97-1040 GOV\n",
            "Updated January 24, 2007\n",
            "Campaign Financing: Highlights and\n",
            "Chronology of Current Federal Law\n",
            "Joseph E. Cantor\n",
            "Specialist in American National Government\n",
            "Government and Finance Division\n",
            "Summary\n",
            "Current law governing financial activity of federal election campaigns is based on\n",
            "two principal statutes: the Federal Election Campaign Act (FECA) of 1971, as amendedin 1974, 1976, 1979, and 2002, and the Revenue Act of 1971.  These laws were enactedto remedy a widely perceived failure of prior law — the Corrupt Practices Act of 1925 — and in response to alleged abuses over the years.  This report summarizes majorprovisions of federal law and offers a chronology of key legislative and judicial actions.\n",
            "The FECA features prohibitions on union and corporate spending, limits on\n",
            "individual, interest group, and p\n",
            "Processing 97-1048.txt\n"
          ]
        },
        {
          "metadata": {
            "tags": null
          },
          "name": "stderr",
          "output_type": "stream",
          "text": [
            "Setting `pad_token_id` to `eos_token_id`:2 for open-end generation.\n"
          ]
        },
        {
          "metadata": {
            "tags": null
          },
          "name": "stdout",
          "output_type": "stream",
          "text": [
            "Raw model output for 97-1048.txt (first 1000 chars):\n",
            " You are a policy analyst evaluating how evidence-based a policy document is.\n",
            "Below is a policy document. Read it carefully and then apply the rubric that follows.\n",
            "\n",
            "\n",
            "Order Code 97-1048 EPW\n",
            "Updated March 22, 2005\n",
            "CRS Report for Congress\n",
            "Received through the CRS Web\n",
            "The Title X Family Planning Program\n",
            "Sharon Kearney Coleman\n",
            "Technical Information Specialist\n",
            "Knowledge Services Group\n",
            "Summary\n",
            "The federal government provides grants for voluntary family planning services\n",
            "through the family planning program, Title X of the Public Health Service Act.  Theprogram, enacted in 1970, is the only federal program devoted solely to family planningand related preventive health services.  Although the authorization for Title X endedwith FY1985, funding for the program has been provided through bills that provideappropriations for the Departments of Labor, Health and Human Services, andEducation, and Related Agencies.  The Title X program received funding of $285.9million for FY2005 and the Administration \n",
            "Processing 97-1011.txt\n"
          ]
        },
        {
          "metadata": {
            "tags": null
          },
          "name": "stderr",
          "output_type": "stream",
          "text": [
            "Setting `pad_token_id` to `eos_token_id`:2 for open-end generation.\n"
          ]
        },
        {
          "metadata": {
            "tags": null
          },
          "name": "stdout",
          "output_type": "stream",
          "text": [
            "Raw model output for 97-1011.txt (first 1000 chars):\n",
            " You are a policy analyst evaluating how evidence-based a policy document is.\n",
            "Below is a policy document. Read it carefully and then apply the rubric that follows.\n",
            "\n",
            "\n",
            "\n",
            "\n",
            " \n",
            " \n",
            "  \n",
            "Salaries of Members of Congress: Recent Actions and Historical Tables \n",
            "Updated September 26, 2024 \n",
            "Congressional Research Service \n",
            "https://crsreports.congress.gov \n",
            "97-1011 \n",
            "\n",
            "\n",
            " \n",
            "Congressional Research Service  \n",
            "\n",
            "SUMMARY \n",
            " \n",
            "Salaries of Members of Congress: Recent Actions and Historical Tables \n",
            "Congress is required by Article I, Section 6, of the Constitution to determine its own pay. In the past, Congress periodically enacted specific legislation to alter its pay; the last time this occurred affected pay in 1991. More recently, pay has been determined pursuant to laws establishing formulas for automatic adjustments. \n",
            "The Ethics Reform Act of 1989 established the current automatic annual adjustment formula, which is based on changes in private sector wages as measured by the Employment Cost Index (ECI). The adjustment\n",
            "Processing 97-1025.txt\n"
          ]
        },
        {
          "metadata": {
            "tags": null
          },
          "name": "stderr",
          "output_type": "stream",
          "text": [
            "Setting `pad_token_id` to `eos_token_id`:2 for open-end generation.\n"
          ]
        },
        {
          "metadata": {
            "tags": null
          },
          "name": "stdout",
          "output_type": "stream",
          "text": [
            "Raw model output for 97-1025.txt (first 1000 chars):\n",
            " You are a policy analyst evaluating how evidence-based a policy document is.\n",
            "Below is a policy document. Read it carefully and then apply the rubric that follows.\n",
            "\n",
            "\n",
            "Cybercrime: An Overview of the Federal Computer Fraud and Abuse Statute and Related Federal Criminal Laws\n",
            "October 15, 2014\n",
            "            (97-1025)\n",
            "          \n",
            "\n",
            "\n",
            "Contents\n",
            "\n",
            "Introduction\n",
            "Trespassing in Government Cyberspace (18 U.S.C. 1030(a)(3))\n",
            "Intent\n",
            "Unauthorized Access\n",
            "Affects the Use\n",
            "Jurisdiction\n",
            "Extraterritorial Jurisdiction\n",
            "Penalties\n",
            "Juveniles\n",
            "Overview\n",
            "Other Crimes\n",
            "Attempt\n",
            "Conspiracy\n",
            "Accomplices as Principals\n",
            "Limited Application and State law\n",
            "Obtaining Information by Unauthorized Computer Access (18 U.S.C. 1030(a)(2))\n",
            "Intent\n",
            "Unauthorized Access\n",
            "Obtaining Information and Jurisdiction\n",
            "Consequences\n",
            "Penalties\n",
            "Sentencing Guidelines\n",
            "Forfeiture\n",
            "Restitution\n",
            "Civil Cause of Action\n",
            "Attempt, Conspiracy, and Complicity\n",
            "Other Crimes\n",
            "Interstate or Foreign Transportation of Stolen Property\n",
            "Theft of Federal Government Information\n",
            "Economic \n",
            "Processing 96-979.txt\n"
          ]
        },
        {
          "metadata": {
            "tags": null
          },
          "name": "stderr",
          "output_type": "stream",
          "text": [
            "Setting `pad_token_id` to `eos_token_id`:2 for open-end generation.\n"
          ]
        },
        {
          "metadata": {
            "tags": null
          },
          "name": "stdout",
          "output_type": "stream",
          "text": [
            "Raw model output for 96-979.txt (first 1000 chars):\n",
            " You are a policy analyst evaluating how evidence-based a policy document is.\n",
            "Below is a policy document. Read it carefully and then apply the rubric that follows.\n",
            "\n",
            "\n",
            "\n",
            "\n",
            "Order Code 96-979\n",
            "Updated September 5, 2008\n",
            "Health Insurance:  Uninsured  \n",
            " by State, 2005-2007\n",
            "Chris L. Peterson and April Grady\n",
            "Domestic Social Policy Division\n",
            "Summary\n",
            "Based on data from the Census Bureau’s Current Population Survey (CPS), an\n",
            "estimated 45.7 million people lacked health insurance coverage in 2007, representing15.3% of the civilian noninstitutionalized U.S. population.\n",
            "When comparing state-level health insurance estimates, a three-year average is used\n",
            "to increase their reliability.  During 2005-2007, the estimated average percentageuninsured was 15.5% nationally, ranging from a low of 8.3% in Massachusetts to a highof 24.5% in Texas.  States in the Midwest and Northeast generally had lower uninsuredrates than those in the South and West.\n",
            "These state-level estimates must be interpreted with caution because\n",
            "Processing 96-891EPW.txt\n"
          ]
        },
        {
          "metadata": {
            "tags": null
          },
          "name": "stderr",
          "output_type": "stream",
          "text": [
            "Setting `pad_token_id` to `eos_token_id`:2 for open-end generation.\n"
          ]
        },
        {
          "metadata": {
            "tags": null
          },
          "name": "stdout",
          "output_type": "stream",
          "text": [
            "Raw model output for 96-891EPW.txt (first 1000 chars):\n",
            " You are a policy analyst evaluating how evidence-based a policy document is.\n",
            "Below is a policy document. Read it carefully and then apply the rubric that follows.\n",
            "\n",
            "\n",
            "Order Code 96-891 EPW\n",
            "Updated November 7, 2002\n",
            "CRS Report for Congress\n",
            "Received through the CRS Web\n",
            "Health Insurance Coverage: \n",
            "Characteristics of the Insured and \n",
            "Uninsured Populations in 2001\n",
            "Chris L. Peterson\n",
            "Analyst in Social Legislation\n",
            "Domestic Social Policy Division\n",
            "Summary\n",
            "The number of Americans without health insurance rose in 2001 to 41.2 million\n",
            "Americans (14.6%) — an increase of 1.4 million people from 2000.  This reverses atwo-year trend of falling numbers of uninsured.  Approximately 1.3 million fewerAmericans had employment-based health coverage, compared to 2000, according to theCensus Bureau.  From 1999 to 2000, this number had risen by 2.9 million.  In spite ofthe decline, most Americans (64.1%) still receive their health insurance through anemployer.  Yet full-time, full-year workers and their family mem\n",
            "Processing 96-809A.txt\n"
          ]
        },
        {
          "metadata": {
            "tags": null
          },
          "name": "stderr",
          "output_type": "stream",
          "text": [
            "Setting `pad_token_id` to `eos_token_id`:2 for open-end generation.\n"
          ]
        },
        {
          "metadata": {
            "tags": null
          },
          "name": "stdout",
          "output_type": "stream",
          "text": [
            "Raw model output for 96-809A.txt (first 1000 chars):\n",
            " You are a policy analyst evaluating how evidence-based a policy document is.\n",
            "Below is a policy document. Read it carefully and then apply the rubric that follows.\n",
            "\n",
            "\n",
            "\n",
            "\n",
            "Order Code 96-809 A\n",
            "Lobbying Regulations on\n",
            " Non-Profit Organizations\n",
            "Updated May 7, 2008\n",
            "Jack H. Maskell\n",
            "Legislative Attorney\n",
            "American Law Division\n",
            "\n",
            "Lobbying Regulations on Non-Profit Organizations\n",
            "Summary\n",
            "Public charities, religious groups, social welfare organizations and other non-\n",
            "profit organizations which are exempt from federal income taxation are not generallyprohibited from engaging in all lobbying or public policy advocacy activities merelybecause of their tax-exempt status.  There may, however, be some lobbyinglimitations on certain organizations, depending on their tax-exempt status and/or theirparticipation as federal grantees in federal programs.  Additionally, organizations(other than churches or their affiliates) which meet specified threshold expenditurerequirements on lobbying activities and which engag\n",
            "Processing 97-1009.txt\n"
          ]
        },
        {
          "metadata": {
            "tags": null
          },
          "name": "stderr",
          "output_type": "stream",
          "text": [
            "Setting `pad_token_id` to `eos_token_id`:2 for open-end generation.\n"
          ]
        },
        {
          "metadata": {
            "tags": null
          },
          "name": "stdout",
          "output_type": "stream",
          "text": [
            "Raw model output for 97-1009.txt (first 1000 chars):\n",
            " You are a policy analyst evaluating how evidence-based a policy document is.\n",
            "Below is a policy document. Read it carefully and then apply the rubric that follows.\n",
            "\n",
            "\n",
            "Order Code 97-1009 GOV\n",
            "Updated January 22, 2003\n",
            "CRS Report for Congress\n",
            "Received through the CRS Web\n",
            "House and Senate Vacancies: \n",
            "How Are They Filled?\n",
            "Sula P. Richardson and Thomas H. Neale\n",
            "Analysts in American National Government\n",
            "Government and Finance Division\n",
            "Summary\n",
            "Vacancies in Congress occur due to the death, resignation, or declination (refusal\n",
            "to serve) of a Senator or Representative, or as the result of expulsion or exclusion byeither house.  The Constitution requires that vacancies in both houses be filled by specialelection, but in the case of the Senate, it empowers state legislatures to provide fortemporary appointments by the state governor until special elections can be scheduled.\n",
            "In practice, most Senate vacancies are filled by such appointments in the interim,\n",
            "while all House vacancies are filled by special\n",
            "Processing 96-500EPW.txt\n"
          ]
        },
        {
          "metadata": {
            "tags": null
          },
          "name": "stderr",
          "output_type": "stream",
          "text": [
            "Setting `pad_token_id` to `eos_token_id`:2 for open-end generation.\n"
          ]
        },
        {
          "metadata": {
            "tags": null
          },
          "name": "stdout",
          "output_type": "stream",
          "text": [
            "Raw model output for 96-500EPW.txt (first 1000 chars):\n",
            " You are a policy analyst evaluating how evidence-based a policy document is.\n",
            "Below is a policy document. Read it carefully and then apply the rubric that follows.\n",
            "\n",
            "\n",
            "Order Code 96-500 EPW\n",
            "CRS Report for Congress\n",
            "Received through the CRS Web\n",
            "Flexible Spending Accounts and\n",
            "Medical Savings Accounts:\n",
            "A Comparison\n",
            "Updated July 21, 2003\n",
            "Bob Lyke and Chris L. Peterson\n",
            "Domestic Social Policy Division\n",
            "Congressional Research Service ˜ The Library of Congress\n",
            "\n",
            "Flexible Spending Accounts and \n",
            "Medical Savings Accounts: A Comparison\n",
            "Summary\n",
            "Flexible spending accounts (FSAs) are employer-established benefit plans that\n",
            "reimburse employees for specified expenses; they first began in the 1970s.  Medicalsavings accounts (MSAs) are tax-advantaged individual savings accounts that canalso be used for unreimbursed expenses; they became available under ademonstration that began in 1997.  President Bush’s FY2004 budget proposedchanges to FSAs and a permanent extension and substantial expansion of MSAs thatare i\n",
            "Processing 96-397.txt\n"
          ]
        },
        {
          "metadata": {
            "tags": null
          },
          "name": "stderr",
          "output_type": "stream",
          "text": [
            "Setting `pad_token_id` to `eos_token_id`:2 for open-end generation.\n"
          ]
        },
        {
          "metadata": {
            "tags": null
          },
          "name": "stdout",
          "output_type": "stream",
          "text": [
            "Raw model output for 96-397.txt (first 1000 chars):\n",
            " You are a policy analyst evaluating how evidence-based a policy document is.\n",
            "Below is a policy document. Read it carefully and then apply the rubric that follows.\n",
            "\n",
            "Canada-U.S. Relations \n",
            "February 10, 2021 \n",
            "The United States and Canada typically enjoy close relations. The two countries are bound together by a common 5,525-mile border—“the longest undefended border in the world”—as \n",
            "Peter J. Meyer \n",
            "well as by shared history and values. They have extensive trade and investment ties and long-\n",
            "Specialist in Latin \n",
            "standing mutual security commitments under NATO and North American Aerospace Defense \n",
            "American and Canadian \n",
            "Command (NORAD). Canada and the United States also cooperate closely on intelligence and \n",
            "Affairs \n",
            "law enforcement matters, placing a particular focus on border security and cybersecurity \n",
            "\n",
            "initiatives in recent years. \n",
            "Ian F. Fergusson Specialist in International \n",
            "Although Canada’s foreign and defense policies usually are aligned with those of the United \n",
            "Trade and Finance\n",
            "Processing 96-452.txt\n"
          ]
        },
        {
          "metadata": {
            "tags": null
          },
          "name": "stderr",
          "output_type": "stream",
          "text": [
            "Setting `pad_token_id` to `eos_token_id`:2 for open-end generation.\n"
          ]
        },
        {
          "metadata": {
            "tags": null
          },
          "name": "stdout",
          "output_type": "stream",
          "text": [
            "Raw model output for 96-452.txt (first 1000 chars):\n",
            " You are a policy analyst evaluating how evidence-based a policy document is.\n",
            "Below is a policy document. Read it carefully and then apply the rubric that follows.\n",
            "\n",
            "\n",
            "Voting and Quorum Procedures in the Senate\n",
            "Updated March 26, 2020\n",
            "            (96-452)\n",
            "          Jump to Main Text of Report\n",
            "\n",
            "\n",
            "\n",
            "Contents\n",
            "\n",
            "Introduction\n",
            "The Quorum Requirement and Quorum Calls\n",
            "Routine Quorum Calls\n",
            "Live Quorum Calls, Failed Quorums\n",
            "Securing and Conducting Roll Call Votes\n",
            "Voice and Division Votes\n",
            "Ordering the Yeas and Nays\n",
            "Conducting Roll Call Votes\n",
            "The Motion to Reconsider\n",
            "Simple and Extraordinary Majorities\n",
            "Quorum Requirements, Roll Call Votes, and the Prospect of a Filibuster\n",
            "\n",
            "\n",
            "Summary\n",
            "The Constitution states that \"a Majority of each [House] shall constitute a quorum to do business.\" The Senate presumes that it is complying with this requirement and that a quorum is always present unless and until the absence of a quorum is suggested or demonstrated. This presumption allows the Senate to conduct its business\n",
            "Processing 96-463.txt\n"
          ]
        },
        {
          "metadata": {
            "tags": null
          },
          "name": "stderr",
          "output_type": "stream",
          "text": [
            "Setting `pad_token_id` to `eos_token_id`:2 for open-end generation.\n"
          ]
        },
        {
          "metadata": {
            "tags": null
          },
          "name": "stdout",
          "output_type": "stream",
          "text": [
            "Raw model output for 96-463.txt (first 1000 chars):\n",
            " You are a policy analyst evaluating how evidence-based a policy document is.\n",
            "Below is a policy document. Read it carefully and then apply the rubric that follows.\n",
            "\n",
            "\n",
            "96-463 -- Country Applicability of the U.S.\n",
            "Normal Trade Relations\n",
            "(Most-Favored-Nation) Status\n",
            "\n",
            "Updated March 24, 2005\n",
            " \n",
            "SummaryThe United States accords permanent\n",
            "normal-trade-relations (NTR) (formerly called most-favored-nation (MFN)) treatment to all its\n",
            "trading partners except two countries to which it is denied by law and ten countries whose NTR\n",
            "status is temporary and subject to the conditions of Title IV of the Trade Act of 1974.\n",
            "\n",
            "\n",
            "\n",
            "\n",
            "\n",
            "Now use this rubric to evaluate:\n",
            "\n",
            "Use the rubric below to score the policy document on five dimensions of evidence-based policymaking.\n",
            "Each dimension should receive a score from 0 to 3, where:\n",
            "\n",
            "0 = No evidence of the dimension\n",
            "1 = Minimal or implicit evidence\n",
            "2 = Moderate or partial evidence\n",
            "3 = Clear, strong, and explicit evidence\n",
            "\n",
            "### Dimensions:\n",
            "\n",
            "1. Use of Empirical Research\n",
            "- 0: No\n",
            "Processing 96-264.txt\n"
          ]
        },
        {
          "metadata": {
            "tags": null
          },
          "name": "stderr",
          "output_type": "stream",
          "text": [
            "Setting `pad_token_id` to `eos_token_id`:2 for open-end generation.\n"
          ]
        },
        {
          "metadata": {
            "tags": null
          },
          "name": "stdout",
          "output_type": "stream",
          "text": [
            "Raw model output for 96-264.txt (first 1000 chars):\n",
            " You are a policy analyst evaluating how evidence-based a policy document is.\n",
            "Below is a policy document. Read it carefully and then apply the rubric that follows.\n",
            "\n",
            "\n",
            "Frequently Asked Questions About Tax-Exempt Organizations\n",
            "May 1, 2015\n",
            "            (96-264)\n",
            "          \n",
            "\n",
            "\n",
            "Contents\n",
            "\n",
            "1. What is a tax-exempt organization?\n",
            "2. What is a nonprofit (not-for-profit) organization?\n",
            "3. What are the differences between Section 501(c)(3) and Section 501(c)(4) organizations?\n",
            "4. Can an organization be related to another organization?\n",
            "5. What is a private foundation?\n",
            "6. When are donations tax deductible as charitable contributions or dues?\n",
            "7. Can tax-exempt organizations lobby?\n",
            "8. Can tax-exempt organizations participate in election activities?\n",
            "9. How do you set up a tax-exempt organization?\n",
            "10. How does an organization lose its tax-exempt status?\n",
            "11. What tax records do organizations have to prepare?\n",
            "12. Are tax-exempt organizations required to disclose information to the public?\n",
            "13. Are there organizati\n",
            "Processing 96-187.txt\n"
          ]
        },
        {
          "metadata": {
            "tags": null
          },
          "name": "stderr",
          "output_type": "stream",
          "text": [
            "Setting `pad_token_id` to `eos_token_id`:2 for open-end generation.\n"
          ]
        },
        {
          "metadata": {
            "tags": null
          },
          "name": "stdout",
          "output_type": "stream",
          "text": [
            "Raw model output for 96-187.txt (first 1000 chars):\n",
            " You are a policy analyst evaluating how evidence-based a policy document is.\n",
            "Below is a policy document. Read it carefully and then apply the rubric that follows.\n",
            "\n",
            "\n",
            "Order Code 96-187\n",
            "Updated May 4, 2006\n",
            "CRS Report for Congress\n",
            "Received through the CRS Web\n",
            "A Comparison of the Pay of Top Executives\n",
            "and Other Workers\n",
            "Linda Levine\n",
            "Specialist in Labor Economics\n",
            "Domestic Social Policy Division\n",
            "Summary\n",
            "Although the reasons may have changed somewhat over time, the level of top\n",
            "executive compensation long has been of interest to policymakers, shareholders, andemployees.  Thus far in 2006, attention principally has centered on the pay of chiefexecutives at corporations whose profits have soared and whose product prices haverisen substantially (e.g., Exxon Mobil), as well as at corporations where shareholdervalue has declined greatly (e.g., Pfizer and AT&T).  Also during the current decade,scrutiny has focused on senior executives who enjoy sizeable pay packages whilemisstating their companies’ f\n",
            "Processing 96-253.txt\n"
          ]
        },
        {
          "metadata": {
            "tags": null
          },
          "name": "stderr",
          "output_type": "stream",
          "text": [
            "Setting `pad_token_id` to `eos_token_id`:2 for open-end generation.\n"
          ]
        },
        {
          "metadata": {
            "tags": null
          },
          "name": "stdout",
          "output_type": "stream",
          "text": [
            "Raw model output for 96-253.txt (first 1000 chars):\n",
            " You are a policy analyst evaluating how evidence-based a policy document is.\n",
            "Below is a policy document. Read it carefully and then apply the rubric that follows.\n",
            "\n",
            "\n",
            "\n",
            "\n",
            "Order Code 96-253 SPR\n",
            "Updated April 28, 2008\n",
            "Cancer Research:  Selected Federal Spending\n",
            "and Morbidity and Mortality Statistics\n",
            "Judith A. Johnson\n",
            "Domestic Social Policy Division\n",
            "Janet Kinzer\n",
            "Knowledge Services Group\n",
            "Table 1 shows federal spending at the National Institutes of Health (NIH) for\n",
            "research on selected cancer sites (i.e., the part of the body in which the cancer presentsitself).  Most cancer research at NIH is conducted by the National Cancer Institute (NCI);NCI amounts are indicated in parentheses (which are a subset of the number above it).The estimate for FY2009 is based on the President’s request.\n",
            "Table 1.  NIH Research Funding for Selected Cancer Sites\n",
            "($ in millions; NCI portion of NIH total is shown in parentheses)\n",
            "FY2004\n",
            "FY2005\n",
            "FY2006\n",
            "FY2007\n",
            "FY2008\n",
            "FY2009\n",
            "Cancer\n",
            "Actual\n",
            "Actual \n",
            "Actual\n",
            "Actual\n",
            "Estimate Est\n",
            "Processing 96-402.txt\n"
          ]
        },
        {
          "metadata": {
            "tags": null
          },
          "name": "stderr",
          "output_type": "stream",
          "text": [
            "Setting `pad_token_id` to `eos_token_id`:2 for open-end generation.\n"
          ]
        },
        {
          "metadata": {
            "tags": null
          },
          "name": "stdout",
          "output_type": "stream",
          "text": [
            "Raw model output for 96-402.txt (first 1000 chars):\n",
            " You are a policy analyst evaluating how evidence-based a policy document is.\n",
            "Below is a policy document. Read it carefully and then apply the rubric that follows.\n",
            "\n",
            "\n",
            " \n",
            "Small Business Innovation Research (SBIR) Program \n",
            "Wendy H. Schacht Specialist in Science and Technology Policy \n",
            "November 14, 2012 \n",
            "Congressional Research Service \n",
            "7-5700 \n",
            "www.crs.gov \n",
            "96-402 \n",
            "CRS Report for CongressPr\n",
            "epared for Members and Committees of Congress  \n",
            "\n",
            "Small Business Innovation Research (SBIR) Program \n",
            " \n",
            "Summary \n",
            "In 1982, the Small Business Innovation Development Act (P.L. 97-219) established Small Business Innovation Research (SBIR) programs within the major federal research and development (R&D) agencies designed to increase participation of small innovative companies in federally funded R&D. Government agencies with R&D budgets of $100 million or more are required to set aside a portion of these funds to finance the SBIR activity. Through FY2009, over 112,500 awards have been made totaling more than $26.\n",
            "Processing 96-548.txt\n"
          ]
        },
        {
          "metadata": {
            "tags": null
          },
          "name": "stderr",
          "output_type": "stream",
          "text": [
            "Setting `pad_token_id` to `eos_token_id`:2 for open-end generation.\n"
          ]
        },
        {
          "metadata": {
            "tags": null
          },
          "name": "stdout",
          "output_type": "stream",
          "text": [
            "Raw model output for 96-548.txt (first 1000 chars):\n",
            " You are a policy analyst evaluating how evidence-based a policy document is.\n",
            "Below is a policy document. Read it carefully and then apply the rubric that follows.\n",
            "\n",
            "\n",
            "The Legislative Process on the Senate Floor: An Introduction\n",
            "Updated July 22, 2019\n",
            "            (96-548)\n",
            "          Jump to Main Text of Report\n",
            "\n",
            "\n",
            "\n",
            "Contents\n",
            "\n",
            "Introduction\n",
            "The Right to Debate\n",
            "Filibusters and Cloture\n",
            "Restraint and Delay\n",
            "Scheduling Legislative Business\n",
            "Routine Agenda Setting\n",
            "Committee Referral and Rule XIV\n",
            "Non-Germane Amendments\n",
            "Unanimous Consent Agreements\n",
            "The Nature of Unanimous Consent Agreements\n",
            "Negotiating Time Agreements\n",
            "Other Unanimous Consent Agreements\n",
            "The Daily Order of Business\n",
            "The Amending Process\n",
            "Quorum Calls and Rollcall Votes\n",
            "Sources of Additional Information\n",
            "\n",
            "\n",
            "Summary\n",
            "The standing rules of the Senate promote deliberation by permitting Senators to debate at length and by precluding a simple majority from ending debate when they are prepared to vote to approve a bill. This right of extended debate p\n",
            "Processing 96-530.txt\n"
          ]
        },
        {
          "metadata": {
            "tags": null
          },
          "name": "stderr",
          "output_type": "stream",
          "text": [
            "Setting `pad_token_id` to `eos_token_id`:2 for open-end generation.\n"
          ]
        },
        {
          "metadata": {
            "tags": null
          },
          "name": "stdout",
          "output_type": "stream",
          "text": [
            "Raw model output for 96-530.txt (first 1000 chars):\n",
            " You are a policy analyst evaluating how evidence-based a policy document is.\n",
            "Below is a policy document. Read it carefully and then apply the rubric that follows.\n",
            "\n",
            "\n",
            "Loss of Federal Pensions for Members of Congress Convicted of Certain Offenses\n",
            "September 12, 2013\n",
            "            (96-530)\n",
            "          \n",
            "\n",
            "\n",
            "Contents\n",
            "\n",
            "Introduction\n",
            "\"Hiss Act\": National Security Offenses\n",
            "Background\n",
            "Hiss Act Provisions Regarding Federal Retirement Annuity Payments\n",
            "Hiss Act Forfeiture and Employee Contributions and Thrift Savings\n",
            "Spouse and Dependent Beneficiaries\n",
            "Federal Pension Annuities and Anti-Corruption Law Violations\n",
            "Background\n",
            "Legislative History—HLOGA\n",
            "Amendments in STOCK Act\n",
            "Operation of the Pension-Loss Provisions\n",
            "Member Contributions and Thrift Savings Plan\n",
            "Spouse and Dependent Children\n",
            "Retroactivity, Ex Post Facto Laws, and other Constitutional Considerations\n",
            "Ex Post Facto Laws\n",
            "Contracts\n",
            "Loss of Pension Annuities and the 27th Amendment\n",
            "\n",
            "\n",
            "Summary\n",
            "Members of Congress may forfeit or lose their congressional pe\n",
            "Processing 96-541.txt\n"
          ]
        },
        {
          "metadata": {
            "tags": null
          },
          "name": "stderr",
          "output_type": "stream",
          "text": [
            "Setting `pad_token_id` to `eos_token_id`:2 for open-end generation.\n"
          ]
        },
        {
          "metadata": {
            "tags": null
          },
          "name": "stdout",
          "output_type": "stream",
          "text": [
            "Raw model output for 96-541.txt (first 1000 chars):\n",
            " You are a policy analyst evaluating how evidence-based a policy document is.\n",
            "Below is a policy document. Read it carefully and then apply the rubric that follows.\n",
            "\n",
            "\n",
            "Order Code 96-541 F\n",
            "Updated June 24, 2002\n",
            "CRS Report for Congress\n",
            "Received through the CRS Web\n",
            "Western Hemisphere Trade Developments\n",
            "-name redacted-\n",
            "Specialist in Trade Relations\n",
            "Foreign Affairs, Defense, and Trade Division\n",
            "Summary\n",
            "The countries of the Western Hemisphere constitute the largest regional market for\n",
            "U.S. exports and the second largest regional market for U.S. foreign direct investments.The growing importance of this region to U.S. economic interests has beencomplemented by the growth of sub-regional integration initiatives such as the NorthAmerican Free Trade Agreement (NAFTA), Mercosur, the Andean Community, theCentral American Common Market, and Caribbean Community.  These groupings havenot only established free trade areas and in some cases customs unions among partnercountries, but are also expanding trade\n",
            "Processing 96-228.txt\n"
          ]
        },
        {
          "metadata": {
            "tags": null
          },
          "name": "stderr",
          "output_type": "stream",
          "text": [
            "Setting `pad_token_id` to `eos_token_id`:2 for open-end generation.\n"
          ]
        },
        {
          "metadata": {
            "tags": null
          },
          "name": "stdout",
          "output_type": "stream",
          "text": [
            "Raw model output for 96-228.txt (first 1000 chars):\n",
            " You are a policy analyst evaluating how evidence-based a policy document is.\n",
            "Below is a policy document. Read it carefully and then apply the rubric that follows.\n",
            "\n",
            "\n",
            "Davis-Bacon: Employment of Helpers on Federal Contract Construction\n",
            "November 26, 2007\n",
            "              (96-228)\n",
            "            \n",
            "\n",
            "\n",
            "Contents\n",
            "\n",
            "Introductory Comment\n",
            "Helpers Under Davis-Bacon: The Context of the Issue\n",
            "A Question of Definition\n",
            "An Industry Perspective\n",
            "A Trade Union Perspective\n",
            "Administrative Reform of the Helper Provisions\n",
            "The Carter Administration Regulations (1979-1981)\n",
            "The Reagan Administration Regulations (1981 ff.)\n",
            "The Proposed Rule (1981)\n",
            "The Final Rule (1982)\n",
            "Litigation (1982-1983)\n",
            "A Helper Rule Is Cleared by the Courts\n",
            "Congressional Interest Continues\n",
            "Legislative Initiatives of the 103rd Congress\n",
            "The Nickles/Craig Objection\n",
            "The DeLay Amendment\n",
            "Legislative Initiatives of the 104th Congress\n",
            "The Labor Department Reconsiders\n",
            "The Suspension Continues (August 1996)\n",
            "A Final Suspension (December 1996)?\n",
            "Indefinite Suspen\n",
            "Processing 96-395.txt\n"
          ]
        },
        {
          "metadata": {
            "tags": null
          },
          "name": "stderr",
          "output_type": "stream",
          "text": [
            "Setting `pad_token_id` to `eos_token_id`:2 for open-end generation.\n"
          ]
        },
        {
          "metadata": {
            "tags": null
          },
          "name": "stdout",
          "output_type": "stream",
          "text": [
            "Raw model output for 96-395.txt (first 1000 chars):\n",
            " You are a policy analyst evaluating how evidence-based a policy document is.\n",
            "Below is a policy document. Read it carefully and then apply the rubric that follows.\n",
            "\n",
            "\n",
            "96-395 -- World Heritage Convention \n",
            "and U.S. National Parks\n",
            "\n",
            "Updated April 24, 2001\n",
            " \n",
            "\n",
            "SummaryOn March 6, 2001, Congressman Don Young introduced H.R. 883, the American\n",
            "Land Sovereignty Act. \n",
            "H.R. 883 requires congressional approval to add any lands owned by the United States to the World Heritage\n",
            "List, a UNESCO-administered list\n",
            "established by the 1972 World Heritage Convention. Two years ago, on May 20, 1999, the House passed (by voice\n",
            "vote) an identical bill also numbered\n",
            "H.R. 883, but the legislation did not pass in the Senate. Sponsors of that bill expressed concern that adding\n",
            "a U.S. site to the U.N. list, which is\n",
            "currently done under executive authority, might not protect the rights of private property owners or the states.  The\n",
            "Clinton Administration and opponents of the\n",
            "bill argued that the designation has no effe\n",
            "Processing 95-896.txt\n"
          ]
        },
        {
          "metadata": {
            "tags": null
          },
          "name": "stderr",
          "output_type": "stream",
          "text": [
            "Setting `pad_token_id` to `eos_token_id`:2 for open-end generation.\n"
          ]
        },
        {
          "metadata": {
            "tags": null
          },
          "name": "stdout",
          "output_type": "stream",
          "text": [
            "Raw model output for 95-896.txt (first 1000 chars):\n",
            " You are a policy analyst evaluating how evidence-based a policy document is.\n",
            "Below is a policy document. Read it carefully and then apply the rubric that follows.\n",
            "\n",
            "\n",
            "\n",
            "\n",
            "Order Code 95-896\n",
            "The Voting Rights Act of 1965,\n",
            "As Amended:  Its History\n",
            "and Current Issues\n",
            "Updated June 12, 2008\n",
            "Garrine P. Laney\n",
            "Analyst in American National Government\n",
            "Domestic Social Policy Division\n",
            "\n",
            "The Voting Rights Act of 1965, As Amended:\n",
            "Its History and Current Issues\n",
            "Summary\n",
            "Several bills have been  introduced in the 110th Congress concerning the Voting\n",
            "Rights Act of 1965 (VRA) that would  rename the short title of the act, and addressits bilingual provisions and issues of deceptive practices and voter intimidationduring elections.  H.R. 745 and S. 188 would rename the short title of the Fannie LouHamer, Rosa Parks, and Coretta Scott King Voting Rights Act Reauthorization andAmendments Act of 2006 (P.L. 109-246), which was enacted on July 27, 2006.  H.R.745 would add the names of Cesar E. Chavez and Barbara C. \n",
            "Processing 95-926.txt\n"
          ]
        },
        {
          "metadata": {
            "tags": null
          },
          "name": "stderr",
          "output_type": "stream",
          "text": [
            "Setting `pad_token_id` to `eos_token_id`:2 for open-end generation.\n"
          ]
        },
        {
          "metadata": {
            "tags": null
          },
          "name": "stdout",
          "output_type": "stream",
          "text": [
            "Raw model output for 95-926.txt (first 1000 chars):\n",
            " You are a policy analyst evaluating how evidence-based a policy document is.\n",
            "Below is a policy document. Read it carefully and then apply the rubric that follows.\n",
            "\n",
            "\n",
            "95-926 -- Regulating Private Pensions:\n",
            "A Brief Summary of ERISA\n",
            "\n",
            "Updated January 15, 2004\n",
            " \n",
            "\n",
            "SummaryThe Employee Retirement Income Security Act of 1974 (ERISA, P.L.\n",
            "93-406) protects the interests of participants and beneficiaries in\n",
            "private-sector employee benefit plans.  It was passed in response to instances in which employers had failed to\n",
            "prudently manage pension funds, had terminated pension plans without\n",
            "sufficient assets to pay the benefits employees had earned, or had created  impediments to earning a pension, such\n",
            "as onerous age and service requirements. ERISA covers a number of\n",
            "fringe benefits provided by employers, but most of its provisions deal with pension plans.  Pension plans sponsored\n",
            "by the federal, state, and local governments, or by churches generally\n",
            "are exempt from ERISA.  (This report will be updated \n",
            "Processing 95-815.txt\n"
          ]
        },
        {
          "metadata": {
            "tags": null
          },
          "name": "stderr",
          "output_type": "stream",
          "text": [
            "Setting `pad_token_id` to `eos_token_id`:2 for open-end generation.\n"
          ]
        },
        {
          "metadata": {
            "tags": null
          },
          "name": "stdout",
          "output_type": "stream",
          "text": [
            "Raw model output for 95-815.txt (first 1000 chars):\n",
            " You are a policy analyst evaluating how evidence-based a policy document is.\n",
            "Below is a policy document. Read it carefully and then apply the rubric that follows.\n",
            "\n",
            "\n",
            "Freedom of Speech and Press: Exceptions to the First Amendment\n",
            "September 8, 2014\n",
            "            (95-815)\n",
            "          \n",
            "\n",
            "\n",
            "Contents\n",
            "\n",
            "Introduction\n",
            "Unprotected Speech\n",
            "Obscenity\n",
            "Child Pornography\n",
            "Fighting Words and True Threats\n",
            "Protected Speech\n",
            "Content-Based Restrictions\n",
            "Prior Restraint\n",
            "Forum Doctrine\n",
            "Non-Content-Based Restrictions\n",
            "Time, Place, and Manner Restrictions\n",
            "Incidental Restrictions\n",
            "Commercial Speech\n",
            "Compelled Speech\n",
            "Commercial Disclosure Requirements\n",
            "Check-off Programs\n",
            "Defamation\n",
            "Speech Harmful to Children\n",
            "Children's First Amendment Rights\n",
            "Speech on Radio and Television\n",
            "Broadcast Radio and Television\n",
            "Cable, Satellite, and Online Radio and Television\n",
            "Freedom of Speech and Government Funding\n",
            "Free Speech Rights of Government Employees and Government Contractors\n",
            "Government Employees\n",
            "Government Contractors\n",
            "Symbolic Speech\n",
            "\n",
            "\n",
            "Summa\n",
            "Processing 95-804.txt\n"
          ]
        },
        {
          "metadata": {
            "tags": null
          },
          "name": "stderr",
          "output_type": "stream",
          "text": [
            "Setting `pad_token_id` to `eos_token_id`:2 for open-end generation.\n"
          ]
        },
        {
          "metadata": {
            "tags": null
          },
          "name": "stdout",
          "output_type": "stream",
          "text": [
            "Raw model output for 95-804.txt (first 1000 chars):\n",
            " You are a policy analyst evaluating how evidence-based a policy document is.\n",
            "Below is a policy document. Read it carefully and then apply the rubric that follows.\n",
            "\n",
            "\n",
            "Obscenity and Indecency: Constitutional Principles and Federal Statutes\n",
            "April 28, 2009\n",
            "              (95-804)\n",
            "            \n",
            "\n",
            "\n",
            "Contents\n",
            "\n",
            "I. Constitutional Principles\n",
            "A. The Miller Test\n",
            "B. Zoning and Licensing of Pornography Dealers\n",
            "C. Nude Dancing\n",
            "II. Federal Obscenity and Indecency Statutes\n",
            "A. Postal Service Provisions\n",
            "B. Dial-a-Porn\n",
            "C. Obscenity Provisions at 18 U.S.C. §§ 1460-1470\n",
            "Section 1460\n",
            "Section 1461\n",
            "Section 1462\n",
            "Section 1463\n",
            "Section 1464\n",
            "Section 1465\n",
            "Section 1466\n",
            "Section 1466A\n",
            "Section 1467\n",
            "Section 1468\n",
            "Section 1469\n",
            "Section 1470\n",
            "D. Cable Television\n",
            "E. The Communications Decency Act of 1996\n",
            "47 U.S.C. § 223(a)\n",
            "47 U.S.C. § 223(d)\n",
            "Reno v. American Civil Liberties Union\n",
            "F. Child Online Protection Act\n",
            "G. Children's Internet Protection Act\n",
            "H. Dot Kids Internet Domain\n",
            "I. Misleading Domain Names on the Internet\n",
            "J. Misleading \n",
            "Processing 95-895.txt\n"
          ]
        },
        {
          "metadata": {
            "tags": null
          },
          "name": "stderr",
          "output_type": "stream",
          "text": [
            "Setting `pad_token_id` to `eos_token_id`:2 for open-end generation.\n"
          ]
        },
        {
          "metadata": {
            "tags": null
          },
          "name": "stdout",
          "output_type": "stream",
          "text": [
            "Raw model output for 95-895.txt (first 1000 chars):\n",
            " You are a policy analyst evaluating how evidence-based a policy document is.\n",
            "Below is a policy document. Read it carefully and then apply the rubric that follows.\n",
            "\n",
            "\n",
            "Order Code 95-895 A\n",
            "CRS Report for Congress\n",
            "Received through the CRS Web\n",
            "State Income Taxation of Military Personnel\n",
            "and United States Citizens\n",
            "Residing Outside of the United States\n",
            "Updated July 24, 2003\n",
            "Kerstin Roper\n",
            "Law Clerk\n",
            "John Luckey\n",
            "Legislative Attorney\n",
            "American Law Division\n",
            "Congressional Research Service ˜ The Library of Congress\n",
            "\n",
            "State Income Taxation of Military Personnel and United\n",
            "States Citizens Residing Outside of the United States\n",
            "Summary\n",
            "This report examines and summarizes the laws of the fifty states and the District\n",
            "of Columbia respecting taxation of income of citizens domiciled within the state butresiding abroad. It has been prepared biennially for many years.\n",
            "This report is divided into an introduction and four sections. The introduction\n",
            "includes a brief summary of pertinent provisions of Federal law, i\n",
            "Processing 95-776.txt\n"
          ]
        },
        {
          "metadata": {
            "tags": null
          },
          "name": "stderr",
          "output_type": "stream",
          "text": [
            "Setting `pad_token_id` to `eos_token_id`:2 for open-end generation.\n"
          ]
        },
        {
          "metadata": {
            "tags": null
          },
          "name": "stdout",
          "output_type": "stream",
          "text": [
            "Raw model output for 95-776.txt (first 1000 chars):\n",
            " You are a policy analyst evaluating how evidence-based a policy document is.\n",
            "Below is a policy document. Read it carefully and then apply the rubric that follows.\n",
            "\n",
            "\n",
            "Order Code 95-776 F\n",
            "Updated September 28, 2001\n",
            "CRS Report for Congress\n",
            "Received through the CRS Web\n",
            "Belarus: Country Background Report\n",
            "-name redacted- \n",
            "Specialist in European Affairs\n",
            "Foreign Affairs, Defense, and Trade Division\n",
            "Summary\n",
            "This short report provides information on Belarus’s history, political and economic\n",
            "situation, human rights record, foreign policy, and U.S. relations with Belarus.  It will beupdated when necessary.\n",
            "History \n",
            "Belarus at a Glance\n",
            "Belarusians are descendants of\n",
            "Slavic tribes that migrated into the\n",
            "Land Area:  80,154 sq. mi., slightly smaller\n",
            "region in the ninth century.  The\n",
            "than Kansas.\n",
            "beginnings of their development as adistinct people can be traced from\n",
            "Population:  10 million (2000 estimate)\n",
            "the 13th century, when the Mongolsconquered Russia and parts of\n",
            "Ethnic Composition: 77.9% Belarusia\n",
            "Processing 95-742.txt\n"
          ]
        },
        {
          "metadata": {
            "tags": null
          },
          "name": "stderr",
          "output_type": "stream",
          "text": [
            "Setting `pad_token_id` to `eos_token_id`:2 for open-end generation.\n"
          ]
        },
        {
          "metadata": {
            "tags": null
          },
          "name": "stdout",
          "output_type": "stream",
          "text": [
            "Raw model output for 95-742.txt (first 1000 chars):\n",
            " You are a policy analyst evaluating how evidence-based a policy document is.\n",
            "Below is a policy document. Read it carefully and then apply the rubric that follows.\n",
            "\n",
            "\n",
            "95-742 -- Unemployment Benefits:  Legislative Issues in the 108th Congress\n",
            "\n",
            "Updated January 27, 2005\n",
            " \n",
            "\n",
            "SummaryChanges in the federal-state unemployment compensation (UC) system were\n",
            "considered during the 108th Congress\n",
            "as legislation was introduced to reform and expand the UC system.  The 107th Congress enacted the\n",
            "Temporary Extended Unemployment Compensation\n",
            "(TEUC) program (P.L. 107-147), which  included a 13-week extension of UC benefits, an $8 billion distribution\n",
            "to states, and 13 additional weeks of extended\n",
            "UC benefits in high unemployment states.  These temporary benefits were extended twice during the\n",
            "108th Congress, (P.L. 108-1 and P.L. 108-26) extending\n",
            "eligibility through the week ending before December 31, 2003.  The 108th Congress enacted special\n",
            "TEUC benefits for displaced airline related workers, known\n",
            "as TE\n",
            "Processing 96-123.txt\n"
          ]
        },
        {
          "metadata": {
            "tags": null
          },
          "name": "stderr",
          "output_type": "stream",
          "text": [
            "Setting `pad_token_id` to `eos_token_id`:2 for open-end generation.\n"
          ]
        },
        {
          "metadata": {
            "tags": null
          },
          "name": "stdout",
          "output_type": "stream",
          "text": [
            "Raw model output for 96-123.txt (first 1000 chars):\n",
            " You are a policy analyst evaluating how evidence-based a policy document is.\n",
            "Below is a policy document. Read it carefully and then apply the rubric that follows.\n",
            "\n",
            "\n",
            "Order Code 96-123 EPW\n",
            "Updated January 5, 2005\n",
            "CRS Report for Congress\n",
            "Received through the CRS Web\n",
            "Historic Preservation: \n",
            "Background and Funding\n",
            "Susan Boren\n",
            "Specialist in Social Legislation\n",
            "Domestic Social Policy Division\n",
            "Summary\n",
            "This report summarizes the federal role in historic preservation.  It provides\n",
            "descriptions of and funding information for some of the major preservation programs,including the Historic Preservation Fund (HPF), the Advisory Council on HistoricPreservation, the National Trust for Historic Preservation, and the National Register forHistoric Places.  Some Members of Congress have given historic preservation programsclose scrutiny and have recommended that historic preservation activities be supportedincreasingly by the private sector.  The FY2004 Interior and Related AgenciesAppropriations Act, P.L. \n",
            "Processing 95-797A.txt\n"
          ]
        },
        {
          "metadata": {
            "tags": null
          },
          "name": "stderr",
          "output_type": "stream",
          "text": [
            "Setting `pad_token_id` to `eos_token_id`:2 for open-end generation.\n"
          ]
        },
        {
          "metadata": {
            "tags": null
          },
          "name": "stdout",
          "output_type": "stream",
          "text": [
            "Raw model output for 95-797A.txt (first 1000 chars):\n",
            " You are a policy analyst evaluating how evidence-based a policy document is.\n",
            "Below is a policy document. Read it carefully and then apply the rubric that follows.\n",
            "\n",
            "\n",
            "\n",
            "\n",
            "\n",
            "\n",
            "\n",
            "\n",
            "\n",
            "\n",
            "\n",
            "\n",
            "\n",
            "\n",
            "\n",
            "\n",
            "\n",
            "\n",
            "\n",
            "\n",
            "\n",
            "\n",
            "\n",
            "\n",
            "\n",
            "\n",
            "\n",
            "\n",
            "\n",
            "\n",
            "\n",
            "\n",
            "\n",
            "\n",
            "\n",
            "\n",
            "\n",
            "\n",
            "\n",
            "\n",
            "\n",
            "\n",
            "\n",
            "\n",
            "\n",
            "\n",
            "\n",
            "\n",
            "\n",
            "\n",
            "\n",
            "\n",
            "\n",
            "\n",
            "\n",
            "\n",
            "\n",
            "\n",
            "\n",
            "\n",
            "\n",
            "\n",
            "\n",
            "\n",
            "\n",
            "\n",
            "\n",
            "\n",
            "Now use this rubric to evaluate:\n",
            "\n",
            "Use the rubric below to score the policy document on five dimensions of evidence-based policymaking.\n",
            "Each dimension should receive a score from 0 to 3, where:\n",
            "\n",
            "0 = No evidence of the dimension\n",
            "1 = Minimal or implicit evidence\n",
            "2 = Moderate or partial evidence\n",
            "3 = Clear, strong, and explicit evidence\n",
            "\n",
            "### Dimensions:\n",
            "\n",
            "1. Use of Empirical Research\n",
            "- 0: No references to empirical evidence or data\n",
            "- 1: Vague or anecdotal references (e.g., “studies show”)\n",
            "- 2: Clear empirical support, but limited sourcing\n",
            "- 3: Multiple, clearly cited, high-quality sources (e.g., peer-reviewed, systematic reviews)\n",
            "\n",
            "2. Formal Evidence-Gathering Process\n",
            "- 0: No structured data gathering\n",
            "- 1: Informal or anecdotal input\n",
            "- 2: Basic assessments (e.g., in\n",
            "Processing 95-717.txt\n"
          ]
        },
        {
          "metadata": {
            "tags": null
          },
          "name": "stderr",
          "output_type": "stream",
          "text": [
            "Setting `pad_token_id` to `eos_token_id`:2 for open-end generation.\n"
          ]
        },
        {
          "metadata": {
            "tags": null
          },
          "name": "stdout",
          "output_type": "stream",
          "text": [
            "Raw model output for 95-717.txt (first 1000 chars):\n",
            " You are a policy analyst evaluating how evidence-based a policy document is.\n",
            "Below is a policy document. Read it carefully and then apply the rubric that follows.\n",
            "\n",
            "\n",
            "Federal Tort Claims Act (FTCA)\n",
            "January 29, 2010\n",
            "              (95-717)\n",
            "            \n",
            "\n",
            "\n",
            "Contents\n",
            "\n",
            "Introduction\n",
            "Suits Against Federal Employees\n",
            "Certification\n",
            "The Feres Doctrine and Medical Malpractice\n",
            "The Discretionary Function Exception\n",
            "The Intentional Tort Exception\n",
            "The Government Contractor Defense\n",
            "Suits by Victims of Atomic Testing\n",
            "The Warner Amendment and the Radiation Exposure Compensation Act\n",
            "Constitutional Torts: Federal Employees' Liability and Immunity\n",
            "The Practical Side of Bivens Actions\n",
            "Qualified Immunity to Bivens Actions\n",
            "\n",
            "\n",
            "Summary\n",
            "The Federal Tort Claims Act (FTCA) is the statute by which the United States authorizes tort suits to be brought against itself. With exceptions, it makes the United States liable for injuries caused by the negligent or wrongful act or omission of any federal employee acting within the \n",
            "Processing 95-543.txt\n"
          ]
        },
        {
          "metadata": {
            "tags": null
          },
          "name": "stderr",
          "output_type": "stream",
          "text": [
            "Setting `pad_token_id` to `eos_token_id`:2 for open-end generation.\n"
          ]
        },
        {
          "metadata": {
            "tags": null
          },
          "name": "stdout",
          "output_type": "stream",
          "text": [
            "Raw model output for 95-543.txt (first 1000 chars):\n",
            " You are a policy analyst evaluating how evidence-based a policy document is.\n",
            "Below is a policy document. Read it carefully and then apply the rubric that follows.\n",
            "\n",
            "\n",
            "Order Code 95-543 EPW\n",
            "Updated March 29, 2004\n",
            "CRS Report for Congress\n",
            "Received through the CRS Web\n",
            "The Financial Outlook for \n",
            "Social Security and Medicare\n",
            "Dawn Nuschler\n",
            "Domestic Social Policy Division\n",
            "Summary\n",
            "The 2004 annual reports of the board of trustees of the Social Security and\n",
            "Medicare trust funds were released on March 23, 2004.  While the financial status of theSocial Security program is little changed, Medicare’s financial difficulties are moresevere.  Social Security continues to face projected long-range financing problems, withinsolvency projected to occur in 2029 for the Disability Insurance (DI) part of SocialSecurity and 2044 for the retirement and survivors part.  On a combined basis, the twoparts would become insolvent in 2042, the same point projected last year and 13 yearslater than projected in 1997.  In\n",
            "Processing 95-668.txt\n"
          ]
        },
        {
          "metadata": {
            "tags": null
          },
          "name": "stderr",
          "output_type": "stream",
          "text": [
            "Setting `pad_token_id` to `eos_token_id`:2 for open-end generation.\n"
          ]
        },
        {
          "metadata": {
            "tags": null
          },
          "name": "stdout",
          "output_type": "stream",
          "text": [
            "Raw model output for 95-668.txt (first 1000 chars):\n",
            " You are a policy analyst evaluating how evidence-based a policy document is.\n",
            "Below is a policy document. Read it carefully and then apply the rubric that follows.\n",
            "\n",
            "\n",
            "Order Code 95-668 F\n",
            "Updated June 11, 2001\n",
            "CRS Report for Congress\n",
            "Received through the CRS Web\n",
            "Croatia: Basic Facts\n",
            "Steven J. Woehrel\n",
            "Specialist in European Affairs\n",
            "Foreign Affairs and National Defense Division \n",
            "Summary\n",
            "This short report provides background and analysis on Croatia, including its history,\n",
            "current political and economic situation, foreign policy, and  U.S. policy toward Croatia.This report will be updated as events warrant. \n",
            "Historical Background\n",
            "After  the  collapse of the\n",
            "Croatia at a Glance\n",
            "Hapsburg  empire  at  the end ofWorld  War  I,  Croatia (most of\n",
            "Area: 56,538 sq. km., slightly smaller than West\n",
            "which had been under Turkish and\n",
            "VirginiaPopulation: 4.78 million (1991 census)\n",
            "Hapsburg  rule since the 11th\n",
            "Ethnic Composition: 78% Croat, 12% Serb, 10%\n",
            "century)  was  incorporated  into  the\n",
            "others (1991 \n",
            "Processing 95-709.txt\n"
          ]
        },
        {
          "metadata": {
            "tags": null
          },
          "name": "stderr",
          "output_type": "stream",
          "text": [
            "Setting `pad_token_id` to `eos_token_id`:2 for open-end generation.\n"
          ]
        },
        {
          "metadata": {
            "tags": null
          },
          "name": "stdout",
          "output_type": "stream",
          "text": [
            "Raw model output for 95-709.txt (first 1000 chars):\n",
            " You are a policy analyst evaluating how evidence-based a policy document is.\n",
            "Below is a policy document. Read it carefully and then apply the rubric that follows.\n",
            "\n",
            "\n",
            "Flag Protection: A Brief History and Summary of Supreme Court Decisions and Proposed Constitutional Amendments\n",
            "February 7, 2012\n",
            "            (95-709)\n",
            "          \n",
            "\n",
            "\n",
            "Contents\n",
            "\n",
            "History\n",
            "Texas v. Johnson\n",
            "United States v. Eichman\n",
            "\n",
            "\n",
            "Summary\n",
            "This report is divided into two parts. The first gives a brief history of the flag protection issue, from the enactment of the Flag Protection Act in 1968 through current consideration of a constitutional amendment. The second part briefly summarizes the two decisions of the United States Supreme Court, Texas v. Johnson and United States v. Eichman, that struck down the state and federal flag protection statutes as applied in the context punishing expressive conduct.\n",
            "In 1968, Congress reacted to the numerous public flag burnings in protest of the Vietnam conflict by passing the first federal flag\n",
            "Processing 95-710.txt\n"
          ]
        },
        {
          "metadata": {
            "tags": null
          },
          "name": "stderr",
          "output_type": "stream",
          "text": [
            "Setting `pad_token_id` to `eos_token_id`:2 for open-end generation.\n"
          ]
        },
        {
          "metadata": {
            "tags": null
          },
          "name": "stdout",
          "output_type": "stream",
          "text": [
            "Raw model output for 95-710.txt (first 1000 chars):\n",
            " You are a policy analyst evaluating how evidence-based a policy document is.\n",
            "Below is a policy document. Read it carefully and then apply the rubric that follows.\n",
            "\n",
            "\n",
            "The Fair Housing Act (FHA): A Legal Overview\n",
            "February 2, 2016\n",
            "            (95-710)\n",
            "          Jump to Main Text of Report\n",
            "\n",
            "\n",
            "\n",
            "Contents\n",
            "\n",
            "Introduction\n",
            "Housing Practices in Which Discrimination Is Prohibited\n",
            "Exemptions from Coverage\n",
            "Affirmatively Furthering Fair Housing Regulations\n",
            "Evaluating Discrimination Claims\n",
            "Disparate Treatment Discrimination\n",
            "Disparate Impact Discrimination\n",
            "Selected Types of Housing Discrimination\n",
            "Discrimination Based on Sex, Sexual Orientation, and Gender Identity\n",
            "Discrimination Based on Handicap\n",
            "Intersection Between the FHA and Other Federal Disability Laws\n",
            "Group Homes and Zoning Restrictions\n",
            "Familial Discrimination and Housing for Older Persons\n",
            "Enforcement of the Fair Housing Act\n",
            "Enforcement by the Secretary\n",
            "Enforcement by the Attorney General\n",
            "Enforcement by Private Persons\n",
            "\n",
            "\n",
            "Summary\n",
            "The Fair Housing Ac\n",
            "Processing 95-797.txt\n"
          ]
        },
        {
          "metadata": {
            "tags": null
          },
          "name": "stderr",
          "output_type": "stream",
          "text": [
            "Setting `pad_token_id` to `eos_token_id`:2 for open-end generation.\n"
          ]
        },
        {
          "metadata": {
            "tags": null
          },
          "name": "stdout",
          "output_type": "stream",
          "text": [
            "Raw model output for 95-797.txt (first 1000 chars):\n",
            " You are a policy analyst evaluating how evidence-based a policy document is.\n",
            "Below is a policy document. Read it carefully and then apply the rubric that follows.\n",
            "\n",
            "\n",
            "Federal Tort Reform Legislation: Constitutionality and Summaries of Selected Statutes\n",
            "January 28, 2010\n",
            "              (95-797)\n",
            "            \n",
            "\n",
            "\n",
            "Contents\n",
            "\n",
            "Introduction\n",
            "Part I. Tort Reform Generally\n",
            "A. Commerce Power\n",
            "B. Due Process\n",
            "C. Federalism\n",
            "Part II. Alternative Dispute Resolution\n",
            "A. Seventh Amendment\n",
            "B. Article III\n",
            "C. Article III / Seventh Amendment Equivalence\n",
            "D. Applying Article III and the Seventh Amendment\n",
            "E. Constitutionality of Establishing Federal Non-Article III Forums: Conclusion\n",
            "F. Constitutionality of Prohibiting States from Using Jury Trials, Without Establishment of a Federal Non-Article III Forum\n",
            "\n",
            "\n",
            "Appendixes\n",
            "\n",
            "Appendix. Selected Federal Tort Reform Statutes\n",
            "\n",
            "\n",
            "\n",
            "Summary\n",
            "This report considers the constitutionality of federal tort reform legislation, such as the products liability and medical malpractice reform pr\n",
            "Processing 95-416.txt\n"
          ]
        },
        {
          "metadata": {
            "tags": null
          },
          "name": "stderr",
          "output_type": "stream",
          "text": [
            "Setting `pad_token_id` to `eos_token_id`:2 for open-end generation.\n"
          ]
        },
        {
          "metadata": {
            "tags": null
          },
          "name": "stdout",
          "output_type": "stream",
          "text": [
            "Raw model output for 95-416.txt (first 1000 chars):\n",
            " You are a policy analyst evaluating how evidence-based a policy document is.\n",
            "Below is a policy document. Read it carefully and then apply the rubric that follows.\n",
            "\n",
            "\n",
            "The Federal Estate, Gift, and Generation-Skipping Transfer Taxes\n",
            "June 5, 2014\n",
            "            (95-416)\n",
            "          \n",
            "\n",
            "\n",
            "Contents\n",
            "\n",
            "Introduction\n",
            "The Federal Estate Tax\n",
            "The Gross Estate: The Federal Estate Tax Base\n",
            "Deductions from the Gross Estate: Reaching the Taxable Estate\n",
            "Computation of the Estate Tax\n",
            "The Federal Gift Tax\n",
            "The Taxable Gift\n",
            "Computation of the Gift Tax\n",
            "The Generation-Skipping Transfer Tax\n",
            "Generation-Skipping Transfers\n",
            "Computation of the Generation-Skipping Transfer Tax\n",
            "\n",
            "\n",
            "Summary\n",
            "This report contains an explanation of the major provisions of the federal estate, gift, and generation-skipping transfer taxes as they apply to transfers in 2014. The following discussion provides basic principles regarding the computation of these three transfer taxes.\n",
            "The federal estate and generation-skipping transfer taxes were resurrect\n",
            "Processing 95-724.txt\n"
          ]
        },
        {
          "metadata": {
            "tags": null
          },
          "name": "stderr",
          "output_type": "stream",
          "text": [
            "Setting `pad_token_id` to `eos_token_id`:2 for open-end generation.\n"
          ]
        },
        {
          "metadata": {
            "tags": null
          },
          "name": "stdout",
          "output_type": "stream",
          "text": [
            "Raw model output for 95-724.txt (first 1000 chars):\n",
            " You are a policy analyst evaluating how evidence-based a policy document is.\n",
            "Below is a policy document. Read it carefully and then apply the rubric that follows.\n",
            "\n",
            "\n",
            "Abortion Law Development: A Brief Overview\n",
            "January 15, 2009\n",
            "              (95-724)\n",
            "            \n",
            "\n",
            "\n",
            "Contents\n",
            "\n",
            "Introduction\n",
            "I. Development and Status of the Law Prior to 1973\n",
            "II. The Supreme Court's 1973 Abortion Rulings\n",
            "III. Public Funding of Abortions\n",
            "IV. Supreme Court Decisions Subsequent to Roe and Doe Involving the Substantive Right to Abortion\n",
            "Informed Consent/Waiting Periods\n",
            "Spousal/Parental Consent\n",
            "Parental Notification\n",
            "Miscellaneous\n",
            "V. Setting the Stage for Casey: Webster v. Reproductive Health Services\n",
            "VI. A Shift in Direction: Planned Parenthood of Southeastern Pennsylvania v. Casey\n",
            "VII. Applying Casey: Stenberg v. Carhart and Gonzales v. Carhart\n",
            "\n",
            "\n",
            "Summary\n",
            "In Roe v. Wade, 410 U.S. 113 (1973), the U.S. Supreme Court determined that the Constitution protects a woman's decision whether or not to terminate her pregnancy\n",
            "Processing 95-403F.txt\n"
          ]
        },
        {
          "metadata": {
            "tags": null
          },
          "name": "stderr",
          "output_type": "stream",
          "text": [
            "Setting `pad_token_id` to `eos_token_id`:2 for open-end generation.\n"
          ]
        },
        {
          "metadata": {
            "tags": null
          },
          "name": "stdout",
          "output_type": "stream",
          "text": [
            "Raw model output for 95-403F.txt (first 1000 chars):\n",
            " You are a policy analyst evaluating how evidence-based a policy document is.\n",
            "Below is a policy document. Read it carefully and then apply the rubric that follows.\n",
            "\n",
            "\n",
            "Order Code 95-403 F\n",
            "Updated June 26, 2001\n",
            "CRS Report for Congress\n",
            "Received through the CRS Web\n",
            "Moldova: Basic Facts\n",
            "Steven Woehrel\n",
            "Specialist in European Affairs\n",
            "Foreign Affairs, Defense, and Trade Division\n",
            "Summary\n",
            "This short report provides information and analysis on Moldova, including its\n",
            "history, political and economic situation, foreign policy, and U.S. policy towardMoldova. This report will be updated as events warrant.\n",
            "History\n",
            "Moldova at a Glance \n",
            "Moldova is a part of the area\n",
            "Land Area: 33,371 sq. km., about the size of\n",
            "known historically as Bessarabia,\n",
            "Maryland. \n",
            "geographically delineated by the PrutRiver on the west, the Dniestr River\n",
            "Population: 4.4 million (2000 estimate)\n",
            "on the north and east, the Black Seaon the southeast, and the Kiliya\n",
            "Gross Domestic Product (GDP): $1.41 billion\n",
            "(Chilia) arm of the Danube de\n",
            "Processing 95-36SPR.txt\n"
          ]
        },
        {
          "metadata": {
            "tags": null
          },
          "name": "stderr",
          "output_type": "stream",
          "text": [
            "Setting `pad_token_id` to `eos_token_id`:2 for open-end generation.\n"
          ]
        },
        {
          "metadata": {
            "tags": null
          },
          "name": "stdout",
          "output_type": "stream",
          "text": [
            "Raw model output for 95-36SPR.txt (first 1000 chars):\n",
            " You are a policy analyst evaluating how evidence-based a policy document is.\n",
            "Below is a policy document. Read it carefully and then apply the rubric that follows.\n",
            "\n",
            "\n",
            "Order Code 95-36 SPR\n",
            "Updated July 6, 2005\n",
            "CRS Report for Congress\n",
            "Received through the CRS Web\n",
            "The Advanced Technology Program\n",
            "Wendy H. Schacht\n",
            "Specialist in Science and Technology\n",
            "Resources, Science, and Industry Division\n",
            "Summary\n",
            "The Advanced Technology Program (ATP) was created by P.L. 100-418, the\n",
            "Omnibus Trade and Competitiveness Act of 1988, to encourage public-privatecooperation in the development of pre-competitive technologies with broad applicationacross industries.  Administered by the National Institute of Standards and Technology(NIST), a laboratory of the Department of Commerce, this activity has been targeted forelimination as a means to cut federal spending.  Since FY2000, the original House-passed appropriation bills have not included funding for ATP.  Many of theAdministration’s budget requests have propose\n",
            "Processing 95-408.txt\n"
          ]
        },
        {
          "metadata": {
            "tags": null
          },
          "name": "stderr",
          "output_type": "stream",
          "text": [
            "Setting `pad_token_id` to `eos_token_id`:2 for open-end generation.\n"
          ]
        },
        {
          "metadata": {
            "tags": null
          },
          "name": "stdout",
          "output_type": "stream",
          "text": [
            "Raw model output for 95-408.txt (first 1000 chars):\n",
            " You are a policy analyst evaluating how evidence-based a policy document is.\n",
            "Below is a policy document. Read it carefully and then apply the rubric that follows.\n",
            "\n",
            "\n",
            "Immigration: The Effects on Low-Skilled and High-Skilled Native-Born Workers\n",
            "April 13, 2010\n",
            "              (95-408)\n",
            "            \n",
            "\n",
            "\n",
            "Contents\n",
            "\n",
            "Introduction\n",
            "Immigration and the Labor Market\n",
            "Distributional Issues\n",
            "The Model's Assumptions\n",
            "What Does the Empirical Literature Have to Say?\n",
            "Overview of the Literature\n",
            "The Findings of Studies Using a Spatial Approach\n",
            "The Findings of Studies Using a Nationwide Approach\n",
            "Policy Implications\n",
            "\n",
            "\n",
            "Figures\n",
            "\n",
            "Figure 1. The Effects on Native-Born Workers of an Increase in the Supply of Foreign-Born Workers\n",
            "\n",
            "\n",
            "\n",
            "Summary\n",
            "The large influx of immigrants in recent decades has led to an equally long debate over their effect on the labor market outcomes of native-born workers. Economic theory posits that an increase in the supply of labor, such as from immigration, will reduce the wage employers are willing \n",
            "Processing 95-406.txt\n"
          ]
        },
        {
          "metadata": {
            "tags": null
          },
          "name": "stderr",
          "output_type": "stream",
          "text": [
            "Setting `pad_token_id` to `eos_token_id`:2 for open-end generation.\n"
          ]
        },
        {
          "output_type": "stream",
          "name": "stdout",
          "text": [
            "Raw model output for 95-406.txt (first 1000 chars):\n",
            " You are a policy analyst evaluating how evidence-based a policy document is.\n",
            "Below is a policy document. Read it carefully and then apply the rubric that follows.\n",
            "\n",
            "\n",
            "Child Pornography: Constitutional Principles and Federal Statutes\n",
            "October 10, 2008\n",
            "              (95-406)\n",
            "            \n",
            "\n",
            "\n",
            "Contents\n",
            "\n",
            "Constitutional Principles\n",
            "A. Obscenity\n",
            "B. Child Pornography\n",
            "Federal Child Pornography Statutes\n",
            "A. 18 U.S.C. §§ 2251-2260\n",
            "Section 2251\n",
            "Section 2251A\n",
            "Section 2252\n",
            "Section 2252A\n",
            "Section 2252B\n",
            "Section 2252C\n",
            "Section 2253\n",
            "Section 2254\n",
            "Section 2255\n",
            "Section 2256\n",
            "Section 2257\n",
            "Section 2257A\n",
            "Section 2258\n",
            "Section 2259\n",
            "Section 2260\n",
            "B. Children's Internet Protection Act (CIPA)\n",
            "C. Federal Racketeer Influenced and Corrupt Organizations Act (RICO)\n",
            "D. Money Laundering\n",
            "Recently Enacted Federal Legislation\n",
            "\n",
            "\n",
            "Summary\n",
            "The First Amendment provides: \"Congress shall make no law ... abridging the freedom of speech, or of the press.\" Although the First Amendment, in general, protects pornography, the Supreme Court has hel\n",
            "Processing 95-712E.txt\n"
          ]
        },
        {
          "output_type": "stream",
          "name": "stderr",
          "text": [
            "Setting `pad_token_id` to `eos_token_id`:2 for open-end generation.\n"
          ]
        },
        {
          "output_type": "stream",
          "name": "stdout",
          "text": [
            "Raw model output for 95-712E.txt (first 1000 chars):\n",
            " You are a policy analyst evaluating how evidence-based a policy document is.\n",
            "Below is a policy document. Read it carefully and then apply the rubric that follows.\n",
            "\n",
            "\n",
            "Order Code 95-712 E\n",
            "Updated February 20, 2004\n",
            "CRS Report for Congress\n",
            "Received through the CRS Web\n",
            "Immigration:  The Labor Market Effects of a\n",
            "Guest Worker Program for U.S. Farmers\n",
            "Linda Levine\n",
            "Specialist in Labor Economics\n",
            "Domestic Social Policy Division\n",
            "Summary\n",
            "Temporary alien worker programs are meant to assure employers, including\n",
            "growers, of an adequate supply of labor when and where it is needed without addingpermanent residents to the U.S. population.  Guest worker programs are not supposedto harm the wage and job opportunities of U.S. workers while they alleviate spot laborshortages.  President Bush’s proposal of a broad guest worker program has reignitedinterest in legislation introduced during the 108th Congress that relates specifically to theagricultural industry.  According to the few economic analyses availabl\n",
            "Processing 95-563.txt\n"
          ]
        },
        {
          "output_type": "stream",
          "name": "stderr",
          "text": [
            "Setting `pad_token_id` to `eos_token_id`:2 for open-end generation.\n"
          ]
        },
        {
          "output_type": "stream",
          "name": "stdout",
          "text": [
            "Raw model output for 95-563.txt (first 1000 chars):\n",
            " You are a policy analyst evaluating how evidence-based a policy document is.\n",
            "Below is a policy document. Read it carefully and then apply the rubric that follows.\n",
            "\n",
            "\n",
            "\n",
            "\n",
            " \n",
            "The Legislative Process on the House Floor: An Introduction \n",
            "Updated December 14, 2022 \n",
            "Congressional Research Service \n",
            "https://crsreports.congress.gov \n",
            "95-563 \n",
            "\n",
            "\n",
            "\n",
            "\n",
            "The Legislative Process on the House Floor: An Introduction \n",
            " \n",
            "Summary The daily order of business on the floor of the House of Representatives is governed by standing rules that make certain matters and actions privileged for consideration. On a day-to-day basis, however, the House can also decide to grant individual bills privileged access to the floor, using one of several parliamentary mechanisms. \n",
            "The standing rules of the House include several different parliamentary mechanisms that the body may use to act on bills and resolutions. Which of these will be employed in a given instance usually depends on the extent to which Members want to debate and amen\n",
            "Processing 95-50.txt\n"
          ]
        },
        {
          "output_type": "stream",
          "name": "stderr",
          "text": [
            "Setting `pad_token_id` to `eos_token_id`:2 for open-end generation.\n"
          ]
        },
        {
          "output_type": "stream",
          "name": "stdout",
          "text": [
            "Raw model output for 95-50.txt (first 1000 chars):\n",
            " You are a policy analyst evaluating how evidence-based a policy document is.\n",
            "Below is a policy document. Read it carefully and then apply the rubric that follows.\n",
            "\n",
            "\n",
            "Order Code 95-50 SPR\n",
            "Updated July 30, 2002\n",
            "CRS Report for Congress\n",
            "Received through the CRS Web\n",
            "The Federal Role in Technology Development\n",
            "Wendy H. Schacht\n",
            "Specialist in Science and Technology\n",
            "Resources, Science, and Industry Division\n",
            "Summary\n",
            "50\n",
            "The federal government has traditionally played a role in fostering technological\n",
            "progress.  This has involved both direct federal research and development (R&D)funding and indirect measures that create incentives for increased private sectorinvestments in innovation.  However, this mix of initiatives has been challenged since\n",
            "iki/CRS-95-\n",
            "the 104th  Congress.  While support for all on-going efforts continues, some programs\n",
            "g/w\n",
            "have been funded at reduced levels.  However, since FY2001, appropriations appear to\n",
            "s.or\n",
            "have reversed this trend.  As programs are implemented and mature, c\n",
            "Processing 95-387.txt\n"
          ]
        },
        {
          "output_type": "stream",
          "name": "stderr",
          "text": [
            "Setting `pad_token_id` to `eos_token_id`:2 for open-end generation.\n"
          ]
        },
        {
          "output_type": "stream",
          "name": "stdout",
          "text": [
            "Raw model output for 95-387.txt (first 1000 chars):\n",
            " You are a policy analyst evaluating how evidence-based a policy document is.\n",
            "Below is a policy document. Read it carefully and then apply the rubric that follows.\n",
            "\n",
            "\n",
            "Abortion Services and Military Medical Facilities\n",
            "January 9, 2013\n",
            "            (95-387)\n",
            "          \n",
            "\n",
            "\n",
            "Contents\n",
            "\n",
            "Purpose\n",
            "Issue\n",
            "Background\n",
            "\"Plan B\" and RU-486\n",
            "\"Parental Notification\"\n",
            "Legislative Action Since 1995\n",
            "Recent Legislative Action\n",
            "Problematic Comparisons to Foreign Military Policies\n",
            "\n",
            "\n",
            "Tables\n",
            "\n",
            "Table 1. Therapeutic Abortions at Military Treatment Facilities\n",
            "\n",
            "\n",
            "\n",
            "Appendixes\n",
            "\n",
            "Appendix. Availability of Abortion Services at Military Facilities Overseas\n",
            "\n",
            "\n",
            "\n",
            "Summary\n",
            "In 1993, President Clinton modified the military policy on providing abortions at military medical facilities. Under the change directed by the President, military medical facilities were allowed to perform abortions if paid for entirely with non-Department of Defense (DOD) funds (i.e., privately funded). Although arguably consistent with statutory language barring the\n",
            "Processing 95-444.txt\n"
          ]
        },
        {
          "output_type": "stream",
          "name": "stderr",
          "text": [
            "Setting `pad_token_id` to `eos_token_id`:2 for open-end generation.\n"
          ]
        },
        {
          "output_type": "stream",
          "name": "stdout",
          "text": [
            "Raw model output for 95-444.txt (first 1000 chars):\n",
            " You are a policy analyst evaluating how evidence-based a policy document is.\n",
            "Below is a policy document. Read it carefully and then apply the rubric that follows.\n",
            "\n",
            "\n",
            ".\n",
            " \n",
            "A History of Federal Estate, Gift, and Generation-Skipping Taxes \n",
            "John R. Luckey Legislative Attorney \n",
            "January 24, 2011 \n",
            "Congressional Research Service\n",
            "7-5700 \n",
            "www.crs.gov \n",
            "95-444 \n",
            "CRS Report for CongressP\n",
            "repared for Members and Committees of Congress  \n",
            "c11173008\n",
            "\n",
            ".\n",
            "A History of Federal Estate, Gift, and Generation-Skipping Taxes \n",
            " \n",
            "Summary \n",
            "In 2010, the first year since 1916, there was no federal estate tax. There was also a year hiatus for the generation-skipping tax. The Economic Growth and Tax Relief Reconciliation Act of 2001 (P.L. 107-16) provided for a phaseout of the estate and generation-skipping taxes over a 10-year period, leaving the gift tax as the only federal transfer tax in 2010. The Tax Relief, Unemployment Insurance Reauthorization, and Job Creation Act of 2010 (P.L. 111-312) marked, at least, the sus\n",
            "Processing 95-307.txt\n"
          ]
        },
        {
          "output_type": "stream",
          "name": "stderr",
          "text": [
            "Setting `pad_token_id` to `eos_token_id`:2 for open-end generation.\n"
          ]
        },
        {
          "output_type": "stream",
          "name": "stdout",
          "text": [
            "Raw model output for 95-307.txt (first 1000 chars):\n",
            " You are a policy analyst evaluating how evidence-based a policy document is.\n",
            "Below is a policy document. Read it carefully and then apply the rubric that follows.\n",
            "\n",
            "\n",
            "U.S. National Science Foundation: An Overview\n",
            "August 8, 2012\n",
            "            (95-307)\n",
            "          \n",
            "\n",
            "\n",
            "Contents\n",
            "\n",
            "Background\n",
            "Organization and the FY2013 Request\n",
            "Biological Sciences (BIO)\n",
            "Computer and Information Science and Engineering (CISE)\n",
            "Engineering (ENG)\n",
            "Geosciences (GEO)\n",
            "Mathematical and Physical Sciences (MPS)\n",
            "Social, Behavioral, and Economic Sciences (SBE)\n",
            "Education and Human Resources (EHR)\n",
            "Other Program Activities and Accounts\n",
            "Policy Issues\n",
            "\n",
            "\n",
            "Figures\n",
            "\n",
            "Figure 1. NSF R&D Support, FY2004-FY2013\n",
            "\n",
            "\n",
            "\n",
            "Summary\n",
            "The National Science Foundation (NSF) was created by the National Science Foundation Act of 1950, as amended (P.L.81-507). The NSF has the broad mission of supporting science and engineering in general and funding basic research across many disciplines. The agency provides support for investigator-initiated, merit-reviewed,\n",
            "Processing 95-519.txt\n"
          ]
        },
        {
          "output_type": "stream",
          "name": "stderr",
          "text": [
            "Setting `pad_token_id` to `eos_token_id`:2 for open-end generation.\n"
          ]
        },
        {
          "output_type": "stream",
          "name": "stdout",
          "text": [
            "Raw model output for 95-519.txt (first 1000 chars):\n",
            " You are a policy analyst evaluating how evidence-based a policy document is.\n",
            "Below is a policy document. Read it carefully and then apply the rubric that follows.\n",
            "\n",
            "\n",
            "Medal of Honor: History and Issues\n",
            "August 18, 2015\n",
            "            (95-519)\n",
            "          Jump to Main Text of Report\n",
            "\n",
            "\n",
            "\n",
            "Contents\n",
            "\n",
            "Background\n",
            "Current Policy and Benefits\n",
            "Procedures Involving Recommendations for the MoH\n",
            "Presentation of the MoH\n",
            "Courtesies and Privileges Afforded MoH Recipients\n",
            "Congressional and Other Efforts to Award the Medal of Honor\n",
            "Statutory Restrictions\n",
            "Stolen Valor Act\n",
            "MoH Recipients in 2014\n",
            "Valor 24\n",
            "Living Recipients from Afghanistan and Iraq\n",
            "Vietnam Veterans\n",
            "Civil War\n",
            "MoH Recipients in 2015\n",
            "World War I\n",
            "Legislation in the 114th Congress\n",
            "Additional Sources of Information\n",
            "\n",
            "\n",
            "Figures\n",
            "\n",
            "Figure 1. Medal of Honor Recommendation Process\n",
            "\n",
            "\n",
            "\n",
            "Tables\n",
            "\n",
            "Table 1. Medal of Honor Bills in the 114th Congress (2015)\n",
            "\n",
            "\n",
            "\n",
            "Appendixes\n",
            "\n",
            "Appendix. Official Citation Samples, Statistics, and Legislation in the 113th Congress\n",
            "\n",
            "\n",
            "\n",
            "Summary\n",
            "Th\n",
            "Processing 95-353ENR.txt\n"
          ]
        },
        {
          "output_type": "stream",
          "name": "stderr",
          "text": [
            "Setting `pad_token_id` to `eos_token_id`:2 for open-end generation.\n"
          ]
        },
        {
          "output_type": "stream",
          "name": "stdout",
          "text": [
            "Raw model output for 95-353ENR.txt (first 1000 chars):\n",
            " You are a policy analyst evaluating how evidence-based a policy document is.\n",
            "Below is a policy document. Read it carefully and then apply the rubric that follows.\n",
            "\n",
            "\n",
            "Order Code 95-353 ENR\n",
            "Updated May 24, 2005\n",
            "CRS Report for Congress\n",
            "Received through the CRS Web\n",
            "Federal Farm Promotion (“Check-Off”)\n",
            "Programs\n",
            "Geoffrey S. Becker\n",
            "Specialist in Agricultural Policy\n",
            "Resources, Science, and Industry Division\n",
            "Summary\n",
            "The U.S. Supreme Court recently affirmed the constitutionality of the so-called\n",
            "beef check-off program, one of a number of generic promotion programs for beef andother agricultural products that Congress has authorized in recent decades.  Supportersview check-offs as economically beneficial self-help activities that need minimalgovernment involvement or taxpayer funding.  Producers, handlers, and/or importers arerequired to pay an assessment, usually deducted from revenue at time of sale — thus thename check-off.  However, some farmers contend they are being “taxed” for advertisingan\n",
            "Processing 95-30SPR.txt\n"
          ]
        },
        {
          "output_type": "stream",
          "name": "stderr",
          "text": [
            "Setting `pad_token_id` to `eos_token_id`:2 for open-end generation.\n"
          ]
        },
        {
          "output_type": "stream",
          "name": "stdout",
          "text": [
            "Raw model output for 95-30SPR.txt (first 1000 chars):\n",
            " You are a policy analyst evaluating how evidence-based a policy document is.\n",
            "Below is a policy document. Read it carefully and then apply the rubric that follows.\n",
            "\n",
            "\n",
            "Order Code 95-30 SPR\n",
            "Updated July 25, 2003\n",
            "CRS Report for Congress\n",
            "Received through the CRS Web\n",
            "The National Institute of Standards and\n",
            "Technology: An Overview\n",
            "Wendy H. Schacht\n",
            "Specialist in Science and Technology\n",
            "Resources, Science, and Industry Division\n",
            "Summary\n",
            "The National Institute of Standards and Technology (NIST), a laboratory of the\n",
            "Department of Commerce, was a major player in the Clinton Administration’s strategyfor civilian technology investment. However, the 104th Congress cut funding levels 18%between FY1995 and FY1997. In FY1998, this trend was temporarily reversed whenthe NIST budget increased 20% primarily due to additional financing for construction.FY1999 appropriations were 5% below the previous year, while FY2000 supportremained constant. In FY2001, the NIST appropriation decreased 6% to $598.3 millionas\n",
            "Processing 97-619A.txt\n"
          ]
        },
        {
          "output_type": "stream",
          "name": "stderr",
          "text": [
            "Setting `pad_token_id` to `eos_token_id`:2 for open-end generation.\n"
          ]
        },
        {
          "output_type": "stream",
          "name": "stdout",
          "text": [
            "Raw model output for 97-619A.txt (first 1000 chars):\n",
            " You are a policy analyst evaluating how evidence-based a policy document is.\n",
            "Below is a policy document. Read it carefully and then apply the rubric that follows.\n",
            "\n",
            "\n",
            "Order Code 97-619 A\n",
            "CRS Report for Congress\n",
            "Received through the CRS Web\n",
            "Internet Gambling:  Overview\n",
            "of Federal Criminal Law\n",
            "Updated November 29, 2004\n",
            "Charles Doyle\n",
            "Senior Specialist\n",
            "American Law Division\n",
            "Congressional Research Service ˜ The Library of Congress\n",
            "\n",
            "Internet Gambling:  Overview\n",
            "of Federal Criminal Law\n",
            "Summary\n",
            "This a brief summary of the federal criminal status implicated by conducting\n",
            "illegal gambling using the Internet.  It also discusses some of the constitutional issuesassociated with prosecuting illegal Internet gambling.\n",
            "Gambling is primarily a matter of state law, reinforced by federal law in\n",
            "instances where the presence of an interstate or foreign element might otherwisefrustrate the enforcement policies of state law.  State officials and others haveexpressed concern that the Internet may be used to bri\n",
            "Processing 97-59.txt\n"
          ]
        },
        {
          "output_type": "stream",
          "name": "stderr",
          "text": [
            "Setting `pad_token_id` to `eos_token_id`:2 for open-end generation.\n"
          ]
        },
        {
          "output_type": "stream",
          "name": "stdout",
          "text": [
            "Raw model output for 97-59.txt (first 1000 chars):\n",
            " You are a policy analyst evaluating how evidence-based a policy document is.\n",
            "Below is a policy document. Read it carefully and then apply the rubric that follows.\n",
            "\n",
            "\n",
            "\n",
            "\n",
            "Order Code 97-59 A\n",
            "Federal Income Tax: Legal Analysis of Common\n",
            "Tax Protester Arguments\n",
            "Updated June 11, 2008\n",
            "John R. Luckey\n",
            "Legislative Attorney\n",
            "American Law Division\n",
            "\n",
            "Federal Income Tax: Legal Analysis of Common Tax\n",
            "Protester Arguments\n",
            "Summary\n",
            "This report addresses some of the commonly raised historical, constitutional,\n",
            "procedural, and legal questions concerning the federal income tax.\n",
            "The constitutional questions include a discussion of: Congress’s taxing power;\n",
            "the difference between a direct and an indirect tax; Fifth Amendment protectionagainst self-incrimination and tax returns; Fourth Amendment protection againstunreasonable searches and seizures and tax collection practices; ThirteenthAmendment protections against involuntary servitude and tax withholding; EqualProtection and Due Process questions; and the legali\n",
            "Processing 97-589A.txt\n"
          ]
        },
        {
          "output_type": "stream",
          "name": "stderr",
          "text": [
            "Setting `pad_token_id` to `eos_token_id`:2 for open-end generation.\n"
          ]
        },
        {
          "output_type": "stream",
          "name": "stdout",
          "text": [
            "Raw model output for 97-589A.txt (first 1000 chars):\n",
            " You are a policy analyst evaluating how evidence-based a policy document is.\n",
            "Below is a policy document. Read it carefully and then apply the rubric that follows.\n",
            "\n",
            "\n",
            "\n",
            "\n",
            "\n",
            "\n",
            "\n",
            "\n",
            "\n",
            "\n",
            "\n",
            "\n",
            "\n",
            "\n",
            "\n",
            "\n",
            "\n",
            "\n",
            "\n",
            "\n",
            "\n",
            "\n",
            "\n",
            "\n",
            "\n",
            "\n",
            "\n",
            "\n",
            "\n",
            "\n",
            "\n",
            "\n",
            "\n",
            "\n",
            "\n",
            "\n",
            "\n",
            "\n",
            "\n",
            "\n",
            "\n",
            "\n",
            "\n",
            "\n",
            "\n",
            "\n",
            "\n",
            "\n",
            "\n",
            "\n",
            "\n",
            "\n",
            "\n",
            "\n",
            "\n",
            "\n",
            "\n",
            "\n",
            "\n",
            "\n",
            "\n",
            "\n",
            "\n",
            "\n",
            "\n",
            "\n",
            "\n",
            "\n",
            "\n",
            "\n",
            "\n",
            "\n",
            "\n",
            "\n",
            "\n",
            "\n",
            "\n",
            "\n",
            "\n",
            "\n",
            "\n",
            "\n",
            "\n",
            "\n",
            "\n",
            "\n",
            "\n",
            "\n",
            "\n",
            "\n",
            "\n",
            "\n",
            "\n",
            "\n",
            "Now use this rubric to evaluate:\n",
            "\n",
            "Use the rubric below to score the policy document on five dimensions of evidence-based policymaking.\n",
            "Each dimension should receive a score from 0 to 3, where:\n",
            "\n",
            "0 = No evidence of the dimension\n",
            "1 = Minimal or implicit evidence\n",
            "2 = Moderate or partial evidence\n",
            "3 = Clear, strong, and explicit evidence\n",
            "\n",
            "### Dimensions:\n",
            "\n",
            "1. Use of Empirical Research\n",
            "- 0: No references to empirical evidence or data\n",
            "- 1: Vague or anecdotal references (e.g., “studies show”)\n",
            "- 2: Clear empirical support, but limited sourcing\n",
            "- 3: Multiple, clearly cited, high-quality sources (e.g., peer-reviewed, systematic reviews)\n",
            "\n",
            "2. Formal Evidence-Gathering Process\n",
            "- 0: No structured data gathering\n",
            "- 1: Informal or anecdotal input\n",
            "- 2: B\n",
            "Processing 97-673ENR.txt\n"
          ]
        },
        {
          "output_type": "stream",
          "name": "stderr",
          "text": [
            "Setting `pad_token_id` to `eos_token_id`:2 for open-end generation.\n"
          ]
        },
        {
          "output_type": "stream",
          "name": "stdout",
          "text": [
            "Raw model output for 97-673ENR.txt (first 1000 chars):\n",
            " You are a policy analyst evaluating how evidence-based a policy document is.\n",
            "Below is a policy document. Read it carefully and then apply the rubric that follows.\n",
            "\n",
            "\n",
            "Order Code 97-673 ENR\n",
            "Updated May 8, 2001\n",
            "CRS Report for Congress\n",
            "Received through the CRS Web\n",
            "Conservation Reserve Program:\n",
            "Status and Current Issues\n",
            "Jeffrey Zinn\n",
            "Senior Analyst in Natural Resources Policy\n",
            "Resources, Science, and Industry Division\n",
            "Summary\n",
            "The Conservation Reserve Program (CRP), enacted in 1985, enables producers to\n",
            "retire  highly  erodible  or  environmentally  sensitive  cropland,  usually for 10 years.Congress  reauthorized  and  amended  the  CRP  in  the 1996 Federal AgricultureImprovement and Reform Act (P.L. 104-127; 16 U.S.C. 3811, et seq.).  The law capsenrollment at 36.4 million acres and makes funding mandatory through the commodityCredit Corporation.  There were 32.8 million acres enrolled on October 1, 2000.\n",
            "Since 1996, land has been enrolled through general signups, continuous enrollment\n",
            "of sm\n",
            "Processing 97-645.txt\n"
          ]
        },
        {
          "output_type": "stream",
          "name": "stderr",
          "text": [
            "Setting `pad_token_id` to `eos_token_id`:2 for open-end generation.\n"
          ]
        },
        {
          "output_type": "stream",
          "name": "stdout",
          "text": [
            "Raw model output for 97-645.txt (first 1000 chars):\n",
            " You are a policy analyst evaluating how evidence-based a policy document is.\n",
            "Below is a policy document. Read it carefully and then apply the rubric that follows.\n",
            "\n",
            "\n",
            "97-645 -- Repealing Miranda?: Background of the Controversy over Pretrial Interrogation  and\n",
            "Self-Incrimination\n",
            "\n",
            "Updated July 20, 2004\n",
            " \n",
            "\n",
            "\n",
            "CONTENTS\n",
            "\n",
            "Summary\n",
            "Introduction\n",
            "Historical Overview and Case Law of Pretrial Interrogation Prior to Miranda\n",
            "Due Process Prior to Miranda\n",
            "The Precursor to Miranda\n",
            "\n",
            "McNabb/Mallory\n",
            "Application to States\n",
            "Warnings\n",
            "The Right to Counsel\n",
            "Adverse Implication from Silence\n",
            "A Right Not To Be Questioned\n",
            "\n",
            "The Miranda Decision and Other Developments\n",
            "Case Law Developments after Miranda\n",
            "\n",
            "\n",
            "1. The Right To Counsel\n",
            "2. The Miranda Rules (Non-Constitutional Status)\n",
            "3. Pretrial Silence\n",
            "\n",
            "\n",
            "Overcoming the McNabb/Mallory Rule\n",
            "The Suspension in Implementation of Section 3501\n",
            "\n",
            "After Dickerson\n",
            "\n",
            "Overview\n",
            "Footnotes\n",
            "\n",
            "\n",
            "\n",
            "Summary\n",
            "\n",
            "  Although an involuntary confession has been inadmissible in federal cases since the nineteen\n",
            "Processing 97-690.txt\n"
          ]
        },
        {
          "output_type": "stream",
          "name": "stderr",
          "text": [
            "Setting `pad_token_id` to `eos_token_id`:2 for open-end generation.\n"
          ]
        },
        {
          "output_type": "stream",
          "name": "stdout",
          "text": [
            "Raw model output for 97-690.txt (first 1000 chars):\n",
            " You are a policy analyst evaluating how evidence-based a policy document is.\n",
            "Below is a policy document. Read it carefully and then apply the rubric that follows.\n",
            "\n",
            "\n",
            "Kyrgyzstan: Recent Developments and U.S. Interests\n",
            "August 30, 2013\n",
            "            (97-690)\n",
            "          \n",
            "\n",
            "\n",
            "Contents\n",
            "\n",
            "Political Background\n",
            "The June 2010 Ethnic Violence\n",
            "Reports of the Commissions of Inquiry\n",
            "The New Constitution and Legislative and Presidential Elections\n",
            "Human Rights\n",
            "Economic Conditions\n",
            "Foreign Policy and Defense\n",
            "Intra-Regional Relations\n",
            "Relations with Russia\n",
            "Armed Forces\n",
            "Terrorist Incidents\n",
            "U.S. Relations\n",
            "Cooperation on Counter-Terrorism\n",
            "The Status of the Manas Transit Center after the April 2010 Coup\n",
            "The December 2010 Congressional Report on Fuel Contracts\n",
            "Recent Changes in Jet Fuel Suppliers\n",
            "\n",
            "\n",
            "Figures\n",
            "\n",
            "Figure 1. Map of Kyrgyzstan\n",
            "\n",
            "\n",
            "\n",
            "Tables\n",
            "\n",
            "Table 1. U.S. Budgeted Assistance to Kyrgyzstan by Objective and Year, FY1992-FY2001\n",
            "Table 2. U.S. Budgeted Assistance to Kyrgyzstan by Objective and Year, FY2002-FY2010 (and\n",
            "Processing 97-508ENR.txt\n"
          ]
        },
        {
          "output_type": "stream",
          "name": "stderr",
          "text": [
            "Setting `pad_token_id` to `eos_token_id`:2 for open-end generation.\n"
          ]
        },
        {
          "output_type": "stream",
          "name": "stdout",
          "text": [
            "Raw model output for 97-508ENR.txt (first 1000 chars):\n",
            " You are a policy analyst evaluating how evidence-based a policy document is.\n",
            "Below is a policy document. Read it carefully and then apply the rubric that follows.\n",
            "\n",
            "\n",
            "Order Code 97-508 ENR\n",
            "Updated June 3, 2005\n",
            "CRS Report for Congress\n",
            "Received through the CRS Web\n",
            "Country-of-Origin Labeling for Foods\n",
            "Geoffrey S. Becker\n",
            "Specialist in Agricultural Policy\n",
            "Resources, Science, and Industry Division\n",
            "Summary\n",
            "The 2002 farm bill (P.L. 107-171) as modified by the FY2004 USDA appropriation\n",
            "(P.L. 108-199) mandates retail country-of-origin labeling (COOL) for fresh produce, redmeats, and peanuts starting September 30, 2006, and for seafood starting September 30,2004.  Some in Congress still strongly support mandatory COOL, especially afterdiscoveries since 2003 of “mad cow” disease in four Canadian-born cattle.  Otherscounter that COOL is a marketing, not an animal or human health, concern and shouldbe voluntary.  This report will be updated if events warrant.\n",
            "Background\n",
            "Tariff Act Provisions.  Under §\n",
            "Processing 97-305.txt\n"
          ]
        },
        {
          "output_type": "stream",
          "name": "stderr",
          "text": [
            "Setting `pad_token_id` to `eos_token_id`:2 for open-end generation.\n"
          ]
        },
        {
          "output_type": "stream",
          "name": "stdout",
          "text": [
            "Raw model output for 97-305.txt (first 1000 chars):\n",
            " You are a policy analyst evaluating how evidence-based a policy document is.\n",
            "Below is a policy document. Read it carefully and then apply the rubric that follows.\n",
            "\n",
            "\n",
            "97-305 -- Military Base Closures:   A Historical Review from 1988 to 1995\n",
            "\n",
            "Updated October 18, 2004\n",
            " \n",
            "\n",
            "CONTENTS\n",
            "\n",
            "\n",
            "Summary\n",
            "Introduction\n",
            "Report of 1988 Base Closure Commission\n",
            "Creation of 1991 Base Closure Commission\n",
            "\n",
            "Secretary of Defense Cheney's Proposed List\n",
            "\n",
            "1991 Base Closure Commission's Report\n",
            "Congressional Actions on 1991 Recommendations\n",
            "Environmental and Other Considerations\n",
            "Creation of 1993 Base Closure Commission\n",
            "Other Significant Developments (1993-1994)\n",
            "\n",
            "Supreme Court Decision on Judicial Review\n",
            "Changes in Statutory Law\n",
            "Reports on Base Closure Implementation\n",
            "\n",
            "1994 Elections and the 104th Congress\n",
            "Creation of 1995 Base Closure Commission\n",
            "Actions in 1995\n",
            "Subsequent Closure Activity\n",
            "Footnotes\n",
            "\n",
            "\n",
            "\n",
            "\n",
            "Summary\n",
            "The United States has experienced difficulty in closing military bases to match the\n",
            "requirements of downsized forc\n",
            "Processing 97-310.txt\n"
          ]
        },
        {
          "output_type": "stream",
          "name": "stderr",
          "text": [
            "Setting `pad_token_id` to `eos_token_id`:2 for open-end generation.\n"
          ]
        },
        {
          "output_type": "stream",
          "name": "stdout",
          "text": [
            "Raw model output for 97-310.txt (first 1000 chars):\n",
            " You are a policy analyst evaluating how evidence-based a policy document is.\n",
            "Below is a policy document. Read it carefully and then apply the rubric that follows.\n",
            "\n",
            "\n",
            "\n",
            "\n",
            "Order Code 97-310\n",
            "Updated August 29, 2008\n",
            "Health Insurance:  Uninsured Children, \n",
            " by State, 2005-2007\n",
            "Chris L. Peterson and April Grady\n",
            "Domestic Social Policy Division\n",
            "Summary\n",
            "Based on data from the Census Bureau’s Current Population Survey (CPS), an\n",
            "estimated 8.9 million children under age 191 were uninsured in 2007, representing11.3% of all children in the United States.\n",
            "When examining health insurance coverage among children at the state level, a\n",
            "three-year average is used to provide more reliable estimates.  During 2005-2007, theestimated average percentage of children without health insurance nationally was 11.5%,ranging from 4.8% in Massachusetts to 20.9% in Texas.  The proportion of uninsuredchildren tended to be lower in the Midwest and New England, and higher in the Southand West.  In 28 states and the District \n",
            "Processing 97-301.txt\n"
          ]
        },
        {
          "output_type": "stream",
          "name": "stderr",
          "text": [
            "Setting `pad_token_id` to `eos_token_id`:2 for open-end generation.\n"
          ]
        },
        {
          "output_type": "stream",
          "name": "stdout",
          "text": [
            "Raw model output for 97-301.txt (first 1000 chars):\n",
            " You are a policy analyst evaluating how evidence-based a policy document is.\n",
            "Below is a policy document. Read it carefully and then apply the rubric that follows.\n",
            "\n",
            "\n",
            "Order Code 97-301 GOV\n",
            "Updated December 4, 2003\n",
            "CRS Report for Congress\n",
            "Received through the CRS Web\n",
            "The House’s Corrections Calendar\n",
            "Walter J. Oleszek\n",
            "Senior Specialist in the Legislative Process\n",
            "Government and Finance Division\n",
            "Summary\n",
            "On  June 20, 1995, the House of Representatives passed a resolution (H.Res. 168)\n",
            "by a 271 to 146 vote to create an expedited procedure to repeal or correct laws, rules,and regulations that are, as then Rules Chairman Gerald Solomon stated, \"obsolete,ludicrous, duplicative, burdensome, or costly.\"1  The resolution amended the Houserulebook by repealing the Consent Calendar and replacing it with a new CorrectionsCalendar.\n",
            "Background\n",
            "The Consent Calendar originated in 1909 as a way to expedite floor action on\n",
            "noncontroversial measures.  Legislation on that calendar, in order on the first and thi\n",
            "Processing 97-536.txt\n"
          ]
        },
        {
          "output_type": "stream",
          "name": "stderr",
          "text": [
            "Setting `pad_token_id` to `eos_token_id`:2 for open-end generation.\n"
          ]
        },
        {
          "output_type": "stream",
          "name": "stdout",
          "text": [
            "Raw model output for 97-536.txt (first 1000 chars):\n",
            " You are a policy analyst evaluating how evidence-based a policy document is.\n",
            "Below is a policy document. Read it carefully and then apply the rubric that follows.\n",
            "\n",
            "\n",
            "Order Code 97-536 EPW\n",
            "Updated March 14, 2003\n",
            "CRS Report for Congress\n",
            "Received through the CRS Web\n",
            "Job Training Under the\n",
            "Workforce Investment Act (WIA):\n",
            "  An Overview\n",
            "Ann Lordeman\n",
            "Specialist in Social Legislation\n",
            "Domestic Social Policy Division\n",
            "Summary\n",
            "The President signed P.L. 105-220, the Workforce Investment Act of 1998 (WIA),\n",
            "on August 7, 1998.  The intent of this legislation is to consolidate, coordinate, andimprove employment, training, literacy, and vocational rehabilitation programs. Among other things, WIA repealed the Job Training Partnership Act (JTPA), thecountry’s chief training legislation, on July 1, 2000, and replaced it with new trainingprovisions under Title I of WIA.  The funding authorization for WIA programs expireson September 30, 2003.  The focus of this report is on Title I of WIA, and is intendedto \n",
            "Processing 97-373.txt\n"
          ]
        },
        {
          "output_type": "stream",
          "name": "stderr",
          "text": [
            "Setting `pad_token_id` to `eos_token_id`:2 for open-end generation.\n"
          ]
        },
        {
          "output_type": "stream",
          "name": "stdout",
          "text": [
            "Raw model output for 97-373.txt (first 1000 chars):\n",
            " You are a policy analyst evaluating how evidence-based a policy document is.\n",
            "Below is a policy document. Read it carefully and then apply the rubric that follows.\n",
            "\n",
            "\n",
            "Order Code 97-373 E\n",
            "Updated February 15, 2001\n",
            "CRS Report for Congress\n",
            "Received through the CRS Web\n",
            "Private Mortgage Insurance: \n",
            "Cancellation Options\n",
            "Bruce E. Foote\n",
            "Analyst in Housing\n",
            "Domestic Social Policy Division\n",
            "Summary\n",
            "If home mortgage borrowers are unable to make downpayments of at least 20% of\n",
            "the home’s purchase price, lenders generally require that the borrowers obtain some typeof  mortgage  insurance.  In response, the borrowers either obtain private mortgageinsurance  (PMI)  from  mortgage  insurers  or,  when  eligible,  insurance from a federalgovernment agency.  In recent years, the majority of borrowers who need mortgageinsurance have obtained PMI.\n",
            "The purpose of PMI is to protect the lender or secondary market investor from loss\n",
            "if the borrower defaults on a low-downpayment loan.  As the borrower’s equity in \n",
            "Processing 97-488.txt\n"
          ]
        },
        {
          "output_type": "stream",
          "name": "stderr",
          "text": [
            "Setting `pad_token_id` to `eos_token_id`:2 for open-end generation.\n"
          ]
        },
        {
          "output_type": "stream",
          "name": "stdout",
          "text": [
            "Raw model output for 97-488.txt (first 1000 chars):\n",
            " You are a policy analyst evaluating how evidence-based a policy document is.\n",
            "Below is a policy document. Read it carefully and then apply the rubric that follows.\n",
            "\n",
            "\n",
            "Clean Water Act Section 401: Background and Issues\n",
            "March 7, 2016\n",
            "            (97-488)\n",
            "          Jump to Main Text of Report\n",
            "\n",
            "\n",
            "\n",
            "Contents\n",
            "\n",
            "Background\n",
            "Stakeholder Concerns and Other Court Rulings\n",
            "Section 401 and Land Runoff\n",
            "Legislative Response\n",
            "114th Congress\n",
            "\n",
            "\n",
            "Summary\n",
            "Section 401 of the Clean Water Act (CWA) requires that an applicant for a federal license or permit provide a certification that any discharges from the facility will comply with the act, including state-established water quality standard requirements. Disputes have arisen over the states' exercise of this authority in protecting water quality. For the most part, the debate over the Section 401 certification issue has been between states and hydropower interests. A 1994 Supreme Court decision, which upheld the states' authority in this area, dismayed development\n",
            "Processing 97-357.txt\n"
          ]
        },
        {
          "output_type": "stream",
          "name": "stderr",
          "text": [
            "Setting `pad_token_id` to `eos_token_id`:2 for open-end generation.\n"
          ]
        },
        {
          "output_type": "stream",
          "name": "stdout",
          "text": [
            "Raw model output for 97-357.txt (first 1000 chars):\n",
            " You are a policy analyst evaluating how evidence-based a policy document is.\n",
            "Below is a policy document. Read it carefully and then apply the rubric that follows.\n",
            "\n",
            "\n",
            "House Rules Affecting Committees\n",
            "March 21, 2005\n",
            "              (97-357)\n",
            "            \n",
            "\n",
            "\n",
            "Contents\n",
            "\n",
            "Introduction\n",
            "Committee Rules\n",
            "Application of House Rules to Committees\n",
            "Application of Committee Rules to Subcommittees\n",
            "Adoption of Committee Rules\n",
            "Publication of Committee Rules\n",
            "Committee Documents and Records\n",
            "Activities Report\n",
            "Members' Access to Records\n",
            "Preservation of Records\n",
            "Availability of Archived Records\n",
            "Nonavailability of Archived Records\n",
            "Withdrawal of Archived Records\n",
            "Committee Rules on Availability of Archived Records\n",
            "Documents Available Electronically\n",
            "Establishment, Referrals, and Assignments\n",
            "Establishment and Referrals\n",
            "Establishment and Jurisdiction of Standing Committees\n",
            "Number of Subcommittees\n",
            "Referrals by the Speaker\n",
            "Assignments\n",
            "Assignment to Standing Committees\n",
            "Limitation on Assignments\n",
            "Chairmanship Election and Lim\n",
            "Processing 97-522F.txt\n"
          ]
        },
        {
          "output_type": "stream",
          "name": "stderr",
          "text": [
            "Setting `pad_token_id` to `eos_token_id`:2 for open-end generation.\n"
          ]
        },
        {
          "output_type": "stream",
          "name": "stdout",
          "text": [
            "Raw model output for 97-522F.txt (first 1000 chars):\n",
            " You are a policy analyst evaluating how evidence-based a policy document is.\n",
            "Below is a policy document. Read it carefully and then apply the rubric that follows.\n",
            "\n",
            "\n",
            "\n",
            "\n",
            "Order Code 97-522 F\n",
            "Updated June 11, 2008\n",
            "Azerbaijan: Recent Developments\n",
            "and U.S. Interests\n",
            "Jim Nichol\n",
            "Specialist in Russian and Eurasian Affairs\n",
            "Foreign Affairs, Defense, and Trade Division\n",
            "Summary\n",
            "This report discusses political, economic, and security challenges facing\n",
            "Azerbaijan, including the unsettled conflict in the breakaway Nagorno Karabakh region.A table provides basic facts and biographical information.  This report may be updated.Related products include CRS Report RL33453, Armenia, Azerbaijan, and Georgia,Political Developments and Implications for U.S. Interests, by Jim Nichol.\n",
            "U.S. Policy\n",
            "Azerbaijan\n",
            "Autonomous Oblast (AO)Boundary\n",
            "Russia\n",
            "Autonomous Republic(ASSR) Center\n",
            "Autonomous Oblast\n",
            "According to the Administration,\n",
            "(AO) Center\n",
            "0\n",
            "25\n",
            "50\n",
            "75 Kilometers\n",
            "Azerbaijan needs to bolster its commitment to\n",
            "Geo\n",
            "0\n",
            "rg\n",
            "Processing 97-433EPW.txt\n"
          ]
        },
        {
          "output_type": "stream",
          "name": "stderr",
          "text": [
            "Setting `pad_token_id` to `eos_token_id`:2 for open-end generation.\n"
          ]
        },
        {
          "output_type": "stream",
          "name": "stdout",
          "text": [
            "Raw model output for 97-433EPW.txt (first 1000 chars):\n",
            " You are a policy analyst evaluating how evidence-based a policy document is.\n",
            "Below is a policy document. Read it carefully and then apply the rubric that follows.\n",
            "\n",
            "\n",
            "Order Code 97-433 EPW\n",
            "Updated December 27, 2001\n",
            "CRS Report for Congress\n",
            "Received through the CRS Web\n",
            "Individuals with Disabilities Education Act: \n",
            "Full Funding of State Formula\n",
            "Richard N. Apling\n",
            "Specialist in Social Legislation\n",
            "Domestic Social Policy Division\n",
            "Summary\n",
            "The grants to states program of the Individuals with Disabilities Education Act\n",
            "(IDEA) assists participating states to serve school-age children with disabilities.  Thestate funding formula, which provides a foundation amount based on states’ FY1999grants and allocates remaining amounts based on states’ shares of school-age childrenand of school-age poor children, authorizes a maximum allotment per disabled childserved of 40% of the national average per pupil expenditure (APPE).  Annualappropriations have never been sufficient to provide each state its maximum \n",
            "Processing 97-552.txt\n"
          ]
        },
        {
          "output_type": "stream",
          "name": "stderr",
          "text": [
            "Setting `pad_token_id` to `eos_token_id`:2 for open-end generation.\n"
          ]
        },
        {
          "output_type": "stream",
          "name": "stdout",
          "text": [
            "Raw model output for 97-552.txt (first 1000 chars):\n",
            " You are a policy analyst evaluating how evidence-based a policy document is.\n",
            "Below is a policy document. Read it carefully and then apply the rubric that follows.\n",
            "\n",
            "\n",
            "The Discharge Rule in the House: Principal Features and Uses\n",
            "October 14, 2015\n",
            "            (97-552)\n",
            "          Jump to Main Text of Report\n",
            "\n",
            "\n",
            "\n",
            "Contents\n",
            "\n",
            "The Discharge Rule and Agenda Setting in the House\n",
            "Main Features of the Discharge Procedure\n",
            "Discharge on Unreported Measures\n",
            "Discharge on Special Rules for Unreported Measures\n",
            "Discharge on Special Rules for Reported Measures\n",
            "Recovery of Agenda Control through the Committee on Rules\n",
            "For Further Reference\n",
            "\n",
            "\n",
            "Summary\n",
            "The \"discharge rule\" of the House of Representatives allows a measure to come to the floor for consideration even if the committee of referral does not report it and the leadership does not schedule it. To initiate this action, a majority of House Members must first sign a petition for that purpose. After a petition has garnered 218 signatures, a motion to discharge m\n",
            "Processing 97-483.txt\n"
          ]
        },
        {
          "output_type": "stream",
          "name": "stderr",
          "text": [
            "Setting `pad_token_id` to `eos_token_id`:2 for open-end generation.\n"
          ]
        },
        {
          "output_type": "stream",
          "name": "stdout",
          "text": [
            "Raw model output for 97-483.txt (first 1000 chars):\n",
            " You are a policy analyst evaluating how evidence-based a policy document is.\n",
            "Below is a policy document. Read it carefully and then apply the rubric that follows.\n",
            "\n",
            "\n",
            "\n",
            "\n",
            "Order Code 97-483\n",
            "Medicaid Disproportionate Share Payments\n",
            "Updated July 30, 2007\n",
            "Jean Hearne\n",
            "Specialist in Social Legislation\n",
            "Domestic Social Policy Division\n",
            "\n",
            "Medicaid Disproportionate Share Payments\n",
            "Summary\n",
            "The Medicaid statute requires that states make disproportionate share (DSH)\n",
            "adjustments to the payment rates of hospitals treating large numbers of low-incomeand Medicaid patients.  This provision is intended to recognize the disadvantagedsituation of those hospitals.  Although the requirement was established in 1981, DSHpayments did not become a significant part of the program until after 1989, whenthey grew from just under $1 billion to almost $17 billion by 1992.  During that time,states’ Medicaid budgets were facing a number of upward pressures while states werelearning about financing techniques that made it easi\n",
            "Processing 97-43.txt\n"
          ]
        },
        {
          "output_type": "stream",
          "name": "stderr",
          "text": [
            "Setting `pad_token_id` to `eos_token_id`:2 for open-end generation.\n"
          ]
        },
        {
          "output_type": "stream",
          "name": "stdout",
          "text": [
            "Raw model output for 97-43.txt (first 1000 chars):\n",
            " You are a policy analyst evaluating how evidence-based a policy document is.\n",
            "Below is a policy document. Read it carefully and then apply the rubric that follows.\n",
            "\n",
            "\n",
            "Order Code 97-43 SPR\n",
            "Updated December 4, 2002\n",
            "CRS Report for Congress\n",
            "Received through the CRS Web\n",
            "V-Chip and TV Ratings: Helping Parents\n",
            "Supervise Their Children’s Television Viewing\n",
            "Marcia S. Smith\n",
            "Specialist in Aerospace and Telecommunications Policy\n",
            "Resources, Science, and Industry Division\n",
            "Summary\n",
            "To assist parents in supervising the television viewing habits of their children,\n",
            "Congress included a provision in the Telecommunications Act of 1996 (P.L. 104-104)that new television sets with screens 13 inches or larger sold in the United States beequipped with a “V-chip” to screen out objectionable programming.  As of January 1,2000, all such TV sets must have a V-chip.  Use of the V-chip by parents is optional.In March 1998, the Federal Communications Commission approved a ratings systemthat had been developed by the tele\n",
            "Processing 97-417ENR.txt\n"
          ]
        },
        {
          "output_type": "stream",
          "name": "stderr",
          "text": [
            "Setting `pad_token_id` to `eos_token_id`:2 for open-end generation.\n"
          ]
        },
        {
          "output_type": "stream",
          "name": "stdout",
          "text": [
            "Raw model output for 97-417ENR.txt (first 1000 chars):\n",
            " You are a policy analyst evaluating how evidence-based a policy document is.\n",
            "Below is a policy document. Read it carefully and then apply the rubric that follows.\n",
            "\n",
            "\n",
            "Order Code 97-417 ENR\n",
            "Updated June 7, 2004\n",
            "CRS Report for Congress\n",
            "Received through the CRS Web\n",
            "Tobacco-Related Programs and Activities\n",
            " of the U.S. Department of Agriculture:\n",
            "Operation and Cost\n",
            "Jasper Womach\n",
            "Agricultural Policy Specialist\n",
            "Resources, Science, and Industry Division\n",
            "Summary\n",
            "The U.S. Department of Agriculture (USDA) has long operated programs that\n",
            "directly assist farmers and others with the production and marketing of numerous crops,including tobacco.  In most cases, the programs themselves are not controversial.Increasingly, however, where tobacco is involved, the use of federal funds is beingcalled into question.  Taken together, all of the directly tobacco-related activities of theUSDA generated net expenditures of an estimated $85.8 million in FY2004, and thebudget anticipates net revenues of $32.6 million\n",
            "Processing 97-408.txt\n"
          ]
        },
        {
          "output_type": "stream",
          "name": "stderr",
          "text": [
            "Setting `pad_token_id` to `eos_token_id`:2 for open-end generation.\n"
          ]
        },
        {
          "output_type": "stream",
          "name": "stdout",
          "text": [
            "Raw model output for 97-408.txt (first 1000 chars):\n",
            " You are a policy analyst evaluating how evidence-based a policy document is.\n",
            "Below is a policy document. Read it carefully and then apply the rubric that follows.\n",
            "\n",
            "\n",
            "Order Code 97-408 EPW\n",
            "Updated July 14, 2004\n",
            "CRS Report for Congress\n",
            "Received through the CRS Web\n",
            "Child Support Enforcement:  \n",
            "New Reforms and Potential Issues\n",
            "Carmen Solomon-Fears\n",
            "Domestic Social Policy Division\n",
            "Summary\n",
            "P.L. 104-193 (the 1996 welfare reform law) made major changes to the Child\n",
            "Support Enforcement (CSE) program.  Some of the changes include requiring states toincrease the percentage of fathers identified, establishing an integrated, automatednetwork linking all states to information about the location and assets of parents, andrequiring states to implement more enforcement techniques to obtain collections fromdebtor parents.  Additional legislative changes were made in 1997, 1998, and 1999, butnot in 2000, 2001, 2002, or 2003.  This report describes several aspects of the revisedCSE program and discusses thr\n",
            "Processing 97-615.txt\n"
          ]
        },
        {
          "output_type": "stream",
          "name": "stderr",
          "text": [
            "Setting `pad_token_id` to `eos_token_id`:2 for open-end generation.\n"
          ]
        },
        {
          "output_type": "stream",
          "name": "stdout",
          "text": [
            "Raw model output for 97-615.txt (first 1000 chars):\n",
            " You are a policy analyst evaluating how evidence-based a policy document is.\n",
            "Below is a policy document. Read it carefully and then apply the rubric that follows.\n",
            "\n",
            "\n",
            "\n",
            "\n",
            " \n",
            " \n",
            "  \n",
            "Salaries of Members of Congress: Congressional Votes, 1990-2024 \n",
            "Updated September 26, 2024 \n",
            "Congressional Research Service \n",
            "https://crsreports.congress.gov \n",
            "97-615 \n",
            "\n",
            "\n",
            " \n",
            "Congressional Research Service  \n",
            "\n",
            "SUMMARY \n",
            " \n",
            "Salaries of Members of Congress: Congressional Votes, 1990-2024 \n",
            "Article I, Section 6, of the U.S. Constitution requires that compensation for Members of Congress be “ascertained by law, and paid out of the Treasury of the United States.”  \n",
            "Congress has relied on three different methods in adjusting salaries for Members. Specific legislation was last used to provide increases in 1990 and 1991. It was the only method used by Congress for many years. \n",
            "The second method, under which annual adjustments took effect automatically unless disapproved by Congress, was established in 1975. From 1975 to 1989, these\n",
            "Processing 97-589.txt\n"
          ]
        },
        {
          "output_type": "stream",
          "name": "stderr",
          "text": [
            "Setting `pad_token_id` to `eos_token_id`:2 for open-end generation.\n"
          ]
        },
        {
          "output_type": "stream",
          "name": "stdout",
          "text": [
            "Raw model output for 97-589.txt (first 1000 chars):\n",
            " You are a policy analyst evaluating how evidence-based a policy document is.\n",
            "Below is a policy document. Read it carefully and then apply the rubric that follows.\n",
            "\n",
            "\n",
            "Statutory Interpretation: General Principles and Recent Trends\n",
            "September 24, 2014\n",
            "            (97-589)\n",
            "          \n",
            "\n",
            "\n",
            "Contents\n",
            "\n",
            "Introduction\n",
            "Statutory Text\n",
            "In General—Statutory Context and Purpose\n",
            "\"Language\" Canons of Construction\n",
            "In General\n",
            "Ordinary and Specialized Meaning\n",
            "Terms of Art\n",
            "Ordinary Meaning and Dictionary Definitions\n",
            "And/Or\n",
            "Definite/Indefinite Article\n",
            "Shall/May\n",
            "Singular/Plural\n",
            "General, Specific, and Associated Words\n",
            "Grammatical Rules, Punctuation\n",
            "Statutory Language Not to be Construed as \"Mere Surplusage\"\n",
            "Same Phrasing in Same or Related Statutes\n",
            "Different Phrasings in Same Statute\n",
            "\"Congress Knows How to Say ...\"\n",
            "Statutory Silence\n",
            "De Minimis Principle\n",
            "\"Substantive\" Canons of Construction\n",
            "Departure from Common Law or Established Interpretation\n",
            "Preempting State Law, Deferring to State Powers\n",
            "Abrogation of States' E\n",
            "Processing 97-579.txt\n"
          ]
        },
        {
          "output_type": "stream",
          "name": "stderr",
          "text": [
            "Setting `pad_token_id` to `eos_token_id`:2 for open-end generation.\n"
          ]
        },
        {
          "output_type": "stream",
          "name": "stdout",
          "text": [
            "Raw model output for 97-579.txt (first 1000 chars):\n",
            " You are a policy analyst evaluating how evidence-based a policy document is.\n",
            "Below is a policy document. Read it carefully and then apply the rubric that follows.\n",
            "\n",
            "\n",
            "Making Private Entities and Individuals Immune from Tort Liability by Declaring Them Federal Employees\n",
            "July 11, 2008\n",
            "              (97-579)\n",
            "            \n",
            "\n",
            "\n",
            "Contents\n",
            "\n",
            "Pros and Cons\n",
            "List of Statutes\n",
            "Additional Statutes\n",
            "\n",
            "\n",
            "Summary\n",
            "The Federal Tort Claims Act (FTCA), 28 U.S.C. § 1346(b), 2671-2680, makes the United States liable, in accordance with the law of the state where a tort occurs, for some of the torts of its employees committed within the scope of their employment. It also makes federal employees immune from all lawsuits arising under state law for torts committed within the scope of their employment. (The FTCA does not prevent a federal employee from being sued for violating the Constitution or a federal statute that authorizes suit against an individual.) Sometimes, Congress wishes to immunize a private organization, \n",
            "Processing 97-542.txt\n"
          ]
        },
        {
          "output_type": "stream",
          "name": "stderr",
          "text": [
            "Setting `pad_token_id` to `eos_token_id`:2 for open-end generation.\n"
          ]
        },
        {
          "output_type": "stream",
          "name": "stdout",
          "text": [
            "Raw model output for 97-542.txt (first 1000 chars):\n",
            " You are a policy analyst evaluating how evidence-based a policy document is.\n",
            "Below is a policy document. Read it carefully and then apply the rubric that follows.\n",
            "\n",
            "\n",
            "Order Code 97-542 A\n",
            "Updated February 5, 2003\n",
            "CRS Report for Congress\n",
            "Received through the CRS Web\n",
            "The Right of Undocumented Alien Children to\n",
            "Basic Education: An Overview of Plyler v. Doe\n",
            "-name redacted-\n",
            "Legislative Attorney\n",
            "American Law Division\n",
            "Summary\n",
            "In  Plyler v. Doe (457 U.S. 202 (1982)), the Supreme Court held that it was\n",
            "unconstitutional for Texas to deny illegal alien children who were residing in the stateequal access to its elementary and secondary schools.  Though the vote was close (5-4),Plyler remains good law and continues to be cited for the proposition that illegal aliensare not beyond protection under the Constitution. \n",
            "However, while Plyler set limits on state power, it clearly suggested that\n",
            "constitutional restrictions on the ability of states to discriminate against illegal aliensmay be influenced by Co\n",
            "Processing 97-548E.txt\n"
          ]
        },
        {
          "output_type": "stream",
          "name": "stderr",
          "text": [
            "Setting `pad_token_id` to `eos_token_id`:2 for open-end generation.\n"
          ]
        },
        {
          "output_type": "stream",
          "name": "stdout",
          "text": [
            "Raw model output for 97-548E.txt (first 1000 chars):\n",
            " You are a policy analyst evaluating how evidence-based a policy document is.\n",
            "Below is a policy document. Read it carefully and then apply the rubric that follows.\n",
            "\n",
            "\n",
            "Order Code 97-548 E\n",
            "CRS Report for Congress\n",
            "Received through the CRS Web\n",
            "Should Credit Unions Be Taxed?\n",
            "Updated May 23, 2005\n",
            "James M. Bickley\n",
            "Specialist in Public Finance\n",
            "Government and Finance Division\n",
            "Congressional Research Service ˜ The Library of Congress\n",
            "\n",
            "Should Credit Unions Be Taxed?\n",
            "Summary\n",
            "Credit unions are financial cooperatives organized by people with a common\n",
            "bond; they are the only depository institutions that are exempt from the federalcorporate income tax.  As financial cooperatives, credit unions only accept depositsof members and make loans only to members, other credit unions, or credit unionorganizations.  Many Members of Congress advocate a reliance on market forcesrather than tax policy to allocate resources.  Furthermore, some Members of Congressare interested in additional sources of revenue in order\n",
            "Processing 97-398.txt\n"
          ]
        },
        {
          "output_type": "stream",
          "name": "stderr",
          "text": [
            "Setting `pad_token_id` to `eos_token_id`:2 for open-end generation.\n"
          ]
        },
        {
          "output_type": "stream",
          "name": "stdout",
          "text": [
            "Raw model output for 97-398.txt (first 1000 chars):\n",
            " You are a policy analyst evaluating how evidence-based a policy document is.\n",
            "Below is a policy document. Read it carefully and then apply the rubric that follows.\n",
            "\n",
            "\n",
            " \n",
            "Asian Pacific Americans in the United States Congress \n",
            "Lorraine H. Tong Program Specialist \n",
            "June 12, 2013 \n",
            "Congressional Research Service \n",
            "7-5700 \n",
            "www.crs.gov \n",
            "97-398 \n",
            "CRS Report for CongressPr\n",
            "epared for Members and Committees of Congress  \n",
            "\n",
            "Asian Pacific Americans in the United States Congress \n",
            " \n",
            "Summary \n",
            "In the 113th Congress, 13 Asian Pacific Americans were elected to the United States Congress: 1 Senator, 10 Representatives, and 2 Delegates. A total of 52 Asian Pacific Americans have served in the House and Senate from 1900 to the present: 6 Senators (4 who have also served in the House), 26 Representatives (including the 4 who served in the Senate), 11 territorial Delegates, and 13 Resident Commissioners from the Philippine Islands. Resident Commissioners served from 1907 to 1946 while the Philippines was a U.S. ter\n",
            "Processing 97-290.txt\n"
          ]
        },
        {
          "output_type": "stream",
          "name": "stderr",
          "text": [
            "Setting `pad_token_id` to `eos_token_id`:2 for open-end generation.\n"
          ]
        },
        {
          "output_type": "stream",
          "name": "stdout",
          "text": [
            "Raw model output for 97-290.txt (first 1000 chars):\n",
            " You are a policy analyst evaluating how evidence-based a policy document is.\n",
            "Below is a policy document. Read it carefully and then apply the rubric that follows.\n",
            "\n",
            "\n",
            "Stormwater Permits: Status of EPA's Regulatory Program\n",
            "November 28, 2016\n",
            "            (97-290)\n",
            "          Jump to Main Text of Report\n",
            "\n",
            "\n",
            "\n",
            "Contents\n",
            "\n",
            "Background\n",
            "Industrial Facilities\n",
            "Municipalities\n",
            "Phase I\n",
            "Phase II\n",
            "Congressional Interest\n",
            "Oil and Gas Facilities\n",
            "Stormwater Management at Federal Facilities\n",
            "EPA's Stormwater Rulemaking\n",
            "\n",
            "\n",
            "Summary\n",
            "The Environmental Protection Agency (EPA) and states implement a federally mandated program for controlling stormwater discharges from industrial facilities and municipalities. Large cities and most industry sources are subject to rules issued in 1990 (Phase I rules), and EPA issued permit rules to cover smaller cities and other industrial sources and construction sites in 1999 (Phase II rules). Because of the large number of affected sources and deadline changes that led to confusion, numero\n",
            "Processing 97-291ENR.txt\n"
          ]
        },
        {
          "output_type": "stream",
          "name": "stderr",
          "text": [
            "Setting `pad_token_id` to `eos_token_id`:2 for open-end generation.\n"
          ]
        },
        {
          "output_type": "stream",
          "name": "stdout",
          "text": [
            "Raw model output for 97-291ENR.txt (first 1000 chars):\n",
            " You are a policy analyst evaluating how evidence-based a policy document is.\n",
            "Below is a policy document. Read it carefully and then apply the rubric that follows.\n",
            "\n",
            "\n",
            "Order Code 97-291 ENR\n",
            "Updated September 28, 2004\n",
            "CRS Report for Congress\n",
            "Received through the CRS Web\n",
            "NAFTA: Related Environmental Issues \n",
            "and Initiatives\n",
            "Mary Tiemann\n",
            "Specialist in Environmental Policy\n",
            "Resources, Science, and Industry Division\n",
            "Summary\n",
            "The North American Free Trade Agreement (NAFTA) includes several\n",
            "environment-related provisions, that while limited, were unprecedented for theirinclusion in a trade agreement.  However, further environmental (and labor) assuranceswere needed to secure passage of NAFTA, and ultimately, the negotiating parties agreedto a side accord that promotes cooperation on environmental matters and includesprovisions to address a party’s failure to enforce environmental laws.  Additionally, theUnited States and Mexico entered into the Border Environmental CooperationAgreement (BECA), whic\n",
            "Processing 97-243.txt\n"
          ]
        },
        {
          "output_type": "stream",
          "name": "stderr",
          "text": [
            "Setting `pad_token_id` to `eos_token_id`:2 for open-end generation.\n"
          ]
        },
        {
          "output_type": "stream",
          "name": "stdout",
          "text": [
            "Raw model output for 97-243.txt (first 1000 chars):\n",
            " You are a policy analyst evaluating how evidence-based a policy document is.\n",
            "Below is a policy document. Read it carefully and then apply the rubric that follows.\n",
            "\n",
            "\n",
            "Order Code 97-243 EPW\n",
            "Updated January 14, 2005\n",
            "CRS Report for Congress\n",
            "Received through the CRS Web\n",
            "The Current Tax Status of \n",
            "Employer Education Assistance\n",
            "Linda Levine and Bob Lyke\n",
            "Domestic Social Policy Division\n",
            "Summary\n",
            "Section 127 of the Internal Revenue Code allows up to $5,250 in tuition\n",
            "reimbursements and other forms of employer education assistance (e.g., books, supplies,and equipment) to be exempt from income and employment taxes even if the educationdoes not qualify as a deductible business expense.  The Economic Growth and TaxRelief Reconciliation Act of 2001 (P.L. 107-16) reinstated the exclusion for graduate-level courses that begin after December 31, 2001.  As with many other provisions in thatlegislation, the exclusion is extended only through December 31, 2010.\n",
            "Taxable Employer Education Assistance\n",
            "Except as\n",
            "Processing 97-389.txt\n"
          ]
        },
        {
          "output_type": "stream",
          "name": "stderr",
          "text": [
            "Setting `pad_token_id` to `eos_token_id`:2 for open-end generation.\n"
          ]
        },
        {
          "output_type": "stream",
          "name": "stdout",
          "text": [
            "Raw model output for 97-389.txt (first 1000 chars):\n",
            " You are a policy analyst evaluating how evidence-based a policy document is.\n",
            "Below is a policy document. Read it carefully and then apply the rubric that follows.\n",
            "\n",
            "\n",
            "Order Code 97-389\n",
            "CRS Report for Congress\n",
            "Received through the CRS Web\n",
            "Generalized System of Preferences\n",
            "Updated March 30, 2006\n",
            "William H. Cooper\n",
            "Specialist in International Trade and Finance\n",
            "Foreign Affairs, Defense, and Trade Division\n",
            "Congressional Research Service ˜ The Library of Congress\n",
            "\n",
            "Generalized System of Preferences\n",
            "Summary\n",
            "The Generalized System of Preferences (GSP) extends duty-free treatment to\n",
            "certain products that are imported from designated developing countries.  Theprimary purpose of the program, which the United States and other industrialcountries initiated in the 1970s, is to promote economic growth and development inthese countries by stimulating their exports. The program was last reauthorized  untilDecember 31, 2006, by section 410 of the Trade Act of 2002 (P.L. 107-210).  Thesecond session of the 1\n",
            "Processing 97-225EPW.txt\n"
          ]
        },
        {
          "output_type": "stream",
          "name": "stderr",
          "text": [
            "Setting `pad_token_id` to `eos_token_id`:2 for open-end generation.\n"
          ]
        },
        {
          "output_type": "stream",
          "name": "stdout",
          "text": [
            "Raw model output for 97-225EPW.txt (first 1000 chars):\n",
            " You are a policy analyst evaluating how evidence-based a policy document is.\n",
            "Below is a policy document. Read it carefully and then apply the rubric that follows.\n",
            "\n",
            "\n",
            "Order Code 97-225 EPW\n",
            "Updated February 4, 2002\n",
            "CRS Report for Congress\n",
            "Received through the CRS Web\n",
            "Federal Taxation of Student Aid:  An Overview\n",
            "Linda Levine\n",
            "Specialist in Labor Economics\n",
            "Domestic Social Policy Division\n",
            "Bob Lyke\n",
            "Specialist in Social Legislation\n",
            "Domestic Social Policy Division\n",
            "Summary\n",
            "This report summarizes the current rules regarding federal taxation of financial aid\n",
            "for students enrolled in colleges, universities, and other postsecondary educationalinstitutions.  Most financial aid provides income to students, so the question ariseswhether they must pay federal income taxes on it.  Some aid also involves employment,so students may have to pay Federal Insurance Contribution Act (FICA) taxes as well.\n",
            "Scholarships and fellowships (including grants) generally are not taxable if they are\n",
            "used for tuition and r\n",
            "Processing 97-220.txt\n"
          ]
        },
        {
          "output_type": "stream",
          "name": "stderr",
          "text": [
            "Setting `pad_token_id` to `eos_token_id`:2 for open-end generation.\n"
          ]
        },
        {
          "output_type": "stream",
          "name": "stdout",
          "text": [
            "Raw model output for 97-220.txt (first 1000 chars):\n",
            " You are a policy analyst evaluating how evidence-based a policy document is.\n",
            "Below is a policy document. Read it carefully and then apply the rubric that follows.\n",
            "\n",
            "\n",
            "Order Code 97-220 C\n",
            "CRS Report for Congress\n",
            "Received through the CRS Web\n",
            "Grants Work in a Congressional Office\n",
            "Updated January 3, 2005\n",
            "Merete F. Gerli\n",
            "Information Management Specialist\n",
            "Information Research Division\n",
            "Congressional Research Service ˜ The Library of Congress\n",
            "\n",
            "Grants Work in a Congressional Office\n",
            "Summary\n",
            "Members of Congress frequently  receive requests from grant seekers needing\n",
            "funds for projects in districts and states.  The congressional office should firstdetermine its priorities about how much assistance to give constituents, fromproviding information about grants programs to active advocacy of projects.Congressional grants staff can best help grant seekers when they understand theentire grants process. \n",
            "Each office handles grants requests in its own way, depending upon the\n",
            "Member’s legislative agenda, and\n",
            "Processing 97-196.txt\n"
          ]
        },
        {
          "output_type": "stream",
          "name": "stderr",
          "text": [
            "Setting `pad_token_id` to `eos_token_id`:2 for open-end generation.\n"
          ]
        },
        {
          "output_type": "stream",
          "name": "stdout",
          "text": [
            "Raw model output for 97-196.txt (first 1000 chars):\n",
            " You are a policy analyst evaluating how evidence-based a policy document is.\n",
            "Below is a policy document. Read it carefully and then apply the rubric that follows.\n",
            "\n",
            "\n",
            "Order Code 97-196 GOV\n",
            "Updated March 6, 2003\n",
            "CRS Report for Congress\n",
            "Received through the CRS Web\n",
            "The Community Oriented Policing Services\n",
            "(COPS) Program:  An Overview\n",
            "David Teasley and JoAnne O’Bryant\n",
            "Domestic Social Policy Division\n",
            "Summary\n",
            "The Community Oriented Policing Services (COPS) program, administered by the\n",
            "Department of Justice (DOJ), provides financial assistance to eligible police departmentsto help improve community policing efforts. Under the Consolidated AppropriationsResolution for FY2003  (P.L.108-007), the Community Oriented Policing Services(COPS) program is operating for another year with funding appropriated at $928.9million for FY2003.  The budget request for FY2004 is $163.7 million.  The budgetproposal includes a realignment of almost half of the programs administered underCOPS to the Justice Assista\n",
            "Processing 97-223ENR.txt\n"
          ]
        },
        {
          "output_type": "stream",
          "name": "stderr",
          "text": [
            "Setting `pad_token_id` to `eos_token_id`:2 for open-end generation.\n"
          ]
        },
        {
          "output_type": "stream",
          "name": "stdout",
          "text": [
            "Raw model output for 97-223ENR.txt (first 1000 chars):\n",
            " You are a policy analyst evaluating how evidence-based a policy document is.\n",
            "Below is a policy document. Read it carefully and then apply the rubric that follows.\n",
            "\n",
            "\n",
            "Order Code 97-223 ENR\n",
            "CRS Report for Congress\n",
            "Received through the CRS Web\n",
            "Nationwide Permits for Wetlands Projects: \n",
            "Issues and Regulatory Developments\n",
            "Updated February 2, 2005\n",
            "Claudia Copeland\n",
            "Specialist in Resources and Environmental Policy\n",
            "Resources, Science, and Industry Division\n",
            "Congressional Research Service ˜ The Library of Congress\n",
            "\n",
            "Nationwide Permits for Wetlands Projects: \n",
            "Issues and Regulatory Developments\n",
            "Summary\n",
            "General permits issued by the U.S. Army Corps of Engineers authorize various\n",
            "types of development projects in wetlands and other waters of the United States.These permits authorize activities that are similar in nature and are judged to causeonly minimal adverse effect on the environment.  The Corps uses general permits tominimize the burden of its regulatory program:  they authorize landowners to proc\n",
            "Processing 97-141.txt\n"
          ]
        },
        {
          "output_type": "stream",
          "name": "stderr",
          "text": [
            "Setting `pad_token_id` to `eos_token_id`:2 for open-end generation.\n"
          ]
        },
        {
          "output_type": "stream",
          "name": "stdout",
          "text": [
            "Raw model output for 97-141.txt (first 1000 chars):\n",
            " You are a policy analyst evaluating how evidence-based a policy document is.\n",
            "Below is a policy document. Read it carefully and then apply the rubric that follows.\n",
            "\n",
            "\n",
            "Order Code 97-141 A\n",
            "Report for Congress\n",
            "Received through the CRS Web\n",
            "Drug Smuggling, Drug Dealing and Drug Abuse:\n",
            "Background and Overview of the Sanctions Under\n",
            "the Federal Controlled Substances Act and\n",
            "Related Statutes\n",
            "Updated January 30, 2003\n",
            "-name redacted-\n",
            "Senior Specialist\n",
            "American Law Division\n",
            "Congressional Research Service ˜ The Library of Congress\n",
            "\n",
            "Drug Smuggling, Drug Dealing and Drub Abuse:\n",
            "Background and Overview of the Sanctions Under the\n",
            "Federal Controlled Substances Act and Related\n",
            "Statutes\n",
            "Summary\n",
            "This is a brief sketch of the death penalty, terms of imprisonment, fines,\n",
            "sentencing guidelines, forfeitures, civil penalties and other sanctions associated withthe proscriptions of the federal Controlled Substances Act and related statutes.  TheControlled Substances Act (CSA) assigns various plants, drugs and chem\n",
            "Processing 97-122.txt\n"
          ]
        },
        {
          "output_type": "stream",
          "name": "stderr",
          "text": [
            "Setting `pad_token_id` to `eos_token_id`:2 for open-end generation.\n"
          ]
        },
        {
          "output_type": "stream",
          "name": "stdout",
          "text": [
            "Raw model output for 97-122.txt (first 1000 chars):\n",
            " You are a policy analyst evaluating how evidence-based a policy document is.\n",
            "Below is a policy document. Read it carefully and then apply the rubric that follows.\n",
            "\n",
            "\n",
            "Takings Decisions of the U.S. Supreme Court: A Chronology\n",
            "July 20, 2015\n",
            "            (97-122)\n",
            "          \n",
            "\n",
            "\n",
            "Contents\n",
            "\n",
            "Introduction\n",
            "I. Takings Law Today: Penn Central (1978) to the Present\n",
            "II. The Dawn of Regulatory Takings Law: Pennsylvania Coal Co. (1922) to 1978\n",
            "III. Appropriations and Physical Takings Only: 1870 to 1922\n",
            "\n",
            "\n",
            "Summary\n",
            "This report is a reverse chronological listing of U.S. Supreme Court decisions addressing claims that a government entity has \"taken\" private property, as that term is used in the Takings Clause of the Fifth Amendment. The Takings Clause states: \"[N]or shall private property be taken for public use, without just compensation.\" A scattering of related, substantive due process decisions is also included.\n",
            "Under the Takings Clause, courts allow two distinct types of suit. Condemnation (also \"formal co\n",
            "Processing 97-139.txt\n"
          ]
        },
        {
          "output_type": "stream",
          "name": "stderr",
          "text": [
            "Setting `pad_token_id` to `eos_token_id`:2 for open-end generation.\n"
          ]
        },
        {
          "output_type": "stream",
          "name": "stdout",
          "text": [
            "Raw model output for 97-139.txt (first 1000 chars):\n",
            " You are a policy analyst evaluating how evidence-based a policy document is.\n",
            "Below is a policy document. Read it carefully and then apply the rubric that follows.\n",
            "\n",
            "\n",
            "\n",
            "\n",
            " \n",
            "Crime and Forfeiture \n",
            "Updated January 10, 2023 \n",
            "Congressional Research Service \n",
            "https://crsreports.congress.gov \n",
            "97-139 \n",
            "\n",
            "\n",
            "\n",
            "\n",
            "Crime and Forfeiture \n",
            " \n",
            "Summary Modern forfeiture is a creature of statute that calls for the confiscation of certain property related to a criminal offense. Forfeiture has long been a law enforcement tool in the United States. Congress and state legislatures have authorized its use for over 200 years. Every year, it redirects billions of dollars worth of property connected to criminal activity to other uses. Forfeiture law has always been somewhat unique. By the close of the 20th century, however, legislative bodies, commentators, and the courts had begun to examine its eccentricities in greater detail because under some circumstances it could be not only harsh but unfair. The Civil Asset Forfeit\n",
            "Processing 97-116.txt\n"
          ]
        },
        {
          "output_type": "stream",
          "name": "stderr",
          "text": [
            "Setting `pad_token_id` to `eos_token_id`:2 for open-end generation.\n"
          ]
        },
        {
          "output_type": "stream",
          "name": "stdout",
          "text": [
            "Raw model output for 97-116.txt (first 1000 chars):\n",
            " You are a policy analyst evaluating how evidence-based a policy document is.\n",
            "Below is a policy document. Read it carefully and then apply the rubric that follows.\n",
            "\n",
            "\n",
            "Order Code 97-116 EPW\n",
            "Updated January 20, 2004\n",
            "CRS Report for Congress\n",
            "Received through the CRS Web\n",
            "Social Security: Raising or Eliminating\n",
            "the Taxable Earnings Base\n",
            "Laura Haltzel\n",
            "Specialist in Social Legislation\n",
            "Domestic Social Policy Division\n",
            "Summary\n",
            "Social Security taxes are levied on earnings up to a maximum level set each year.\n",
            "In 2004, this maximum — or what is referred to as the taxable earnings base — is$87,900.  There is no similar base for the Medicare Hospital Insurance (HI) portion ofthe tax; all earnings are taxable for HI purposes.  Elimination of the HI base wasproposed by President Clinton and enacted in 1993, effectively beginning in 1994.Recently others have proposed that the base for Social Security be raised or eliminatedas well.  They complain that taxing earnings only up to a certain level creates areg\n",
            "Processing 97-244.txt\n"
          ]
        },
        {
          "output_type": "stream",
          "name": "stderr",
          "text": [
            "Setting `pad_token_id` to `eos_token_id`:2 for open-end generation.\n"
          ]
        },
        {
          "output_type": "stream",
          "name": "stdout",
          "text": [
            "Raw model output for 97-244.txt (first 1000 chars):\n",
            " You are a policy analyst evaluating how evidence-based a policy document is.\n",
            "Below is a policy document. Read it carefully and then apply the rubric that follows.\n",
            "\n",
            "\n",
            "Order Code 97-244 A\n",
            "CRS Report for Congress\n",
            "Received through the CRS Web\n",
            "The \"Right to Die\": \n",
            " Constitutional and\n",
            " Statutory Analysis\n",
            "Updated September 19, 2005\n",
            "-name redacted-\n",
            "Legislative Attorney\n",
            "American Law Division\n",
            "Congressional Research Service ˜ The Library of Congress\n",
            "\n",
            "The \"Right to Die\": Constitutional and Statutory Analysis\n",
            "Summary\n",
            "In the spring of 2005, national attention was drawn to a series of court and\n",
            "legislative actions regarding the withdrawal of nutrition and hydration from a Floridapatient, Theresa Schiavo, who had suffered severe brain damage.  For a summary ofrelevant factual and legal events surrounding this case, see[http://www.miami.edu/ethics2/schiavo/timeline.htm] and CRS Report RL32830,The Schiavo Case: Legal Issues.  This case brought new scrutiny to the “right to die”issue. Although the popular\n",
            "Processing 97-236GOV.txt\n"
          ]
        },
        {
          "output_type": "stream",
          "name": "stderr",
          "text": [
            "Setting `pad_token_id` to `eos_token_id`:2 for open-end generation.\n"
          ]
        },
        {
          "output_type": "stream",
          "name": "stdout",
          "text": [
            "Raw model output for 97-236GOV.txt (first 1000 chars):\n",
            " You are a policy analyst evaluating how evidence-based a policy document is.\n",
            "Below is a policy document. Read it carefully and then apply the rubric that follows.\n",
            "\n",
            "\n",
            "Order Code 97-236 GOV\n",
            "Updated March 15, 2005\n",
            "CRS Report for Congress\n",
            "Received through the CRS Web\n",
            "Floor Procedure in the House of\n",
            "Representatives: A Brief Overview\n",
            "Elizabeth Rybicki and Stanley Bach\n",
            "Government and Finance Division\n",
            "Summary\n",
            "The House considers bills and resolutions on the floor under several different sets\n",
            "of procedures governing the time for debate and the opportunities for amendment.  Someprocedures allow 40 or 60 minutes for debate; others permit debate to continue until amajority of Members vote to end it.  Some procedures prohibit most or all flooramendments; others allow Members to offer any amendments that meet therequirements of the House’s rules and precedents.  Notwithstanding these differences,the rules, precedents, and practices of the House generally are designed to permit themajority to work its\n",
            "Processing 98-170.txt\n"
          ]
        },
        {
          "output_type": "stream",
          "name": "stderr",
          "text": [
            "Setting `pad_token_id` to `eos_token_id`:2 for open-end generation.\n"
          ]
        },
        {
          "output_type": "stream",
          "name": "stdout",
          "text": [
            "Raw model output for 98-170.txt (first 1000 chars):\n",
            " You are a policy analyst evaluating how evidence-based a policy document is.\n",
            "Below is a policy document. Read it carefully and then apply the rubric that follows.\n",
            "\n",
            "\n",
            "Speechwriting in Perspective: A Brief Guide to Effective and Persuasive Communication\n",
            "April 12, 2007\n",
            "              (98-170)\n",
            "            \n",
            "\n",
            "\n",
            "Contents\n",
            "\n",
            "Introduction\n",
            "Writing For The Spoken Word: The Distinctive Task of The Speechwriter\n",
            "Repetition and Variation\n",
            "Cadence and Balance\n",
            "Rhythmic Triads\n",
            "Parallelism\n",
            "Alliteration\n",
            "Anaphora\n",
            "Antithesis\n",
            "Sentence Variation\n",
            "Rhetorical Questions\n",
            "Sentence Fragments\n",
            "Inverted Order\n",
            "Suspension for Climax\n",
            "Use of Conjunctions\n",
            "Imagery\n",
            "Audience Analysis\n",
            "Demographics\n",
            "Audience Size\n",
            "Degree of Political Affiliation\n",
            "Occasion and Purpose\n",
            "Information\n",
            "Persuasion\n",
            "Entertainment\n",
            "Time and Length\n",
            "Time of Day\n",
            "How Many Words?\n",
            "Speech Research\n",
            "Speechwriting Resources\n",
            "Policy Resources\n",
            "Additional Resources\n",
            "Speech Preparation\n",
            "Building Blocks: Suggested Principles\n",
            "The Speech Outline\n",
            "Thematic Clarity\n",
            "Structure\n",
            "Three-Part St\n",
            "Processing 98-16.txt\n"
          ]
        },
        {
          "output_type": "stream",
          "name": "stderr",
          "text": [
            "Setting `pad_token_id` to `eos_token_id`:2 for open-end generation.\n"
          ]
        },
        {
          "output_type": "stream",
          "name": "stdout",
          "text": [
            "Raw model output for 98-16.txt (first 1000 chars):\n",
            " You are a policy analyst evaluating how evidence-based a policy document is.\n",
            "Below is a policy document. Read it carefully and then apply the rubric that follows.\n",
            "\n",
            "\n",
            "Should the Federal Reserve Adopt an Inflation Target?\n",
            "February 10, 2009\n",
            "            (98-16)\n",
            "          \n",
            "\n",
            "\n",
            "Contents\n",
            "\n",
            "Background\n",
            "The Case for Refocusing the Federal Reserve\n",
            "(1) The Neutrality of Money\n",
            "(2) Long and Variable Lags\n",
            "(3) Rational Expectations\n",
            "(4) Precommitment and Credibility\n",
            "(5) The Natural Rate of Unemployment (the NAIRU)\n",
            "(6) The Desire for Greater Accountability\n",
            "The Case in Favor of Refocusing Fed Policy—Summary\n",
            "The Case Against a Single Goal for Federal Reserve Policy\n",
            "(1) Is Money Neutral in the Long Run? Are Expectations Rational?\n",
            "(2) Does NAIRU Exist?\n",
            "(3) Long and Variable Lags (Again)\n",
            "(4) A Little Inflation Can Make Important Adjustments Easier\n",
            "(5) The Importance of Other Goals\n",
            "(6) The Need for Flexibility and Discretion\n",
            "The Case Against a Single Goal Fed Policy—Summary\n",
            "Technical Problems With Implementing a \n",
            "Processing 98-15.txt\n"
          ]
        },
        {
          "output_type": "stream",
          "name": "stderr",
          "text": [
            "Setting `pad_token_id` to `eos_token_id`:2 for open-end generation.\n"
          ]
        },
        {
          "output_type": "stream",
          "name": "stdout",
          "text": [
            "Raw model output for 98-15.txt (first 1000 chars):\n",
            " You are a policy analyst evaluating how evidence-based a policy document is.\n",
            "Below is a policy document. Read it carefully and then apply the rubric that follows.\n",
            "\n",
            "\n",
            "\n",
            "\n",
            " \n",
            "House Committee on Ethics: A Brief History of Its Evolution and Jurisdiction \n",
            "Updated March 31, 2023 \n",
            "Congressional Research Service \n",
            "https://crsreports.congress.gov \n",
            "98-15 \n",
            "\n",
            "\n",
            "\n",
            "\n",
            "House Committee on Ethics: A Brief History of Its Evolution and Jurisdiction \n",
            " \n",
            "Summary The United States Constitution (Article 1, Section 5, clause 1) provides each House of Congress with the sole authority to establish rules, judge membership requirements, and punish and expel Members. From 1789 to 1967, the House of Representatives dealt with disciplinary action against Members on a case-by-case basis, often forming ad-hoc committees to investigate and make recommendations when acts of wrongdoing were brought to the chamber’s attention. Events of the 1960s, including the investigation of Representative Adam Clayton Powell for alleged misuse o\n",
            "Processing 97-896.txt\n"
          ]
        },
        {
          "output_type": "stream",
          "name": "stderr",
          "text": [
            "Setting `pad_token_id` to `eos_token_id`:2 for open-end generation.\n"
          ]
        },
        {
          "output_type": "stream",
          "name": "stdout",
          "text": [
            "Raw model output for 97-896.txt (first 1000 chars):\n",
            " You are a policy analyst evaluating how evidence-based a policy document is.\n",
            "Below is a policy document. Read it carefully and then apply the rubric that follows.\n",
            "\n",
            "\n",
            "Why Certain Trade Agreements Are Approved as Congressional-Executive Agreements Rather Than Treaties\n",
            "April 15, 2013\n",
            "            (97-896)\n",
            "          \n",
            "\n",
            "\n",
            "Contents\n",
            "\n",
            "Statutory Authority for Trade Agreements\n",
            "Development of the Statutory Trade Agreements Program\n",
            "Constitutionality of the Congressional-Executive Trade Agreement: Judicial Views\n",
            "\n",
            "\n",
            "Summary\n",
            "U.S. trade agreements such as the North American Free Trade Agreement (NAFTA), World Trade Organization agreements, and bilateral free trade agreements (FTAs) have been approved by majority vote of each house rather than by two-thirds vote of the Senate—that is, they have been treated as congressional-executive agreements rather than as treaties. The congressional-executive agreement has been the vehicle for implementing Congress's long-standing policy of seeking trade benefits for th\n",
            "Processing 97-875.txt\n"
          ]
        },
        {
          "output_type": "stream",
          "name": "stderr",
          "text": [
            "Setting `pad_token_id` to `eos_token_id`:2 for open-end generation.\n"
          ]
        },
        {
          "output_type": "stream",
          "name": "stdout",
          "text": [
            "Raw model output for 97-875.txt (first 1000 chars):\n",
            " You are a policy analyst evaluating how evidence-based a policy document is.\n",
            "Below is a policy document. Read it carefully and then apply the rubric that follows.\n",
            "\n",
            "\n",
            " \n",
            "Post-Employment, “Revolving Door,” Laws for Federal Personnel \n",
            "Jack Maskell Legislative Attorney \n",
            "May 12, 2010 \n",
            "Congressional Research Service\n",
            "7-5700 \n",
            "www.crs.gov \n",
            "97-875 \n",
            "CRS Report for CongressP\n",
            "repared for Members and Committees of Congress  \n",
            "\n",
            "Post-Employment, “Revolving Door,” Laws for Federal Personnel \n",
            " \n",
            "Summary \n",
            "Federal personnel may be subject to certain conflict of interest restrictions on private employment activities even after they leave U.S. government service. These restrictions, applicable when one enters private employment after having left government service, are often referred to as revolving door laws. For the most part, other than the narrow restrictions specific to procurement officials, these laws restrict only certain “representational” types of employment activities such as lobbying or advocacy dir\n",
            "Processing 97-865.txt\n"
          ]
        },
        {
          "output_type": "stream",
          "name": "stderr",
          "text": [
            "Setting `pad_token_id` to `eos_token_id`:2 for open-end generation.\n"
          ]
        },
        {
          "output_type": "stream",
          "name": "stdout",
          "text": [
            "Raw model output for 97-865.txt (first 1000 chars):\n",
            " You are a policy analyst evaluating how evidence-based a policy document is.\n",
            "Below is a policy document. Read it carefully and then apply the rubric that follows.\n",
            "\n",
            "\n",
            "Points of Order in the Congressional Budget Process\n",
            "October 20, 2015\n",
            "            (97-865)\n",
            "          Jump to Main Text of Report\n",
            "\n",
            "\n",
            "\n",
            "Contents\n",
            "\n",
            "Introduction\n",
            "Application of Points of Order\n",
            "Procedures for Waiving Points of Order\n",
            "\n",
            "\n",
            "Tables\n",
            "\n",
            "Table 1. Points of Order Under the Congressional Budget Act of 1974\n",
            "Table 2. Points of Order Under S.Con.Res. 11 (114th Congress) (Budget Resolution for FY2016)\n",
            "Table 3. Points of Order Under S.Con.Res. 13 (111th Congress) (Budget Resolution for FY2010)\n",
            "Table 4. Points of Order Under S.Con.Res. 21 (110th Congress) (Budget Resolution for FY2008)\n",
            "Table 5. Point of Order Under P.L. 101-508 (Budget Enforcement Act of 1990)\n",
            "Table 6. Related Points of Order Under the Standing Rules and Separate Orders Adopted by the House (114th Congress)\n",
            "Table 7. Points of Order Under P.L. 111-139 (Statutory Pay-As-\n",
            "Processing 97-856.txt\n"
          ]
        },
        {
          "output_type": "stream",
          "name": "stderr",
          "text": [
            "Setting `pad_token_id` to `eos_token_id`:2 for open-end generation.\n"
          ]
        },
        {
          "output_type": "stream",
          "name": "stdout",
          "text": [
            "Raw model output for 97-856.txt (first 1000 chars):\n",
            " You are a policy analyst evaluating how evidence-based a policy document is.\n",
            "Below is a policy document. Read it carefully and then apply the rubric that follows.\n",
            "\n",
            "\n",
            "The Discharge Rule in the House: Recent Use in Historical Context\n",
            "April 17, 2003\n",
            "              (97-856)\n",
            "            \n",
            "\n",
            "\n",
            "Contents\n",
            "\n",
            "Introduction\n",
            "Function of the Discharge Rule\n",
            "Key Features of the Rule\n",
            "Data Presented\n",
            "Use of the Discharge Procedure\n",
            "Frequency of Discharge Attempts\n",
            "Use of the Three Forms of Discharge\n",
            "Number of Signers\n",
            "Success of Discharge Attempts\n",
            "Action Under Discharge Procedure\n",
            "Action Under Other Procedures After a Petition Has Been Entered\n",
            "Action Under Other Procedures While a Petition Was Pending\n",
            "Summary: Action Under All Procedures\n",
            "Recent Discharge Efforts and Floor Action\n",
            "Forms of Discharge and Conditions of Floor Action\n",
            "Conditions of Floor Action and Legislative Success\n",
            "Information Displayed on Measures Receiving Action\n",
            "\n",
            "\n",
            "Tables\n",
            "\n",
            "Table 1. Discharge Petitions Filed, 1931-2002\n",
            "Table 2. Discharge Petitions, 19\n",
            "Processing 97-868.txt\n"
          ]
        },
        {
          "output_type": "stream",
          "name": "stderr",
          "text": [
            "Setting `pad_token_id` to `eos_token_id`:2 for open-end generation.\n"
          ]
        },
        {
          "output_type": "stream",
          "name": "stdout",
          "text": [
            "Raw model output for 97-868.txt (first 1000 chars):\n",
            " You are a policy analyst evaluating how evidence-based a policy document is.\n",
            "Below is a policy document. Read it carefully and then apply the rubric that follows.\n",
            "\n",
            "\n",
            "Internet Domain Names: Background and Policy Issues\n",
            "March 6, 2015\n",
            "            (97-868)\n",
            "          \n",
            "\n",
            "\n",
            "Contents\n",
            "\n",
            "Background and History\n",
            "ICANN Basics\n",
            "Issues in the 114th Congress\n",
            "ICANN's Relationship with the U.S. Government\n",
            "Affirmation of Commitments\n",
            "DOC Contract and Cooperative Agreement: IANA and VeriSign\n",
            "NTIA Intent to Transition Stewardship of the DNS\n",
            "Legislative Activities in the 113th Congress\n",
            "Legislative Activities in the 114th Congress\n",
            "Multistakeholder Process to Develop a Transition Proposal\n",
            "Role of NTIA\n",
            "ICANN, the International Community, and Internet Governance\n",
            "World Conference on International Telecommunications (WCIT)\n",
            "Montevideo Statement on the Future of Internet Cooperation\n",
            "NETmundial\n",
            "Panel on the Future of Global Internet Cooperation\n",
            "NETmundial Initiative\n",
            "2014 Plenipotentiary Conference in Busan\n",
            "Adding New Gene\n",
            "Processing 97-831ENR.txt\n"
          ]
        },
        {
          "output_type": "stream",
          "name": "stderr",
          "text": [
            "Setting `pad_token_id` to `eos_token_id`:2 for open-end generation.\n"
          ]
        },
        {
          "output_type": "stream",
          "name": "stdout",
          "text": [
            "Raw model output for 97-831ENR.txt (first 1000 chars):\n",
            " You are a policy analyst evaluating how evidence-based a policy document is.\n",
            "Below is a policy document. Read it carefully and then apply the rubric that follows.\n",
            "\n",
            "\n",
            "Order Code 97-831 ENR\n",
            "Updated January 4, 2005\n",
            "CRS Report for Congress\n",
            "Received through the CRS Web\n",
            "Clean Water Act and Total Maximum Daily\n",
            "Loads (TMDLs) of Pollutants\n",
            "Claudia Copeland\n",
            "Specialist in Resources and Environmental Policy\n",
            "Resources, Science, and Industry Division\n",
            "Summary\n",
            "Section 303(d) of the Clean Water Act requires states to identify waters that are\n",
            "impaired by pollution, even after application of pollution controls.  For those waters,states must establish a total maximum daily load (TMDL) of pollutants to ensure thatwater quality standards can be attained.  Implementation was dormant until states andEPA were prodded by lawsuits.  The TMDL program has become controversial, in partbecause of requirements and costs now facing states to implement this 30-year-oldprovision of the law, as well as industries, cities,\n",
            "Processing 97-86.txt\n"
          ]
        },
        {
          "output_type": "stream",
          "name": "stderr",
          "text": [
            "Setting `pad_token_id` to `eos_token_id`:2 for open-end generation.\n"
          ]
        },
        {
          "output_type": "stream",
          "name": "stdout",
          "text": [
            "Raw model output for 97-86.txt (first 1000 chars):\n",
            " You are a policy analyst evaluating how evidence-based a policy document is.\n",
            "Below is a policy document. Read it carefully and then apply the rubric that follows.\n",
            "\n",
            "\n",
            "97-86 -- Indian Tribes and Welfare Reform\n",
            "\n",
            "Updated September 28, 2004\n",
            " \n",
            "\n",
            "SummaryThe 1996 welfare law (P.L. 104-193) gives federally recognized\n",
            "Indian tribes (defined to include certain Alaska Native organizations) the option to design and operate their own\n",
            "cash welfare programs for needy children with funds subtracted from their state's block grant for Temporary\n",
            "Assistance to Needy Families (TANF).  As of September 15, 2004, 45 tribal TANF plans were in operation in 16\n",
            "states.  Their annual rate of federal funding totaled $134.2 million. The 1996 law also appropriated $7.6 million\n",
            "annually for work and training activities to tribes in 24 states that operated a pre-TANF work and training\n",
            "program (now named Native Employment Works -- NEW), authorized direct federal funding to Indian tribes for\n",
            "operation of child support enfor\n",
            "Processing 98-142.txt\n"
          ]
        },
        {
          "output_type": "stream",
          "name": "stderr",
          "text": [
            "Setting `pad_token_id` to `eos_token_id`:2 for open-end generation.\n"
          ]
        },
        {
          "output_type": "stream",
          "name": "stdout",
          "text": [
            "Raw model output for 98-142.txt (first 1000 chars):\n",
            " You are a policy analyst evaluating how evidence-based a policy document is.\n",
            "Below is a policy document. Read it carefully and then apply the rubric that follows.\n",
            "\n",
            "\n",
            "Days Reserved for Special Business in the House\n",
            "April 7, 2010\n",
            "              (98-142)\n",
            "            \n",
            "\n",
            "\n",
            "\n",
            "As presented in the following table and described below, several provisions in the rules of the House provide for certain types of business to be privileged for consideration on specified days, some under special procedures. For more information on legislative process, see /analysis/pages/congressionaloperations.aspx.\n",
            "\n",
            "Table 1. Days Reserved for Special Business\n",
            "\n",
            "\n",
            "\n",
            "\n",
            "Monday\n",
            "\n",
            " \n",
            "\n",
            "\n",
            "Tuesday\n",
            "\n",
            " \n",
            "\n",
            "\n",
            "Wednesday\n",
            "\n",
            "\n",
            "\n",
            "\n",
            "Every Monday: Motions to suspend the rules\n",
            "\n",
            " \n",
            "\n",
            "\n",
            "Every Tuesday: Motions to suspend the rules\n",
            "\n",
            " \n",
            "\n",
            "\n",
            "Every Wednesday: Motions to suspend the rules\n",
            "Call of Committees under the Calendar Wednesday procedure\n",
            "\n",
            "\n",
            "\n",
            "\n",
            "Second and Fourth Mondays: Motions to discharge committees\n",
            "Consideration of District of Columbia business\n",
            "\n",
            " \n",
            "\n",
            "\n",
            "First and \n",
            "Processing 97-97.txt\n"
          ]
        },
        {
          "output_type": "stream",
          "name": "stderr",
          "text": [
            "Setting `pad_token_id` to `eos_token_id`:2 for open-end generation.\n"
          ]
        },
        {
          "output_type": "stream",
          "name": "stdout",
          "text": [
            "Raw model output for 97-97.txt (first 1000 chars):\n",
            " You are a policy analyst evaluating how evidence-based a policy document is.\n",
            "Below is a policy document. Read it carefully and then apply the rubric that follows.\n",
            "\n",
            "\n",
            "National Environmental Education Act of 1990: Overview, Implementation, and Issues for Congress\n",
            "September 22, 2008\n",
            "              (97-97)\n",
            "            \n",
            "\n",
            "\n",
            "Contents\n",
            "\n",
            "Introduction\n",
            "Appropriations\n",
            "Overview and Implementation\n",
            "Office of Environmental Education\n",
            "Environmental Education and Training Program\n",
            "Environmental Education Grants\n",
            "Environmental Fellowships\n",
            "Environmental Education Awards\n",
            "Environmental Education Advisory Council and Federal Task Force on Environmental Education\n",
            "National Environmental Education and Training Foundation\n",
            "Issues for Congress and Relevant Legislation\n",
            "\n",
            "\n",
            "Summary\n",
            "The federal role in environmental education has been an ongoing issue. For nearly two decades, EPA has been the primary federal agency responsible for providing financial assistance to schools to support environmental education. The National Envir\n",
            "Processing 98-1006.txt\n"
          ]
        },
        {
          "output_type": "stream",
          "name": "stderr",
          "text": [
            "Setting `pad_token_id` to `eos_token_id`:2 for open-end generation.\n"
          ]
        },
        {
          "output_type": "stream",
          "name": "stdout",
          "text": [
            "Raw model output for 98-1006.txt (first 1000 chars):\n",
            " You are a policy analyst evaluating how evidence-based a policy document is.\n",
            "Below is a policy document. Read it carefully and then apply the rubric that follows.\n",
            "\n",
            "\n",
            "98-1006 -- Military Health Care:\n",
            " The Issue of \"Promised\" Benefits\n",
            "\n",
            "Updated January 19, 2006\n",
            " \n",
            "\n",
            "CONTENTS\n",
            "\n",
            "\n",
            "Summary\n",
            "Introduction\n",
            "Background\n",
            "\n",
            "\"The Promise\"\n",
            "Recent Legislation\n",
            "\n",
            "Footnotes\n",
            "\n",
            "\n",
            "\n",
            "\n",
            "Summary\n",
            "Many military health care beneficiaries, particularly military retirees, their dependents, and\n",
            "those representing their interests, state that they were promised \"free health care for life at military\n",
            "facilities\" as part of their \"contractual agreement\" when they entered the armed forces.  Efforts to\n",
            "locate authoritative documentation of such  promises have not been successful.  Congressional report\n",
            "language and recent court decisions have rejected retiree claims seeking 'free care at military\n",
            "facilities' as a right or entitlement.  These have stated that the medical benefit structure made up of\n",
            "military health care facilities, Tric\n",
            "Processing 98-113.txt\n"
          ]
        },
        {
          "output_type": "stream",
          "name": "stderr",
          "text": [
            "Setting `pad_token_id` to `eos_token_id`:2 for open-end generation.\n"
          ]
        },
        {
          "output_type": "stream",
          "name": "stdout",
          "text": [
            "Raw model output for 98-113.txt (first 1000 chars):\n",
            " You are a policy analyst evaluating how evidence-based a policy document is.\n",
            "Below is a policy document. Read it carefully and then apply the rubric that follows.\n",
            "\n",
            "\n",
            "Order Code 98-113 C\n",
            "Updated August 20, 2002\n",
            "CRS Report for Congress\n",
            "Received through the CRS Web\n",
            "Child Day Care Centers: Resources for\n",
            "Starting and Operating a Child Day Care\n",
            "Center\n",
            "Marjorie H. Washington\n",
            "Information Research Specialist\n",
            "Information Research Division\n",
            "Summary\n",
            "In response to many requests for information on how to start and operate a child\n",
            "day care center, the following has been compiled, including references to printed “howto” materials and to organizations with an interest in child care, which may be sourcesof further assistance.  Internet addresses are given where available.  State and localgovernments may also be consulted for information or regulations relating to theestablishment of child day care centers in their jurisdictions.  This report will be updatedas warranted.\n",
            "Printed Sources\n",
            "The publications c\n",
            "Processing 98-147.txt\n"
          ]
        },
        {
          "output_type": "stream",
          "name": "stderr",
          "text": [
            "Setting `pad_token_id` to `eos_token_id`:2 for open-end generation.\n"
          ]
        },
        {
          "output_type": "stream",
          "name": "stdout",
          "text": [
            "Raw model output for 98-147.txt (first 1000 chars):\n",
            " You are a policy analyst evaluating how evidence-based a policy document is.\n",
            "Below is a policy document. Read it carefully and then apply the rubric that follows.\n",
            "\n",
            "\n",
            "Order Code 98-147\n",
            "Updated April 7, 2004\n",
            "CRS Report for Congress\n",
            "Received through the CRS Web\n",
            "President Clinton’s Vetoes\n",
            "Mitchel A. Sollenberger\n",
            "Analyst in American National Government\n",
            "Government and Finance Division\n",
            "Summary\n",
            "President William Jefferson Clinton vetoed 17 bills during his first term in office\n",
            "(1993-1996) and 20 bills during his second term.  All but one of President Clinton’s 37vetoes were regular or return vetoes; one was pocket vetoed.  Congress attempted tooverride 13 of President Clinton’s vetoes; two were overridden.\n",
            "Introduction\n",
            "When presented with legislation passed by both houses of Congress, the President\n",
            "may sign it into law within the 10-day period prescribed in the Constitution, let it becomelaw without his signature, or veto it.  All bills and joint resolutions, except thoseproposing amendments to\n",
            "Processing 98-151.txt\n"
          ]
        },
        {
          "output_type": "stream",
          "name": "stderr",
          "text": [
            "Setting `pad_token_id` to `eos_token_id`:2 for open-end generation.\n"
          ]
        },
        {
          "output_type": "stream",
          "name": "stdout",
          "text": [
            "Raw model output for 98-151.txt (first 1000 chars):\n",
            " You are a policy analyst evaluating how evidence-based a policy document is.\n",
            "Below is a policy document. Read it carefully and then apply the rubric that follows.\n",
            "\n",
            "\n",
            "House Committees: Categories and Rules for Committee Assignments\n",
            "October 17, 2014\n",
            "            (98-151)\n",
            "          \n",
            "\n",
            "\n",
            "Contents\n",
            "\n",
            "Introduction\n",
            "Number of Assignments\n",
            "Limitations on Assignments\n",
            "\n",
            "\n",
            "Tables\n",
            "\n",
            "Table 1. Categories of Committees\n",
            "\n",
            "\n",
            "\n",
            "Summary\n",
            "Both House and party rules detail procedures for committee assignments. House rules address the election and membership of committees, especially limitations on membership. The Democratic Caucus and Republican Conference rules designate categories of committees (shown in Table 1) and specify service limitations in addition to those in the House rules.\n",
            "\n",
            "\n",
            "\n",
            "House Committees: Categories and Rules for Committee Assignments\n",
            "Introduction\n",
            "Both House and party rules detail procedures for committee assignments. House rules address the election and membership of committees, especially limitations\n",
            "Processing 98-169.txt\n"
          ]
        },
        {
          "output_type": "stream",
          "name": "stderr",
          "text": [
            "Setting `pad_token_id` to `eos_token_id`:2 for open-end generation.\n"
          ]
        },
        {
          "output_type": "stream",
          "name": "stdout",
          "text": [
            "Raw model output for 98-169.txt (first 1000 chars):\n",
            " You are a policy analyst evaluating how evidence-based a policy document is.\n",
            "Below is a policy document. Read it carefully and then apply the rubric that follows.\n",
            "\n",
            "\n",
            "House Committee Reports: Required Contents\n",
            "February 9, 2015\n",
            "            (98-169)\n",
            "          \n",
            "\n",
            "\n",
            "\n",
            "House rules and statutes detail several substantive requirements for items to be included in reports accompanying bills reported from committees, as noted in the following table. For example, most committee reports explain a bill's purpose and the need for the legislation, its cost, the committee votes on amendments and the measure itself, the position of the executive branch, and the specific changes the bill would make in existing law. Not all requirements are applicable to all committees or in all circumstances. There is also no prescribed order for inclusion of these items in the report, although custom has dictated certain common approaches, such as placing at the end of a report the notations of specific changes in law and a\n",
            "Processing 98-151GOV.txt\n"
          ]
        },
        {
          "output_type": "stream",
          "name": "stderr",
          "text": [
            "Setting `pad_token_id` to `eos_token_id`:2 for open-end generation.\n"
          ]
        },
        {
          "output_type": "stream",
          "name": "stdout",
          "text": [
            "Raw model output for 98-151GOV.txt (first 1000 chars):\n",
            " You are a policy analyst evaluating how evidence-based a policy document is.\n",
            "Below is a policy document. Read it carefully and then apply the rubric that follows.\n",
            "\n",
            "\n",
            "\n",
            "\n",
            "\n",
            "\n",
            "\n",
            "\n",
            "\n",
            "\n",
            "Now use this rubric to evaluate:\n",
            "\n",
            "Use the rubric below to score the policy document on five dimensions of evidence-based policymaking.\n",
            "Each dimension should receive a score from 0 to 3, where:\n",
            "\n",
            "0 = No evidence of the dimension\n",
            "1 = Minimal or implicit evidence\n",
            "2 = Moderate or partial evidence\n",
            "3 = Clear, strong, and explicit evidence\n",
            "\n",
            "### Dimensions:\n",
            "\n",
            "1. Use of Empirical Research\n",
            "- 0: No references to empirical evidence or data\n",
            "- 1: Vague or anecdotal references (e.g., “studies show”)\n",
            "- 2: Clear empirical support, but limited sourcing\n",
            "- 3: Multiple, clearly cited, high-quality sources (e.g., peer-reviewed, systematic reviews)\n",
            "\n",
            "2. Formal Evidence-Gathering Process\n",
            "- 0: No structured data gathering\n",
            "- 1: Informal or anecdotal input\n",
            "- 2: Basic assessments (e.g., internal reports, cost estimates)\n",
            "- 3: Formal tools (e.g., R\n",
            "Processing 98-157.txt\n"
          ]
        },
        {
          "output_type": "stream",
          "name": "stderr",
          "text": [
            "Setting `pad_token_id` to `eos_token_id`:2 for open-end generation.\n"
          ]
        },
        {
          "output_type": "stream",
          "name": "stdout",
          "text": [
            "Raw model output for 98-157.txt (first 1000 chars):\n",
            " You are a policy analyst evaluating how evidence-based a policy document is.\n",
            "Below is a policy document. Read it carefully and then apply the rubric that follows.\n",
            "\n",
            "\n",
            "Order Code 98-157\n",
            "Updated April 7, 2004\n",
            "CRS Report for Congress\n",
            "Received through the CRS Web\n",
            "Congressional Overrides of \n",
            "Presidential Vetoes\n",
            "Mitchel A. Sollenberger\n",
            "Analyst in American National Government\n",
            "Government and Finance Division\n",
            "Summary\n",
            "The President’s veto authority is among his most significant tools in legislative\n",
            "dealings with Congress.  It is effective not only in preventing the passage of legislationundesirable to the President, but also as a threat, sometimes forcing Congress to modifylegislation before it is presented to the President.  Students of executive-legislativerelations suggest that Congress’s strength rests with passing statutes and the President’sin vetoing them.  Illustrative of this point is the fact that Presidents have vetoed 1,484bills and Congress has overridden only 106 of them. \n",
            "President \n",
            "Processing 98-148GOV.txt\n"
          ]
        },
        {
          "output_type": "stream",
          "name": "stderr",
          "text": [
            "Setting `pad_token_id` to `eos_token_id`:2 for open-end generation.\n"
          ]
        },
        {
          "output_type": "stream",
          "name": "stdout",
          "text": [
            "Raw model output for 98-148GOV.txt (first 1000 chars):\n",
            " You are a policy analyst evaluating how evidence-based a policy document is.\n",
            "Below is a policy document. Read it carefully and then apply the rubric that follows.\n",
            "\n",
            "\n",
            "Order Code 98-148 GOV\n",
            "Updated June 23, 2003\n",
            "CRS Report for Congress\n",
            "Received through the CRS Web\n",
            "Presidential Vetoes, 1789-Present:\n",
            "A Summary Overview\n",
            "Gary L. Galemore\n",
            "Analyst in American National Government\n",
            "Government and Finance Division\n",
            "Summary\n",
            "The veto power vested in the President by Article I, Section 7 of the Constitution\n",
            "has proved to be an effective tool for the Chief Executive in his dealings with Congress.\n",
            "Since the beginning of the federal government in 1789, 35 of 42 Presidents have\n",
            "exercised their veto authority 2,550 times.  Of that total number, 1,484 have beenreturned vetoes—that is, the rejected legislation was returned to the congressional houseof origin, while it was in session, with a presidential message of explanation—and 1,066were pocket vetoed or rejected while Congress was adjourned.  Congress has \n",
            "Processing 97-91GOV.txt\n"
          ]
        },
        {
          "output_type": "stream",
          "name": "stderr",
          "text": [
            "Setting `pad_token_id` to `eos_token_id`:2 for open-end generation.\n"
          ]
        },
        {
          "output_type": "stream",
          "name": "stdout",
          "text": [
            "Raw model output for 97-91GOV.txt (first 1000 chars):\n",
            " You are a policy analyst evaluating how evidence-based a policy document is.\n",
            "Below is a policy document. Read it carefully and then apply the rubric that follows.\n",
            "\n",
            "\n",
            "Order Code 97-91 GOV\n",
            "Updated March 15, 2002\n",
            "CRS Report for Congress\n",
            "Received through the CRS Web\n",
            "Soft and Hard Money in \n",
            "Contemporary Elections:  What Federal Law \n",
            "Does and Does Not Regulate\n",
            "Joseph E. Cantor\n",
            "Specialist in American National Government\n",
            "Government and Finance Division\n",
            "Summary\n",
            "Financial activity in federal elections is governed by federal statutes, which have\n",
            "evolved under the influence of various court rulings.  The Federal Election Campaign Act(FECA) of 1971, as amended, imposes limitations and prohibitions on money fromcertain sources and requires public disclosure of money raised and spent in federalelections.  Based on the Supreme Court’s 1976 Buckley v. Valeo ruling, federal lawgenerally does not impose mandatory limits on campaign spending by candidates orgroups.1  While federal law regulates some types \n",
            "Processing 98-168.txt\n"
          ]
        },
        {
          "output_type": "stream",
          "name": "stderr",
          "text": [
            "Setting `pad_token_id` to `eos_token_id`:2 for open-end generation.\n"
          ]
        },
        {
          "output_type": "stream",
          "name": "stdout",
          "text": [
            "Raw model output for 98-168.txt (first 1000 chars):\n",
            " You are a policy analyst evaluating how evidence-based a policy document is.\n",
            "Below is a policy document. Read it carefully and then apply the rubric that follows.\n",
            "\n",
            "\n",
            "House Committee Markup: Preparation\n",
            "March 13, 2007\n",
            "              (98-168)\n",
            "            \n",
            "\n",
            "\n",
            "Contents\n",
            "\n",
            "Informational Preparation\n",
            "Political Preparation\n",
            "Chairman's Preparation\n",
            "Procedural Preparation\n",
            "Administrative Preparation\n",
            "\n",
            "\n",
            "Summary\n",
            "Markups provide Members on a committee an opportunity to change parts of a bill prior to its consideration by the full House. A number of administrative, procedural, and substantive steps must be undertaken in preparation for a markup, and other steps could or should be undertaken. Generally, the markup should be strategically planned to minimize controversy, provide Members with political dividends, and position the committee for future action.\n",
            "The information provided here is not comprehensive, nor is every item needed in every case. Rather, this report is intended as a guide for various tasks th\n",
            "Processing 97-975.txt\n"
          ]
        },
        {
          "output_type": "stream",
          "name": "stderr",
          "text": [
            "Setting `pad_token_id` to `eos_token_id`:2 for open-end generation.\n"
          ]
        },
        {
          "output_type": "stream",
          "name": "stdout",
          "text": [
            "Raw model output for 97-975.txt (first 1000 chars):\n",
            " You are a policy analyst evaluating how evidence-based a policy document is.\n",
            "Below is a policy document. Read it carefully and then apply the rubric that follows.\n",
            "\n",
            "\n",
            "\n",
            "\n",
            "Order Code 97-975\n",
            "Updated September 2, 2008\n",
            "Health Insurance Coverage of Children, 2007\n",
            "Chris L. Peterson and April Grady\n",
            "Domestic Social Policy Division\n",
            "Summary\n",
            "Based on data from the Census Bureau’s Current Population Survey (CPS), 8.9\n",
            "million children under age 19 were uninsured in 2007 (11.3%), a statistically significantdecline compared to 9.4 million in 2006 (12.1%).  This decline occurred because of asignificant increase in public coverage, from 26.8% in 2006 to 27.9% in 2007.  Thepercentage of children with employment-based health insurance (61%) was unchanged.\n",
            "Only 7.5% of non-Hispanic white children were uninsured in 2007, compared with\n",
            "20.7% of Hispanic children.  Compared to 2006, black and Hispanic childrenexperienced significant increases in 2007 in rates of public coverage, resulting in a dropin their unins\n",
            "Processing 98-143.txt\n"
          ]
        },
        {
          "output_type": "stream",
          "name": "stderr",
          "text": [
            "Setting `pad_token_id` to `eos_token_id`:2 for open-end generation.\n"
          ]
        },
        {
          "output_type": "stream",
          "name": "stdout",
          "text": [
            "Raw model output for 98-143.txt (first 1000 chars):\n",
            " You are a policy analyst evaluating how evidence-based a policy document is.\n",
            "Below is a policy document. Read it carefully and then apply the rubric that follows.\n",
            "\n",
            "\n",
            "Procedural Distinctions Between the House and the Committee of the Whole\n",
            "October 17, 2014\n",
            "            (98-143)\n",
            "          \n",
            "\n",
            "The Committee of the Whole House on the state of the Union, generally referred to as the Committee of the Whole, is a parliamentary device provided for under House rules to allow the House to operate as a committee on which every Member of the House serves. Through this practice, dating to colonial and English antecedents, the House is able to realize a procedural benefit from having established two somewhat different sets of rules to govern consideration of various types of measures. Measures placed on the Union Calendar must be considered in the Committee of the Whole before the House officially completes action on them, although the committee may also be used to consider other major bills as well.\n",
            "So\n",
            "Processing 97-915EPW.txt\n"
          ]
        },
        {
          "output_type": "stream",
          "name": "stderr",
          "text": [
            "Setting `pad_token_id` to `eos_token_id`:2 for open-end generation.\n"
          ]
        },
        {
          "output_type": "stream",
          "name": "stdout",
          "text": [
            "Raw model output for 97-915EPW.txt (first 1000 chars):\n",
            " You are a policy analyst evaluating how evidence-based a policy document is.\n",
            "Below is a policy document. Read it carefully and then apply the rubric that follows.\n",
            "\n",
            "\n",
            "Order Code 97-915 EPW\n",
            "CRS Report for Congress\n",
            "Received through the CRS Web\n",
            "Tax Benefits for Education\n",
            " in the Taxpayer Relief Act of 1997: \n",
            "  New Legislative Developments\n",
            "Updated July 30, 2001\n",
            "Bob Lyke\n",
            "Specialist in Social Legislation\n",
            "Domestic Social Policy Division\n",
            "Congressional Research Service ˜ The Library of Congress\n",
            "\n",
            "Tax Benefits for Education\n",
            " in the Taxpayer Relief Act of 1997: \n",
            "  New Legislative Developments\n",
            "Summary\n",
            "The  Taxpayer  Relief  Act  of 1997 (P.L. 105-34) substantially expanded tax\n",
            "benefits for education.  Four widely publicized provisions — two new tax credits, anew tax-exempt education savings account (education IRAs), and a new deductionfor interest payments on education loans — can help families pay for college andother postsecondary education expenses.\n",
            "Other  provisions  in the legislation extended t\n",
            "Processing 97-936.txt\n"
          ]
        },
        {
          "output_type": "stream",
          "name": "stderr",
          "text": [
            "Setting `pad_token_id` to `eos_token_id`:2 for open-end generation.\n"
          ]
        },
        {
          "output_type": "stream",
          "name": "stdout",
          "text": [
            "Raw model output for 97-936.txt (first 1000 chars):\n",
            " You are a policy analyst evaluating how evidence-based a policy document is.\n",
            "Below is a policy document. Read it carefully and then apply the rubric that follows.\n",
            "\n",
            "\n",
            "Congressional Oversight\n",
            "October 17, 2012\n",
            "            (97-936)\n",
            "          \n",
            "\n",
            "\n",
            "Contents\n",
            "\n",
            "Organization and Operations\n",
            "Principles and Purposes\n",
            "Powers and Prerogatives\n",
            "The U.S. Constitution\n",
            "Statutes\n",
            "House and Senate Rules\n",
            "Activities and Avenues\n",
            "Selected References\n",
            "CRS Products\n",
            "\n",
            "\n",
            "Summary\n",
            "Congressional oversight of policy implementation and administration has occurred throughout the history of the United States government under the Constitution. Oversight—the review, monitoring, and supervision of operations and activities—takes a variety of forms and utilizes various techniques. These range from specialized investigations by select committees to annual appropriations hearings, and from informal communications between Members or congressional staff and executive personnel to the use of extra-congressional mechanisms, such as offices\n",
            "Processing 97-930.txt\n"
          ]
        },
        {
          "output_type": "stream",
          "name": "stderr",
          "text": [
            "Setting `pad_token_id` to `eos_token_id`:2 for open-end generation.\n"
          ]
        },
        {
          "output_type": "stream",
          "name": "stdout",
          "text": [
            "Raw model output for 97-930.txt (first 1000 chars):\n",
            " You are a policy analyst evaluating how evidence-based a policy document is.\n",
            "Below is a policy document. Read it carefully and then apply the rubric that follows.\n",
            "\n",
            "\n",
            "Order Code 97-930 GOV\n",
            "Updated January 23, 2004\n",
            "CRS Report for Congress\n",
            "Received through the CRS Web\n",
            "The Budget Enforcement Act of 1997:\n",
            "A Fact Sheet\n",
            "Robert Keith\n",
            "Specialist in American National Government\n",
            "Government Division\n",
            "Summary\n",
            "President Clinton signed two reconciliation acts into law in August 1997 as part of\n",
            "a plan to balance the budget by FY2002.  To ensure compliance with this goal,enforcement procedures were included in one of the acts in a title referred to separatelyas the Budget Enforcement Act (BEA) of 1997.  The BEA of 1997 extended proceduresunder the Budget Enforcement Act (BEA) of 1990 through FY2002, when they wereallowed to expire.1  Although the federal budget was in surplus for FY1998-2001, a$158 billion deficit was recorded for FY2002.\n",
            "Background\n",
            "The BEA of 1990 established discretionary spending limi\n",
            "Processing 97-771.txt\n"
          ]
        },
        {
          "output_type": "stream",
          "name": "stderr",
          "text": [
            "Setting `pad_token_id` to `eos_token_id`:2 for open-end generation.\n"
          ]
        },
        {
          "output_type": "stream",
          "name": "stdout",
          "text": [
            "Raw model output for 97-771.txt (first 1000 chars):\n",
            " You are a policy analyst evaluating how evidence-based a policy document is.\n",
            "Below is a policy document. Read it carefully and then apply the rubric that follows.\n",
            "\n",
            "\n",
            " \n",
            "Security Classification Policy and Procedure: E.O. 12958, as Amended \n",
            "Kevin R. Kosar Analyst in American National Government \n",
            "December 31, 2009 \n",
            "Congressional Research Service\n",
            "7-5700 \n",
            "www.crs.gov \n",
            "97-771 \n",
            "CRS Report for CongressP\n",
            "repared for Members and Committees of Congress  \n",
            "\n",
            "Security Classification Policy and Procedure: E.O. 12958, as Amended \n",
            " \n",
            "Summary \n",
            "Largely prescribed in a series of successive presidential executive orders issued over the past 50 years, security classification policy and procedure provide the rationale and arrangements for designating information officially secret for reasons of national security, and for its declassification as well. President Franklin D. Roosevelt issued the first executive order (E.O. 8381) in 1940. \n",
            "Current security classification policy may be found in Executive Order 12958,\n",
            "Processing 97-781.txt\n"
          ]
        },
        {
          "output_type": "stream",
          "name": "stderr",
          "text": [
            "Setting `pad_token_id` to `eos_token_id`:2 for open-end generation.\n"
          ]
        },
        {
          "output_type": "stream",
          "name": "stdout",
          "text": [
            "Raw model output for 97-781.txt (first 1000 chars):\n",
            " You are a policy analyst evaluating how evidence-based a policy document is.\n",
            "Below is a policy document. Read it carefully and then apply the rubric that follows.\n",
            "\n",
            "\n",
            "Order Code 97-781\n",
            "CRS Report for Congress\n",
            "Received through the CRS Web\n",
            "Legislative Proposals:  Selected \n",
            "Considerations for Their Development\n",
            "Updated August 6, 2003\n",
            "Richard Beth and James V. Saturno\n",
            "Specialists in American National Government\n",
            "Government and Finance Division\n",
            "Christopher M. Davis\n",
            "Analyst in American National Government\n",
            "Government and Finance Division\n",
            "Congressional Research Service ˜ The Library of Congress\n",
            "\n",
            "Legislative Proposals:  Selected Considerations for\n",
            "Their Development\n",
            "Summary\n",
            "This report identifies a variety of considerations that may be addressed in\n",
            "developing a legislative proposal.  Its first part identifies some general questions thatmay at the outset clarify the purpose of the proposal: What is the bill’s purpose?What actions, and what class of persons, would it regulate?  What agency or authorit\n",
            "Processing 97-817.txt\n"
          ]
        },
        {
          "output_type": "stream",
          "name": "stderr",
          "text": [
            "Setting `pad_token_id` to `eos_token_id`:2 for open-end generation.\n"
          ]
        },
        {
          "output_type": "stream",
          "name": "stdout",
          "text": [
            "Raw model output for 97-817.txt (first 1000 chars):\n",
            " You are a policy analyst evaluating how evidence-based a policy document is.\n",
            "Below is a policy document. Read it carefully and then apply the rubric that follows.\n",
            "\n",
            "\n",
            "Order Code 97-817 ENR\n",
            "Updated November 7, 2002\n",
            "CRS Report for Congress\n",
            "Received through the CRS Web\n",
            "Agriculture and Fast Track or Trade\n",
            "Promotion Authority\n",
            "Geoffrey S. Becker and Charles E. Hanrahan\n",
            "Specialist and Senior Specialist in Agricultural Policy\n",
            "Resources, Science, and Industry Division\n",
            "Summary\n",
            "New “fast track,” or trade promotion, authority (TPA) cleared the 107th Congress,\n",
            "and was signed into law (P.L. 107-210) on August 6, 2002.  Such authority enables theAdministration to submit negotiated foreign trade agreements to Congress forconsideration under expedited procedures.  Many agricultural and food industry interestswere among the export-oriented enterprises that supported TPA, arguing that foreigntrading partners would not seriously negotiate with an Administration that lacked it.However, some farm groups argue\n",
            "Processing 97-76C.txt\n"
          ]
        },
        {
          "output_type": "stream",
          "name": "stderr",
          "text": [
            "Setting `pad_token_id` to `eos_token_id`:2 for open-end generation.\n"
          ]
        },
        {
          "output_type": "stream",
          "name": "stdout",
          "text": [
            "Raw model output for 97-76C.txt (first 1000 chars):\n",
            " You are a policy analyst evaluating how evidence-based a policy document is.\n",
            "Below is a policy document. Read it carefully and then apply the rubric that follows.\n",
            "\n",
            "\n",
            "Order Code 97-76 C\n",
            "Updated June 10, 2003\n",
            "CRS Report for Congress\n",
            "Received through the CRS Web\n",
            "How to Find Information in a Library and \n",
            "on the Internet\n",
            "Suzy Platt\n",
            "Information Management Specialist\n",
            "Information Research Division\n",
            "Summary\n",
            "This guide to finding information in libraries and on the Internet has been prepared\n",
            "for constituents who want to learn more about topics that interest them.  It includesbackground directories, current information, references for government, politics,legislation, and other sources.  It lists a number of Internet search engines, which can beused at many public libraries.  It also suggests guides on how to search, including onefor kids.  This report will be updated as necessary.\n",
            "Background\n",
            "Members of Congress receive hundreds of requests daily from constituents wanting\n",
            "to know about a wide varie\n",
            "Processing 97-765A.txt\n"
          ]
        },
        {
          "output_type": "stream",
          "name": "stderr",
          "text": [
            "Setting `pad_token_id` to `eos_token_id`:2 for open-end generation.\n"
          ]
        },
        {
          "output_type": "stream",
          "name": "stdout",
          "text": [
            "Raw model output for 97-765A.txt (first 1000 chars):\n",
            " You are a policy analyst evaluating how evidence-based a policy document is.\n",
            "Below is a policy document. Read it carefully and then apply the rubric that follows.\n",
            "\n",
            "\n",
            "\n",
            "\n",
            "Order Code 97-765 A\n",
            "Updated August 29, 2008\n",
            "The Buy American Act: Requiring\n",
            "Government Procurements to Come from\n",
            "Domestic Sources\n",
            "John R. Luckey\n",
            "Legislative Attorney\n",
            " American Law Division\n",
            "Summary\n",
            "The Buy American Act is the major domestic preference statute governing\n",
            "procurement by the federal government.  Essentially it attempts to protect domestic laborby providing a preference for American goods in government purchases.  It was enactedin 1933 and has only been substantively amended four times in the succeeding years.In determining what are American goods, the place of mining, production, ormanufacture is controlling.  The nationality of the contractor is not considered whendetermining if a product is of domestic origin.\n",
            "In the 110th Congress a new reporting requirement was added to the Buy American\n",
            "Act.  Under P.L. 11\n",
            "Processing 97-780.txt\n"
          ]
        },
        {
          "output_type": "stream",
          "name": "stderr",
          "text": [
            "Setting `pad_token_id` to `eos_token_id`:2 for open-end generation.\n"
          ]
        },
        {
          "output_type": "stream",
          "name": "stdout",
          "text": [
            "Raw model output for 97-780.txt (first 1000 chars):\n",
            " You are a policy analyst evaluating how evidence-based a policy document is.\n",
            "Below is a policy document. Read it carefully and then apply the rubric that follows.\n",
            "\n",
            "\n",
            "The Speaker of the House: House Officer, Party Leader, and Representative\n",
            "May 16, 2017\n",
            "            (97-780)\n",
            "          Jump to Main Text of Report\n",
            "\n",
            "\n",
            "\n",
            "Contents\n",
            "\n",
            "Introduction\n",
            "Selection of the Speaker\n",
            "The Speaker as Leader of the House\n",
            "The Speaker as Party Leader\n",
            "The Speaker as a Member of the House\n",
            "\n",
            "\n",
            "Appendixes\n",
            "\n",
            "Appendix A. Speakers of the House of Representatives, 1789-2017\n",
            "Appendix B. Select Bibliography\n",
            "\n",
            "\n",
            "\n",
            "Summary\n",
            "The Speaker of the House of Representatives is widely viewed as symbolizing the power and authority of the House. The Speaker's most prominent role is that of presiding officer of the House. In this capacity, the Speaker is empowered by House rules to administer proceedings on the House floor, including recognition of Members to speak on the floor or make motions and appointment of Members to conference committees\n",
            "Processing 97-905.txt\n"
          ]
        },
        {
          "output_type": "stream",
          "name": "stderr",
          "text": [
            "Setting `pad_token_id` to `eos_token_id`:2 for open-end generation.\n"
          ]
        },
        {
          "output_type": "error",
          "ename": "KeyboardInterrupt",
          "evalue": "",
          "traceback": [
            "\u001b[0;31m---------------------------------------------------------------------------\u001b[0m",
            "\u001b[0;31mKeyboardInterrupt\u001b[0m                         Traceback (most recent call last)",
            "\u001b[0;32m<ipython-input-9-d6f97172628a>\u001b[0m in \u001b[0;36m<cell line: 0>\u001b[0;34m()\u001b[0m\n\u001b[1;32m     31\u001b[0m     )\n\u001b[1;32m     32\u001b[0m \u001b[0;34m\u001b[0m\u001b[0m\n\u001b[0;32m---> 33\u001b[0;31m     \u001b[0mresponse\u001b[0m \u001b[0;34m=\u001b[0m \u001b[0mllm\u001b[0m\u001b[0;34m(\u001b[0m\u001b[0mfull_prompt\u001b[0m\u001b[0;34m)\u001b[0m\u001b[0;34m[\u001b[0m\u001b[0;36m0\u001b[0m\u001b[0;34m]\u001b[0m\u001b[0;34m[\u001b[0m\u001b[0;34m\"generated_text\"\u001b[0m\u001b[0;34m]\u001b[0m\u001b[0;34m\u001b[0m\u001b[0;34m\u001b[0m\u001b[0m\n\u001b[0m\u001b[1;32m     34\u001b[0m     \u001b[0mprint\u001b[0m\u001b[0;34m(\u001b[0m\u001b[0;34mf\"Raw model output for {filename} (first 1000 chars):\\n\"\u001b[0m\u001b[0;34m,\u001b[0m \u001b[0mresponse\u001b[0m\u001b[0;34m[\u001b[0m\u001b[0;34m:\u001b[0m\u001b[0;36m1000\u001b[0m\u001b[0;34m]\u001b[0m\u001b[0;34m)\u001b[0m\u001b[0;34m\u001b[0m\u001b[0;34m\u001b[0m\u001b[0m\n\u001b[1;32m     35\u001b[0m \u001b[0;34m\u001b[0m\u001b[0m\n",
            "\u001b[0;32m/usr/local/lib/python3.11/dist-packages/transformers/pipelines/text_generation.py\u001b[0m in \u001b[0;36m__call__\u001b[0;34m(self, text_inputs, **kwargs)\u001b[0m\n\u001b[1;32m    285\u001b[0m                     \u001b[0;32melse\u001b[0m\u001b[0;34m:\u001b[0m\u001b[0;34m\u001b[0m\u001b[0;34m\u001b[0m\u001b[0m\n\u001b[1;32m    286\u001b[0m                         \u001b[0;32mreturn\u001b[0m \u001b[0msuper\u001b[0m\u001b[0;34m(\u001b[0m\u001b[0;34m)\u001b[0m\u001b[0;34m.\u001b[0m\u001b[0m__call__\u001b[0m\u001b[0;34m(\u001b[0m\u001b[0mlist\u001b[0m\u001b[0;34m(\u001b[0m\u001b[0mchats\u001b[0m\u001b[0;34m)\u001b[0m\u001b[0;34m,\u001b[0m \u001b[0;34m**\u001b[0m\u001b[0mkwargs\u001b[0m\u001b[0;34m)\u001b[0m\u001b[0;34m\u001b[0m\u001b[0;34m\u001b[0m\u001b[0m\n\u001b[0;32m--> 287\u001b[0;31m         \u001b[0;32mreturn\u001b[0m \u001b[0msuper\u001b[0m\u001b[0;34m(\u001b[0m\u001b[0;34m)\u001b[0m\u001b[0;34m.\u001b[0m\u001b[0m__call__\u001b[0m\u001b[0;34m(\u001b[0m\u001b[0mtext_inputs\u001b[0m\u001b[0;34m,\u001b[0m \u001b[0;34m**\u001b[0m\u001b[0mkwargs\u001b[0m\u001b[0;34m)\u001b[0m\u001b[0;34m\u001b[0m\u001b[0;34m\u001b[0m\u001b[0m\n\u001b[0m\u001b[1;32m    288\u001b[0m \u001b[0;34m\u001b[0m\u001b[0m\n\u001b[1;32m    289\u001b[0m     def preprocess(\n",
            "\u001b[0;32m/usr/local/lib/python3.11/dist-packages/transformers/pipelines/base.py\u001b[0m in \u001b[0;36m__call__\u001b[0;34m(self, inputs, num_workers, batch_size, *args, **kwargs)\u001b[0m\n\u001b[1;32m   1377\u001b[0m             )\n\u001b[1;32m   1378\u001b[0m         \u001b[0;32melse\u001b[0m\u001b[0;34m:\u001b[0m\u001b[0;34m\u001b[0m\u001b[0;34m\u001b[0m\u001b[0m\n\u001b[0;32m-> 1379\u001b[0;31m             \u001b[0;32mreturn\u001b[0m \u001b[0mself\u001b[0m\u001b[0;34m.\u001b[0m\u001b[0mrun_single\u001b[0m\u001b[0;34m(\u001b[0m\u001b[0minputs\u001b[0m\u001b[0;34m,\u001b[0m \u001b[0mpreprocess_params\u001b[0m\u001b[0;34m,\u001b[0m \u001b[0mforward_params\u001b[0m\u001b[0;34m,\u001b[0m \u001b[0mpostprocess_params\u001b[0m\u001b[0;34m)\u001b[0m\u001b[0;34m\u001b[0m\u001b[0;34m\u001b[0m\u001b[0m\n\u001b[0m\u001b[1;32m   1380\u001b[0m \u001b[0;34m\u001b[0m\u001b[0m\n\u001b[1;32m   1381\u001b[0m     \u001b[0;32mdef\u001b[0m \u001b[0mrun_multi\u001b[0m\u001b[0;34m(\u001b[0m\u001b[0mself\u001b[0m\u001b[0;34m,\u001b[0m \u001b[0minputs\u001b[0m\u001b[0;34m,\u001b[0m \u001b[0mpreprocess_params\u001b[0m\u001b[0;34m,\u001b[0m \u001b[0mforward_params\u001b[0m\u001b[0;34m,\u001b[0m \u001b[0mpostprocess_params\u001b[0m\u001b[0;34m)\u001b[0m\u001b[0;34m:\u001b[0m\u001b[0;34m\u001b[0m\u001b[0;34m\u001b[0m\u001b[0m\n",
            "\u001b[0;32m/usr/local/lib/python3.11/dist-packages/transformers/pipelines/base.py\u001b[0m in \u001b[0;36mrun_single\u001b[0;34m(self, inputs, preprocess_params, forward_params, postprocess_params)\u001b[0m\n\u001b[1;32m   1384\u001b[0m     \u001b[0;32mdef\u001b[0m \u001b[0mrun_single\u001b[0m\u001b[0;34m(\u001b[0m\u001b[0mself\u001b[0m\u001b[0;34m,\u001b[0m \u001b[0minputs\u001b[0m\u001b[0;34m,\u001b[0m \u001b[0mpreprocess_params\u001b[0m\u001b[0;34m,\u001b[0m \u001b[0mforward_params\u001b[0m\u001b[0;34m,\u001b[0m \u001b[0mpostprocess_params\u001b[0m\u001b[0;34m)\u001b[0m\u001b[0;34m:\u001b[0m\u001b[0;34m\u001b[0m\u001b[0;34m\u001b[0m\u001b[0m\n\u001b[1;32m   1385\u001b[0m         \u001b[0mmodel_inputs\u001b[0m \u001b[0;34m=\u001b[0m \u001b[0mself\u001b[0m\u001b[0;34m.\u001b[0m\u001b[0mpreprocess\u001b[0m\u001b[0;34m(\u001b[0m\u001b[0minputs\u001b[0m\u001b[0;34m,\u001b[0m \u001b[0;34m**\u001b[0m\u001b[0mpreprocess_params\u001b[0m\u001b[0;34m)\u001b[0m\u001b[0;34m\u001b[0m\u001b[0;34m\u001b[0m\u001b[0m\n\u001b[0;32m-> 1386\u001b[0;31m         \u001b[0mmodel_outputs\u001b[0m \u001b[0;34m=\u001b[0m \u001b[0mself\u001b[0m\u001b[0;34m.\u001b[0m\u001b[0mforward\u001b[0m\u001b[0;34m(\u001b[0m\u001b[0mmodel_inputs\u001b[0m\u001b[0;34m,\u001b[0m \u001b[0;34m**\u001b[0m\u001b[0mforward_params\u001b[0m\u001b[0;34m)\u001b[0m\u001b[0;34m\u001b[0m\u001b[0;34m\u001b[0m\u001b[0m\n\u001b[0m\u001b[1;32m   1387\u001b[0m         \u001b[0moutputs\u001b[0m \u001b[0;34m=\u001b[0m \u001b[0mself\u001b[0m\u001b[0;34m.\u001b[0m\u001b[0mpostprocess\u001b[0m\u001b[0;34m(\u001b[0m\u001b[0mmodel_outputs\u001b[0m\u001b[0;34m,\u001b[0m \u001b[0;34m**\u001b[0m\u001b[0mpostprocess_params\u001b[0m\u001b[0;34m)\u001b[0m\u001b[0;34m\u001b[0m\u001b[0;34m\u001b[0m\u001b[0m\n\u001b[1;32m   1388\u001b[0m         \u001b[0;32mreturn\u001b[0m \u001b[0moutputs\u001b[0m\u001b[0;34m\u001b[0m\u001b[0;34m\u001b[0m\u001b[0m\n",
            "\u001b[0;32m/usr/local/lib/python3.11/dist-packages/transformers/pipelines/base.py\u001b[0m in \u001b[0;36mforward\u001b[0;34m(self, model_inputs, **forward_params)\u001b[0m\n\u001b[1;32m   1284\u001b[0m                 \u001b[0;32mwith\u001b[0m \u001b[0minference_context\u001b[0m\u001b[0;34m(\u001b[0m\u001b[0;34m)\u001b[0m\u001b[0;34m:\u001b[0m\u001b[0;34m\u001b[0m\u001b[0;34m\u001b[0m\u001b[0m\n\u001b[1;32m   1285\u001b[0m                     \u001b[0mmodel_inputs\u001b[0m \u001b[0;34m=\u001b[0m \u001b[0mself\u001b[0m\u001b[0;34m.\u001b[0m\u001b[0m_ensure_tensor_on_device\u001b[0m\u001b[0;34m(\u001b[0m\u001b[0mmodel_inputs\u001b[0m\u001b[0;34m,\u001b[0m \u001b[0mdevice\u001b[0m\u001b[0;34m=\u001b[0m\u001b[0mself\u001b[0m\u001b[0;34m.\u001b[0m\u001b[0mdevice\u001b[0m\u001b[0;34m)\u001b[0m\u001b[0;34m\u001b[0m\u001b[0;34m\u001b[0m\u001b[0m\n\u001b[0;32m-> 1286\u001b[0;31m                     \u001b[0mmodel_outputs\u001b[0m \u001b[0;34m=\u001b[0m \u001b[0mself\u001b[0m\u001b[0;34m.\u001b[0m\u001b[0m_forward\u001b[0m\u001b[0;34m(\u001b[0m\u001b[0mmodel_inputs\u001b[0m\u001b[0;34m,\u001b[0m \u001b[0;34m**\u001b[0m\u001b[0mforward_params\u001b[0m\u001b[0;34m)\u001b[0m\u001b[0;34m\u001b[0m\u001b[0;34m\u001b[0m\u001b[0m\n\u001b[0m\u001b[1;32m   1287\u001b[0m                     \u001b[0mmodel_outputs\u001b[0m \u001b[0;34m=\u001b[0m \u001b[0mself\u001b[0m\u001b[0;34m.\u001b[0m\u001b[0m_ensure_tensor_on_device\u001b[0m\u001b[0;34m(\u001b[0m\u001b[0mmodel_outputs\u001b[0m\u001b[0;34m,\u001b[0m \u001b[0mdevice\u001b[0m\u001b[0;34m=\u001b[0m\u001b[0mtorch\u001b[0m\u001b[0;34m.\u001b[0m\u001b[0mdevice\u001b[0m\u001b[0;34m(\u001b[0m\u001b[0;34m\"cpu\"\u001b[0m\u001b[0;34m)\u001b[0m\u001b[0;34m)\u001b[0m\u001b[0;34m\u001b[0m\u001b[0;34m\u001b[0m\u001b[0m\n\u001b[1;32m   1288\u001b[0m             \u001b[0;32melse\u001b[0m\u001b[0;34m:\u001b[0m\u001b[0;34m\u001b[0m\u001b[0;34m\u001b[0m\u001b[0m\n",
            "\u001b[0;32m/usr/local/lib/python3.11/dist-packages/transformers/pipelines/text_generation.py\u001b[0m in \u001b[0;36m_forward\u001b[0;34m(self, model_inputs, **generate_kwargs)\u001b[0m\n\u001b[1;32m    383\u001b[0m             \u001b[0mgenerate_kwargs\u001b[0m\u001b[0;34m[\u001b[0m\u001b[0;34m\"generation_config\"\u001b[0m\u001b[0;34m]\u001b[0m \u001b[0;34m=\u001b[0m \u001b[0mself\u001b[0m\u001b[0;34m.\u001b[0m\u001b[0mgeneration_config\u001b[0m\u001b[0;34m\u001b[0m\u001b[0;34m\u001b[0m\u001b[0m\n\u001b[1;32m    384\u001b[0m \u001b[0;34m\u001b[0m\u001b[0m\n\u001b[0;32m--> 385\u001b[0;31m         \u001b[0moutput\u001b[0m \u001b[0;34m=\u001b[0m \u001b[0mself\u001b[0m\u001b[0;34m.\u001b[0m\u001b[0mmodel\u001b[0m\u001b[0;34m.\u001b[0m\u001b[0mgenerate\u001b[0m\u001b[0;34m(\u001b[0m\u001b[0minput_ids\u001b[0m\u001b[0;34m=\u001b[0m\u001b[0minput_ids\u001b[0m\u001b[0;34m,\u001b[0m \u001b[0mattention_mask\u001b[0m\u001b[0;34m=\u001b[0m\u001b[0mattention_mask\u001b[0m\u001b[0;34m,\u001b[0m \u001b[0;34m**\u001b[0m\u001b[0mgenerate_kwargs\u001b[0m\u001b[0;34m)\u001b[0m\u001b[0;34m\u001b[0m\u001b[0;34m\u001b[0m\u001b[0m\n\u001b[0m\u001b[1;32m    386\u001b[0m \u001b[0;34m\u001b[0m\u001b[0m\n\u001b[1;32m    387\u001b[0m         \u001b[0;32mif\u001b[0m \u001b[0misinstance\u001b[0m\u001b[0;34m(\u001b[0m\u001b[0moutput\u001b[0m\u001b[0;34m,\u001b[0m \u001b[0mModelOutput\u001b[0m\u001b[0;34m)\u001b[0m\u001b[0;34m:\u001b[0m\u001b[0;34m\u001b[0m\u001b[0;34m\u001b[0m\u001b[0m\n",
            "\u001b[0;32m/usr/local/lib/python3.11/dist-packages/torch/utils/_contextlib.py\u001b[0m in \u001b[0;36mdecorate_context\u001b[0;34m(*args, **kwargs)\u001b[0m\n\u001b[1;32m    114\u001b[0m     \u001b[0;32mdef\u001b[0m \u001b[0mdecorate_context\u001b[0m\u001b[0;34m(\u001b[0m\u001b[0;34m*\u001b[0m\u001b[0margs\u001b[0m\u001b[0;34m,\u001b[0m \u001b[0;34m**\u001b[0m\u001b[0mkwargs\u001b[0m\u001b[0;34m)\u001b[0m\u001b[0;34m:\u001b[0m\u001b[0;34m\u001b[0m\u001b[0;34m\u001b[0m\u001b[0m\n\u001b[1;32m    115\u001b[0m         \u001b[0;32mwith\u001b[0m \u001b[0mctx_factory\u001b[0m\u001b[0;34m(\u001b[0m\u001b[0;34m)\u001b[0m\u001b[0;34m:\u001b[0m\u001b[0;34m\u001b[0m\u001b[0;34m\u001b[0m\u001b[0m\n\u001b[0;32m--> 116\u001b[0;31m             \u001b[0;32mreturn\u001b[0m \u001b[0mfunc\u001b[0m\u001b[0;34m(\u001b[0m\u001b[0;34m*\u001b[0m\u001b[0margs\u001b[0m\u001b[0;34m,\u001b[0m \u001b[0;34m**\u001b[0m\u001b[0mkwargs\u001b[0m\u001b[0;34m)\u001b[0m\u001b[0;34m\u001b[0m\u001b[0;34m\u001b[0m\u001b[0m\n\u001b[0m\u001b[1;32m    117\u001b[0m \u001b[0;34m\u001b[0m\u001b[0m\n\u001b[1;32m    118\u001b[0m     \u001b[0;32mreturn\u001b[0m \u001b[0mdecorate_context\u001b[0m\u001b[0;34m\u001b[0m\u001b[0;34m\u001b[0m\u001b[0m\n",
            "\u001b[0;32m/usr/local/lib/python3.11/dist-packages/transformers/generation/utils.py\u001b[0m in \u001b[0;36mgenerate\u001b[0;34m(self, inputs, generation_config, logits_processor, stopping_criteria, prefix_allowed_tokens_fn, synced_gpus, assistant_model, streamer, negative_prompt_ids, negative_prompt_attention_mask, use_model_defaults, **kwargs)\u001b[0m\n\u001b[1;32m   2463\u001b[0m \u001b[0;34m\u001b[0m\u001b[0m\n\u001b[1;32m   2464\u001b[0m             \u001b[0;31m# 12. run sample (it degenerates to greedy search when `generation_config.do_sample=False`)\u001b[0m\u001b[0;34m\u001b[0m\u001b[0;34m\u001b[0m\u001b[0m\n\u001b[0;32m-> 2465\u001b[0;31m             result = self._sample(\n\u001b[0m\u001b[1;32m   2466\u001b[0m                 \u001b[0minput_ids\u001b[0m\u001b[0;34m,\u001b[0m\u001b[0;34m\u001b[0m\u001b[0;34m\u001b[0m\u001b[0m\n\u001b[1;32m   2467\u001b[0m                 \u001b[0mlogits_processor\u001b[0m\u001b[0;34m=\u001b[0m\u001b[0mprepared_logits_processor\u001b[0m\u001b[0;34m,\u001b[0m\u001b[0;34m\u001b[0m\u001b[0;34m\u001b[0m\u001b[0m\n",
            "\u001b[0;32m/usr/local/lib/python3.11/dist-packages/transformers/generation/utils.py\u001b[0m in \u001b[0;36m_sample\u001b[0;34m(self, input_ids, logits_processor, stopping_criteria, generation_config, synced_gpus, streamer, **model_kwargs)\u001b[0m\n\u001b[1;32m   3420\u001b[0m             \u001b[0mis_prefill\u001b[0m \u001b[0;34m=\u001b[0m \u001b[0;32mTrue\u001b[0m\u001b[0;34m\u001b[0m\u001b[0;34m\u001b[0m\u001b[0m\n\u001b[1;32m   3421\u001b[0m \u001b[0;34m\u001b[0m\u001b[0m\n\u001b[0;32m-> 3422\u001b[0;31m         \u001b[0;32mwhile\u001b[0m \u001b[0mself\u001b[0m\u001b[0;34m.\u001b[0m\u001b[0m_has_unfinished_sequences\u001b[0m\u001b[0;34m(\u001b[0m\u001b[0mthis_peer_finished\u001b[0m\u001b[0;34m,\u001b[0m \u001b[0msynced_gpus\u001b[0m\u001b[0;34m,\u001b[0m \u001b[0mdevice\u001b[0m\u001b[0;34m=\u001b[0m\u001b[0minput_ids\u001b[0m\u001b[0;34m.\u001b[0m\u001b[0mdevice\u001b[0m\u001b[0;34m)\u001b[0m\u001b[0;34m:\u001b[0m\u001b[0;34m\u001b[0m\u001b[0;34m\u001b[0m\u001b[0m\n\u001b[0m\u001b[1;32m   3423\u001b[0m             \u001b[0;31m# prepare model inputs\u001b[0m\u001b[0;34m\u001b[0m\u001b[0;34m\u001b[0m\u001b[0m\n\u001b[1;32m   3424\u001b[0m             \u001b[0mmodel_inputs\u001b[0m \u001b[0;34m=\u001b[0m \u001b[0mself\u001b[0m\u001b[0;34m.\u001b[0m\u001b[0mprepare_inputs_for_generation\u001b[0m\u001b[0;34m(\u001b[0m\u001b[0minput_ids\u001b[0m\u001b[0;34m,\u001b[0m \u001b[0;34m**\u001b[0m\u001b[0mmodel_kwargs\u001b[0m\u001b[0;34m)\u001b[0m\u001b[0;34m\u001b[0m\u001b[0;34m\u001b[0m\u001b[0m\n",
            "\u001b[0;31mKeyboardInterrupt\u001b[0m: "
          ]
        }
      ],
      "source": [
        "from pathlib import Path\n",
        "import os\n",
        "import pandas as pd\n",
        "import json\n",
        "import re\n",
        "from transformers import pipeline\n",
        "\n",
        "# Set batch folder\n",
        "batch_folder = \"/content/drive/MyDrive/batch_01\"\n",
        "txt_folder = Path(batch_folder)\n",
        "results = []\n",
        "\n",
        "# Define prompt rubric (keep the existing rubric_prompt from previous cell)\n",
        "for filename in os.listdir(txt_folder):\n",
        "    if not filename.endswith(\".txt\"):\n",
        "        continue\n",
        "    print(f\"Processing {filename}\")\n",
        "    with open(txt_folder / filename, \"r\", encoding=\"utf-8\") as f:\n",
        "        doc_text = f.read()\n",
        "\n",
        "    # Final prompt structure with no static JSON example, only dynamic instruction\n",
        "    full_prompt = (\n",
        "        \"You are a policy analyst evaluating how evidence-based a policy document is.\\n\"\n",
        "        \"Below is a policy document. Read it carefully and then apply the rubric that follows.\\n\\n\"\n",
        "        + doc_text[:3500] + \"\\n\\n\"\n",
        "        + \"Now use this rubric to evaluate:\\n\"\n",
        "        + rubric_prompt + \"\\n\\n\"\n",
        "        + \"Return only a JSON object. Each key should be a rubric dimension. Each value should be an object \"\n",
        "          \"with a 'score' (0–3) and a 'justification' — a sentence explaining why that score was given based on the text of the document.\\n\"\n",
        "        + \"Do not reuse examples or include placeholder text like '...'. Be specific, original, and concise in your justifications.\"\n",
        "    )\n",
        "\n",
        "    response = llm(full_prompt)[0][\"generated_text\"]\n",
        "    print(f\"Raw model output for {filename} (first 1000 chars):\\n\", response[:1000])\n",
        "\n",
        "    parsed = extract_first_json(response)\n",
        "    if not parsed:\n",
        "        print(f\"Could not extract valid JSON for {filename}\")\n",
        "        continue\n",
        "\n",
        "    flat = {\"filename\": filename}\n",
        "    for k, v in parsed.items():\n",
        "        if isinstance(v, dict):\n",
        "            flat[f\"{k} Score\"] = v.get(\"score\")\n",
        "            flat[f\"{k} Justification\"] = v.get(\"justification\")\n",
        "        else:\n",
        "            flat[f\"{k} Score\"] = v\n",
        "            flat[f\"{k} Justification\"] = \"\"\n",
        "    results.append(flat)\n",
        "\n",
        "if results:\n",
        "    df = pd.DataFrame(results)\n",
        "    df.to_csv(\"evidence_scores.csv\", index=False)\n",
        "    print(\"CSV saved as 'evidence_scores.csv'\")\n",
        "else:\n",
        "    print(\"No valid outputs parsed.\")"
      ]
    },
    {
      "cell_type": "code",
      "source": [
        "df = pd.DataFrame(results)"
      ],
      "metadata": {
        "id": "XA6xOfqXJ6ey"
      },
      "id": "XA6xOfqXJ6ey",
      "execution_count": 10,
      "outputs": []
    },
    {
      "cell_type": "code",
      "execution_count": 11,
      "id": "1xF_5LpnD63K",
      "metadata": {
        "id": "1xF_5LpnD63K"
      },
      "outputs": [],
      "source": [
        "df.to_csv(\"evidence_scores.csv\", index=False)"
      ]
    }
  ],
  "metadata": {
    "accelerator": "GPU",
    "colab": {
      "gpuType": "T4",
      "provenance": []
    },
    "kernelspec": {
      "display_name": "Python 3",
      "name": "python3"
    },
    "language_info": {
      "codemirror_mode": {
        "name": "ipython",
        "version": 3
      },
      "file_extension": ".py",
      "mimetype": "text/x-python",
      "name": "python",
      "nbconvert_exporter": "python",
      "pygments_lexer": "ipython3",
      "version": "3.9.7"
    },
    "widgets": {
      "application/vnd.jupyter.widget-state+json": {
        "4ad9be0044074fc8a98fc00afa6ba81c": {
          "model_module": "@jupyter-widgets/controls",
          "model_name": "VBoxModel",
          "model_module_version": "1.5.0",
          "state": {
            "_dom_classes": [],
            "_model_module": "@jupyter-widgets/controls",
            "_model_module_version": "1.5.0",
            "_model_name": "VBoxModel",
            "_view_count": null,
            "_view_module": "@jupyter-widgets/controls",
            "_view_module_version": "1.5.0",
            "_view_name": "VBoxView",
            "box_style": "",
            "children": [],
            "layout": "IPY_MODEL_82a09d3548474b31962aa3f464163c5f"
          }
        },
        "cdb7fc3969cd471f938e360772c5775b": {
          "model_module": "@jupyter-widgets/controls",
          "model_name": "HTMLModel",
          "model_module_version": "1.5.0",
          "state": {
            "_dom_classes": [],
            "_model_module": "@jupyter-widgets/controls",
            "_model_module_version": "1.5.0",
            "_model_name": "HTMLModel",
            "_view_count": null,
            "_view_module": "@jupyter-widgets/controls",
            "_view_module_version": "1.5.0",
            "_view_name": "HTMLView",
            "description": "",
            "description_tooltip": null,
            "layout": "IPY_MODEL_9d646e2be6e14740aed0bd31a4217e4a",
            "placeholder": "​",
            "style": "IPY_MODEL_2a2b14b281b248358b9a12b3a59a16b4",
            "value": "<center> <img\nsrc=https://huggingface.co/front/assets/huggingface_logo-noborder.svg\nalt='Hugging Face'> <br> Copy a token from <a\nhref=\"https://huggingface.co/settings/tokens\" target=\"_blank\">your Hugging Face\ntokens page</a> and paste it below. <br> Immediately click login after copying\nyour token or it might be stored in plain text in this notebook file. </center>"
          }
        },
        "d11201fce6a44d8da40677961745f4d8": {
          "model_module": "@jupyter-widgets/controls",
          "model_name": "PasswordModel",
          "model_module_version": "1.5.0",
          "state": {
            "_dom_classes": [],
            "_model_module": "@jupyter-widgets/controls",
            "_model_module_version": "1.5.0",
            "_model_name": "PasswordModel",
            "_view_count": null,
            "_view_module": "@jupyter-widgets/controls",
            "_view_module_version": "1.5.0",
            "_view_name": "PasswordView",
            "continuous_update": true,
            "description": "Token:",
            "description_tooltip": null,
            "disabled": false,
            "layout": "IPY_MODEL_8baa24eb3b1747ddbe23da2d3fbcdeb6",
            "placeholder": "​",
            "style": "IPY_MODEL_51d9da4a54f14696b3239bed8ecddbd1",
            "value": ""
          }
        },
        "d4de84c120de49e791cd0c9fd0c7efd1": {
          "model_module": "@jupyter-widgets/controls",
          "model_name": "CheckboxModel",
          "model_module_version": "1.5.0",
          "state": {
            "_dom_classes": [],
            "_model_module": "@jupyter-widgets/controls",
            "_model_module_version": "1.5.0",
            "_model_name": "CheckboxModel",
            "_view_count": null,
            "_view_module": "@jupyter-widgets/controls",
            "_view_module_version": "1.5.0",
            "_view_name": "CheckboxView",
            "description": "Add token as git credential?",
            "description_tooltip": null,
            "disabled": false,
            "indent": true,
            "layout": "IPY_MODEL_ed9768d1b2a44bc2a42f844077d5d333",
            "style": "IPY_MODEL_34291d54266c49f78b17ce17f6865d84",
            "value": true
          }
        },
        "4114e881f94a4655855717e0c682b138": {
          "model_module": "@jupyter-widgets/controls",
          "model_name": "ButtonModel",
          "model_module_version": "1.5.0",
          "state": {
            "_dom_classes": [],
            "_model_module": "@jupyter-widgets/controls",
            "_model_module_version": "1.5.0",
            "_model_name": "ButtonModel",
            "_view_count": null,
            "_view_module": "@jupyter-widgets/controls",
            "_view_module_version": "1.5.0",
            "_view_name": "ButtonView",
            "button_style": "",
            "description": "Login",
            "disabled": false,
            "icon": "",
            "layout": "IPY_MODEL_b3dfb388e3c24dc7a9a34e4b9a5d2251",
            "style": "IPY_MODEL_870a674131534cc3afa12ddf33a2c57e",
            "tooltip": ""
          }
        },
        "0d8beea558c0473687590ea6eb878745": {
          "model_module": "@jupyter-widgets/controls",
          "model_name": "HTMLModel",
          "model_module_version": "1.5.0",
          "state": {
            "_dom_classes": [],
            "_model_module": "@jupyter-widgets/controls",
            "_model_module_version": "1.5.0",
            "_model_name": "HTMLModel",
            "_view_count": null,
            "_view_module": "@jupyter-widgets/controls",
            "_view_module_version": "1.5.0",
            "_view_name": "HTMLView",
            "description": "",
            "description_tooltip": null,
            "layout": "IPY_MODEL_684de1922f91479aa7d3405f2caffa4f",
            "placeholder": "​",
            "style": "IPY_MODEL_a3f18c5c63eb4fa8a2381671b9c53269",
            "value": "\n<b>Pro Tip:</b> If you don't already have one, you can create a dedicated\n'notebooks' token with 'write' access, that you can then easily reuse for all\nnotebooks. </center>"
          }
        },
        "82a09d3548474b31962aa3f464163c5f": {
          "model_module": "@jupyter-widgets/base",
          "model_name": "LayoutModel",
          "model_module_version": "1.2.0",
          "state": {
            "_model_module": "@jupyter-widgets/base",
            "_model_module_version": "1.2.0",
            "_model_name": "LayoutModel",
            "_view_count": null,
            "_view_module": "@jupyter-widgets/base",
            "_view_module_version": "1.2.0",
            "_view_name": "LayoutView",
            "align_content": null,
            "align_items": "center",
            "align_self": null,
            "border": null,
            "bottom": null,
            "display": "flex",
            "flex": null,
            "flex_flow": "column",
            "grid_area": null,
            "grid_auto_columns": null,
            "grid_auto_flow": null,
            "grid_auto_rows": null,
            "grid_column": null,
            "grid_gap": null,
            "grid_row": null,
            "grid_template_areas": null,
            "grid_template_columns": null,
            "grid_template_rows": null,
            "height": null,
            "justify_content": null,
            "justify_items": null,
            "left": null,
            "margin": null,
            "max_height": null,
            "max_width": null,
            "min_height": null,
            "min_width": null,
            "object_fit": null,
            "object_position": null,
            "order": null,
            "overflow": null,
            "overflow_x": null,
            "overflow_y": null,
            "padding": null,
            "right": null,
            "top": null,
            "visibility": null,
            "width": "50%"
          }
        },
        "9d646e2be6e14740aed0bd31a4217e4a": {
          "model_module": "@jupyter-widgets/base",
          "model_name": "LayoutModel",
          "model_module_version": "1.2.0",
          "state": {
            "_model_module": "@jupyter-widgets/base",
            "_model_module_version": "1.2.0",
            "_model_name": "LayoutModel",
            "_view_count": null,
            "_view_module": "@jupyter-widgets/base",
            "_view_module_version": "1.2.0",
            "_view_name": "LayoutView",
            "align_content": null,
            "align_items": null,
            "align_self": null,
            "border": null,
            "bottom": null,
            "display": null,
            "flex": null,
            "flex_flow": null,
            "grid_area": null,
            "grid_auto_columns": null,
            "grid_auto_flow": null,
            "grid_auto_rows": null,
            "grid_column": null,
            "grid_gap": null,
            "grid_row": null,
            "grid_template_areas": null,
            "grid_template_columns": null,
            "grid_template_rows": null,
            "height": null,
            "justify_content": null,
            "justify_items": null,
            "left": null,
            "margin": null,
            "max_height": null,
            "max_width": null,
            "min_height": null,
            "min_width": null,
            "object_fit": null,
            "object_position": null,
            "order": null,
            "overflow": null,
            "overflow_x": null,
            "overflow_y": null,
            "padding": null,
            "right": null,
            "top": null,
            "visibility": null,
            "width": null
          }
        },
        "2a2b14b281b248358b9a12b3a59a16b4": {
          "model_module": "@jupyter-widgets/controls",
          "model_name": "DescriptionStyleModel",
          "model_module_version": "1.5.0",
          "state": {
            "_model_module": "@jupyter-widgets/controls",
            "_model_module_version": "1.5.0",
            "_model_name": "DescriptionStyleModel",
            "_view_count": null,
            "_view_module": "@jupyter-widgets/base",
            "_view_module_version": "1.2.0",
            "_view_name": "StyleView",
            "description_width": ""
          }
        },
        "8baa24eb3b1747ddbe23da2d3fbcdeb6": {
          "model_module": "@jupyter-widgets/base",
          "model_name": "LayoutModel",
          "model_module_version": "1.2.0",
          "state": {
            "_model_module": "@jupyter-widgets/base",
            "_model_module_version": "1.2.0",
            "_model_name": "LayoutModel",
            "_view_count": null,
            "_view_module": "@jupyter-widgets/base",
            "_view_module_version": "1.2.0",
            "_view_name": "LayoutView",
            "align_content": null,
            "align_items": null,
            "align_self": null,
            "border": null,
            "bottom": null,
            "display": null,
            "flex": null,
            "flex_flow": null,
            "grid_area": null,
            "grid_auto_columns": null,
            "grid_auto_flow": null,
            "grid_auto_rows": null,
            "grid_column": null,
            "grid_gap": null,
            "grid_row": null,
            "grid_template_areas": null,
            "grid_template_columns": null,
            "grid_template_rows": null,
            "height": null,
            "justify_content": null,
            "justify_items": null,
            "left": null,
            "margin": null,
            "max_height": null,
            "max_width": null,
            "min_height": null,
            "min_width": null,
            "object_fit": null,
            "object_position": null,
            "order": null,
            "overflow": null,
            "overflow_x": null,
            "overflow_y": null,
            "padding": null,
            "right": null,
            "top": null,
            "visibility": null,
            "width": null
          }
        },
        "51d9da4a54f14696b3239bed8ecddbd1": {
          "model_module": "@jupyter-widgets/controls",
          "model_name": "DescriptionStyleModel",
          "model_module_version": "1.5.0",
          "state": {
            "_model_module": "@jupyter-widgets/controls",
            "_model_module_version": "1.5.0",
            "_model_name": "DescriptionStyleModel",
            "_view_count": null,
            "_view_module": "@jupyter-widgets/base",
            "_view_module_version": "1.2.0",
            "_view_name": "StyleView",
            "description_width": ""
          }
        },
        "ed9768d1b2a44bc2a42f844077d5d333": {
          "model_module": "@jupyter-widgets/base",
          "model_name": "LayoutModel",
          "model_module_version": "1.2.0",
          "state": {
            "_model_module": "@jupyter-widgets/base",
            "_model_module_version": "1.2.0",
            "_model_name": "LayoutModel",
            "_view_count": null,
            "_view_module": "@jupyter-widgets/base",
            "_view_module_version": "1.2.0",
            "_view_name": "LayoutView",
            "align_content": null,
            "align_items": null,
            "align_self": null,
            "border": null,
            "bottom": null,
            "display": null,
            "flex": null,
            "flex_flow": null,
            "grid_area": null,
            "grid_auto_columns": null,
            "grid_auto_flow": null,
            "grid_auto_rows": null,
            "grid_column": null,
            "grid_gap": null,
            "grid_row": null,
            "grid_template_areas": null,
            "grid_template_columns": null,
            "grid_template_rows": null,
            "height": null,
            "justify_content": null,
            "justify_items": null,
            "left": null,
            "margin": null,
            "max_height": null,
            "max_width": null,
            "min_height": null,
            "min_width": null,
            "object_fit": null,
            "object_position": null,
            "order": null,
            "overflow": null,
            "overflow_x": null,
            "overflow_y": null,
            "padding": null,
            "right": null,
            "top": null,
            "visibility": null,
            "width": null
          }
        },
        "34291d54266c49f78b17ce17f6865d84": {
          "model_module": "@jupyter-widgets/controls",
          "model_name": "DescriptionStyleModel",
          "model_module_version": "1.5.0",
          "state": {
            "_model_module": "@jupyter-widgets/controls",
            "_model_module_version": "1.5.0",
            "_model_name": "DescriptionStyleModel",
            "_view_count": null,
            "_view_module": "@jupyter-widgets/base",
            "_view_module_version": "1.2.0",
            "_view_name": "StyleView",
            "description_width": ""
          }
        },
        "b3dfb388e3c24dc7a9a34e4b9a5d2251": {
          "model_module": "@jupyter-widgets/base",
          "model_name": "LayoutModel",
          "model_module_version": "1.2.0",
          "state": {
            "_model_module": "@jupyter-widgets/base",
            "_model_module_version": "1.2.0",
            "_model_name": "LayoutModel",
            "_view_count": null,
            "_view_module": "@jupyter-widgets/base",
            "_view_module_version": "1.2.0",
            "_view_name": "LayoutView",
            "align_content": null,
            "align_items": null,
            "align_self": null,
            "border": null,
            "bottom": null,
            "display": null,
            "flex": null,
            "flex_flow": null,
            "grid_area": null,
            "grid_auto_columns": null,
            "grid_auto_flow": null,
            "grid_auto_rows": null,
            "grid_column": null,
            "grid_gap": null,
            "grid_row": null,
            "grid_template_areas": null,
            "grid_template_columns": null,
            "grid_template_rows": null,
            "height": null,
            "justify_content": null,
            "justify_items": null,
            "left": null,
            "margin": null,
            "max_height": null,
            "max_width": null,
            "min_height": null,
            "min_width": null,
            "object_fit": null,
            "object_position": null,
            "order": null,
            "overflow": null,
            "overflow_x": null,
            "overflow_y": null,
            "padding": null,
            "right": null,
            "top": null,
            "visibility": null,
            "width": null
          }
        },
        "870a674131534cc3afa12ddf33a2c57e": {
          "model_module": "@jupyter-widgets/controls",
          "model_name": "ButtonStyleModel",
          "model_module_version": "1.5.0",
          "state": {
            "_model_module": "@jupyter-widgets/controls",
            "_model_module_version": "1.5.0",
            "_model_name": "ButtonStyleModel",
            "_view_count": null,
            "_view_module": "@jupyter-widgets/base",
            "_view_module_version": "1.2.0",
            "_view_name": "StyleView",
            "button_color": null,
            "font_weight": ""
          }
        },
        "684de1922f91479aa7d3405f2caffa4f": {
          "model_module": "@jupyter-widgets/base",
          "model_name": "LayoutModel",
          "model_module_version": "1.2.0",
          "state": {
            "_model_module": "@jupyter-widgets/base",
            "_model_module_version": "1.2.0",
            "_model_name": "LayoutModel",
            "_view_count": null,
            "_view_module": "@jupyter-widgets/base",
            "_view_module_version": "1.2.0",
            "_view_name": "LayoutView",
            "align_content": null,
            "align_items": null,
            "align_self": null,
            "border": null,
            "bottom": null,
            "display": null,
            "flex": null,
            "flex_flow": null,
            "grid_area": null,
            "grid_auto_columns": null,
            "grid_auto_flow": null,
            "grid_auto_rows": null,
            "grid_column": null,
            "grid_gap": null,
            "grid_row": null,
            "grid_template_areas": null,
            "grid_template_columns": null,
            "grid_template_rows": null,
            "height": null,
            "justify_content": null,
            "justify_items": null,
            "left": null,
            "margin": null,
            "max_height": null,
            "max_width": null,
            "min_height": null,
            "min_width": null,
            "object_fit": null,
            "object_position": null,
            "order": null,
            "overflow": null,
            "overflow_x": null,
            "overflow_y": null,
            "padding": null,
            "right": null,
            "top": null,
            "visibility": null,
            "width": null
          }
        },
        "a3f18c5c63eb4fa8a2381671b9c53269": {
          "model_module": "@jupyter-widgets/controls",
          "model_name": "DescriptionStyleModel",
          "model_module_version": "1.5.0",
          "state": {
            "_model_module": "@jupyter-widgets/controls",
            "_model_module_version": "1.5.0",
            "_model_name": "DescriptionStyleModel",
            "_view_count": null,
            "_view_module": "@jupyter-widgets/base",
            "_view_module_version": "1.2.0",
            "_view_name": "StyleView",
            "description_width": ""
          }
        },
        "b8fec1ce4b4d42bf8803a08289ba5381": {
          "model_module": "@jupyter-widgets/controls",
          "model_name": "LabelModel",
          "model_module_version": "1.5.0",
          "state": {
            "_dom_classes": [],
            "_model_module": "@jupyter-widgets/controls",
            "_model_module_version": "1.5.0",
            "_model_name": "LabelModel",
            "_view_count": null,
            "_view_module": "@jupyter-widgets/controls",
            "_view_module_version": "1.5.0",
            "_view_name": "LabelView",
            "description": "",
            "description_tooltip": null,
            "layout": "IPY_MODEL_0a5001df4860492391be27907b0f31dd",
            "placeholder": "​",
            "style": "IPY_MODEL_8308929f65d84ddc8df03161fb245f2c",
            "value": "Connecting..."
          }
        },
        "0a5001df4860492391be27907b0f31dd": {
          "model_module": "@jupyter-widgets/base",
          "model_name": "LayoutModel",
          "model_module_version": "1.2.0",
          "state": {
            "_model_module": "@jupyter-widgets/base",
            "_model_module_version": "1.2.0",
            "_model_name": "LayoutModel",
            "_view_count": null,
            "_view_module": "@jupyter-widgets/base",
            "_view_module_version": "1.2.0",
            "_view_name": "LayoutView",
            "align_content": null,
            "align_items": null,
            "align_self": null,
            "border": null,
            "bottom": null,
            "display": null,
            "flex": null,
            "flex_flow": null,
            "grid_area": null,
            "grid_auto_columns": null,
            "grid_auto_flow": null,
            "grid_auto_rows": null,
            "grid_column": null,
            "grid_gap": null,
            "grid_row": null,
            "grid_template_areas": null,
            "grid_template_columns": null,
            "grid_template_rows": null,
            "height": null,
            "justify_content": null,
            "justify_items": null,
            "left": null,
            "margin": null,
            "max_height": null,
            "max_width": null,
            "min_height": null,
            "min_width": null,
            "object_fit": null,
            "object_position": null,
            "order": null,
            "overflow": null,
            "overflow_x": null,
            "overflow_y": null,
            "padding": null,
            "right": null,
            "top": null,
            "visibility": null,
            "width": null
          }
        },
        "8308929f65d84ddc8df03161fb245f2c": {
          "model_module": "@jupyter-widgets/controls",
          "model_name": "DescriptionStyleModel",
          "model_module_version": "1.5.0",
          "state": {
            "_model_module": "@jupyter-widgets/controls",
            "_model_module_version": "1.5.0",
            "_model_name": "DescriptionStyleModel",
            "_view_count": null,
            "_view_module": "@jupyter-widgets/base",
            "_view_module_version": "1.2.0",
            "_view_name": "StyleView",
            "description_width": ""
          }
        },
        "40559c8358884581b48e90de0253e362": {
          "model_module": "@jupyter-widgets/controls",
          "model_name": "HBoxModel",
          "model_module_version": "1.5.0",
          "state": {
            "_dom_classes": [],
            "_model_module": "@jupyter-widgets/controls",
            "_model_module_version": "1.5.0",
            "_model_name": "HBoxModel",
            "_view_count": null,
            "_view_module": "@jupyter-widgets/controls",
            "_view_module_version": "1.5.0",
            "_view_name": "HBoxView",
            "box_style": "",
            "children": [
              "IPY_MODEL_d316bc505d1049659a0f5b24bc2eb7f9",
              "IPY_MODEL_2f79718baf9648a6a404a151c4bab280",
              "IPY_MODEL_574561d7a11e4c9f9964ee30ac22b47a"
            ],
            "layout": "IPY_MODEL_d02ad51fd53d4accab3f5645fc9603a3"
          }
        },
        "d316bc505d1049659a0f5b24bc2eb7f9": {
          "model_module": "@jupyter-widgets/controls",
          "model_name": "HTMLModel",
          "model_module_version": "1.5.0",
          "state": {
            "_dom_classes": [],
            "_model_module": "@jupyter-widgets/controls",
            "_model_module_version": "1.5.0",
            "_model_name": "HTMLModel",
            "_view_count": null,
            "_view_module": "@jupyter-widgets/controls",
            "_view_module_version": "1.5.0",
            "_view_name": "HTMLView",
            "description": "",
            "description_tooltip": null,
            "layout": "IPY_MODEL_1b57d2bea865409c8503b57c75c07376",
            "placeholder": "​",
            "style": "IPY_MODEL_1d77038159eb4432b1d99fcf578dc711",
            "value": "model.safetensors.index.json: 100%"
          }
        },
        "2f79718baf9648a6a404a151c4bab280": {
          "model_module": "@jupyter-widgets/controls",
          "model_name": "FloatProgressModel",
          "model_module_version": "1.5.0",
          "state": {
            "_dom_classes": [],
            "_model_module": "@jupyter-widgets/controls",
            "_model_module_version": "1.5.0",
            "_model_name": "FloatProgressModel",
            "_view_count": null,
            "_view_module": "@jupyter-widgets/controls",
            "_view_module_version": "1.5.0",
            "_view_name": "ProgressView",
            "bar_style": "success",
            "description": "",
            "description_tooltip": null,
            "layout": "IPY_MODEL_8973fb8d843440b295c393954e7eace6",
            "max": 25125,
            "min": 0,
            "orientation": "horizontal",
            "style": "IPY_MODEL_f319b30e4b42492c82d60a406ae0c280",
            "value": 25125
          }
        },
        "574561d7a11e4c9f9964ee30ac22b47a": {
          "model_module": "@jupyter-widgets/controls",
          "model_name": "HTMLModel",
          "model_module_version": "1.5.0",
          "state": {
            "_dom_classes": [],
            "_model_module": "@jupyter-widgets/controls",
            "_model_module_version": "1.5.0",
            "_model_name": "HTMLModel",
            "_view_count": null,
            "_view_module": "@jupyter-widgets/controls",
            "_view_module_version": "1.5.0",
            "_view_name": "HTMLView",
            "description": "",
            "description_tooltip": null,
            "layout": "IPY_MODEL_e78e0f85fa7749ecaac51ca0ad917600",
            "placeholder": "​",
            "style": "IPY_MODEL_c749a6c16e3e47b3a4d758f7236b97c6",
            "value": " 25.1k/25.1k [00:00&lt;00:00, 1.12MB/s]"
          }
        },
        "d02ad51fd53d4accab3f5645fc9603a3": {
          "model_module": "@jupyter-widgets/base",
          "model_name": "LayoutModel",
          "model_module_version": "1.2.0",
          "state": {
            "_model_module": "@jupyter-widgets/base",
            "_model_module_version": "1.2.0",
            "_model_name": "LayoutModel",
            "_view_count": null,
            "_view_module": "@jupyter-widgets/base",
            "_view_module_version": "1.2.0",
            "_view_name": "LayoutView",
            "align_content": null,
            "align_items": null,
            "align_self": null,
            "border": null,
            "bottom": null,
            "display": null,
            "flex": null,
            "flex_flow": null,
            "grid_area": null,
            "grid_auto_columns": null,
            "grid_auto_flow": null,
            "grid_auto_rows": null,
            "grid_column": null,
            "grid_gap": null,
            "grid_row": null,
            "grid_template_areas": null,
            "grid_template_columns": null,
            "grid_template_rows": null,
            "height": null,
            "justify_content": null,
            "justify_items": null,
            "left": null,
            "margin": null,
            "max_height": null,
            "max_width": null,
            "min_height": null,
            "min_width": null,
            "object_fit": null,
            "object_position": null,
            "order": null,
            "overflow": null,
            "overflow_x": null,
            "overflow_y": null,
            "padding": null,
            "right": null,
            "top": null,
            "visibility": null,
            "width": null
          }
        },
        "1b57d2bea865409c8503b57c75c07376": {
          "model_module": "@jupyter-widgets/base",
          "model_name": "LayoutModel",
          "model_module_version": "1.2.0",
          "state": {
            "_model_module": "@jupyter-widgets/base",
            "_model_module_version": "1.2.0",
            "_model_name": "LayoutModel",
            "_view_count": null,
            "_view_module": "@jupyter-widgets/base",
            "_view_module_version": "1.2.0",
            "_view_name": "LayoutView",
            "align_content": null,
            "align_items": null,
            "align_self": null,
            "border": null,
            "bottom": null,
            "display": null,
            "flex": null,
            "flex_flow": null,
            "grid_area": null,
            "grid_auto_columns": null,
            "grid_auto_flow": null,
            "grid_auto_rows": null,
            "grid_column": null,
            "grid_gap": null,
            "grid_row": null,
            "grid_template_areas": null,
            "grid_template_columns": null,
            "grid_template_rows": null,
            "height": null,
            "justify_content": null,
            "justify_items": null,
            "left": null,
            "margin": null,
            "max_height": null,
            "max_width": null,
            "min_height": null,
            "min_width": null,
            "object_fit": null,
            "object_position": null,
            "order": null,
            "overflow": null,
            "overflow_x": null,
            "overflow_y": null,
            "padding": null,
            "right": null,
            "top": null,
            "visibility": null,
            "width": null
          }
        },
        "1d77038159eb4432b1d99fcf578dc711": {
          "model_module": "@jupyter-widgets/controls",
          "model_name": "DescriptionStyleModel",
          "model_module_version": "1.5.0",
          "state": {
            "_model_module": "@jupyter-widgets/controls",
            "_model_module_version": "1.5.0",
            "_model_name": "DescriptionStyleModel",
            "_view_count": null,
            "_view_module": "@jupyter-widgets/base",
            "_view_module_version": "1.2.0",
            "_view_name": "StyleView",
            "description_width": ""
          }
        },
        "8973fb8d843440b295c393954e7eace6": {
          "model_module": "@jupyter-widgets/base",
          "model_name": "LayoutModel",
          "model_module_version": "1.2.0",
          "state": {
            "_model_module": "@jupyter-widgets/base",
            "_model_module_version": "1.2.0",
            "_model_name": "LayoutModel",
            "_view_count": null,
            "_view_module": "@jupyter-widgets/base",
            "_view_module_version": "1.2.0",
            "_view_name": "LayoutView",
            "align_content": null,
            "align_items": null,
            "align_self": null,
            "border": null,
            "bottom": null,
            "display": null,
            "flex": null,
            "flex_flow": null,
            "grid_area": null,
            "grid_auto_columns": null,
            "grid_auto_flow": null,
            "grid_auto_rows": null,
            "grid_column": null,
            "grid_gap": null,
            "grid_row": null,
            "grid_template_areas": null,
            "grid_template_columns": null,
            "grid_template_rows": null,
            "height": null,
            "justify_content": null,
            "justify_items": null,
            "left": null,
            "margin": null,
            "max_height": null,
            "max_width": null,
            "min_height": null,
            "min_width": null,
            "object_fit": null,
            "object_position": null,
            "order": null,
            "overflow": null,
            "overflow_x": null,
            "overflow_y": null,
            "padding": null,
            "right": null,
            "top": null,
            "visibility": null,
            "width": null
          }
        },
        "f319b30e4b42492c82d60a406ae0c280": {
          "model_module": "@jupyter-widgets/controls",
          "model_name": "ProgressStyleModel",
          "model_module_version": "1.5.0",
          "state": {
            "_model_module": "@jupyter-widgets/controls",
            "_model_module_version": "1.5.0",
            "_model_name": "ProgressStyleModel",
            "_view_count": null,
            "_view_module": "@jupyter-widgets/base",
            "_view_module_version": "1.2.0",
            "_view_name": "StyleView",
            "bar_color": null,
            "description_width": ""
          }
        },
        "e78e0f85fa7749ecaac51ca0ad917600": {
          "model_module": "@jupyter-widgets/base",
          "model_name": "LayoutModel",
          "model_module_version": "1.2.0",
          "state": {
            "_model_module": "@jupyter-widgets/base",
            "_model_module_version": "1.2.0",
            "_model_name": "LayoutModel",
            "_view_count": null,
            "_view_module": "@jupyter-widgets/base",
            "_view_module_version": "1.2.0",
            "_view_name": "LayoutView",
            "align_content": null,
            "align_items": null,
            "align_self": null,
            "border": null,
            "bottom": null,
            "display": null,
            "flex": null,
            "flex_flow": null,
            "grid_area": null,
            "grid_auto_columns": null,
            "grid_auto_flow": null,
            "grid_auto_rows": null,
            "grid_column": null,
            "grid_gap": null,
            "grid_row": null,
            "grid_template_areas": null,
            "grid_template_columns": null,
            "grid_template_rows": null,
            "height": null,
            "justify_content": null,
            "justify_items": null,
            "left": null,
            "margin": null,
            "max_height": null,
            "max_width": null,
            "min_height": null,
            "min_width": null,
            "object_fit": null,
            "object_position": null,
            "order": null,
            "overflow": null,
            "overflow_x": null,
            "overflow_y": null,
            "padding": null,
            "right": null,
            "top": null,
            "visibility": null,
            "width": null
          }
        },
        "c749a6c16e3e47b3a4d758f7236b97c6": {
          "model_module": "@jupyter-widgets/controls",
          "model_name": "DescriptionStyleModel",
          "model_module_version": "1.5.0",
          "state": {
            "_model_module": "@jupyter-widgets/controls",
            "_model_module_version": "1.5.0",
            "_model_name": "DescriptionStyleModel",
            "_view_count": null,
            "_view_module": "@jupyter-widgets/base",
            "_view_module_version": "1.2.0",
            "_view_name": "StyleView",
            "description_width": ""
          }
        },
        "81ffada794b24e75b9ed64cfe66bc389": {
          "model_module": "@jupyter-widgets/controls",
          "model_name": "HBoxModel",
          "model_module_version": "1.5.0",
          "state": {
            "_dom_classes": [],
            "_model_module": "@jupyter-widgets/controls",
            "_model_module_version": "1.5.0",
            "_model_name": "HBoxModel",
            "_view_count": null,
            "_view_module": "@jupyter-widgets/controls",
            "_view_module_version": "1.5.0",
            "_view_name": "HBoxView",
            "box_style": "",
            "children": [
              "IPY_MODEL_07f73ce55d8441fb8276fbae8e0095cd",
              "IPY_MODEL_a1615baed4e04d9dae8fc77ccbe87848",
              "IPY_MODEL_096884445ba746b1a61d92f586538add"
            ],
            "layout": "IPY_MODEL_e741fb2ce80c4f45b67173ef5f7c8cc1"
          }
        },
        "07f73ce55d8441fb8276fbae8e0095cd": {
          "model_module": "@jupyter-widgets/controls",
          "model_name": "HTMLModel",
          "model_module_version": "1.5.0",
          "state": {
            "_dom_classes": [],
            "_model_module": "@jupyter-widgets/controls",
            "_model_module_version": "1.5.0",
            "_model_name": "HTMLModel",
            "_view_count": null,
            "_view_module": "@jupyter-widgets/controls",
            "_view_module_version": "1.5.0",
            "_view_name": "HTMLView",
            "description": "",
            "description_tooltip": null,
            "layout": "IPY_MODEL_454f42423e3140ad9812e33a3e5c5d84",
            "placeholder": "​",
            "style": "IPY_MODEL_84fbbec876be4c25bf6378e0ee1bc250",
            "value": "Fetching 3 files: 100%"
          }
        },
        "a1615baed4e04d9dae8fc77ccbe87848": {
          "model_module": "@jupyter-widgets/controls",
          "model_name": "FloatProgressModel",
          "model_module_version": "1.5.0",
          "state": {
            "_dom_classes": [],
            "_model_module": "@jupyter-widgets/controls",
            "_model_module_version": "1.5.0",
            "_model_name": "FloatProgressModel",
            "_view_count": null,
            "_view_module": "@jupyter-widgets/controls",
            "_view_module_version": "1.5.0",
            "_view_name": "ProgressView",
            "bar_style": "success",
            "description": "",
            "description_tooltip": null,
            "layout": "IPY_MODEL_06e1b8dcc80e40d898b17b853907f955",
            "max": 3,
            "min": 0,
            "orientation": "horizontal",
            "style": "IPY_MODEL_d876f0722a544795a16c44f1aba41108",
            "value": 3
          }
        },
        "096884445ba746b1a61d92f586538add": {
          "model_module": "@jupyter-widgets/controls",
          "model_name": "HTMLModel",
          "model_module_version": "1.5.0",
          "state": {
            "_dom_classes": [],
            "_model_module": "@jupyter-widgets/controls",
            "_model_module_version": "1.5.0",
            "_model_name": "HTMLModel",
            "_view_count": null,
            "_view_module": "@jupyter-widgets/controls",
            "_view_module_version": "1.5.0",
            "_view_name": "HTMLView",
            "description": "",
            "description_tooltip": null,
            "layout": "IPY_MODEL_b7d0ee8d1c5a4cc285d31def26e0e3cf",
            "placeholder": "​",
            "style": "IPY_MODEL_fe139dd50af246fea50ad7f478a699e7",
            "value": " 3/3 [01:37&lt;00:00, 40.53s/it]"
          }
        },
        "e741fb2ce80c4f45b67173ef5f7c8cc1": {
          "model_module": "@jupyter-widgets/base",
          "model_name": "LayoutModel",
          "model_module_version": "1.2.0",
          "state": {
            "_model_module": "@jupyter-widgets/base",
            "_model_module_version": "1.2.0",
            "_model_name": "LayoutModel",
            "_view_count": null,
            "_view_module": "@jupyter-widgets/base",
            "_view_module_version": "1.2.0",
            "_view_name": "LayoutView",
            "align_content": null,
            "align_items": null,
            "align_self": null,
            "border": null,
            "bottom": null,
            "display": null,
            "flex": null,
            "flex_flow": null,
            "grid_area": null,
            "grid_auto_columns": null,
            "grid_auto_flow": null,
            "grid_auto_rows": null,
            "grid_column": null,
            "grid_gap": null,
            "grid_row": null,
            "grid_template_areas": null,
            "grid_template_columns": null,
            "grid_template_rows": null,
            "height": null,
            "justify_content": null,
            "justify_items": null,
            "left": null,
            "margin": null,
            "max_height": null,
            "max_width": null,
            "min_height": null,
            "min_width": null,
            "object_fit": null,
            "object_position": null,
            "order": null,
            "overflow": null,
            "overflow_x": null,
            "overflow_y": null,
            "padding": null,
            "right": null,
            "top": null,
            "visibility": null,
            "width": null
          }
        },
        "454f42423e3140ad9812e33a3e5c5d84": {
          "model_module": "@jupyter-widgets/base",
          "model_name": "LayoutModel",
          "model_module_version": "1.2.0",
          "state": {
            "_model_module": "@jupyter-widgets/base",
            "_model_module_version": "1.2.0",
            "_model_name": "LayoutModel",
            "_view_count": null,
            "_view_module": "@jupyter-widgets/base",
            "_view_module_version": "1.2.0",
            "_view_name": "LayoutView",
            "align_content": null,
            "align_items": null,
            "align_self": null,
            "border": null,
            "bottom": null,
            "display": null,
            "flex": null,
            "flex_flow": null,
            "grid_area": null,
            "grid_auto_columns": null,
            "grid_auto_flow": null,
            "grid_auto_rows": null,
            "grid_column": null,
            "grid_gap": null,
            "grid_row": null,
            "grid_template_areas": null,
            "grid_template_columns": null,
            "grid_template_rows": null,
            "height": null,
            "justify_content": null,
            "justify_items": null,
            "left": null,
            "margin": null,
            "max_height": null,
            "max_width": null,
            "min_height": null,
            "min_width": null,
            "object_fit": null,
            "object_position": null,
            "order": null,
            "overflow": null,
            "overflow_x": null,
            "overflow_y": null,
            "padding": null,
            "right": null,
            "top": null,
            "visibility": null,
            "width": null
          }
        },
        "84fbbec876be4c25bf6378e0ee1bc250": {
          "model_module": "@jupyter-widgets/controls",
          "model_name": "DescriptionStyleModel",
          "model_module_version": "1.5.0",
          "state": {
            "_model_module": "@jupyter-widgets/controls",
            "_model_module_version": "1.5.0",
            "_model_name": "DescriptionStyleModel",
            "_view_count": null,
            "_view_module": "@jupyter-widgets/base",
            "_view_module_version": "1.2.0",
            "_view_name": "StyleView",
            "description_width": ""
          }
        },
        "06e1b8dcc80e40d898b17b853907f955": {
          "model_module": "@jupyter-widgets/base",
          "model_name": "LayoutModel",
          "model_module_version": "1.2.0",
          "state": {
            "_model_module": "@jupyter-widgets/base",
            "_model_module_version": "1.2.0",
            "_model_name": "LayoutModel",
            "_view_count": null,
            "_view_module": "@jupyter-widgets/base",
            "_view_module_version": "1.2.0",
            "_view_name": "LayoutView",
            "align_content": null,
            "align_items": null,
            "align_self": null,
            "border": null,
            "bottom": null,
            "display": null,
            "flex": null,
            "flex_flow": null,
            "grid_area": null,
            "grid_auto_columns": null,
            "grid_auto_flow": null,
            "grid_auto_rows": null,
            "grid_column": null,
            "grid_gap": null,
            "grid_row": null,
            "grid_template_areas": null,
            "grid_template_columns": null,
            "grid_template_rows": null,
            "height": null,
            "justify_content": null,
            "justify_items": null,
            "left": null,
            "margin": null,
            "max_height": null,
            "max_width": null,
            "min_height": null,
            "min_width": null,
            "object_fit": null,
            "object_position": null,
            "order": null,
            "overflow": null,
            "overflow_x": null,
            "overflow_y": null,
            "padding": null,
            "right": null,
            "top": null,
            "visibility": null,
            "width": null
          }
        },
        "d876f0722a544795a16c44f1aba41108": {
          "model_module": "@jupyter-widgets/controls",
          "model_name": "ProgressStyleModel",
          "model_module_version": "1.5.0",
          "state": {
            "_model_module": "@jupyter-widgets/controls",
            "_model_module_version": "1.5.0",
            "_model_name": "ProgressStyleModel",
            "_view_count": null,
            "_view_module": "@jupyter-widgets/base",
            "_view_module_version": "1.2.0",
            "_view_name": "StyleView",
            "bar_color": null,
            "description_width": ""
          }
        },
        "b7d0ee8d1c5a4cc285d31def26e0e3cf": {
          "model_module": "@jupyter-widgets/base",
          "model_name": "LayoutModel",
          "model_module_version": "1.2.0",
          "state": {
            "_model_module": "@jupyter-widgets/base",
            "_model_module_version": "1.2.0",
            "_model_name": "LayoutModel",
            "_view_count": null,
            "_view_module": "@jupyter-widgets/base",
            "_view_module_version": "1.2.0",
            "_view_name": "LayoutView",
            "align_content": null,
            "align_items": null,
            "align_self": null,
            "border": null,
            "bottom": null,
            "display": null,
            "flex": null,
            "flex_flow": null,
            "grid_area": null,
            "grid_auto_columns": null,
            "grid_auto_flow": null,
            "grid_auto_rows": null,
            "grid_column": null,
            "grid_gap": null,
            "grid_row": null,
            "grid_template_areas": null,
            "grid_template_columns": null,
            "grid_template_rows": null,
            "height": null,
            "justify_content": null,
            "justify_items": null,
            "left": null,
            "margin": null,
            "max_height": null,
            "max_width": null,
            "min_height": null,
            "min_width": null,
            "object_fit": null,
            "object_position": null,
            "order": null,
            "overflow": null,
            "overflow_x": null,
            "overflow_y": null,
            "padding": null,
            "right": null,
            "top": null,
            "visibility": null,
            "width": null
          }
        },
        "fe139dd50af246fea50ad7f478a699e7": {
          "model_module": "@jupyter-widgets/controls",
          "model_name": "DescriptionStyleModel",
          "model_module_version": "1.5.0",
          "state": {
            "_model_module": "@jupyter-widgets/controls",
            "_model_module_version": "1.5.0",
            "_model_name": "DescriptionStyleModel",
            "_view_count": null,
            "_view_module": "@jupyter-widgets/base",
            "_view_module_version": "1.2.0",
            "_view_name": "StyleView",
            "description_width": ""
          }
        },
        "ea40e6ef56614ec28de17a428c72fbe6": {
          "model_module": "@jupyter-widgets/controls",
          "model_name": "HBoxModel",
          "model_module_version": "1.5.0",
          "state": {
            "_dom_classes": [],
            "_model_module": "@jupyter-widgets/controls",
            "_model_module_version": "1.5.0",
            "_model_name": "HBoxModel",
            "_view_count": null,
            "_view_module": "@jupyter-widgets/controls",
            "_view_module_version": "1.5.0",
            "_view_name": "HBoxView",
            "box_style": "",
            "children": [
              "IPY_MODEL_66724f29252f4e78bc000d3d9f902bee",
              "IPY_MODEL_6231b3458af84033a0f6978844f3860b",
              "IPY_MODEL_ad132ab7d9944d919ff498cdbafa14bd"
            ],
            "layout": "IPY_MODEL_66122b0a9e324723ab75d58c52993030"
          }
        },
        "66724f29252f4e78bc000d3d9f902bee": {
          "model_module": "@jupyter-widgets/controls",
          "model_name": "HTMLModel",
          "model_module_version": "1.5.0",
          "state": {
            "_dom_classes": [],
            "_model_module": "@jupyter-widgets/controls",
            "_model_module_version": "1.5.0",
            "_model_name": "HTMLModel",
            "_view_count": null,
            "_view_module": "@jupyter-widgets/controls",
            "_view_module_version": "1.5.0",
            "_view_name": "HTMLView",
            "description": "",
            "description_tooltip": null,
            "layout": "IPY_MODEL_edebf768b4334631bbd9910b1bd7ea8a",
            "placeholder": "​",
            "style": "IPY_MODEL_3238c201e6df478e94eaec8b51da0660",
            "value": "model-00003-of-00003.safetensors: 100%"
          }
        },
        "6231b3458af84033a0f6978844f3860b": {
          "model_module": "@jupyter-widgets/controls",
          "model_name": "FloatProgressModel",
          "model_module_version": "1.5.0",
          "state": {
            "_dom_classes": [],
            "_model_module": "@jupyter-widgets/controls",
            "_model_module_version": "1.5.0",
            "_model_name": "FloatProgressModel",
            "_view_count": null,
            "_view_module": "@jupyter-widgets/controls",
            "_view_module_version": "1.5.0",
            "_view_name": "ProgressView",
            "bar_style": "success",
            "description": "",
            "description_tooltip": null,
            "layout": "IPY_MODEL_cdb44eb0a6f541c6a5e41eedda18432e",
            "max": 4540516344,
            "min": 0,
            "orientation": "horizontal",
            "style": "IPY_MODEL_f0b1d59f1af240e3bf8f9da3cb7f1e88",
            "value": 4540516344
          }
        },
        "ad132ab7d9944d919ff498cdbafa14bd": {
          "model_module": "@jupyter-widgets/controls",
          "model_name": "HTMLModel",
          "model_module_version": "1.5.0",
          "state": {
            "_dom_classes": [],
            "_model_module": "@jupyter-widgets/controls",
            "_model_module_version": "1.5.0",
            "_model_name": "HTMLModel",
            "_view_count": null,
            "_view_module": "@jupyter-widgets/controls",
            "_view_module_version": "1.5.0",
            "_view_name": "HTMLView",
            "description": "",
            "description_tooltip": null,
            "layout": "IPY_MODEL_38e57885f0c8449ca549063153f067ac",
            "placeholder": "​",
            "style": "IPY_MODEL_e62d011177d74a7c94bac690a6677087",
            "value": " 4.54G/4.54G [01:26&lt;00:00, 23.5MB/s]"
          }
        },
        "66122b0a9e324723ab75d58c52993030": {
          "model_module": "@jupyter-widgets/base",
          "model_name": "LayoutModel",
          "model_module_version": "1.2.0",
          "state": {
            "_model_module": "@jupyter-widgets/base",
            "_model_module_version": "1.2.0",
            "_model_name": "LayoutModel",
            "_view_count": null,
            "_view_module": "@jupyter-widgets/base",
            "_view_module_version": "1.2.0",
            "_view_name": "LayoutView",
            "align_content": null,
            "align_items": null,
            "align_self": null,
            "border": null,
            "bottom": null,
            "display": null,
            "flex": null,
            "flex_flow": null,
            "grid_area": null,
            "grid_auto_columns": null,
            "grid_auto_flow": null,
            "grid_auto_rows": null,
            "grid_column": null,
            "grid_gap": null,
            "grid_row": null,
            "grid_template_areas": null,
            "grid_template_columns": null,
            "grid_template_rows": null,
            "height": null,
            "justify_content": null,
            "justify_items": null,
            "left": null,
            "margin": null,
            "max_height": null,
            "max_width": null,
            "min_height": null,
            "min_width": null,
            "object_fit": null,
            "object_position": null,
            "order": null,
            "overflow": null,
            "overflow_x": null,
            "overflow_y": null,
            "padding": null,
            "right": null,
            "top": null,
            "visibility": null,
            "width": null
          }
        },
        "edebf768b4334631bbd9910b1bd7ea8a": {
          "model_module": "@jupyter-widgets/base",
          "model_name": "LayoutModel",
          "model_module_version": "1.2.0",
          "state": {
            "_model_module": "@jupyter-widgets/base",
            "_model_module_version": "1.2.0",
            "_model_name": "LayoutModel",
            "_view_count": null,
            "_view_module": "@jupyter-widgets/base",
            "_view_module_version": "1.2.0",
            "_view_name": "LayoutView",
            "align_content": null,
            "align_items": null,
            "align_self": null,
            "border": null,
            "bottom": null,
            "display": null,
            "flex": null,
            "flex_flow": null,
            "grid_area": null,
            "grid_auto_columns": null,
            "grid_auto_flow": null,
            "grid_auto_rows": null,
            "grid_column": null,
            "grid_gap": null,
            "grid_row": null,
            "grid_template_areas": null,
            "grid_template_columns": null,
            "grid_template_rows": null,
            "height": null,
            "justify_content": null,
            "justify_items": null,
            "left": null,
            "margin": null,
            "max_height": null,
            "max_width": null,
            "min_height": null,
            "min_width": null,
            "object_fit": null,
            "object_position": null,
            "order": null,
            "overflow": null,
            "overflow_x": null,
            "overflow_y": null,
            "padding": null,
            "right": null,
            "top": null,
            "visibility": null,
            "width": null
          }
        },
        "3238c201e6df478e94eaec8b51da0660": {
          "model_module": "@jupyter-widgets/controls",
          "model_name": "DescriptionStyleModel",
          "model_module_version": "1.5.0",
          "state": {
            "_model_module": "@jupyter-widgets/controls",
            "_model_module_version": "1.5.0",
            "_model_name": "DescriptionStyleModel",
            "_view_count": null,
            "_view_module": "@jupyter-widgets/base",
            "_view_module_version": "1.2.0",
            "_view_name": "StyleView",
            "description_width": ""
          }
        },
        "cdb44eb0a6f541c6a5e41eedda18432e": {
          "model_module": "@jupyter-widgets/base",
          "model_name": "LayoutModel",
          "model_module_version": "1.2.0",
          "state": {
            "_model_module": "@jupyter-widgets/base",
            "_model_module_version": "1.2.0",
            "_model_name": "LayoutModel",
            "_view_count": null,
            "_view_module": "@jupyter-widgets/base",
            "_view_module_version": "1.2.0",
            "_view_name": "LayoutView",
            "align_content": null,
            "align_items": null,
            "align_self": null,
            "border": null,
            "bottom": null,
            "display": null,
            "flex": null,
            "flex_flow": null,
            "grid_area": null,
            "grid_auto_columns": null,
            "grid_auto_flow": null,
            "grid_auto_rows": null,
            "grid_column": null,
            "grid_gap": null,
            "grid_row": null,
            "grid_template_areas": null,
            "grid_template_columns": null,
            "grid_template_rows": null,
            "height": null,
            "justify_content": null,
            "justify_items": null,
            "left": null,
            "margin": null,
            "max_height": null,
            "max_width": null,
            "min_height": null,
            "min_width": null,
            "object_fit": null,
            "object_position": null,
            "order": null,
            "overflow": null,
            "overflow_x": null,
            "overflow_y": null,
            "padding": null,
            "right": null,
            "top": null,
            "visibility": null,
            "width": null
          }
        },
        "f0b1d59f1af240e3bf8f9da3cb7f1e88": {
          "model_module": "@jupyter-widgets/controls",
          "model_name": "ProgressStyleModel",
          "model_module_version": "1.5.0",
          "state": {
            "_model_module": "@jupyter-widgets/controls",
            "_model_module_version": "1.5.0",
            "_model_name": "ProgressStyleModel",
            "_view_count": null,
            "_view_module": "@jupyter-widgets/base",
            "_view_module_version": "1.2.0",
            "_view_name": "StyleView",
            "bar_color": null,
            "description_width": ""
          }
        },
        "38e57885f0c8449ca549063153f067ac": {
          "model_module": "@jupyter-widgets/base",
          "model_name": "LayoutModel",
          "model_module_version": "1.2.0",
          "state": {
            "_model_module": "@jupyter-widgets/base",
            "_model_module_version": "1.2.0",
            "_model_name": "LayoutModel",
            "_view_count": null,
            "_view_module": "@jupyter-widgets/base",
            "_view_module_version": "1.2.0",
            "_view_name": "LayoutView",
            "align_content": null,
            "align_items": null,
            "align_self": null,
            "border": null,
            "bottom": null,
            "display": null,
            "flex": null,
            "flex_flow": null,
            "grid_area": null,
            "grid_auto_columns": null,
            "grid_auto_flow": null,
            "grid_auto_rows": null,
            "grid_column": null,
            "grid_gap": null,
            "grid_row": null,
            "grid_template_areas": null,
            "grid_template_columns": null,
            "grid_template_rows": null,
            "height": null,
            "justify_content": null,
            "justify_items": null,
            "left": null,
            "margin": null,
            "max_height": null,
            "max_width": null,
            "min_height": null,
            "min_width": null,
            "object_fit": null,
            "object_position": null,
            "order": null,
            "overflow": null,
            "overflow_x": null,
            "overflow_y": null,
            "padding": null,
            "right": null,
            "top": null,
            "visibility": null,
            "width": null
          }
        },
        "e62d011177d74a7c94bac690a6677087": {
          "model_module": "@jupyter-widgets/controls",
          "model_name": "DescriptionStyleModel",
          "model_module_version": "1.5.0",
          "state": {
            "_model_module": "@jupyter-widgets/controls",
            "_model_module_version": "1.5.0",
            "_model_name": "DescriptionStyleModel",
            "_view_count": null,
            "_view_module": "@jupyter-widgets/base",
            "_view_module_version": "1.2.0",
            "_view_name": "StyleView",
            "description_width": ""
          }
        },
        "6cf559d9f32f478abe2338d8431cfb87": {
          "model_module": "@jupyter-widgets/controls",
          "model_name": "HBoxModel",
          "model_module_version": "1.5.0",
          "state": {
            "_dom_classes": [],
            "_model_module": "@jupyter-widgets/controls",
            "_model_module_version": "1.5.0",
            "_model_name": "HBoxModel",
            "_view_count": null,
            "_view_module": "@jupyter-widgets/controls",
            "_view_module_version": "1.5.0",
            "_view_name": "HBoxView",
            "box_style": "",
            "children": [
              "IPY_MODEL_2920c83587134ffa9a9091dcd96c9e79",
              "IPY_MODEL_c59e2dcb2b94408da3e13bf171232f2b",
              "IPY_MODEL_e22f06047d864dabb9e0412441f36739"
            ],
            "layout": "IPY_MODEL_1c43ef3d0d184471bab24739eb2bcc33"
          }
        },
        "2920c83587134ffa9a9091dcd96c9e79": {
          "model_module": "@jupyter-widgets/controls",
          "model_name": "HTMLModel",
          "model_module_version": "1.5.0",
          "state": {
            "_dom_classes": [],
            "_model_module": "@jupyter-widgets/controls",
            "_model_module_version": "1.5.0",
            "_model_name": "HTMLModel",
            "_view_count": null,
            "_view_module": "@jupyter-widgets/controls",
            "_view_module_version": "1.5.0",
            "_view_name": "HTMLView",
            "description": "",
            "description_tooltip": null,
            "layout": "IPY_MODEL_dd54947c19c94ec78b79254fcc53e86f",
            "placeholder": "​",
            "style": "IPY_MODEL_7d03829d61544ab69988e15667b9e1b8",
            "value": "model-00002-of-00003.safetensors: 100%"
          }
        },
        "c59e2dcb2b94408da3e13bf171232f2b": {
          "model_module": "@jupyter-widgets/controls",
          "model_name": "FloatProgressModel",
          "model_module_version": "1.5.0",
          "state": {
            "_dom_classes": [],
            "_model_module": "@jupyter-widgets/controls",
            "_model_module_version": "1.5.0",
            "_model_name": "FloatProgressModel",
            "_view_count": null,
            "_view_module": "@jupyter-widgets/controls",
            "_view_module_version": "1.5.0",
            "_view_name": "ProgressView",
            "bar_style": "success",
            "description": "",
            "description_tooltip": null,
            "layout": "IPY_MODEL_bba00ff4180f4691a1f464805228eb9a",
            "max": 4999819336,
            "min": 0,
            "orientation": "horizontal",
            "style": "IPY_MODEL_632b98958f194219aac5226db5574fec",
            "value": 4999819336
          }
        },
        "e22f06047d864dabb9e0412441f36739": {
          "model_module": "@jupyter-widgets/controls",
          "model_name": "HTMLModel",
          "model_module_version": "1.5.0",
          "state": {
            "_dom_classes": [],
            "_model_module": "@jupyter-widgets/controls",
            "_model_module_version": "1.5.0",
            "_model_name": "HTMLModel",
            "_view_count": null,
            "_view_module": "@jupyter-widgets/controls",
            "_view_module_version": "1.5.0",
            "_view_name": "HTMLView",
            "description": "",
            "description_tooltip": null,
            "layout": "IPY_MODEL_3db7f33535f5473d8e4befb45305620a",
            "placeholder": "​",
            "style": "IPY_MODEL_1bfb4db91dd2418da7425511b252363b",
            "value": " 5.00G/5.00G [01:36&lt;00:00, 262MB/s]"
          }
        },
        "1c43ef3d0d184471bab24739eb2bcc33": {
          "model_module": "@jupyter-widgets/base",
          "model_name": "LayoutModel",
          "model_module_version": "1.2.0",
          "state": {
            "_model_module": "@jupyter-widgets/base",
            "_model_module_version": "1.2.0",
            "_model_name": "LayoutModel",
            "_view_count": null,
            "_view_module": "@jupyter-widgets/base",
            "_view_module_version": "1.2.0",
            "_view_name": "LayoutView",
            "align_content": null,
            "align_items": null,
            "align_self": null,
            "border": null,
            "bottom": null,
            "display": null,
            "flex": null,
            "flex_flow": null,
            "grid_area": null,
            "grid_auto_columns": null,
            "grid_auto_flow": null,
            "grid_auto_rows": null,
            "grid_column": null,
            "grid_gap": null,
            "grid_row": null,
            "grid_template_areas": null,
            "grid_template_columns": null,
            "grid_template_rows": null,
            "height": null,
            "justify_content": null,
            "justify_items": null,
            "left": null,
            "margin": null,
            "max_height": null,
            "max_width": null,
            "min_height": null,
            "min_width": null,
            "object_fit": null,
            "object_position": null,
            "order": null,
            "overflow": null,
            "overflow_x": null,
            "overflow_y": null,
            "padding": null,
            "right": null,
            "top": null,
            "visibility": null,
            "width": null
          }
        },
        "dd54947c19c94ec78b79254fcc53e86f": {
          "model_module": "@jupyter-widgets/base",
          "model_name": "LayoutModel",
          "model_module_version": "1.2.0",
          "state": {
            "_model_module": "@jupyter-widgets/base",
            "_model_module_version": "1.2.0",
            "_model_name": "LayoutModel",
            "_view_count": null,
            "_view_module": "@jupyter-widgets/base",
            "_view_module_version": "1.2.0",
            "_view_name": "LayoutView",
            "align_content": null,
            "align_items": null,
            "align_self": null,
            "border": null,
            "bottom": null,
            "display": null,
            "flex": null,
            "flex_flow": null,
            "grid_area": null,
            "grid_auto_columns": null,
            "grid_auto_flow": null,
            "grid_auto_rows": null,
            "grid_column": null,
            "grid_gap": null,
            "grid_row": null,
            "grid_template_areas": null,
            "grid_template_columns": null,
            "grid_template_rows": null,
            "height": null,
            "justify_content": null,
            "justify_items": null,
            "left": null,
            "margin": null,
            "max_height": null,
            "max_width": null,
            "min_height": null,
            "min_width": null,
            "object_fit": null,
            "object_position": null,
            "order": null,
            "overflow": null,
            "overflow_x": null,
            "overflow_y": null,
            "padding": null,
            "right": null,
            "top": null,
            "visibility": null,
            "width": null
          }
        },
        "7d03829d61544ab69988e15667b9e1b8": {
          "model_module": "@jupyter-widgets/controls",
          "model_name": "DescriptionStyleModel",
          "model_module_version": "1.5.0",
          "state": {
            "_model_module": "@jupyter-widgets/controls",
            "_model_module_version": "1.5.0",
            "_model_name": "DescriptionStyleModel",
            "_view_count": null,
            "_view_module": "@jupyter-widgets/base",
            "_view_module_version": "1.2.0",
            "_view_name": "StyleView",
            "description_width": ""
          }
        },
        "bba00ff4180f4691a1f464805228eb9a": {
          "model_module": "@jupyter-widgets/base",
          "model_name": "LayoutModel",
          "model_module_version": "1.2.0",
          "state": {
            "_model_module": "@jupyter-widgets/base",
            "_model_module_version": "1.2.0",
            "_model_name": "LayoutModel",
            "_view_count": null,
            "_view_module": "@jupyter-widgets/base",
            "_view_module_version": "1.2.0",
            "_view_name": "LayoutView",
            "align_content": null,
            "align_items": null,
            "align_self": null,
            "border": null,
            "bottom": null,
            "display": null,
            "flex": null,
            "flex_flow": null,
            "grid_area": null,
            "grid_auto_columns": null,
            "grid_auto_flow": null,
            "grid_auto_rows": null,
            "grid_column": null,
            "grid_gap": null,
            "grid_row": null,
            "grid_template_areas": null,
            "grid_template_columns": null,
            "grid_template_rows": null,
            "height": null,
            "justify_content": null,
            "justify_items": null,
            "left": null,
            "margin": null,
            "max_height": null,
            "max_width": null,
            "min_height": null,
            "min_width": null,
            "object_fit": null,
            "object_position": null,
            "order": null,
            "overflow": null,
            "overflow_x": null,
            "overflow_y": null,
            "padding": null,
            "right": null,
            "top": null,
            "visibility": null,
            "width": null
          }
        },
        "632b98958f194219aac5226db5574fec": {
          "model_module": "@jupyter-widgets/controls",
          "model_name": "ProgressStyleModel",
          "model_module_version": "1.5.0",
          "state": {
            "_model_module": "@jupyter-widgets/controls",
            "_model_module_version": "1.5.0",
            "_model_name": "ProgressStyleModel",
            "_view_count": null,
            "_view_module": "@jupyter-widgets/base",
            "_view_module_version": "1.2.0",
            "_view_name": "StyleView",
            "bar_color": null,
            "description_width": ""
          }
        },
        "3db7f33535f5473d8e4befb45305620a": {
          "model_module": "@jupyter-widgets/base",
          "model_name": "LayoutModel",
          "model_module_version": "1.2.0",
          "state": {
            "_model_module": "@jupyter-widgets/base",
            "_model_module_version": "1.2.0",
            "_model_name": "LayoutModel",
            "_view_count": null,
            "_view_module": "@jupyter-widgets/base",
            "_view_module_version": "1.2.0",
            "_view_name": "LayoutView",
            "align_content": null,
            "align_items": null,
            "align_self": null,
            "border": null,
            "bottom": null,
            "display": null,
            "flex": null,
            "flex_flow": null,
            "grid_area": null,
            "grid_auto_columns": null,
            "grid_auto_flow": null,
            "grid_auto_rows": null,
            "grid_column": null,
            "grid_gap": null,
            "grid_row": null,
            "grid_template_areas": null,
            "grid_template_columns": null,
            "grid_template_rows": null,
            "height": null,
            "justify_content": null,
            "justify_items": null,
            "left": null,
            "margin": null,
            "max_height": null,
            "max_width": null,
            "min_height": null,
            "min_width": null,
            "object_fit": null,
            "object_position": null,
            "order": null,
            "overflow": null,
            "overflow_x": null,
            "overflow_y": null,
            "padding": null,
            "right": null,
            "top": null,
            "visibility": null,
            "width": null
          }
        },
        "1bfb4db91dd2418da7425511b252363b": {
          "model_module": "@jupyter-widgets/controls",
          "model_name": "DescriptionStyleModel",
          "model_module_version": "1.5.0",
          "state": {
            "_model_module": "@jupyter-widgets/controls",
            "_model_module_version": "1.5.0",
            "_model_name": "DescriptionStyleModel",
            "_view_count": null,
            "_view_module": "@jupyter-widgets/base",
            "_view_module_version": "1.2.0",
            "_view_name": "StyleView",
            "description_width": ""
          }
        },
        "60623ed96c2241eca13b895bdd1eada2": {
          "model_module": "@jupyter-widgets/controls",
          "model_name": "HBoxModel",
          "model_module_version": "1.5.0",
          "state": {
            "_dom_classes": [],
            "_model_module": "@jupyter-widgets/controls",
            "_model_module_version": "1.5.0",
            "_model_name": "HBoxModel",
            "_view_count": null,
            "_view_module": "@jupyter-widgets/controls",
            "_view_module_version": "1.5.0",
            "_view_name": "HBoxView",
            "box_style": "",
            "children": [
              "IPY_MODEL_4df17c36c4334104a3175f8b542bc2fd",
              "IPY_MODEL_f85a334a30ef4ac59f9f6ecd33a533cf",
              "IPY_MODEL_795ae6caac2f4fbc93e65b4baf0bcd40"
            ],
            "layout": "IPY_MODEL_a6b64fb3366f43bcbec30b37f59be266"
          }
        },
        "4df17c36c4334104a3175f8b542bc2fd": {
          "model_module": "@jupyter-widgets/controls",
          "model_name": "HTMLModel",
          "model_module_version": "1.5.0",
          "state": {
            "_dom_classes": [],
            "_model_module": "@jupyter-widgets/controls",
            "_model_module_version": "1.5.0",
            "_model_name": "HTMLModel",
            "_view_count": null,
            "_view_module": "@jupyter-widgets/controls",
            "_view_module_version": "1.5.0",
            "_view_name": "HTMLView",
            "description": "",
            "description_tooltip": null,
            "layout": "IPY_MODEL_bfffe07af525412dbc6e556ed2fbcd7a",
            "placeholder": "​",
            "style": "IPY_MODEL_57960c1b0ab94d2e9b02060dbeb3ef1d",
            "value": "model-00001-of-00003.safetensors: 100%"
          }
        },
        "f85a334a30ef4ac59f9f6ecd33a533cf": {
          "model_module": "@jupyter-widgets/controls",
          "model_name": "FloatProgressModel",
          "model_module_version": "1.5.0",
          "state": {
            "_dom_classes": [],
            "_model_module": "@jupyter-widgets/controls",
            "_model_module_version": "1.5.0",
            "_model_name": "FloatProgressModel",
            "_view_count": null,
            "_view_module": "@jupyter-widgets/controls",
            "_view_module_version": "1.5.0",
            "_view_name": "ProgressView",
            "bar_style": "success",
            "description": "",
            "description_tooltip": null,
            "layout": "IPY_MODEL_80419e8519384583a9d08873c58136e8",
            "max": 4943162336,
            "min": 0,
            "orientation": "horizontal",
            "style": "IPY_MODEL_5f2f6db25b964585922d6c0dc5afc59e",
            "value": 4943162336
          }
        },
        "795ae6caac2f4fbc93e65b4baf0bcd40": {
          "model_module": "@jupyter-widgets/controls",
          "model_name": "HTMLModel",
          "model_module_version": "1.5.0",
          "state": {
            "_dom_classes": [],
            "_model_module": "@jupyter-widgets/controls",
            "_model_module_version": "1.5.0",
            "_model_name": "HTMLModel",
            "_view_count": null,
            "_view_module": "@jupyter-widgets/controls",
            "_view_module_version": "1.5.0",
            "_view_name": "HTMLView",
            "description": "",
            "description_tooltip": null,
            "layout": "IPY_MODEL_f6a4c933be074abea2be04aa3182bace",
            "placeholder": "​",
            "style": "IPY_MODEL_c507d3ca13854d4483f5dbc93ed1f063",
            "value": " 4.94G/4.94G [01:33&lt;00:00, 65.4MB/s]"
          }
        },
        "a6b64fb3366f43bcbec30b37f59be266": {
          "model_module": "@jupyter-widgets/base",
          "model_name": "LayoutModel",
          "model_module_version": "1.2.0",
          "state": {
            "_model_module": "@jupyter-widgets/base",
            "_model_module_version": "1.2.0",
            "_model_name": "LayoutModel",
            "_view_count": null,
            "_view_module": "@jupyter-widgets/base",
            "_view_module_version": "1.2.0",
            "_view_name": "LayoutView",
            "align_content": null,
            "align_items": null,
            "align_self": null,
            "border": null,
            "bottom": null,
            "display": null,
            "flex": null,
            "flex_flow": null,
            "grid_area": null,
            "grid_auto_columns": null,
            "grid_auto_flow": null,
            "grid_auto_rows": null,
            "grid_column": null,
            "grid_gap": null,
            "grid_row": null,
            "grid_template_areas": null,
            "grid_template_columns": null,
            "grid_template_rows": null,
            "height": null,
            "justify_content": null,
            "justify_items": null,
            "left": null,
            "margin": null,
            "max_height": null,
            "max_width": null,
            "min_height": null,
            "min_width": null,
            "object_fit": null,
            "object_position": null,
            "order": null,
            "overflow": null,
            "overflow_x": null,
            "overflow_y": null,
            "padding": null,
            "right": null,
            "top": null,
            "visibility": null,
            "width": null
          }
        },
        "bfffe07af525412dbc6e556ed2fbcd7a": {
          "model_module": "@jupyter-widgets/base",
          "model_name": "LayoutModel",
          "model_module_version": "1.2.0",
          "state": {
            "_model_module": "@jupyter-widgets/base",
            "_model_module_version": "1.2.0",
            "_model_name": "LayoutModel",
            "_view_count": null,
            "_view_module": "@jupyter-widgets/base",
            "_view_module_version": "1.2.0",
            "_view_name": "LayoutView",
            "align_content": null,
            "align_items": null,
            "align_self": null,
            "border": null,
            "bottom": null,
            "display": null,
            "flex": null,
            "flex_flow": null,
            "grid_area": null,
            "grid_auto_columns": null,
            "grid_auto_flow": null,
            "grid_auto_rows": null,
            "grid_column": null,
            "grid_gap": null,
            "grid_row": null,
            "grid_template_areas": null,
            "grid_template_columns": null,
            "grid_template_rows": null,
            "height": null,
            "justify_content": null,
            "justify_items": null,
            "left": null,
            "margin": null,
            "max_height": null,
            "max_width": null,
            "min_height": null,
            "min_width": null,
            "object_fit": null,
            "object_position": null,
            "order": null,
            "overflow": null,
            "overflow_x": null,
            "overflow_y": null,
            "padding": null,
            "right": null,
            "top": null,
            "visibility": null,
            "width": null
          }
        },
        "57960c1b0ab94d2e9b02060dbeb3ef1d": {
          "model_module": "@jupyter-widgets/controls",
          "model_name": "DescriptionStyleModel",
          "model_module_version": "1.5.0",
          "state": {
            "_model_module": "@jupyter-widgets/controls",
            "_model_module_version": "1.5.0",
            "_model_name": "DescriptionStyleModel",
            "_view_count": null,
            "_view_module": "@jupyter-widgets/base",
            "_view_module_version": "1.2.0",
            "_view_name": "StyleView",
            "description_width": ""
          }
        },
        "80419e8519384583a9d08873c58136e8": {
          "model_module": "@jupyter-widgets/base",
          "model_name": "LayoutModel",
          "model_module_version": "1.2.0",
          "state": {
            "_model_module": "@jupyter-widgets/base",
            "_model_module_version": "1.2.0",
            "_model_name": "LayoutModel",
            "_view_count": null,
            "_view_module": "@jupyter-widgets/base",
            "_view_module_version": "1.2.0",
            "_view_name": "LayoutView",
            "align_content": null,
            "align_items": null,
            "align_self": null,
            "border": null,
            "bottom": null,
            "display": null,
            "flex": null,
            "flex_flow": null,
            "grid_area": null,
            "grid_auto_columns": null,
            "grid_auto_flow": null,
            "grid_auto_rows": null,
            "grid_column": null,
            "grid_gap": null,
            "grid_row": null,
            "grid_template_areas": null,
            "grid_template_columns": null,
            "grid_template_rows": null,
            "height": null,
            "justify_content": null,
            "justify_items": null,
            "left": null,
            "margin": null,
            "max_height": null,
            "max_width": null,
            "min_height": null,
            "min_width": null,
            "object_fit": null,
            "object_position": null,
            "order": null,
            "overflow": null,
            "overflow_x": null,
            "overflow_y": null,
            "padding": null,
            "right": null,
            "top": null,
            "visibility": null,
            "width": null
          }
        },
        "5f2f6db25b964585922d6c0dc5afc59e": {
          "model_module": "@jupyter-widgets/controls",
          "model_name": "ProgressStyleModel",
          "model_module_version": "1.5.0",
          "state": {
            "_model_module": "@jupyter-widgets/controls",
            "_model_module_version": "1.5.0",
            "_model_name": "ProgressStyleModel",
            "_view_count": null,
            "_view_module": "@jupyter-widgets/base",
            "_view_module_version": "1.2.0",
            "_view_name": "StyleView",
            "bar_color": null,
            "description_width": ""
          }
        },
        "f6a4c933be074abea2be04aa3182bace": {
          "model_module": "@jupyter-widgets/base",
          "model_name": "LayoutModel",
          "model_module_version": "1.2.0",
          "state": {
            "_model_module": "@jupyter-widgets/base",
            "_model_module_version": "1.2.0",
            "_model_name": "LayoutModel",
            "_view_count": null,
            "_view_module": "@jupyter-widgets/base",
            "_view_module_version": "1.2.0",
            "_view_name": "LayoutView",
            "align_content": null,
            "align_items": null,
            "align_self": null,
            "border": null,
            "bottom": null,
            "display": null,
            "flex": null,
            "flex_flow": null,
            "grid_area": null,
            "grid_auto_columns": null,
            "grid_auto_flow": null,
            "grid_auto_rows": null,
            "grid_column": null,
            "grid_gap": null,
            "grid_row": null,
            "grid_template_areas": null,
            "grid_template_columns": null,
            "grid_template_rows": null,
            "height": null,
            "justify_content": null,
            "justify_items": null,
            "left": null,
            "margin": null,
            "max_height": null,
            "max_width": null,
            "min_height": null,
            "min_width": null,
            "object_fit": null,
            "object_position": null,
            "order": null,
            "overflow": null,
            "overflow_x": null,
            "overflow_y": null,
            "padding": null,
            "right": null,
            "top": null,
            "visibility": null,
            "width": null
          }
        },
        "c507d3ca13854d4483f5dbc93ed1f063": {
          "model_module": "@jupyter-widgets/controls",
          "model_name": "DescriptionStyleModel",
          "model_module_version": "1.5.0",
          "state": {
            "_model_module": "@jupyter-widgets/controls",
            "_model_module_version": "1.5.0",
            "_model_name": "DescriptionStyleModel",
            "_view_count": null,
            "_view_module": "@jupyter-widgets/base",
            "_view_module_version": "1.2.0",
            "_view_name": "StyleView",
            "description_width": ""
          }
        },
        "88327de1d5c447a882180b0d8c2eedf6": {
          "model_module": "@jupyter-widgets/controls",
          "model_name": "HBoxModel",
          "model_module_version": "1.5.0",
          "state": {
            "_dom_classes": [],
            "_model_module": "@jupyter-widgets/controls",
            "_model_module_version": "1.5.0",
            "_model_name": "HBoxModel",
            "_view_count": null,
            "_view_module": "@jupyter-widgets/controls",
            "_view_module_version": "1.5.0",
            "_view_name": "HBoxView",
            "box_style": "",
            "children": [
              "IPY_MODEL_272fd6b7653c4bb381b246ecbaef9b70",
              "IPY_MODEL_94201d46eee949ecb1bdbc1d0c28dafb",
              "IPY_MODEL_dc3536dcedb54baa9475bf4f2210c5d9"
            ],
            "layout": "IPY_MODEL_6d1ea08925b4437392b16601b4e9699c"
          }
        },
        "272fd6b7653c4bb381b246ecbaef9b70": {
          "model_module": "@jupyter-widgets/controls",
          "model_name": "HTMLModel",
          "model_module_version": "1.5.0",
          "state": {
            "_dom_classes": [],
            "_model_module": "@jupyter-widgets/controls",
            "_model_module_version": "1.5.0",
            "_model_name": "HTMLModel",
            "_view_count": null,
            "_view_module": "@jupyter-widgets/controls",
            "_view_module_version": "1.5.0",
            "_view_name": "HTMLView",
            "description": "",
            "description_tooltip": null,
            "layout": "IPY_MODEL_b5f020f314634a1fbff6c8c3ffaddfb2",
            "placeholder": "​",
            "style": "IPY_MODEL_3e002da744eb49109be0b6b5a2d86445",
            "value": "Loading checkpoint shards: 100%"
          }
        },
        "94201d46eee949ecb1bdbc1d0c28dafb": {
          "model_module": "@jupyter-widgets/controls",
          "model_name": "FloatProgressModel",
          "model_module_version": "1.5.0",
          "state": {
            "_dom_classes": [],
            "_model_module": "@jupyter-widgets/controls",
            "_model_module_version": "1.5.0",
            "_model_name": "FloatProgressModel",
            "_view_count": null,
            "_view_module": "@jupyter-widgets/controls",
            "_view_module_version": "1.5.0",
            "_view_name": "ProgressView",
            "bar_style": "success",
            "description": "",
            "description_tooltip": null,
            "layout": "IPY_MODEL_e8b2a1858ca74d0591c2dd925a666eb2",
            "max": 3,
            "min": 0,
            "orientation": "horizontal",
            "style": "IPY_MODEL_5ac57a20230145dcacd1617c7e62bf33",
            "value": 3
          }
        },
        "dc3536dcedb54baa9475bf4f2210c5d9": {
          "model_module": "@jupyter-widgets/controls",
          "model_name": "HTMLModel",
          "model_module_version": "1.5.0",
          "state": {
            "_dom_classes": [],
            "_model_module": "@jupyter-widgets/controls",
            "_model_module_version": "1.5.0",
            "_model_name": "HTMLModel",
            "_view_count": null,
            "_view_module": "@jupyter-widgets/controls",
            "_view_module_version": "1.5.0",
            "_view_name": "HTMLView",
            "description": "",
            "description_tooltip": null,
            "layout": "IPY_MODEL_0381d82fc0c94a49bb69c8de4c5182d7",
            "placeholder": "​",
            "style": "IPY_MODEL_262c5cf52f98456eb8cb8c279311d12e",
            "value": " 3/3 [01:36&lt;00:00, 31.86s/it]"
          }
        },
        "6d1ea08925b4437392b16601b4e9699c": {
          "model_module": "@jupyter-widgets/base",
          "model_name": "LayoutModel",
          "model_module_version": "1.2.0",
          "state": {
            "_model_module": "@jupyter-widgets/base",
            "_model_module_version": "1.2.0",
            "_model_name": "LayoutModel",
            "_view_count": null,
            "_view_module": "@jupyter-widgets/base",
            "_view_module_version": "1.2.0",
            "_view_name": "LayoutView",
            "align_content": null,
            "align_items": null,
            "align_self": null,
            "border": null,
            "bottom": null,
            "display": null,
            "flex": null,
            "flex_flow": null,
            "grid_area": null,
            "grid_auto_columns": null,
            "grid_auto_flow": null,
            "grid_auto_rows": null,
            "grid_column": null,
            "grid_gap": null,
            "grid_row": null,
            "grid_template_areas": null,
            "grid_template_columns": null,
            "grid_template_rows": null,
            "height": null,
            "justify_content": null,
            "justify_items": null,
            "left": null,
            "margin": null,
            "max_height": null,
            "max_width": null,
            "min_height": null,
            "min_width": null,
            "object_fit": null,
            "object_position": null,
            "order": null,
            "overflow": null,
            "overflow_x": null,
            "overflow_y": null,
            "padding": null,
            "right": null,
            "top": null,
            "visibility": null,
            "width": null
          }
        },
        "b5f020f314634a1fbff6c8c3ffaddfb2": {
          "model_module": "@jupyter-widgets/base",
          "model_name": "LayoutModel",
          "model_module_version": "1.2.0",
          "state": {
            "_model_module": "@jupyter-widgets/base",
            "_model_module_version": "1.2.0",
            "_model_name": "LayoutModel",
            "_view_count": null,
            "_view_module": "@jupyter-widgets/base",
            "_view_module_version": "1.2.0",
            "_view_name": "LayoutView",
            "align_content": null,
            "align_items": null,
            "align_self": null,
            "border": null,
            "bottom": null,
            "display": null,
            "flex": null,
            "flex_flow": null,
            "grid_area": null,
            "grid_auto_columns": null,
            "grid_auto_flow": null,
            "grid_auto_rows": null,
            "grid_column": null,
            "grid_gap": null,
            "grid_row": null,
            "grid_template_areas": null,
            "grid_template_columns": null,
            "grid_template_rows": null,
            "height": null,
            "justify_content": null,
            "justify_items": null,
            "left": null,
            "margin": null,
            "max_height": null,
            "max_width": null,
            "min_height": null,
            "min_width": null,
            "object_fit": null,
            "object_position": null,
            "order": null,
            "overflow": null,
            "overflow_x": null,
            "overflow_y": null,
            "padding": null,
            "right": null,
            "top": null,
            "visibility": null,
            "width": null
          }
        },
        "3e002da744eb49109be0b6b5a2d86445": {
          "model_module": "@jupyter-widgets/controls",
          "model_name": "DescriptionStyleModel",
          "model_module_version": "1.5.0",
          "state": {
            "_model_module": "@jupyter-widgets/controls",
            "_model_module_version": "1.5.0",
            "_model_name": "DescriptionStyleModel",
            "_view_count": null,
            "_view_module": "@jupyter-widgets/base",
            "_view_module_version": "1.2.0",
            "_view_name": "StyleView",
            "description_width": ""
          }
        },
        "e8b2a1858ca74d0591c2dd925a666eb2": {
          "model_module": "@jupyter-widgets/base",
          "model_name": "LayoutModel",
          "model_module_version": "1.2.0",
          "state": {
            "_model_module": "@jupyter-widgets/base",
            "_model_module_version": "1.2.0",
            "_model_name": "LayoutModel",
            "_view_count": null,
            "_view_module": "@jupyter-widgets/base",
            "_view_module_version": "1.2.0",
            "_view_name": "LayoutView",
            "align_content": null,
            "align_items": null,
            "align_self": null,
            "border": null,
            "bottom": null,
            "display": null,
            "flex": null,
            "flex_flow": null,
            "grid_area": null,
            "grid_auto_columns": null,
            "grid_auto_flow": null,
            "grid_auto_rows": null,
            "grid_column": null,
            "grid_gap": null,
            "grid_row": null,
            "grid_template_areas": null,
            "grid_template_columns": null,
            "grid_template_rows": null,
            "height": null,
            "justify_content": null,
            "justify_items": null,
            "left": null,
            "margin": null,
            "max_height": null,
            "max_width": null,
            "min_height": null,
            "min_width": null,
            "object_fit": null,
            "object_position": null,
            "order": null,
            "overflow": null,
            "overflow_x": null,
            "overflow_y": null,
            "padding": null,
            "right": null,
            "top": null,
            "visibility": null,
            "width": null
          }
        },
        "5ac57a20230145dcacd1617c7e62bf33": {
          "model_module": "@jupyter-widgets/controls",
          "model_name": "ProgressStyleModel",
          "model_module_version": "1.5.0",
          "state": {
            "_model_module": "@jupyter-widgets/controls",
            "_model_module_version": "1.5.0",
            "_model_name": "ProgressStyleModel",
            "_view_count": null,
            "_view_module": "@jupyter-widgets/base",
            "_view_module_version": "1.2.0",
            "_view_name": "StyleView",
            "bar_color": null,
            "description_width": ""
          }
        },
        "0381d82fc0c94a49bb69c8de4c5182d7": {
          "model_module": "@jupyter-widgets/base",
          "model_name": "LayoutModel",
          "model_module_version": "1.2.0",
          "state": {
            "_model_module": "@jupyter-widgets/base",
            "_model_module_version": "1.2.0",
            "_model_name": "LayoutModel",
            "_view_count": null,
            "_view_module": "@jupyter-widgets/base",
            "_view_module_version": "1.2.0",
            "_view_name": "LayoutView",
            "align_content": null,
            "align_items": null,
            "align_self": null,
            "border": null,
            "bottom": null,
            "display": null,
            "flex": null,
            "flex_flow": null,
            "grid_area": null,
            "grid_auto_columns": null,
            "grid_auto_flow": null,
            "grid_auto_rows": null,
            "grid_column": null,
            "grid_gap": null,
            "grid_row": null,
            "grid_template_areas": null,
            "grid_template_columns": null,
            "grid_template_rows": null,
            "height": null,
            "justify_content": null,
            "justify_items": null,
            "left": null,
            "margin": null,
            "max_height": null,
            "max_width": null,
            "min_height": null,
            "min_width": null,
            "object_fit": null,
            "object_position": null,
            "order": null,
            "overflow": null,
            "overflow_x": null,
            "overflow_y": null,
            "padding": null,
            "right": null,
            "top": null,
            "visibility": null,
            "width": null
          }
        },
        "262c5cf52f98456eb8cb8c279311d12e": {
          "model_module": "@jupyter-widgets/controls",
          "model_name": "DescriptionStyleModel",
          "model_module_version": "1.5.0",
          "state": {
            "_model_module": "@jupyter-widgets/controls",
            "_model_module_version": "1.5.0",
            "_model_name": "DescriptionStyleModel",
            "_view_count": null,
            "_view_module": "@jupyter-widgets/base",
            "_view_module_version": "1.2.0",
            "_view_name": "StyleView",
            "description_width": ""
          }
        },
        "94db698b7f2047e3bd7d1e04aa2e2ecd": {
          "model_module": "@jupyter-widgets/controls",
          "model_name": "HBoxModel",
          "model_module_version": "1.5.0",
          "state": {
            "_dom_classes": [],
            "_model_module": "@jupyter-widgets/controls",
            "_model_module_version": "1.5.0",
            "_model_name": "HBoxModel",
            "_view_count": null,
            "_view_module": "@jupyter-widgets/controls",
            "_view_module_version": "1.5.0",
            "_view_name": "HBoxView",
            "box_style": "",
            "children": [
              "IPY_MODEL_cf7c5a1163204a8ea3afeb5067cd5fd1",
              "IPY_MODEL_e77f7b06915b4a659ed4ce61a861d03c",
              "IPY_MODEL_08605dc23bab48659e02db3644085165"
            ],
            "layout": "IPY_MODEL_628203e2484940e89869a7e0b905d0ea"
          }
        },
        "cf7c5a1163204a8ea3afeb5067cd5fd1": {
          "model_module": "@jupyter-widgets/controls",
          "model_name": "HTMLModel",
          "model_module_version": "1.5.0",
          "state": {
            "_dom_classes": [],
            "_model_module": "@jupyter-widgets/controls",
            "_model_module_version": "1.5.0",
            "_model_name": "HTMLModel",
            "_view_count": null,
            "_view_module": "@jupyter-widgets/controls",
            "_view_module_version": "1.5.0",
            "_view_name": "HTMLView",
            "description": "",
            "description_tooltip": null,
            "layout": "IPY_MODEL_32b279ff0d88473682e917f88871ec77",
            "placeholder": "​",
            "style": "IPY_MODEL_dd6f794cfb584c50954cdd9ea694b7da",
            "value": "generation_config.json: 100%"
          }
        },
        "e77f7b06915b4a659ed4ce61a861d03c": {
          "model_module": "@jupyter-widgets/controls",
          "model_name": "FloatProgressModel",
          "model_module_version": "1.5.0",
          "state": {
            "_dom_classes": [],
            "_model_module": "@jupyter-widgets/controls",
            "_model_module_version": "1.5.0",
            "_model_name": "FloatProgressModel",
            "_view_count": null,
            "_view_module": "@jupyter-widgets/controls",
            "_view_module_version": "1.5.0",
            "_view_name": "ProgressView",
            "bar_style": "success",
            "description": "",
            "description_tooltip": null,
            "layout": "IPY_MODEL_0bfb0f07b6c14199a20a8716c33021cf",
            "max": 111,
            "min": 0,
            "orientation": "horizontal",
            "style": "IPY_MODEL_3411dc88823a491185255b2f824384e5",
            "value": 111
          }
        },
        "08605dc23bab48659e02db3644085165": {
          "model_module": "@jupyter-widgets/controls",
          "model_name": "HTMLModel",
          "model_module_version": "1.5.0",
          "state": {
            "_dom_classes": [],
            "_model_module": "@jupyter-widgets/controls",
            "_model_module_version": "1.5.0",
            "_model_name": "HTMLModel",
            "_view_count": null,
            "_view_module": "@jupyter-widgets/controls",
            "_view_module_version": "1.5.0",
            "_view_name": "HTMLView",
            "description": "",
            "description_tooltip": null,
            "layout": "IPY_MODEL_708fe3d874a04c1794ee91941945c973",
            "placeholder": "​",
            "style": "IPY_MODEL_66c8d4fe2f7c41e5a2506f0877763183",
            "value": " 111/111 [00:00&lt;00:00, 10.1kB/s]"
          }
        },
        "628203e2484940e89869a7e0b905d0ea": {
          "model_module": "@jupyter-widgets/base",
          "model_name": "LayoutModel",
          "model_module_version": "1.2.0",
          "state": {
            "_model_module": "@jupyter-widgets/base",
            "_model_module_version": "1.2.0",
            "_model_name": "LayoutModel",
            "_view_count": null,
            "_view_module": "@jupyter-widgets/base",
            "_view_module_version": "1.2.0",
            "_view_name": "LayoutView",
            "align_content": null,
            "align_items": null,
            "align_self": null,
            "border": null,
            "bottom": null,
            "display": null,
            "flex": null,
            "flex_flow": null,
            "grid_area": null,
            "grid_auto_columns": null,
            "grid_auto_flow": null,
            "grid_auto_rows": null,
            "grid_column": null,
            "grid_gap": null,
            "grid_row": null,
            "grid_template_areas": null,
            "grid_template_columns": null,
            "grid_template_rows": null,
            "height": null,
            "justify_content": null,
            "justify_items": null,
            "left": null,
            "margin": null,
            "max_height": null,
            "max_width": null,
            "min_height": null,
            "min_width": null,
            "object_fit": null,
            "object_position": null,
            "order": null,
            "overflow": null,
            "overflow_x": null,
            "overflow_y": null,
            "padding": null,
            "right": null,
            "top": null,
            "visibility": null,
            "width": null
          }
        },
        "32b279ff0d88473682e917f88871ec77": {
          "model_module": "@jupyter-widgets/base",
          "model_name": "LayoutModel",
          "model_module_version": "1.2.0",
          "state": {
            "_model_module": "@jupyter-widgets/base",
            "_model_module_version": "1.2.0",
            "_model_name": "LayoutModel",
            "_view_count": null,
            "_view_module": "@jupyter-widgets/base",
            "_view_module_version": "1.2.0",
            "_view_name": "LayoutView",
            "align_content": null,
            "align_items": null,
            "align_self": null,
            "border": null,
            "bottom": null,
            "display": null,
            "flex": null,
            "flex_flow": null,
            "grid_area": null,
            "grid_auto_columns": null,
            "grid_auto_flow": null,
            "grid_auto_rows": null,
            "grid_column": null,
            "grid_gap": null,
            "grid_row": null,
            "grid_template_areas": null,
            "grid_template_columns": null,
            "grid_template_rows": null,
            "height": null,
            "justify_content": null,
            "justify_items": null,
            "left": null,
            "margin": null,
            "max_height": null,
            "max_width": null,
            "min_height": null,
            "min_width": null,
            "object_fit": null,
            "object_position": null,
            "order": null,
            "overflow": null,
            "overflow_x": null,
            "overflow_y": null,
            "padding": null,
            "right": null,
            "top": null,
            "visibility": null,
            "width": null
          }
        },
        "dd6f794cfb584c50954cdd9ea694b7da": {
          "model_module": "@jupyter-widgets/controls",
          "model_name": "DescriptionStyleModel",
          "model_module_version": "1.5.0",
          "state": {
            "_model_module": "@jupyter-widgets/controls",
            "_model_module_version": "1.5.0",
            "_model_name": "DescriptionStyleModel",
            "_view_count": null,
            "_view_module": "@jupyter-widgets/base",
            "_view_module_version": "1.2.0",
            "_view_name": "StyleView",
            "description_width": ""
          }
        },
        "0bfb0f07b6c14199a20a8716c33021cf": {
          "model_module": "@jupyter-widgets/base",
          "model_name": "LayoutModel",
          "model_module_version": "1.2.0",
          "state": {
            "_model_module": "@jupyter-widgets/base",
            "_model_module_version": "1.2.0",
            "_model_name": "LayoutModel",
            "_view_count": null,
            "_view_module": "@jupyter-widgets/base",
            "_view_module_version": "1.2.0",
            "_view_name": "LayoutView",
            "align_content": null,
            "align_items": null,
            "align_self": null,
            "border": null,
            "bottom": null,
            "display": null,
            "flex": null,
            "flex_flow": null,
            "grid_area": null,
            "grid_auto_columns": null,
            "grid_auto_flow": null,
            "grid_auto_rows": null,
            "grid_column": null,
            "grid_gap": null,
            "grid_row": null,
            "grid_template_areas": null,
            "grid_template_columns": null,
            "grid_template_rows": null,
            "height": null,
            "justify_content": null,
            "justify_items": null,
            "left": null,
            "margin": null,
            "max_height": null,
            "max_width": null,
            "min_height": null,
            "min_width": null,
            "object_fit": null,
            "object_position": null,
            "order": null,
            "overflow": null,
            "overflow_x": null,
            "overflow_y": null,
            "padding": null,
            "right": null,
            "top": null,
            "visibility": null,
            "width": null
          }
        },
        "3411dc88823a491185255b2f824384e5": {
          "model_module": "@jupyter-widgets/controls",
          "model_name": "ProgressStyleModel",
          "model_module_version": "1.5.0",
          "state": {
            "_model_module": "@jupyter-widgets/controls",
            "_model_module_version": "1.5.0",
            "_model_name": "ProgressStyleModel",
            "_view_count": null,
            "_view_module": "@jupyter-widgets/base",
            "_view_module_version": "1.2.0",
            "_view_name": "StyleView",
            "bar_color": null,
            "description_width": ""
          }
        },
        "708fe3d874a04c1794ee91941945c973": {
          "model_module": "@jupyter-widgets/base",
          "model_name": "LayoutModel",
          "model_module_version": "1.2.0",
          "state": {
            "_model_module": "@jupyter-widgets/base",
            "_model_module_version": "1.2.0",
            "_model_name": "LayoutModel",
            "_view_count": null,
            "_view_module": "@jupyter-widgets/base",
            "_view_module_version": "1.2.0",
            "_view_name": "LayoutView",
            "align_content": null,
            "align_items": null,
            "align_self": null,
            "border": null,
            "bottom": null,
            "display": null,
            "flex": null,
            "flex_flow": null,
            "grid_area": null,
            "grid_auto_columns": null,
            "grid_auto_flow": null,
            "grid_auto_rows": null,
            "grid_column": null,
            "grid_gap": null,
            "grid_row": null,
            "grid_template_areas": null,
            "grid_template_columns": null,
            "grid_template_rows": null,
            "height": null,
            "justify_content": null,
            "justify_items": null,
            "left": null,
            "margin": null,
            "max_height": null,
            "max_width": null,
            "min_height": null,
            "min_width": null,
            "object_fit": null,
            "object_position": null,
            "order": null,
            "overflow": null,
            "overflow_x": null,
            "overflow_y": null,
            "padding": null,
            "right": null,
            "top": null,
            "visibility": null,
            "width": null
          }
        },
        "66c8d4fe2f7c41e5a2506f0877763183": {
          "model_module": "@jupyter-widgets/controls",
          "model_name": "DescriptionStyleModel",
          "model_module_version": "1.5.0",
          "state": {
            "_model_module": "@jupyter-widgets/controls",
            "_model_module_version": "1.5.0",
            "_model_name": "DescriptionStyleModel",
            "_view_count": null,
            "_view_module": "@jupyter-widgets/base",
            "_view_module_version": "1.2.0",
            "_view_name": "StyleView",
            "description_width": ""
          }
        }
      }
    }
  },
  "nbformat": 4,
  "nbformat_minor": 5
}